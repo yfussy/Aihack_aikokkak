{
 "cells": [
  {
   "cell_type": "code",
   "execution_count": 1,
   "id": "b3b86149",
   "metadata": {},
   "outputs": [],
   "source": [
    "from sklearn.model_selection import train_test_split\n",
    "from sklearn.metrics import classification_report\n",
    "import numpy as np\n",
    "import pandas as pd\n",
    "import matplotlib.pyplot as plt\n",
    "from datetime import datetime"
   ]
  },
  {
   "cell_type": "code",
   "execution_count": 2,
   "id": "e8fc7707",
   "metadata": {},
   "outputs": [],
   "source": [
    "import sys\n",
    "import os\n",
    "root_path = os.path.abspath(os.path.join(os.getcwd(), \"../..\"))\n",
    "if root_path not in sys.path:\n",
    "    sys.path.append(root_path)\n",
    "from fileDir import getDataDir\n",
    "from modules.v1.catboostModel import trainCatboost, testCatboost\n",
    "from modules.v1.xgboostModel import trainXgboost, testXgboost"
   ]
  },
  {
   "cell_type": "code",
   "execution_count": 3,
   "id": "a0baa5c7",
   "metadata": {},
   "outputs": [],
   "source": [
    "VERSION = 5\n",
    "TRAIN_PATH = getDataDir(\"train\")\n",
    "TEST_PATH = getDataDir(\"test\")\n",
    "CLEANED_TRAIN_PATH = getDataDir(\"train\", VERSION)\n",
    "CLEANED_TEST_PATH = getDataDir(\"test\", VERSION)"
   ]
  },
  {
   "cell_type": "code",
   "execution_count": 4,
   "id": "6333e406",
   "metadata": {},
   "outputs": [
    {
     "data": {
      "text/plain": [
       "Index(['ID', 'pms_i_ymd', 'Area', 'Province', 'Shop Name', 'gender',\n",
       "       'date_of_birth_week', 'date_of_birth', 'marital_status',\n",
       "       'number_of_children', 'postal_code', 'tel_category',\n",
       "       'number_of_resident', 'living_period_year', 'living_period_month',\n",
       "       'type_of_residence', 'c_postal_code', 'c_business_type',\n",
       "       'c_number_of_employee', 'c_position', 'c_occupation',\n",
       "       'c_employment_status', 'c_monthly_salary', 'c_number_of_working_year',\n",
       "       'c_number_of_working_month', 'c_salary_payment_methods',\n",
       "       'c_date_of_salary_payment', 'media', 'place_for_sending_information',\n",
       "       'r_expected_credit_limit', 'r_propose', 'r_allloan_case',\n",
       "       'r_allloan_amount', 'r_additional_income', 'r_spouse_income',\n",
       "       'r_generalcode1', 'r_generalcode2', 'r_generalcode3', 'r_generalcode4',\n",
       "       'r_generalcode5', 'apply', 'default_12month'],\n",
       "      dtype='object')"
      ]
     },
     "execution_count": 4,
     "metadata": {},
     "output_type": "execute_result"
    }
   ],
   "source": [
    "df = pd.read_csv(TRAIN_PATH)\n",
    "df.columns"
   ]
  },
  {
   "cell_type": "markdown",
   "id": "67a42394",
   "metadata": {},
   "source": [
    "## Clean Datasets"
   ]
  },
  {
   "cell_type": "code",
   "execution_count": 5,
   "id": "35bed8f1",
   "metadata": {},
   "outputs": [],
   "source": [
    "cat_features = [\n",
    "    \"Area\",\n",
    "    \"Province\",\n",
    "    \"gender\",\n",
    "    \"date_of_birth_week\",\n",
    "    \"date_of_birth\",\n",
    "    \"marital_status\",\n",
    "    \"postal_code\",\n",
    "    \"tel_category\",\n",
    "    \"type_of_residence\",\n",
    "    \"c_postal_code\",\n",
    "    \"c_business_type\",\n",
    "    \"c_position\",\n",
    "    \"c_occupation\",\n",
    "    \"c_employment_status\",\n",
    "    \"c_salary_payment_methods\",\n",
    "    \"media\",\n",
    "    \"place_for_sending_information\",\n",
    "    \"r_propose\",\n",
    "    \"r_generalcode1\",\n",
    "    \"r_generalcode2\",\n",
    "    \"r_generalcode3\",\n",
    "    \"r_generalcode4\",\n",
    "    \"r_generalcode5\",\n",
    "    \"apply\"\n",
    "]\n",
    "\n",
    "for col in cat_features:\n",
    "    df[col] = df[col].astype(str)"
   ]
  },
  {
   "cell_type": "code",
   "execution_count": 7,
   "id": "6a60bfa0",
   "metadata": {},
   "outputs": [],
   "source": [
    "def cleanDataset(df, cleanPath):\n",
    "    # Drop unnecessary columns (keep ID)\n",
    "    drop_cols = [\"ID\", \"Shop Name\"]\n",
    "    df = df.drop(columns=drop_cols, errors='ignore')\n",
    "\n",
    "    # =====================================================\n",
    "    # 3. Handle date columns\n",
    "    # =====================================================\n",
    "    for col in [\"pms_i_ymd\", \"date_of_birth\"]:\n",
    "        df[col] = pd.to_datetime(df[col], errors=\"coerce\")\n",
    "    \n",
    "    df[\"app_year\"] = df[\"pms_i_ymd\"].dt.year\n",
    "    df[\"app_month\"] = df[\"pms_i_ymd\"].dt.month\n",
    "    df[\"app_day\"] = df[\"pms_i_ymd\"].dt.day\n",
    "    df[\"app_weekday\"] = df[\"pms_i_ymd\"].dt.weekday\n",
    "\n",
    "    df[\"birth_year\"] = df[\"date_of_birth\"].dt.year\n",
    "    df[\"birth_month\"] = df[\"date_of_birth\"].dt.month\n",
    "    df[\"birth_day\"] = df[\"date_of_birth\"].dt.day\n",
    "\n",
    "    df[\"age\"] = ((df[\"pms_i_ymd\"] - df[\"date_of_birth\"]).dt.days / 365.25).astype(float)\n",
    "\n",
    "    df.drop(columns=[\"pms_i_ymd\", \"date_of_birth\"], inplace=True, errors=\"ignore\")\n",
    "\n",
    "    # =====================================================\n",
    "    # 4. Engineer numeric features\n",
    "    # =====================================================\n",
    "    df[\"living_period_month\"] = df[\"living_period_year\"] * 12 + df[\"living_period_month\"]\n",
    "    df.drop(columns=['living_period_year'], inplace=True)\n",
    "\n",
    "    df[\"c_number_of_working_month\"] = df[\"c_number_of_working_year\"] * 12 + df[\"c_number_of_working_month\"]\n",
    "    df.drop(columns=['c_number_of_working_year'], inplace=True)\n",
    "\n",
    "    df[\"r_total_income\"] = df[[\"c_monthly_salary\", \"r_additional_income\", \"r_spouse_income\"]].sum(axis=1)\n",
    "    df[\"r_debt_to_income_ratio\"] = df[\"r_allloan_amount\"] / (df[\"r_total_income\"] + 1)\n",
    "    df[\"loan_to_salary_ratio\"] = df[\"r_expected_credit_limit\"] / (df[\"c_monthly_salary\"] + 1)\n",
    "    df[\"has_other_loans\"] = (df[\"r_allloan_case\"] > 0).astype(int)\n",
    "    df[\"is_married_and_has_children\"] = ((df[\"marital_status\"] == 2) & (df[\"number_of_children\"] > 0)).astype(int)\n",
    "\n",
    "    # =====================================================\n",
    "    # 5. Cleaning Data\n",
    "    # =====================================================\n",
    "    df = df.applymap(lambda x: x.strip() if isinstance(x, str) else x)\n",
    "    df.replace([\"NaN\", \"nan\", \"None\", \"\"], np.nan, inplace=True)\n",
    "\n",
    "    df.to_csv(cleanPath, index=False)\n",
    "    return df"
   ]
  },
  {
   "cell_type": "code",
   "execution_count": 8,
   "id": "6ec86cd9",
   "metadata": {},
   "outputs": [
    {
     "name": "stderr",
     "output_type": "stream",
     "text": [
      "C:\\Users\\chins\\AppData\\Local\\Temp\\ipykernel_45120\\2688614871.py:43: FutureWarning: DataFrame.applymap has been deprecated. Use DataFrame.map instead.\n",
      "  df = df.applymap(lambda x: x.strip() if isinstance(x, str) else x)\n",
      "C:\\Users\\chins\\AppData\\Local\\Temp\\ipykernel_45120\\2688614871.py:43: FutureWarning: DataFrame.applymap has been deprecated. Use DataFrame.map instead.\n",
      "  df = df.applymap(lambda x: x.strip() if isinstance(x, str) else x)\n"
     ]
    }
   ],
   "source": [
    "train_df = pd.read_csv(TRAIN_PATH)\n",
    "test_df = pd.read_csv(TEST_PATH)\n",
    "ids = test_df[\"ID\"].copy()\n",
    "\n",
    "train_df = cleanDataset(train_df, CLEANED_TRAIN_PATH)\n",
    "test_df = cleanDataset(test_df, CLEANED_TEST_PATH)"
   ]
  },
  {
   "cell_type": "code",
   "execution_count": 9,
   "id": "d3fe3cf0",
   "metadata": {},
   "outputs": [
    {
     "data": {
      "text/plain": [
       "(8619, 48)"
      ]
     },
     "execution_count": 9,
     "metadata": {},
     "output_type": "execute_result"
    }
   ],
   "source": [
    "test_df.shape"
   ]
  },
  {
   "cell_type": "markdown",
   "id": "21cb3566",
   "metadata": {},
   "source": [
    "## Testing"
   ]
  },
  {
   "cell_type": "code",
   "execution_count": 17,
   "id": "d2c7075a",
   "metadata": {},
   "outputs": [
    {
     "name": "stderr",
     "output_type": "stream",
     "text": [
      "[I 2025-11-01 00:48:41,978] A new study created in memory with name: no-name-e102b8a7-9e9b-4b5b-9491-abde173a002f\n"
     ]
    },
    {
     "name": "stdout",
     "output_type": "stream",
     "text": [
      "GPU detected -> using XGBoost GPU training (gpu_hist).\n"
     ]
    },
    {
     "data": {
      "application/vnd.jupyter.widget-view+json": {
       "model_id": "949dbabf4b254628bcff17e02c3dedb9",
       "version_major": 2,
       "version_minor": 0
      },
      "text/plain": [
       "  0%|          | 0/50 [00:00<?, ?it/s]"
      ]
     },
     "metadata": {},
     "output_type": "display_data"
    },
    {
     "name": "stdout",
     "output_type": "stream",
     "text": [
      "[I 2025-11-01 00:48:46,336] Trial 0 finished with value: 0.6119412959529681 and parameters: {'max_depth': 5, 'learning_rate': 0.2536999076681772, 'subsample': 0.8659969709057025, 'colsample_bytree': 0.7993292420985183, 'gamma': 0.7800932022121826, 'min_child_weight': 2.403950683025824, 'lambda': 0.0017073967431528124, 'alpha': 2.9154431891537547}. Best is trial 0 with value: 0.6119412959529681.\n",
      "[I 2025-11-01 00:48:51,550] Trial 1 finished with value: 0.6141315965313658 and parameters: {'max_depth': 7, 'learning_rate': 0.11114989443094977, 'subsample': 0.5102922471479012, 'colsample_bytree': 0.9849549260809971, 'gamma': 4.162213204002109, 'min_child_weight': 2.9110519961044856, 'lambda': 0.005337032762603957, 'alpha': 0.00541524411940254}. Best is trial 1 with value: 0.6141315965313658.\n",
      "[I 2025-11-01 00:48:57,812] Trial 2 finished with value: 0.634640924129539 and parameters: {'max_depth': 5, 'learning_rate': 0.05958389350068958, 'subsample': 0.7159725093210578, 'colsample_bytree': 0.645614570099021, 'gamma': 3.0592644736118975, 'min_child_weight': 2.2554447458683766, 'lambda': 0.01474275315991467, 'alpha': 0.029204338471814112}. Best is trial 2 with value: 0.634640924129539.\n",
      "[I 2025-11-01 00:49:01,176] Trial 3 finished with value: 0.6130365634851775 and parameters: {'max_depth': 6, 'learning_rate': 0.14447746112718687, 'subsample': 0.5998368910791798, 'colsample_bytree': 0.7571172192068059, 'gamma': 2.9620728443102124, 'min_child_weight': 1.4180537144799796, 'lambda': 0.26926469100861794, 'alpha': 0.004809461967501573}. Best is trial 2 with value: 0.634640924129539.\n",
      "[I 2025-11-01 00:49:04,215] Trial 4 finished with value: 0.6293344230111519 and parameters: {'max_depth': 3, 'learning_rate': 0.2521267904777921, 'subsample': 0.9828160165372797, 'colsample_bytree': 0.9041986740582306, 'gamma': 1.5230688458668533, 'min_child_weight': 1.8790490260574548, 'lambda': 0.5456725485601477, 'alpha': 0.057624872164786026}. Best is trial 2 with value: 0.634640924129539.\n",
      "[I 2025-11-01 00:49:09,229] Trial 5 finished with value: 0.6401668834111424 and parameters: {'max_depth': 3, 'learning_rate': 0.05388108577817234, 'subsample': 0.5171942605576092, 'colsample_bytree': 0.954660201039391, 'gamma': 1.2938999080000846, 'min_child_weight': 6.962700559185838, 'lambda': 0.017654048052495083, 'alpha': 0.12030178871154672}. Best is trial 5 with value: 0.6401668834111424.\n",
      "[I 2025-11-01 00:49:19,773] Trial 6 finished with value: 0.6361339909063033 and parameters: {'max_depth': 7, 'learning_rate': 0.01875220945578641, 'subsample': 0.9847923138822793, 'colsample_bytree': 0.8875664116805573, 'gamma': 4.697494707820946, 'min_child_weight': 9.053446153848839, 'lambda': 0.24637685958997463, 'alpha': 4.869640941520899}. Best is trial 5 with value: 0.6401668834111424.\n",
      "[I 2025-11-01 00:49:39,391] Trial 7 finished with value: 0.6437005642997419 and parameters: {'max_depth': 3, 'learning_rate': 0.01947558230629543, 'subsample': 0.522613644455269, 'colsample_bytree': 0.6626651653816322, 'gamma': 1.9433864484474102, 'min_child_weight': 3.442141285965063, 'lambda': 2.0651425578959257, 'alpha': 0.026730883107816707}. Best is trial 7 with value: 0.6437005642997419.\n",
      "[I 2025-11-01 00:49:47,735] Trial 8 finished with value: 0.634898224917277 and parameters: {'max_depth': 5, 'learning_rate': 0.06333268775321843, 'subsample': 0.5704621124873813, 'colsample_bytree': 0.9010984903770198, 'gamma': 0.3727532183988541, 'min_child_weight': 9.881982429404655, 'lambda': 1.2273800987852967, 'alpha': 0.0062353771356731605}. Best is trial 7 with value: 0.6437005642997419.\n",
      "[I 2025-11-01 00:49:54,575] Trial 9 finished with value: 0.6356709848472997 and parameters: {'max_depth': 3, 'learning_rate': 0.1601531217136121, 'subsample': 0.8534286719238086, 'colsample_bytree': 0.8645035840204937, 'gamma': 3.8563517334297286, 'min_child_weight': 1.6664018656068134, 'lambda': 0.02715581955282941, 'alpha': 0.0029072088906598446}. Best is trial 7 with value: 0.6437005642997419.\n",
      "[I 2025-11-01 00:50:19,971] Trial 10 finished with value: 0.6388570052039368 and parameters: {'max_depth': 10, 'learning_rate': 0.010206070557577008, 'subsample': 0.6843643863605486, 'colsample_bytree': 0.5089809378074099, 'gamma': 2.1020200409219876, 'min_child_weight': 4.422636642266296, 'lambda': 7.6515048995455786, 'alpha': 0.5084983159628166}. Best is trial 7 with value: 0.6437005642997419.\n",
      "[I 2025-11-01 00:50:28,193] Trial 11 finished with value: 0.641561841404345 and parameters: {'max_depth': 3, 'learning_rate': 0.028310060673998678, 'subsample': 0.5078675578093204, 'colsample_bytree': 0.6480436065939664, 'gamma': 1.429271542225496, 'min_child_weight': 7.169156695409255, 'lambda': 0.052681101546668434, 'alpha': 0.3007016232607128}. Best is trial 7 with value: 0.6437005642997419.\n",
      "[I 2025-11-01 00:50:39,133] Trial 12 finished with value: 0.6435140231278892 and parameters: {'max_depth': 4, 'learning_rate': 0.023431376081875788, 'subsample': 0.6291250379920538, 'colsample_bytree': 0.654338471916616, 'gamma': 2.1494483743401704, 'min_child_weight': 6.092626439573147, 'lambda': 4.913523172887002, 'alpha': 0.41873572081560717}. Best is trial 7 with value: 0.6437005642997419.\n",
      "[I 2025-11-01 00:50:50,057] Trial 13 finished with value: 0.6444417417608674 and parameters: {'max_depth': 4, 'learning_rate': 0.02188489589604857, 'subsample': 0.6381804475151599, 'colsample_bytree': 0.6135695058254393, 'gamma': 2.5711146158659437, 'min_child_weight': 4.92058934794454, 'lambda': 9.941450502972573, 'alpha': 1.0633794548169282}. Best is trial 13 with value: 0.6444417417608674.\n",
      "[I 2025-11-01 00:51:09,507] Trial 14 finished with value: 0.6387946067220251 and parameters: {'max_depth': 9, 'learning_rate': 0.012232816845982293, 'subsample': 0.6561174679610582, 'colsample_bytree': 0.5559880584990722, 'gamma': 2.9611426074865967, 'min_child_weight': 4.415707182675541, 'lambda': 2.1756326618207877, 'alpha': 1.9194299366937912}. Best is trial 13 with value: 0.6444417417608674.\n",
      "[I 2025-11-01 00:51:23,656] Trial 15 finished with value: 0.6428973692207093 and parameters: {'max_depth': 4, 'learning_rate': 0.03409453448665399, 'subsample': 0.7793992915216571, 'colsample_bytree': 0.589792467460754, 'gamma': 2.361609808336008, 'min_child_weight': 4.062597681701225, 'lambda': 9.729543173490578, 'alpha': 0.016649550611108403}. Best is trial 13 with value: 0.6444417417608674.\n",
      "[I 2025-11-01 00:51:40,400] Trial 16 finished with value: 0.6427328749548566 and parameters: {'max_depth': 4, 'learning_rate': 0.016651531850305875, 'subsample': 0.573550522135949, 'colsample_bytree': 0.7067243256437732, 'gamma': 3.670017053172076, 'min_child_weight': 3.5410374196014627, 'lambda': 1.9671159660112933, 'alpha': 0.0012124232777004015}. Best is trial 13 with value: 0.6444417417608674.\n",
      "[I 2025-11-01 00:51:43,835] Trial 17 pruned. \n",
      "[I 2025-11-01 00:52:08,925] Trial 18 finished with value: 0.6464174460950218 and parameters: {'max_depth': 4, 'learning_rate': 0.016083875935838543, 'subsample': 0.5627016222112506, 'colsample_bytree': 0.5899761780475018, 'gamma': 1.8867207567360107, 'min_child_weight': 4.991804078720043, 'lambda': 3.705657261207947, 'alpha': 8.284467091705128}. Best is trial 18 with value: 0.6464174460950218.\n",
      "[I 2025-11-01 00:52:24,411] Trial 19 finished with value: 0.6418662833653987 and parameters: {'max_depth': 8, 'learning_rate': 0.014043533254897796, 'subsample': 0.7248906269645587, 'colsample_bytree': 0.5793920107870816, 'gamma': 2.683383025601125, 'min_child_weight': 7.715244788256408, 'lambda': 0.18025976314607858, 'alpha': 6.2759984202659815}. Best is trial 18 with value: 0.6464174460950218.\n",
      "[I 2025-11-01 00:52:34,413] Trial 20 finished with value: 0.642815083282571 and parameters: {'max_depth': 5, 'learning_rate': 0.037873740648482646, 'subsample': 0.629963737518177, 'colsample_bytree': 0.5128357896981337, 'gamma': 3.3805498772353237, 'min_child_weight': 5.138007516466708, 'lambda': 4.270024195422773, 'alpha': 7.661967957704223}. Best is trial 18 with value: 0.6464174460950218.\n",
      "[I 2025-11-01 00:52:44,986] Trial 21 finished with value: 0.6436380585703366 and parameters: {'max_depth': 4, 'learning_rate': 0.021671324415359336, 'subsample': 0.5624078909877017, 'colsample_bytree': 0.6110880030629591, 'gamma': 1.8219733620532645, 'min_child_weight': 5.009192837453897, 'lambda': 3.0489303032328072, 'alpha': 0.9425619481540405}. Best is trial 18 with value: 0.6464174460950218.\n",
      "[I 2025-11-01 00:52:46,506] Trial 22 pruned. \n",
      "[I 2025-11-01 00:53:00,333] Trial 23 finished with value: 0.6445514776853817 and parameters: {'max_depth': 3, 'learning_rate': 0.01530206451176699, 'subsample': 0.613935988397494, 'colsample_bytree': 0.5461400247580652, 'gamma': 1.8025460950492946, 'min_child_weight': 6.319180565735037, 'lambda': 9.927600090647898, 'alpha': 0.04817257322046339}. Best is trial 18 with value: 0.6464174460950218.\n",
      "[I 2025-11-01 00:53:13,276] Trial 24 finished with value: 0.6436641692430183 and parameters: {'max_depth': 6, 'learning_rate': 0.014627519005095567, 'subsample': 0.6710474385380604, 'colsample_bytree': 0.5463594787291436, 'gamma': 2.5131668146617234, 'min_child_weight': 6.198323198848256, 'lambda': 8.532450484661135, 'alpha': 2.8537900172495165}. Best is trial 18 with value: 0.6464174460950218.\n",
      "[I 2025-11-01 00:53:47,369] Trial 25 finished with value: 0.646464386796781 and parameters: {'max_depth': 4, 'learning_rate': 0.010274857219543755, 'subsample': 0.6178768098250084, 'colsample_bytree': 0.603894107680193, 'gamma': 0.7842058853734721, 'min_child_weight': 8.231906842998942, 'lambda': 5.025124724679478, 'alpha': 9.946126450457445}. Best is trial 25 with value: 0.646464386796781.\n",
      "[I 2025-11-01 00:54:17,434] Trial 26 finished with value: 0.6449839173897713 and parameters: {'max_depth': 5, 'learning_rate': 0.01097663065389735, 'subsample': 0.6064060705121311, 'colsample_bytree': 0.5434080270689025, 'gamma': 0.7808291108528876, 'min_child_weight': 8.172417378438405, 'lambda': 1.2437729609865373, 'alpha': 9.921138201201678}. Best is trial 25 with value: 0.646464386796781.\n",
      "[I 2025-11-01 00:54:38,412] Trial 27 finished with value: 0.6446265766662203 and parameters: {'max_depth': 5, 'learning_rate': 0.010938311453307634, 'subsample': 0.5934381822358781, 'colsample_bytree': 0.5998066217144996, 'gamma': 0.6659867224796451, 'min_child_weight': 8.560638011498254, 'lambda': 0.9533242034482705, 'alpha': 9.500379953306808}. Best is trial 25 with value: 0.646464386796781.\n",
      "[I 2025-11-01 00:54:44,145] Trial 28 pruned. \n",
      "[I 2025-11-01 00:54:50,198] Trial 29 pruned. \n",
      "[I 2025-11-01 00:54:51,092] Trial 30 pruned. \n",
      "[I 2025-11-01 00:55:15,517] Trial 31 finished with value: 0.6455484943014418 and parameters: {'max_depth': 5, 'learning_rate': 0.011565273695265261, 'subsample': 0.5916321058943742, 'colsample_bytree': 0.6127942833386328, 'gamma': 0.60663702633626, 'min_child_weight': 8.79750732818639, 'lambda': 0.5663789402381555, 'alpha': 9.730502244886562}. Best is trial 25 with value: 0.646464386796781.\n",
      "[W 2025-11-01 00:55:16,096] Trial 32 failed with parameters: {'max_depth': 4, 'learning_rate': 0.013225015857070673, 'subsample': 0.5488107975543877, 'colsample_bytree': 0.7723381012390447, 'gamma': 0.5092910472143153, 'min_child_weight': 8.727237546227112, 'lambda': 0.489551494332766, 'alpha': 4.272459629724287} because of the following error: KeyboardInterrupt().\n",
      "Traceback (most recent call last):\n",
      "  File \"c:\\Users\\chins\\AppData\\Local\\Programs\\Python\\Python313\\Lib\\site-packages\\optuna\\study\\_optimize.py\", line 201, in _run_trial\n",
      "    value_or_values = func(trial)\n",
      "  File \"c:\\Users\\chins\\Desktop\\123\\Aihack_aikokkak\\modules\\v1\\xgboostModel.py\", line 128, in objective\n",
      "    model = train(\n",
      "        params,\n",
      "    ...<4 lines>...\n",
      "        verbose_eval=False\n",
      "    )\n",
      "  File \"c:\\Users\\chins\\AppData\\Local\\Programs\\Python\\Python313\\Lib\\site-packages\\xgboost\\core.py\", line 774, in inner_f\n",
      "    return func(**kwargs)\n",
      "  File \"c:\\Users\\chins\\AppData\\Local\\Programs\\Python\\Python313\\Lib\\site-packages\\xgboost\\training.py\", line 200, in train\n",
      "    if cb_container.after_iteration(bst, i, dtrain, evals):\n",
      "       ~~~~~~~~~~~~~~~~~~~~~~~~~~~~^^^^^^^^^^^^^^^^^^^^^^^\n",
      "  File \"c:\\Users\\chins\\AppData\\Local\\Programs\\Python\\Python313\\Lib\\site-packages\\xgboost\\callback.py\", line 266, in after_iteration\n",
      "    score: str = model.eval_set(evals, epoch, self.metric, self._output_margin)\n",
      "                 ~~~~~~~~~~~~~~^^^^^^^^^^^^^^^^^^^^^^^^^^^^^^^^^^^^^^^^^^^^^^^^\n",
      "  File \"c:\\Users\\chins\\AppData\\Local\\Programs\\Python\\Python313\\Lib\\site-packages\\xgboost\\core.py\", line 2540, in eval_set\n",
      "    _LIB.XGBoosterEvalOneIter(\n",
      "    ~~~~~~~~~~~~~~~~~~~~~~~~~^\n",
      "        self.handle,\n",
      "        ^^^^^^^^^^^^\n",
      "    ...<4 lines>...\n",
      "        ctypes.byref(msg),\n",
      "        ^^^^^^^^^^^^^^^^^^\n",
      "    )\n",
      "    ^\n",
      "KeyboardInterrupt\n",
      "[W 2025-11-01 00:55:16,152] Trial 32 failed with value None.\n"
     ]
    },
    {
     "ename": "KeyboardInterrupt",
     "evalue": "",
     "output_type": "error",
     "traceback": [
      "\u001b[31m---------------------------------------------------------------------------\u001b[39m",
      "\u001b[31mKeyboardInterrupt\u001b[39m                         Traceback (most recent call last)",
      "\u001b[36mCell\u001b[39m\u001b[36m \u001b[39m\u001b[32mIn[17]\u001b[39m\u001b[32m, line 1\u001b[39m\n\u001b[32m----> \u001b[39m\u001b[32m1\u001b[39m threshold = \u001b[43mtrainXgboost\u001b[49m\u001b[43m(\u001b[49m\u001b[43mVERSION\u001b[49m\u001b[43m,\u001b[49m\u001b[43m \u001b[49m\u001b[43mtrain_df\u001b[49m\u001b[43m)\u001b[49m\n",
      "\u001b[36mFile \u001b[39m\u001b[32mc:\\Users\\chins\\Desktop\\123\\Aihack_aikokkak\\modules\\v1\\xgboostModel.py:156\u001b[39m, in \u001b[36mtrainXgboost\u001b[39m\u001b[34m(version, train_df)\u001b[39m\n\u001b[32m    149\u001b[39m \u001b[38;5;66;03m# Run optimization\u001b[39;00m\n\u001b[32m    150\u001b[39m study = optuna.create_study(\n\u001b[32m    151\u001b[39m     direction=\u001b[33m\"\u001b[39m\u001b[33mmaximize\u001b[39m\u001b[33m\"\u001b[39m,\n\u001b[32m    152\u001b[39m     sampler=optuna.samplers.TPESampler(seed=\u001b[32m42\u001b[39m),\n\u001b[32m    153\u001b[39m     pruner=optuna.pruners.MedianPruner()\n\u001b[32m    154\u001b[39m )\n\u001b[32m--> \u001b[39m\u001b[32m156\u001b[39m \u001b[43mstudy\u001b[49m\u001b[43m.\u001b[49m\u001b[43moptimize\u001b[49m\u001b[43m(\u001b[49m\u001b[43mobjective\u001b[49m\u001b[43m,\u001b[49m\u001b[43m \u001b[49m\u001b[43mn_trials\u001b[49m\u001b[43m=\u001b[49m\u001b[32;43m50\u001b[39;49m\u001b[43m,\u001b[49m\u001b[43m \u001b[49m\u001b[43mshow_progress_bar\u001b[49m\u001b[43m=\u001b[49m\u001b[38;5;28;43;01mTrue\u001b[39;49;00m\u001b[43m)\u001b[49m\n\u001b[32m    158\u001b[39m \u001b[38;5;28mprint\u001b[39m(\u001b[33m\"\u001b[39m\u001b[33mBest AUC:\u001b[39m\u001b[33m\"\u001b[39m, study.best_value)\n\u001b[32m    159\u001b[39m \u001b[38;5;28mprint\u001b[39m(\u001b[33m\"\u001b[39m\u001b[33mBest Params:\u001b[39m\u001b[33m\"\u001b[39m, study.best_params)\n",
      "\u001b[36mFile \u001b[39m\u001b[32mc:\\Users\\chins\\AppData\\Local\\Programs\\Python\\Python313\\Lib\\site-packages\\optuna\\study\\study.py:490\u001b[39m, in \u001b[36mStudy.optimize\u001b[39m\u001b[34m(self, func, n_trials, timeout, n_jobs, catch, callbacks, gc_after_trial, show_progress_bar)\u001b[39m\n\u001b[32m    388\u001b[39m \u001b[38;5;28;01mdef\u001b[39;00m\u001b[38;5;250m \u001b[39m\u001b[34moptimize\u001b[39m(\n\u001b[32m    389\u001b[39m     \u001b[38;5;28mself\u001b[39m,\n\u001b[32m    390\u001b[39m     func: ObjectiveFuncType,\n\u001b[32m   (...)\u001b[39m\u001b[32m    397\u001b[39m     show_progress_bar: \u001b[38;5;28mbool\u001b[39m = \u001b[38;5;28;01mFalse\u001b[39;00m,\n\u001b[32m    398\u001b[39m ) -> \u001b[38;5;28;01mNone\u001b[39;00m:\n\u001b[32m    399\u001b[39m \u001b[38;5;250m    \u001b[39m\u001b[33;03m\"\"\"Optimize an objective function.\u001b[39;00m\n\u001b[32m    400\u001b[39m \n\u001b[32m    401\u001b[39m \u001b[33;03m    Optimization is done by choosing a suitable set of hyperparameter values from a given\u001b[39;00m\n\u001b[32m   (...)\u001b[39m\u001b[32m    488\u001b[39m \u001b[33;03m            If nested invocation of this method occurs.\u001b[39;00m\n\u001b[32m    489\u001b[39m \u001b[33;03m    \"\"\"\u001b[39;00m\n\u001b[32m--> \u001b[39m\u001b[32m490\u001b[39m     \u001b[43m_optimize\u001b[49m\u001b[43m(\u001b[49m\n\u001b[32m    491\u001b[39m \u001b[43m        \u001b[49m\u001b[43mstudy\u001b[49m\u001b[43m=\u001b[49m\u001b[38;5;28;43mself\u001b[39;49m\u001b[43m,\u001b[49m\n\u001b[32m    492\u001b[39m \u001b[43m        \u001b[49m\u001b[43mfunc\u001b[49m\u001b[43m=\u001b[49m\u001b[43mfunc\u001b[49m\u001b[43m,\u001b[49m\n\u001b[32m    493\u001b[39m \u001b[43m        \u001b[49m\u001b[43mn_trials\u001b[49m\u001b[43m=\u001b[49m\u001b[43mn_trials\u001b[49m\u001b[43m,\u001b[49m\n\u001b[32m    494\u001b[39m \u001b[43m        \u001b[49m\u001b[43mtimeout\u001b[49m\u001b[43m=\u001b[49m\u001b[43mtimeout\u001b[49m\u001b[43m,\u001b[49m\n\u001b[32m    495\u001b[39m \u001b[43m        \u001b[49m\u001b[43mn_jobs\u001b[49m\u001b[43m=\u001b[49m\u001b[43mn_jobs\u001b[49m\u001b[43m,\u001b[49m\n\u001b[32m    496\u001b[39m \u001b[43m        \u001b[49m\u001b[43mcatch\u001b[49m\u001b[43m=\u001b[49m\u001b[38;5;28;43mtuple\u001b[39;49m\u001b[43m(\u001b[49m\u001b[43mcatch\u001b[49m\u001b[43m)\u001b[49m\u001b[43m \u001b[49m\u001b[38;5;28;43;01mif\u001b[39;49;00m\u001b[43m \u001b[49m\u001b[38;5;28;43misinstance\u001b[39;49m\u001b[43m(\u001b[49m\u001b[43mcatch\u001b[49m\u001b[43m,\u001b[49m\u001b[43m \u001b[49m\u001b[43mIterable\u001b[49m\u001b[43m)\u001b[49m\u001b[43m \u001b[49m\u001b[38;5;28;43;01melse\u001b[39;49;00m\u001b[43m \u001b[49m\u001b[43m(\u001b[49m\u001b[43mcatch\u001b[49m\u001b[43m,\u001b[49m\u001b[43m)\u001b[49m\u001b[43m,\u001b[49m\n\u001b[32m    497\u001b[39m \u001b[43m        \u001b[49m\u001b[43mcallbacks\u001b[49m\u001b[43m=\u001b[49m\u001b[43mcallbacks\u001b[49m\u001b[43m,\u001b[49m\n\u001b[32m    498\u001b[39m \u001b[43m        \u001b[49m\u001b[43mgc_after_trial\u001b[49m\u001b[43m=\u001b[49m\u001b[43mgc_after_trial\u001b[49m\u001b[43m,\u001b[49m\n\u001b[32m    499\u001b[39m \u001b[43m        \u001b[49m\u001b[43mshow_progress_bar\u001b[49m\u001b[43m=\u001b[49m\u001b[43mshow_progress_bar\u001b[49m\u001b[43m,\u001b[49m\n\u001b[32m    500\u001b[39m \u001b[43m    \u001b[49m\u001b[43m)\u001b[49m\n",
      "\u001b[36mFile \u001b[39m\u001b[32mc:\\Users\\chins\\AppData\\Local\\Programs\\Python\\Python313\\Lib\\site-packages\\optuna\\study\\_optimize.py:63\u001b[39m, in \u001b[36m_optimize\u001b[39m\u001b[34m(study, func, n_trials, timeout, n_jobs, catch, callbacks, gc_after_trial, show_progress_bar)\u001b[39m\n\u001b[32m     61\u001b[39m \u001b[38;5;28;01mtry\u001b[39;00m:\n\u001b[32m     62\u001b[39m     \u001b[38;5;28;01mif\u001b[39;00m n_jobs == \u001b[32m1\u001b[39m:\n\u001b[32m---> \u001b[39m\u001b[32m63\u001b[39m         \u001b[43m_optimize_sequential\u001b[49m\u001b[43m(\u001b[49m\n\u001b[32m     64\u001b[39m \u001b[43m            \u001b[49m\u001b[43mstudy\u001b[49m\u001b[43m,\u001b[49m\n\u001b[32m     65\u001b[39m \u001b[43m            \u001b[49m\u001b[43mfunc\u001b[49m\u001b[43m,\u001b[49m\n\u001b[32m     66\u001b[39m \u001b[43m            \u001b[49m\u001b[43mn_trials\u001b[49m\u001b[43m,\u001b[49m\n\u001b[32m     67\u001b[39m \u001b[43m            \u001b[49m\u001b[43mtimeout\u001b[49m\u001b[43m,\u001b[49m\n\u001b[32m     68\u001b[39m \u001b[43m            \u001b[49m\u001b[43mcatch\u001b[49m\u001b[43m,\u001b[49m\n\u001b[32m     69\u001b[39m \u001b[43m            \u001b[49m\u001b[43mcallbacks\u001b[49m\u001b[43m,\u001b[49m\n\u001b[32m     70\u001b[39m \u001b[43m            \u001b[49m\u001b[43mgc_after_trial\u001b[49m\u001b[43m,\u001b[49m\n\u001b[32m     71\u001b[39m \u001b[43m            \u001b[49m\u001b[43mreseed_sampler_rng\u001b[49m\u001b[43m=\u001b[49m\u001b[38;5;28;43;01mFalse\u001b[39;49;00m\u001b[43m,\u001b[49m\n\u001b[32m     72\u001b[39m \u001b[43m            \u001b[49m\u001b[43mtime_start\u001b[49m\u001b[43m=\u001b[49m\u001b[38;5;28;43;01mNone\u001b[39;49;00m\u001b[43m,\u001b[49m\n\u001b[32m     73\u001b[39m \u001b[43m            \u001b[49m\u001b[43mprogress_bar\u001b[49m\u001b[43m=\u001b[49m\u001b[43mprogress_bar\u001b[49m\u001b[43m,\u001b[49m\n\u001b[32m     74\u001b[39m \u001b[43m        \u001b[49m\u001b[43m)\u001b[49m\n\u001b[32m     75\u001b[39m     \u001b[38;5;28;01melse\u001b[39;00m:\n\u001b[32m     76\u001b[39m         \u001b[38;5;28;01mif\u001b[39;00m n_jobs == -\u001b[32m1\u001b[39m:\n",
      "\u001b[36mFile \u001b[39m\u001b[32mc:\\Users\\chins\\AppData\\Local\\Programs\\Python\\Python313\\Lib\\site-packages\\optuna\\study\\_optimize.py:160\u001b[39m, in \u001b[36m_optimize_sequential\u001b[39m\u001b[34m(study, func, n_trials, timeout, catch, callbacks, gc_after_trial, reseed_sampler_rng, time_start, progress_bar)\u001b[39m\n\u001b[32m    157\u001b[39m         \u001b[38;5;28;01mbreak\u001b[39;00m\n\u001b[32m    159\u001b[39m \u001b[38;5;28;01mtry\u001b[39;00m:\n\u001b[32m--> \u001b[39m\u001b[32m160\u001b[39m     frozen_trial_id = \u001b[43m_run_trial\u001b[49m\u001b[43m(\u001b[49m\u001b[43mstudy\u001b[49m\u001b[43m,\u001b[49m\u001b[43m \u001b[49m\u001b[43mfunc\u001b[49m\u001b[43m,\u001b[49m\u001b[43m \u001b[49m\u001b[43mcatch\u001b[49m\u001b[43m)\u001b[49m\n\u001b[32m    161\u001b[39m \u001b[38;5;28;01mfinally\u001b[39;00m:\n\u001b[32m    162\u001b[39m     \u001b[38;5;66;03m# The following line mitigates memory problems that can be occurred in some\u001b[39;00m\n\u001b[32m    163\u001b[39m     \u001b[38;5;66;03m# environments (e.g., services that use computing containers such as GitHub Actions).\u001b[39;00m\n\u001b[32m    164\u001b[39m     \u001b[38;5;66;03m# Please refer to the following PR for further details:\u001b[39;00m\n\u001b[32m    165\u001b[39m     \u001b[38;5;66;03m# https://github.com/optuna/optuna/pull/325.\u001b[39;00m\n\u001b[32m    166\u001b[39m     \u001b[38;5;28;01mif\u001b[39;00m gc_after_trial:\n",
      "\u001b[36mFile \u001b[39m\u001b[32mc:\\Users\\chins\\AppData\\Local\\Programs\\Python\\Python313\\Lib\\site-packages\\optuna\\study\\_optimize.py:258\u001b[39m, in \u001b[36m_run_trial\u001b[39m\u001b[34m(study, func, catch)\u001b[39m\n\u001b[32m    251\u001b[39m         \u001b[38;5;28;01massert\u001b[39;00m \u001b[38;5;28;01mFalse\u001b[39;00m, \u001b[33m\"\u001b[39m\u001b[33mShould not reach.\u001b[39m\u001b[33m\"\u001b[39m\n\u001b[32m    253\u001b[39m \u001b[38;5;28;01mif\u001b[39;00m (\n\u001b[32m    254\u001b[39m     updated_state == TrialState.FAIL\n\u001b[32m    255\u001b[39m     \u001b[38;5;129;01mand\u001b[39;00m func_err \u001b[38;5;129;01mis\u001b[39;00m \u001b[38;5;129;01mnot\u001b[39;00m \u001b[38;5;28;01mNone\u001b[39;00m\n\u001b[32m    256\u001b[39m     \u001b[38;5;129;01mand\u001b[39;00m \u001b[38;5;129;01mnot\u001b[39;00m \u001b[38;5;28misinstance\u001b[39m(func_err, catch)\n\u001b[32m    257\u001b[39m ):\n\u001b[32m--> \u001b[39m\u001b[32m258\u001b[39m     \u001b[38;5;28;01mraise\u001b[39;00m func_err\n\u001b[32m    259\u001b[39m \u001b[38;5;28;01mreturn\u001b[39;00m trial._trial_id\n",
      "\u001b[36mFile \u001b[39m\u001b[32mc:\\Users\\chins\\AppData\\Local\\Programs\\Python\\Python313\\Lib\\site-packages\\optuna\\study\\_optimize.py:201\u001b[39m, in \u001b[36m_run_trial\u001b[39m\u001b[34m(study, func, catch)\u001b[39m\n\u001b[32m    199\u001b[39m \u001b[38;5;28;01mwith\u001b[39;00m get_heartbeat_thread(trial._trial_id, study._storage):\n\u001b[32m    200\u001b[39m     \u001b[38;5;28;01mtry\u001b[39;00m:\n\u001b[32m--> \u001b[39m\u001b[32m201\u001b[39m         value_or_values = \u001b[43mfunc\u001b[49m\u001b[43m(\u001b[49m\u001b[43mtrial\u001b[49m\u001b[43m)\u001b[49m\n\u001b[32m    202\u001b[39m     \u001b[38;5;28;01mexcept\u001b[39;00m exceptions.TrialPruned \u001b[38;5;28;01mas\u001b[39;00m e:\n\u001b[32m    203\u001b[39m         \u001b[38;5;66;03m# TODO(mamu): Handle multi-objective cases.\u001b[39;00m\n\u001b[32m    204\u001b[39m         state = TrialState.PRUNED\n",
      "\u001b[36mFile \u001b[39m\u001b[32mc:\\Users\\chins\\Desktop\\123\\Aihack_aikokkak\\modules\\v1\\xgboostModel.py:128\u001b[39m, in \u001b[36mtrainXgboost.<locals>.objective\u001b[39m\u001b[34m(trial)\u001b[39m\n\u001b[32m    125\u001b[39m dtrain = DMatrix(X.iloc[train_idx], label=y.iloc[train_idx])\n\u001b[32m    126\u001b[39m dvalid = DMatrix(X.iloc[valid_idx], label=y.iloc[valid_idx])\n\u001b[32m--> \u001b[39m\u001b[32m128\u001b[39m model = \u001b[43mtrain\u001b[49m\u001b[43m(\u001b[49m\n\u001b[32m    129\u001b[39m \u001b[43m    \u001b[49m\u001b[43mparams\u001b[49m\u001b[43m,\u001b[49m\n\u001b[32m    130\u001b[39m \u001b[43m    \u001b[49m\u001b[43mdtrain\u001b[49m\u001b[43m,\u001b[49m\n\u001b[32m    131\u001b[39m \u001b[43m    \u001b[49m\u001b[43mnum_boost_round\u001b[49m\u001b[43m=\u001b[49m\u001b[32;43m3000\u001b[39;49m\u001b[43m,\u001b[49m\n\u001b[32m    132\u001b[39m \u001b[43m    \u001b[49m\u001b[43mevals\u001b[49m\u001b[43m=\u001b[49m\u001b[43m[\u001b[49m\u001b[43m(\u001b[49m\u001b[43mdvalid\u001b[49m\u001b[43m,\u001b[49m\u001b[43m \u001b[49m\u001b[33;43m\"\u001b[39;49m\u001b[33;43mvalid\u001b[39;49m\u001b[33;43m\"\u001b[39;49m\u001b[43m)\u001b[49m\u001b[43m]\u001b[49m\u001b[43m,\u001b[49m\n\u001b[32m    133\u001b[39m \u001b[43m    \u001b[49m\u001b[43mearly_stopping_rounds\u001b[49m\u001b[43m=\u001b[49m\u001b[32;43m100\u001b[39;49m\u001b[43m,\u001b[49m\n\u001b[32m    134\u001b[39m \u001b[43m    \u001b[49m\u001b[43mverbose_eval\u001b[49m\u001b[43m=\u001b[49m\u001b[38;5;28;43;01mFalse\u001b[39;49;00m\n\u001b[32m    135\u001b[39m \u001b[43m\u001b[49m\u001b[43m)\u001b[49m\n\u001b[32m    137\u001b[39m preds = model.predict(dvalid)\n\u001b[32m    138\u001b[39m score = roc_auc_score(y[valid_idx], preds)\n",
      "\u001b[36mFile \u001b[39m\u001b[32mc:\\Users\\chins\\AppData\\Local\\Programs\\Python\\Python313\\Lib\\site-packages\\xgboost\\core.py:774\u001b[39m, in \u001b[36mrequire_keyword_args.<locals>.throw_if.<locals>.inner_f\u001b[39m\u001b[34m(*args, **kwargs)\u001b[39m\n\u001b[32m    772\u001b[39m \u001b[38;5;28;01mfor\u001b[39;00m k, arg \u001b[38;5;129;01min\u001b[39;00m \u001b[38;5;28mzip\u001b[39m(sig.parameters, args):\n\u001b[32m    773\u001b[39m     kwargs[k] = arg\n\u001b[32m--> \u001b[39m\u001b[32m774\u001b[39m \u001b[38;5;28;01mreturn\u001b[39;00m \u001b[43mfunc\u001b[49m\u001b[43m(\u001b[49m\u001b[43m*\u001b[49m\u001b[43m*\u001b[49m\u001b[43mkwargs\u001b[49m\u001b[43m)\u001b[49m\n",
      "\u001b[36mFile \u001b[39m\u001b[32mc:\\Users\\chins\\AppData\\Local\\Programs\\Python\\Python313\\Lib\\site-packages\\xgboost\\training.py:200\u001b[39m, in \u001b[36mtrain\u001b[39m\u001b[34m(params, dtrain, num_boost_round, evals, obj, maximize, early_stopping_rounds, evals_result, verbose_eval, xgb_model, callbacks, custom_metric)\u001b[39m\n\u001b[32m    198\u001b[39m         \u001b[38;5;28;01mbreak\u001b[39;00m\n\u001b[32m    199\u001b[39m     bst.update(dtrain, iteration=i, fobj=obj)\n\u001b[32m--> \u001b[39m\u001b[32m200\u001b[39m     \u001b[38;5;28;01mif\u001b[39;00m \u001b[43mcb_container\u001b[49m\u001b[43m.\u001b[49m\u001b[43mafter_iteration\u001b[49m\u001b[43m(\u001b[49m\u001b[43mbst\u001b[49m\u001b[43m,\u001b[49m\u001b[43m \u001b[49m\u001b[43mi\u001b[49m\u001b[43m,\u001b[49m\u001b[43m \u001b[49m\u001b[43mdtrain\u001b[49m\u001b[43m,\u001b[49m\u001b[43m \u001b[49m\u001b[43mevals\u001b[49m\u001b[43m)\u001b[49m:\n\u001b[32m    201\u001b[39m         \u001b[38;5;28;01mbreak\u001b[39;00m\n\u001b[32m    203\u001b[39m bst = cb_container.after_training(bst)\n",
      "\u001b[36mFile \u001b[39m\u001b[32mc:\\Users\\chins\\AppData\\Local\\Programs\\Python\\Python313\\Lib\\site-packages\\xgboost\\callback.py:266\u001b[39m, in \u001b[36mCallbackContainer.after_iteration\u001b[39m\u001b[34m(self, model, epoch, dtrain, evals)\u001b[39m\n\u001b[32m    264\u001b[39m \u001b[38;5;28;01mfor\u001b[39;00m _, name \u001b[38;5;129;01min\u001b[39;00m evals:\n\u001b[32m    265\u001b[39m     \u001b[38;5;28;01massert\u001b[39;00m name.find(\u001b[33m\"\u001b[39m\u001b[33m-\u001b[39m\u001b[33m\"\u001b[39m) == -\u001b[32m1\u001b[39m, \u001b[33m\"\u001b[39m\u001b[33mDataset name should not contain `-`\u001b[39m\u001b[33m\"\u001b[39m\n\u001b[32m--> \u001b[39m\u001b[32m266\u001b[39m score: \u001b[38;5;28mstr\u001b[39m = \u001b[43mmodel\u001b[49m\u001b[43m.\u001b[49m\u001b[43meval_set\u001b[49m\u001b[43m(\u001b[49m\u001b[43mevals\u001b[49m\u001b[43m,\u001b[49m\u001b[43m \u001b[49m\u001b[43mepoch\u001b[49m\u001b[43m,\u001b[49m\u001b[43m \u001b[49m\u001b[38;5;28;43mself\u001b[39;49m\u001b[43m.\u001b[49m\u001b[43mmetric\u001b[49m\u001b[43m,\u001b[49m\u001b[43m \u001b[49m\u001b[38;5;28;43mself\u001b[39;49m\u001b[43m.\u001b[49m\u001b[43m_output_margin\u001b[49m\u001b[43m)\u001b[49m\n\u001b[32m    267\u001b[39m metric_score = _parse_eval_str(score)\n\u001b[32m    268\u001b[39m \u001b[38;5;28mself\u001b[39m._update_history(metric_score, epoch)\n",
      "\u001b[36mFile \u001b[39m\u001b[32mc:\\Users\\chins\\AppData\\Local\\Programs\\Python\\Python313\\Lib\\site-packages\\xgboost\\core.py:2540\u001b[39m, in \u001b[36mBooster.eval_set\u001b[39m\u001b[34m(self, evals, iteration, feval, output_margin)\u001b[39m\n\u001b[32m   2537\u001b[39m evnames = c_array(ctypes.c_char_p, [c_str(d[\u001b[32m1\u001b[39m]) \u001b[38;5;28;01mfor\u001b[39;00m d \u001b[38;5;129;01min\u001b[39;00m evals])\n\u001b[32m   2538\u001b[39m msg = ctypes.c_char_p()\n\u001b[32m   2539\u001b[39m _check_call(\n\u001b[32m-> \u001b[39m\u001b[32m2540\u001b[39m     \u001b[43m_LIB\u001b[49m\u001b[43m.\u001b[49m\u001b[43mXGBoosterEvalOneIter\u001b[49m\u001b[43m(\u001b[49m\n\u001b[32m   2541\u001b[39m \u001b[43m        \u001b[49m\u001b[38;5;28;43mself\u001b[39;49m\u001b[43m.\u001b[49m\u001b[43mhandle\u001b[49m\u001b[43m,\u001b[49m\n\u001b[32m   2542\u001b[39m \u001b[43m        \u001b[49m\u001b[43mctypes\u001b[49m\u001b[43m.\u001b[49m\u001b[43mc_int\u001b[49m\u001b[43m(\u001b[49m\u001b[43miteration\u001b[49m\u001b[43m)\u001b[49m\u001b[43m,\u001b[49m\n\u001b[32m   2543\u001b[39m \u001b[43m        \u001b[49m\u001b[43mdmats\u001b[49m\u001b[43m,\u001b[49m\n\u001b[32m   2544\u001b[39m \u001b[43m        \u001b[49m\u001b[43mevnames\u001b[49m\u001b[43m,\u001b[49m\n\u001b[32m   2545\u001b[39m \u001b[43m        \u001b[49m\u001b[43mc_bst_ulong\u001b[49m\u001b[43m(\u001b[49m\u001b[38;5;28;43mlen\u001b[39;49m\u001b[43m(\u001b[49m\u001b[43mevals\u001b[49m\u001b[43m)\u001b[49m\u001b[43m)\u001b[49m\u001b[43m,\u001b[49m\n\u001b[32m   2546\u001b[39m \u001b[43m        \u001b[49m\u001b[43mctypes\u001b[49m\u001b[43m.\u001b[49m\u001b[43mbyref\u001b[49m\u001b[43m(\u001b[49m\u001b[43mmsg\u001b[49m\u001b[43m)\u001b[49m\u001b[43m,\u001b[49m\n\u001b[32m   2547\u001b[39m \u001b[43m    \u001b[49m\u001b[43m)\u001b[49m\n\u001b[32m   2548\u001b[39m )\n\u001b[32m   2549\u001b[39m \u001b[38;5;28;01massert\u001b[39;00m msg.value \u001b[38;5;129;01mis\u001b[39;00m \u001b[38;5;129;01mnot\u001b[39;00m \u001b[38;5;28;01mNone\u001b[39;00m\n\u001b[32m   2550\u001b[39m res = msg.value.decode()  \u001b[38;5;66;03m# pylint: disable=no-member\u001b[39;00m\n",
      "\u001b[31mKeyboardInterrupt\u001b[39m: "
     ]
    }
   ],
   "source": [
    "threshold = trainXgboost(VERSION, train_df)"
   ]
  },
  {
   "cell_type": "code",
   "execution_count": null,
   "id": "15771fc1",
   "metadata": {},
   "outputs": [],
   "source": [
    "testXgboost(VERSION, test_df, ids, threshold)"
   ]
  },
  {
   "cell_type": "code",
   "execution_count": null,
   "id": "0b7725d1",
   "metadata": {},
   "outputs": [],
   "source": [
    "threshold = trainCatboost(VERSION, train_df)"
   ]
  },
  {
   "cell_type": "code",
   "execution_count": null,
   "id": "6a42dbaa",
   "metadata": {},
   "outputs": [],
   "source": [
    "testCatboost(VERSION, test_df, ids, threshold)"
   ]
  }
 ],
 "metadata": {
  "kernelspec": {
   "display_name": "base",
   "language": "python",
   "name": "python3"
  },
  "language_info": {
   "codemirror_mode": {
    "name": "ipython",
    "version": 3
   },
   "file_extension": ".py",
   "mimetype": "text/x-python",
   "name": "python",
   "nbconvert_exporter": "python",
   "pygments_lexer": "ipython3",
   "version": "3.13.5"
  }
 },
 "nbformat": 4,
 "nbformat_minor": 5
}
