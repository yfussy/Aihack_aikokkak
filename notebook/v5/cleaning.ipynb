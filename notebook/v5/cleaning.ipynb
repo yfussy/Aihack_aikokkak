{
 "cells": [
  {
   "cell_type": "code",
   "execution_count": 1,
   "id": "b3b86149",
   "metadata": {},
   "outputs": [],
   "source": [
    "from sklearn.model_selection import train_test_split\n",
    "from sklearn.metrics import classification_report\n",
    "import numpy as np\n",
    "import pandas as pd\n",
    "import matplotlib.pyplot as plt\n",
    "from datetime import datetime"
   ]
  },
  {
   "cell_type": "code",
   "execution_count": 2,
   "id": "e8fc7707",
   "metadata": {},
   "outputs": [],
   "source": [
    "import sys\n",
    "import os\n",
    "root_path = os.path.abspath(os.path.join(os.getcwd(), \"../..\"))\n",
    "if root_path not in sys.path:\n",
    "    sys.path.append(root_path)\n",
    "from fileDir import getDataDir\n",
    "from modules.v1.catboostModel import trainCatboost, testCatboost\n",
    "from modules.v1.xgboostModel import trainXgboost, testXgboost"
   ]
  },
  {
   "cell_type": "code",
   "execution_count": 3,
   "id": "a0baa5c7",
   "metadata": {},
   "outputs": [],
   "source": [
    "VERSION = 5\n",
    "TRAIN_PATH = getDataDir(\"train\")\n",
    "TEST_PATH = getDataDir(\"test\")\n",
    "CLEANED_TRAIN_PATH = getDataDir(\"train\", VERSION)\n",
    "CLEANED_TEST_PATH = getDataDir(\"test\", VERSION)"
   ]
  },
  {
   "cell_type": "code",
   "execution_count": null,
   "id": "6333e406",
   "metadata": {},
   "outputs": [],
   "source": [
    "df = pd.read_csv(TRAIN_PATH)\n",
    "df.columns"
   ]
  },
  {
   "cell_type": "markdown",
   "id": "67a42394",
   "metadata": {},
   "source": [
    "## Clean Datasets"
   ]
  },
  {
   "cell_type": "code",
   "execution_count": 5,
   "id": "35bed8f1",
   "metadata": {},
   "outputs": [],
   "source": [
    "cat_features = [\n",
    "    \"Area\",\n",
    "    \"Province\",\n",
    "    \"gender\",\n",
    "    \"marital_status\",\n",
    "    \"tel_category\",\n",
    "    \"type_of_residence\",\n",
    "    \"c_business_type\",\n",
    "    \"c_position\",\n",
    "    \"c_occupation\",\n",
    "    \"c_employment_status\",\n",
    "    \"c_salary_payment_methods\",\n",
    "    \"media\",\n",
    "    \"place_for_sending_information\",\n",
    "    \"r_propose\",\n",
    "    \"r_generalcode1\",\n",
    "    \"r_generalcode2\",\n",
    "    \"r_generalcode3\",\n",
    "    \"r_generalcode4\",\n",
    "    \"r_generalcode5\",\n",
    "    \"apply\"\n",
    "]\n",
    "\n",
    "for col in cat_features:\n",
    "    df[col] = df[col].astype(str)"
   ]
  },
  {
   "cell_type": "code",
   "execution_count": 6,
   "id": "6a60bfa0",
   "metadata": {},
   "outputs": [],
   "source": [
    "def cleanDataset(df, cleanPath):\n",
    "    # Drop unnecessary columns (keep ID)\n",
    "    drop_cols = [\"ID\", \"Shop Name\"]\n",
    "    df = df.drop(columns=drop_cols, errors='ignore')\n",
    "\n",
    "    # =====================================================\n",
    "    # 3. Handle date columns\n",
    "    # =====================================================\n",
    "    for col in [\"pms_i_ymd\", \"date_of_birth\"]:\n",
    "        df[col] = pd.to_datetime(df[col], errors=\"coerce\")\n",
    "    \n",
    "    df[\"app_year\"] = df[\"pms_i_ymd\"].dt.year\n",
    "    df[\"app_month\"] = df[\"pms_i_ymd\"].dt.month\n",
    "    df[\"app_day\"] = df[\"pms_i_ymd\"].dt.day\n",
    "    df[\"app_weekday\"] = df[\"pms_i_ymd\"].dt.weekday\n",
    "\n",
    "    df[\"birth_year\"] = df[\"date_of_birth\"].dt.year\n",
    "    df[\"birth_month\"] = df[\"date_of_birth\"].dt.month\n",
    "    df[\"birth_day\"] = df[\"date_of_birth\"].dt.day\n",
    "\n",
    "    df[\"age\"] = ((df[\"pms_i_ymd\"] - df[\"date_of_birth\"]).dt.days / 365.25).astype(float)\n",
    "\n",
    "    df.drop(columns=[\"pms_i_ymd\", \"date_of_birth\"], inplace=True, errors=\"ignore\")\n",
    "\n",
    "    # =====================================================\n",
    "    # 4. Engineer numeric features\n",
    "    # =====================================================\n",
    "    df[\"living_period_month\"] = df[\"living_period_year\"] * 12 + df[\"living_period_month\"]\n",
    "    df.drop(columns=['living_period_year'], inplace=True)\n",
    "\n",
    "    df[\"c_number_of_working_month\"] = df[\"c_number_of_working_year\"] * 12 + df[\"c_number_of_working_month\"]\n",
    "    df.drop(columns=['c_number_of_working_year'], inplace=True)\n",
    "\n",
    "    df[\"r_total_income\"] = df[[\"c_monthly_salary\", \"r_additional_income\", \"r_spouse_income\"]].sum(axis=1)\n",
    "    df[\"r_debt_to_income_ratio\"] = df[\"r_allloan_amount\"] / (df[\"r_total_income\"] + 1)\n",
    "    df[\"loan_to_salary_ratio\"] = df[\"r_expected_credit_limit\"] / (df[\"c_monthly_salary\"] + 1)\n",
    "    df[\"has_other_loans\"] = (df[\"r_allloan_case\"] > 0).astype(int)\n",
    "    df[\"is_married_and_has_children\"] = ((df[\"marital_status\"] == 2) & (df[\"number_of_children\"] > 0)).astype(int)\n",
    "\n",
    "    # =====================================================\n",
    "    # 5. Cleaning Data\n",
    "    # =====================================================\n",
    "    df = df.applymap(lambda x: x.strip() if isinstance(x, str) else x)\n",
    "    df.replace([\"NaN\", \"nan\", \"None\", \"\"], np.nan, inplace=True)\n",
    "\n",
    "    df.to_csv(cleanPath, index=False)\n",
    "    return df"
   ]
  },
  {
   "cell_type": "code",
   "execution_count": null,
   "id": "6ec86cd9",
   "metadata": {},
   "outputs": [],
   "source": [
    "train_df = pd.read_csv(TRAIN_PATH)\n",
    "test_df = pd.read_csv(TEST_PATH)\n",
    "ids = test_df[\"ID\"].copy()\n",
    "\n",
    "train_df = cleanDataset(train_df, CLEANED_TRAIN_PATH)\n",
    "test_df = cleanDataset(test_df, CLEANED_TEST_PATH)"
   ]
  },
  {
   "cell_type": "markdown",
   "id": "21cb3566",
   "metadata": {},
   "source": [
    "## Testing"
   ]
  },
  {
   "cell_type": "code",
   "execution_count": null,
   "id": "d2c7075a",
   "metadata": {},
   "outputs": [],
   "source": [
    "threshold = trainXgboost(VERSION, train_df)"
   ]
  },
  {
   "cell_type": "code",
   "execution_count": null,
   "id": "15771fc1",
   "metadata": {},
   "outputs": [],
   "source": [
    "testXgboost(VERSION, test_df, ids, threshold)"
   ]
  },
  {
   "cell_type": "code",
   "execution_count": null,
   "id": "0b7725d1",
   "metadata": {},
   "outputs": [],
   "source": [
    "threshold = trainCatboost(VERSION, train_df)"
   ]
  },
  {
   "cell_type": "code",
   "execution_count": null,
   "id": "6a42dbaa",
   "metadata": {},
   "outputs": [],
   "source": [
    "testCatboost(VERSION, test_df, ids, threshold)"
   ]
  }
 ],
 "metadata": {
  "kernelspec": {
   "display_name": "base",
   "language": "python",
   "name": "python3"
  },
  "language_info": {
   "codemirror_mode": {
    "name": "ipython",
    "version": 3
   },
   "file_extension": ".py",
   "mimetype": "text/x-python",
   "name": "python",
   "nbconvert_exporter": "python",
   "pygments_lexer": "ipython3",
   "version": "3.13.5"
  }
 },
 "nbformat": 4,
 "nbformat_minor": 5
}
