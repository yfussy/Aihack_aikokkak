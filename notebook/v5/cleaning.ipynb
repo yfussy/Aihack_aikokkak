{
 "cells": [
  {
   "cell_type": "code",
   "execution_count": 1,
   "id": "b3b86149",
   "metadata": {},
   "outputs": [],
   "source": [
    "from sklearn.model_selection import train_test_split\n",
    "from sklearn.metrics import classification_report\n",
    "import numpy as np\n",
    "import pandas as pd\n",
    "import matplotlib.pyplot as plt\n",
    "from datetime import datetime"
   ]
  },
  {
   "cell_type": "code",
   "execution_count": 2,
   "id": "e8fc7707",
   "metadata": {},
   "outputs": [
    {
     "name": "stderr",
     "output_type": "stream",
     "text": [
      "c:\\Users\\chins\\AppData\\Local\\Programs\\Python\\Python313\\Lib\\site-packages\\tqdm\\auto.py:21: TqdmWarning: IProgress not found. Please update jupyter and ipywidgets. See https://ipywidgets.readthedocs.io/en/stable/user_install.html\n",
      "  from .autonotebook import tqdm as notebook_tqdm\n"
     ]
    }
   ],
   "source": [
    "import sys\n",
    "import os\n",
    "root_path = os.path.abspath(os.path.join(os.getcwd(), \"../..\"))\n",
    "if root_path not in sys.path:\n",
    "    sys.path.append(root_path)\n",
    "from fileDir import getDataDir\n",
    "from modules.v1.catboostModel import trainCatboost, testCatboost"
   ]
  },
  {
   "cell_type": "code",
   "execution_count": 3,
   "id": "a0baa5c7",
   "metadata": {},
   "outputs": [],
   "source": [
    "VERSION = 5\n",
    "TRAIN_PATH = getDataDir(\"train\")\n",
    "TEST_PATH = getDataDir(\"test\")\n",
    "CLEANED_TRAIN_PATH = getDataDir(\"train\", VERSION)\n",
    "CLEANED_TEST_PATH = getDataDir(\"test\", VERSION)"
   ]
  },
  {
   "cell_type": "code",
   "execution_count": 4,
   "id": "6333e406",
   "metadata": {},
   "outputs": [
    {
     "data": {
      "text/plain": [
       "Index(['ID', 'pms_i_ymd', 'Area', 'Province', 'Shop Name', 'gender',\n",
       "       'date_of_birth_week', 'date_of_birth', 'marital_status',\n",
       "       'number_of_children', 'postal_code', 'tel_category',\n",
       "       'number_of_resident', 'living_period_year', 'living_period_month',\n",
       "       'type_of_residence', 'c_postal_code', 'c_business_type',\n",
       "       'c_number_of_employee', 'c_position', 'c_occupation',\n",
       "       'c_employment_status', 'c_monthly_salary', 'c_number_of_working_year',\n",
       "       'c_number_of_working_month', 'c_salary_payment_methods',\n",
       "       'c_date_of_salary_payment', 'media', 'place_for_sending_information',\n",
       "       'r_expected_credit_limit', 'r_propose', 'r_allloan_case',\n",
       "       'r_allloan_amount', 'r_additional_income', 'r_spouse_income',\n",
       "       'r_generalcode1', 'r_generalcode2', 'r_generalcode3', 'r_generalcode4',\n",
       "       'r_generalcode5', 'apply', 'default_12month'],\n",
       "      dtype='object')"
      ]
     },
     "execution_count": 4,
     "metadata": {},
     "output_type": "execute_result"
    }
   ],
   "source": [
    "df = pd.read_csv(TRAIN_PATH)\n",
    "df.columns"
   ]
  },
  {
   "cell_type": "markdown",
   "id": "67a42394",
   "metadata": {},
   "source": [
    "## Clean Datasets"
   ]
  },
  {
   "cell_type": "code",
   "execution_count": 5,
   "id": "35bed8f1",
   "metadata": {},
   "outputs": [],
   "source": [
    "cat_features = [\n",
    "    \"Area\",\n",
    "    \"Province\",\n",
    "    \"gender\",\n",
    "    \"marital_status\",\n",
    "    \"tel_category\",\n",
    "    \"type_of_residence\",\n",
    "    \"c_business_type\",\n",
    "    \"c_position\",\n",
    "    \"c_occupation\",\n",
    "    \"c_employment_status\",\n",
    "    \"c_salary_payment_methods\",\n",
    "    \"media\",\n",
    "    \"place_for_sending_information\",\n",
    "    \"r_propose\",\n",
    "    \"r_generalcode1\",\n",
    "    \"r_generalcode2\",\n",
    "    \"r_generalcode3\",\n",
    "    \"r_generalcode4\",\n",
    "    \"r_generalcode5\",\n",
    "    \"apply\"\n",
    "]"
   ]
  },
  {
   "cell_type": "code",
   "execution_count": 6,
   "id": "6a60bfa0",
   "metadata": {},
   "outputs": [],
   "source": [
    "def cleanDataset(df, cleanPath):\n",
    "    # Drop unnecessary columns (keep ID)\n",
    "    drop_cols = [\"ID\", \"Shop Name\"]\n",
    "    df = df.drop(columns=drop_cols, errors='ignore')\n",
    "\n",
    "    # =====================================================\n",
    "    # 3. Handle date columns\n",
    "    # =====================================================\n",
    "    for col in [\"pms_i_ymd\", \"date_of_birth\"]:\n",
    "        df[col] = pd.to_datetime(df[col], errors=\"coerce\")\n",
    "    \n",
    "    df[\"app_year\"] = df[\"pms_i_ymd\"].dt.year\n",
    "    df[\"app_month\"] = df[\"pms_i_ymd\"].dt.month\n",
    "    df[\"app_day\"] = df[\"pms_i_ymd\"].dt.day\n",
    "    df[\"app_weekday\"] = df[\"pms_i_ymd\"].dt.weekday\n",
    "\n",
    "    df[\"birth_year\"] = df[\"date_of_birth\"].dt.year\n",
    "    df[\"birth_month\"] = df[\"date_of_birth\"].dt.month\n",
    "    df[\"birth_day\"] = df[\"date_of_birth\"].dt.day\n",
    "\n",
    "    df[\"age\"] = ((df[\"pms_i_ymd\"] - df[\"date_of_birth\"]).dt.days / 365.25).astype(float)\n",
    "\n",
    "    df.drop(columns=[\"pms_i_ymd\", \"date_of_birth\"], inplace=True, errors=\"ignore\")\n",
    "\n",
    "    # =====================================================\n",
    "    # 4. Engineer numeric features\n",
    "    # =====================================================\n",
    "    df[\"living_period_month\"] = df[\"living_period_year\"] * 12 + df[\"living_period_month\"]\n",
    "    df.drop(columns=['living_period_year'], inplace=True)\n",
    "\n",
    "    df[\"c_number_of_working_month\"] = df[\"c_number_of_working_year\"] * 12 + df[\"c_number_of_working_month\"]\n",
    "    df.drop(columns=['c_number_of_working_year'], inplace=True)\n",
    "\n",
    "    df[\"r_total_income\"] = df[[\"c_monthly_salary\", \"r_additional_income\", \"r_spouse_income\"]].sum(axis=1)\n",
    "    df[\"r_debt_to_income_ratio\"] = df[\"r_allloan_amount\"] / (df[\"r_total_income\"] + 1)\n",
    "    df[\"loan_to_salary_ratio\"] = df[\"r_expected_credit_limit\"] / (df[\"c_monthly_salary\"] + 1)\n",
    "    df[\"has_other_loans\"] = (df[\"r_allloan_case\"] > 0).astype(int)\n",
    "    df[\"is_married_and_has_children\"] = ((df[\"marital_status\"] == 2) & (df[\"number_of_children\"] > 0)).astype(int)\n",
    "\n",
    "    # =====================================================\n",
    "    # 5. Cleaning Data\n",
    "    # =====================================================\n",
    "    df = df.applymap(lambda x: x.strip() if isinstance(x, str) else x)\n",
    "    df.replace([\"NaN\", \"nan\", \"None\", \"\"], np.nan, inplace=True)\n",
    "\n",
    "    df.to_csv(cleanPath, index=False)\n",
    "    return df"
   ]
  },
  {
   "cell_type": "code",
   "execution_count": 7,
   "id": "6ec86cd9",
   "metadata": {},
   "outputs": [
    {
     "name": "stderr",
     "output_type": "stream",
     "text": [
      "C:\\Users\\chins\\AppData\\Local\\Temp\\ipykernel_21120\\2688614871.py:43: FutureWarning: DataFrame.applymap has been deprecated. Use DataFrame.map instead.\n",
      "  df = df.applymap(lambda x: x.strip() if isinstance(x, str) else x)\n",
      "C:\\Users\\chins\\AppData\\Local\\Temp\\ipykernel_21120\\2688614871.py:43: FutureWarning: DataFrame.applymap has been deprecated. Use DataFrame.map instead.\n",
      "  df = df.applymap(lambda x: x.strip() if isinstance(x, str) else x)\n"
     ]
    }
   ],
   "source": [
    "train_df = pd.read_csv(TRAIN_PATH)\n",
    "test_df = pd.read_csv(TEST_PATH)\n",
    "ids = test_df[\"ID\"].copy()\n",
    "\n",
    "train_df = cleanDataset(train_df, CLEANED_TRAIN_PATH)\n",
    "test_df = cleanDataset(test_df, CLEANED_TEST_PATH)"
   ]
  },
  {
   "cell_type": "markdown",
   "id": "21cb3566",
   "metadata": {},
   "source": [
    "## Testing"
   ]
  },
  {
   "cell_type": "code",
   "execution_count": 8,
   "id": "d2c7075a",
   "metadata": {},
   "outputs": [
    {
     "name": "stderr",
     "output_type": "stream",
     "text": [
      "[I 2025-10-31 20:30:25,755] A new study created in memory with name: no-name-7b148031-8ad0-45d6-aec0-739b1b5c0961\n"
     ]
    },
    {
     "name": "stdout",
     "output_type": "stream",
     "text": [
      "GPU detected -> using CatBoost GPU training.\n",
      "Running hyperparameter tuning with Optuna...\n"
     ]
    },
    {
     "name": "stderr",
     "output_type": "stream",
     "text": [
      "  0%|          | 0/10 [00:00<?, ?it/s]Change of simpleCtr will not affect combinations ctrs.\n",
      "Change of simpleCtr will not affect combinations ctrs.\n",
      "Change of simpleCtr will not affect combinations ctrs.\n",
      "Change of simpleCtr will not affect combinations ctrs.\n",
      "Change of simpleCtr will not affect combinations ctrs.\n",
      "Change of simpleCtr will not affect combinations ctrs.\n",
      "Change of simpleCtr will not affect combinations ctrs.\n",
      "Change of simpleCtr will not affect combinations ctrs.\n",
      "Change of simpleCtr will not affect combinations ctrs.\n",
      "Change of simpleCtr will not affect combinations ctrs.\n",
      "Change of simpleCtr will not affect combinations ctrs.\n",
      "Change of simpleCtr will not affect combinations ctrs.\n",
      "Best trial: 0. Best value: 0.632271:  10%|█         | 1/10 [00:13<01:58, 13.21s/it]Change of simpleCtr will not affect combinations ctrs.\n",
      "Change of simpleCtr will not affect combinations ctrs.\n"
     ]
    },
    {
     "name": "stdout",
     "output_type": "stream",
     "text": [
      "[I 2025-10-31 20:30:38,963] Trial 0 finished with value: 0.6322714797183443 and parameters: {'bagging_temperature': 0.09447331822452454, 'iterations': 980, 'simple_ctr': 'Borders', 'depth': 6, 'learning_rate': 0.0526554621511328, 'l2_leaf_reg': 0.12524459110483516, 'random_strength': 0.16294637370586895, 'grow_policy': 'Lossguide', 'leaf_estimation_iterations': 5, 'leaf_estimation_method': 'Gradient', 'one_hot_max_size': 2, 'max_ctr_complexity': 1, 'auto_class_weights': None, 'od_type': 'IncToDec', 'od_wait': 93}. Best is trial 0 with value: 0.6322714797183443.\n"
     ]
    },
    {
     "name": "stderr",
     "output_type": "stream",
     "text": [
      "Change of simpleCtr will not affect combinations ctrs.\n",
      "Change of simpleCtr will not affect combinations ctrs.\n",
      "Change of simpleCtr will not affect combinations ctrs.\n",
      "Change of simpleCtr will not affect combinations ctrs.\n",
      "Change of simpleCtr will not affect combinations ctrs.\n",
      "Change of simpleCtr will not affect combinations ctrs.\n",
      "Change of simpleCtr will not affect combinations ctrs.\n",
      "Change of simpleCtr will not affect combinations ctrs.\n",
      "Change of simpleCtr will not affect combinations ctrs.\n",
      "Change of simpleCtr will not affect combinations ctrs.\n",
      "Best trial: 0. Best value: 0.632271:  20%|██        | 2/10 [00:36<02:33, 19.20s/it]Change of simpleCtr will not affect combinations ctrs.\n",
      "Change of simpleCtr will not affect combinations ctrs.\n"
     ]
    },
    {
     "name": "stdout",
     "output_type": "stream",
     "text": [
      "[I 2025-10-31 20:31:02,365] Trial 1 finished with value: 0.6271154058564583 and parameters: {'bagging_temperature': 0.8822536309128737, 'iterations': 531, 'simple_ctr': 'FloatTargetMeanValue', 'depth': 4, 'learning_rate': 0.032537978318496856, 'l2_leaf_reg': 0.22685127346571968, 'random_strength': 0.1621112647616758, 'grow_policy': 'SymmetricTree', 'leaf_estimation_iterations': 1, 'leaf_estimation_method': 'Gradient', 'one_hot_max_size': 9, 'max_ctr_complexity': 3, 'auto_class_weights': None, 'od_type': 'IncToDec', 'od_wait': 82}. Best is trial 0 with value: 0.6322714797183443.\n"
     ]
    },
    {
     "name": "stderr",
     "output_type": "stream",
     "text": [
      "Change of simpleCtr will not affect combinations ctrs.\n",
      "Change of simpleCtr will not affect combinations ctrs.\n",
      "Change of simpleCtr will not affect combinations ctrs.\n",
      "Change of simpleCtr will not affect combinations ctrs.\n",
      "Change of simpleCtr will not affect combinations ctrs.\n",
      "Change of simpleCtr will not affect combinations ctrs.\n",
      "Change of simpleCtr will not affect combinations ctrs.\n",
      "Change of simpleCtr will not affect combinations ctrs.\n",
      "Change of simpleCtr will not affect combinations ctrs.\n",
      "Change of simpleCtr will not affect combinations ctrs.\n",
      "Best trial: 2. Best value: 0.636774:  30%|███       | 3/10 [02:07<06:02, 51.82s/it]Change of simpleCtr will not affect combinations ctrs.\n",
      "Change of simpleCtr will not affect combinations ctrs.\n"
     ]
    },
    {
     "name": "stdout",
     "output_type": "stream",
     "text": [
      "[I 2025-10-31 20:32:32,990] Trial 2 finished with value: 0.6367738381725506 and parameters: {'bagging_temperature': 0.12725003578451666, 'iterations': 905, 'simple_ctr': 'FeatureFreq', 'depth': 5, 'learning_rate': 0.025441552497449157, 'l2_leaf_reg': 0.8591668724841058, 'random_strength': 1.4394911534626422, 'grow_policy': 'SymmetricTree', 'leaf_estimation_iterations': 5, 'leaf_estimation_method': 'Gradient', 'one_hot_max_size': 2, 'max_ctr_complexity': 2, 'auto_class_weights': None, 'od_type': 'IncToDec', 'od_wait': 91}. Best is trial 2 with value: 0.6367738381725506.\n"
     ]
    },
    {
     "name": "stderr",
     "output_type": "stream",
     "text": [
      "Change of simpleCtr will not affect combinations ctrs.\n",
      "Change of simpleCtr will not affect combinations ctrs.\n",
      "Change of simpleCtr will not affect combinations ctrs.\n",
      "Change of simpleCtr will not affect combinations ctrs.\n",
      "Change of simpleCtr will not affect combinations ctrs.\n",
      "Change of simpleCtr will not affect combinations ctrs.\n",
      "Change of simpleCtr will not affect combinations ctrs.\n",
      "Change of simpleCtr will not affect combinations ctrs.\n",
      "Change of simpleCtr will not affect combinations ctrs.\n",
      "Change of simpleCtr will not affect combinations ctrs.\n",
      "Best trial: 3. Best value: 0.640266:  40%|████      | 4/10 [02:10<03:16, 32.72s/it]Change of simpleCtr will not affect combinations ctrs.\n"
     ]
    },
    {
     "name": "stdout",
     "output_type": "stream",
     "text": [
      "[I 2025-10-31 20:32:36,433] Trial 3 finished with value: 0.6402660473551317 and parameters: {'bagging_temperature': 0.6568298764202317, 'iterations': 677, 'simple_ctr': 'FeatureFreq', 'depth': 3, 'learning_rate': 0.09668396187936132, 'l2_leaf_reg': 0.06410012662899707, 'random_strength': 3.301423575269754, 'grow_policy': 'Lossguide', 'leaf_estimation_iterations': 1, 'leaf_estimation_method': 'Newton', 'one_hot_max_size': 5, 'max_ctr_complexity': 3, 'auto_class_weights': 'Balanced', 'od_type': 'IncToDec', 'od_wait': 37}. Best is trial 3 with value: 0.6402660473551317.\n"
     ]
    },
    {
     "name": "stderr",
     "output_type": "stream",
     "text": [
      "Change of simpleCtr will not affect combinations ctrs.\n",
      "Change of simpleCtr will not affect combinations ctrs.\n",
      "Change of simpleCtr will not affect combinations ctrs.\n",
      "Change of simpleCtr will not affect combinations ctrs.\n",
      "Change of simpleCtr will not affect combinations ctrs.\n",
      "Change of simpleCtr will not affect combinations ctrs.\n",
      "Change of simpleCtr will not affect combinations ctrs.\n",
      "Change of simpleCtr will not affect combinations ctrs.\n",
      "Change of simpleCtr will not affect combinations ctrs.\n",
      "Change of simpleCtr will not affect combinations ctrs.\n",
      "Change of simpleCtr will not affect combinations ctrs.\n",
      "Best trial: 3. Best value: 0.640266:  50%|█████     | 5/10 [03:32<04:12, 50.43s/it]"
     ]
    },
    {
     "name": "stdout",
     "output_type": "stream",
     "text": [
      "[I 2025-10-31 20:33:58,264] Trial 4 finished with value: 0.6393174563414203 and parameters: {'bagging_temperature': 0.4914317360388344, 'iterations': 770, 'simple_ctr': 'FloatTargetMeanValue', 'depth': 6, 'learning_rate': 0.026068676756367124, 'l2_leaf_reg': 0.4828336322113433, 'random_strength': 0.8394749865738709, 'grow_policy': 'SymmetricTree', 'leaf_estimation_iterations': 1, 'leaf_estimation_method': 'Newton', 'one_hot_max_size': 5, 'max_ctr_complexity': 3, 'auto_class_weights': None, 'od_type': 'IncToDec', 'od_wait': 59}. Best is trial 3 with value: 0.6402660473551317.\n"
     ]
    },
    {
     "name": "stderr",
     "output_type": "stream",
     "text": [
      "Change of simpleCtr will not affect combinations ctrs.\n",
      "Change of simpleCtr will not affect combinations ctrs.\n",
      "Change of simpleCtr will not affect combinations ctrs.\n",
      "Change of simpleCtr will not affect combinations ctrs.\n",
      "Change of simpleCtr will not affect combinations ctrs.\n",
      "Change of simpleCtr will not affect combinations ctrs.\n",
      "Change of simpleCtr will not affect combinations ctrs.\n",
      "Change of simpleCtr will not affect combinations ctrs.\n",
      "Change of simpleCtr will not affect combinations ctrs.\n",
      "Change of simpleCtr will not affect combinations ctrs.\n",
      "Change of simpleCtr will not affect combinations ctrs.\n",
      "Change of simpleCtr will not affect combinations ctrs.\n",
      "Best trial: 3. Best value: 0.640266:  60%|██████    | 6/10 [04:04<02:57, 44.29s/it]Change of simpleCtr will not affect combinations ctrs.\n",
      "Change of simpleCtr will not affect combinations ctrs.\n"
     ]
    },
    {
     "name": "stdout",
     "output_type": "stream",
     "text": [
      "[I 2025-10-31 20:34:30,625] Trial 5 finished with value: 0.634661321865979 and parameters: {'bagging_temperature': 0.04306178855178788, 'iterations': 572, 'simple_ctr': 'Buckets', 'depth': 5, 'learning_rate': 0.016189308199993778, 'l2_leaf_reg': 5.137421357925463, 'random_strength': 3.047302069780262, 'grow_policy': 'Lossguide', 'leaf_estimation_iterations': 4, 'leaf_estimation_method': 'Gradient', 'one_hot_max_size': 7, 'max_ctr_complexity': 2, 'auto_class_weights': 'Balanced', 'od_type': 'IncToDec', 'od_wait': 50}. Best is trial 3 with value: 0.6402660473551317.\n"
     ]
    },
    {
     "name": "stderr",
     "output_type": "stream",
     "text": [
      "Change of simpleCtr will not affect combinations ctrs.\n",
      "Change of simpleCtr will not affect combinations ctrs.\n",
      "Change of simpleCtr will not affect combinations ctrs.\n",
      "Change of simpleCtr will not affect combinations ctrs.\n",
      "Change of simpleCtr will not affect combinations ctrs.\n",
      "Change of simpleCtr will not affect combinations ctrs.\n",
      "Change of simpleCtr will not affect combinations ctrs.\n",
      "Change of simpleCtr will not affect combinations ctrs.\n",
      "Change of simpleCtr will not affect combinations ctrs.\n",
      "Change of simpleCtr will not affect combinations ctrs.\n",
      "Best trial: 3. Best value: 0.640266:  70%|███████   | 7/10 [04:13<01:38, 32.73s/it]Change of simpleCtr will not affect combinations ctrs.\n",
      "Change of simpleCtr will not affect combinations ctrs.\n"
     ]
    },
    {
     "name": "stdout",
     "output_type": "stream",
     "text": [
      "[I 2025-10-31 20:34:39,552] Trial 6 finished with value: 0.6348968031751062 and parameters: {'bagging_temperature': 0.2876170889086477, 'iterations': 852, 'simple_ctr': 'FloatTargetMeanValue', 'depth': 7, 'learning_rate': 0.03214342209671157, 'l2_leaf_reg': 0.057873279981271036, 'random_strength': 0.7943417301137915, 'grow_policy': 'Lossguide', 'leaf_estimation_iterations': 4, 'leaf_estimation_method': 'Gradient', 'one_hot_max_size': 7, 'max_ctr_complexity': 1, 'auto_class_weights': 'Balanced', 'od_type': 'IncToDec', 'od_wait': 48}. Best is trial 3 with value: 0.6402660473551317.\n"
     ]
    },
    {
     "name": "stderr",
     "output_type": "stream",
     "text": [
      "Change of simpleCtr will not affect combinations ctrs.\n",
      "Change of simpleCtr will not affect combinations ctrs.\n",
      "Change of simpleCtr will not affect combinations ctrs.\n",
      "Change of simpleCtr will not affect combinations ctrs.\n",
      "Change of simpleCtr will not affect combinations ctrs.\n",
      "Change of simpleCtr will not affect combinations ctrs.\n",
      "Change of simpleCtr will not affect combinations ctrs.\n",
      "Change of simpleCtr will not affect combinations ctrs.\n",
      "Change of simpleCtr will not affect combinations ctrs.\n",
      "Change of simpleCtr will not affect combinations ctrs.\n",
      "Best trial: 3. Best value: 0.640266:  80%|████████  | 8/10 [05:06<01:18, 39.07s/it]Change of simpleCtr will not affect combinations ctrs.\n",
      "Change of simpleCtr will not affect combinations ctrs.\n"
     ]
    },
    {
     "name": "stdout",
     "output_type": "stream",
     "text": [
      "[I 2025-10-31 20:35:32,193] Trial 7 finished with value: 0.6263598049653042 and parameters: {'bagging_temperature': 0.9478796110898939, 'iterations': 627, 'simple_ctr': 'Buckets', 'depth': 5, 'learning_rate': 0.010434692600577352, 'l2_leaf_reg': 0.014571509342442569, 'random_strength': 0.3519376706356959, 'grow_policy': 'SymmetricTree', 'leaf_estimation_iterations': 1, 'leaf_estimation_method': 'Gradient', 'one_hot_max_size': 7, 'max_ctr_complexity': 2, 'auto_class_weights': 'Balanced', 'od_type': 'IncToDec', 'od_wait': 88}. Best is trial 3 with value: 0.6402660473551317.\n"
     ]
    },
    {
     "name": "stderr",
     "output_type": "stream",
     "text": [
      "Change of simpleCtr will not affect combinations ctrs.\n",
      "Change of simpleCtr will not affect combinations ctrs.\n",
      "Change of simpleCtr will not affect combinations ctrs.\n",
      "Change of simpleCtr will not affect combinations ctrs.\n",
      "Change of simpleCtr will not affect combinations ctrs.\n",
      "Change of simpleCtr will not affect combinations ctrs.\n",
      "Change of simpleCtr will not affect combinations ctrs.\n",
      "Change of simpleCtr will not affect combinations ctrs.\n",
      "Change of simpleCtr will not affect combinations ctrs.\n",
      "Change of simpleCtr will not affect combinations ctrs.\n",
      "Best trial: 3. Best value: 0.640266:  90%|█████████ | 9/10 [05:11<00:28, 28.55s/it]"
     ]
    },
    {
     "name": "stdout",
     "output_type": "stream",
     "text": [
      "[I 2025-10-31 20:35:37,609] Trial 8 finished with value: 0.6375636026729424 and parameters: {'bagging_temperature': 0.7515038345862806, 'iterations': 935, 'simple_ctr': 'FloatTargetMeanValue', 'depth': 3, 'learning_rate': 0.07946225279180148, 'l2_leaf_reg': 0.10397726353576307, 'random_strength': 0.12161533948275262, 'grow_policy': 'Lossguide', 'leaf_estimation_iterations': 3, 'leaf_estimation_method': 'Newton', 'one_hot_max_size': 8, 'max_ctr_complexity': 1, 'auto_class_weights': 'Balanced', 'od_type': 'IncToDec', 'od_wait': 99}. Best is trial 3 with value: 0.6402660473551317.\n"
     ]
    },
    {
     "name": "stderr",
     "output_type": "stream",
     "text": [
      "Change of simpleCtr will not affect combinations ctrs.\n",
      "Change of simpleCtr will not affect combinations ctrs.\n",
      "Change of simpleCtr will not affect combinations ctrs.\n",
      "Change of simpleCtr will not affect combinations ctrs.\n",
      "Change of simpleCtr will not affect combinations ctrs.\n",
      "Change of simpleCtr will not affect combinations ctrs.\n",
      "Change of simpleCtr will not affect combinations ctrs.\n",
      "Change of simpleCtr will not affect combinations ctrs.\n",
      "Change of simpleCtr will not affect combinations ctrs.\n",
      "Change of simpleCtr will not affect combinations ctrs.\n",
      "Change of simpleCtr will not affect combinations ctrs.\n",
      "Change of simpleCtr will not affect combinations ctrs.\n",
      "Best trial: 3. Best value: 0.640266: 100%|██████████| 10/10 [06:45<00:00, 40.52s/it]\n"
     ]
    },
    {
     "name": "stdout",
     "output_type": "stream",
     "text": [
      "[I 2025-10-31 20:37:10,930] Trial 9 finished with value: 0.6331595465921646 and parameters: {'bagging_temperature': 0.4219520770008628, 'iterations': 657, 'simple_ctr': 'Borders', 'depth': 7, 'learning_rate': 0.032253985804386924, 'l2_leaf_reg': 1.1468175848387636, 'random_strength': 1.8177462151121297, 'grow_policy': 'SymmetricTree', 'leaf_estimation_iterations': 1, 'leaf_estimation_method': 'Gradient', 'one_hot_max_size': 10, 'max_ctr_complexity': 3, 'auto_class_weights': 'Balanced', 'od_type': 'IncToDec', 'od_wait': 58}. Best is trial 3 with value: 0.6402660473551317.\n",
      "\n",
      "Best Parameters Found: {'bagging_temperature': 0.6568298764202317, 'iterations': 677, 'simple_ctr': 'FeatureFreq', 'depth': 3, 'learning_rate': 0.09668396187936132, 'l2_leaf_reg': 0.06410012662899707, 'random_strength': 3.301423575269754, 'grow_policy': 'Lossguide', 'leaf_estimation_iterations': 1, 'leaf_estimation_method': 'Newton', 'one_hot_max_size': 5, 'max_ctr_complexity': 3, 'auto_class_weights': 'Balanced', 'od_type': 'IncToDec', 'od_wait': 37}\n"
     ]
    },
    {
     "ename": "FileNotFoundError",
     "evalue": "[Errno 2] No such file or directory: '../../model/v5/param_log_catboost.json'",
     "output_type": "error",
     "traceback": [
      "\u001b[31m---------------------------------------------------------------------------\u001b[39m",
      "\u001b[31mFileNotFoundError\u001b[39m                         Traceback (most recent call last)",
      "\u001b[36mCell\u001b[39m\u001b[36m \u001b[39m\u001b[32mIn[8]\u001b[39m\u001b[32m, line 1\u001b[39m\n\u001b[32m----> \u001b[39m\u001b[32m1\u001b[39m threshold = \u001b[43mtrainCatboost\u001b[49m\u001b[43m(\u001b[49m\u001b[43mVERSION\u001b[49m\u001b[43m,\u001b[49m\u001b[43m \u001b[49m\u001b[43mtrain_df\u001b[49m\u001b[43m,\u001b[49m\u001b[43m \u001b[49m\u001b[43mcat_features\u001b[49m\u001b[43m)\u001b[49m\n",
      "\u001b[36mFile \u001b[39m\u001b[32mc:\\Users\\chins\\Desktop\\123\\Aihack_aikokkak\\modules\\v1\\catboostModel.py:143\u001b[39m, in \u001b[36mtrainCatboost\u001b[39m\u001b[34m(version, train_df, categorical_columns, hypertune)\u001b[39m\n\u001b[32m    135\u001b[39m \u001b[38;5;28mprint\u001b[39m(\u001b[33m\"\u001b[39m\u001b[38;5;130;01m\\n\u001b[39;00m\u001b[33mBest Parameters Found:\u001b[39m\u001b[33m\"\u001b[39m, study.best_params)\n\u001b[32m    137\u001b[39m param_data = {\n\u001b[32m    138\u001b[39m     \u001b[33m\"\u001b[39m\u001b[33mtimestamp\u001b[39m\u001b[33m\"\u001b[39m: datetime.now().strftime(\u001b[33m\"\u001b[39m\u001b[33m%\u001b[39m\u001b[33mY-\u001b[39m\u001b[33m%\u001b[39m\u001b[33mm-\u001b[39m\u001b[38;5;132;01m%d\u001b[39;00m\u001b[33m \u001b[39m\u001b[33m%\u001b[39m\u001b[33mH:\u001b[39m\u001b[33m%\u001b[39m\u001b[33mM:\u001b[39m\u001b[33m%\u001b[39m\u001b[33mS\u001b[39m\u001b[33m\"\u001b[39m),\n\u001b[32m    139\u001b[39m     \u001b[33m\"\u001b[39m\u001b[33mbest_score\u001b[39m\u001b[33m\"\u001b[39m: study.best_value,\n\u001b[32m    140\u001b[39m     \u001b[33m\"\u001b[39m\u001b[33mbest_params\u001b[39m\u001b[33m\"\u001b[39m: study.best_params\n\u001b[32m    141\u001b[39m }\n\u001b[32m--> \u001b[39m\u001b[32m143\u001b[39m \u001b[38;5;28;01mwith\u001b[39;00m \u001b[38;5;28;43mopen\u001b[39;49m\u001b[43m(\u001b[49m\u001b[43mPARAM_PATH\u001b[49m\u001b[43m,\u001b[49m\u001b[43m \u001b[49m\u001b[33;43m\"\u001b[39;49m\u001b[33;43ma\u001b[39;49m\u001b[33;43m\"\u001b[39;49m\u001b[43m)\u001b[49m \u001b[38;5;28;01mas\u001b[39;00m f:\n\u001b[32m    144\u001b[39m     json.dump(param_data, f, indent=\u001b[32m4\u001b[39m)\n\u001b[32m    145\u001b[39m     f.write(\u001b[33m\"\u001b[39m\u001b[38;5;130;01m\\n\u001b[39;00m\u001b[33m\"\u001b[39m)  \u001b[38;5;66;03m# one run per line\u001b[39;00m\n",
      "\u001b[31mFileNotFoundError\u001b[39m: [Errno 2] No such file or directory: '../../model/v5/param_log_catboost.json'"
     ]
    }
   ],
   "source": [
    "threshold = trainCatboost(VERSION, train_df, cat_features)"
   ]
  },
  {
   "cell_type": "code",
   "execution_count": null,
   "id": "15771fc1",
   "metadata": {},
   "outputs": [
    {
     "name": "stdout",
     "output_type": "stream",
     "text": [
      "\n",
      "Predictions saved to: ../../prediction/prediction_catboost_v5.csv\n",
      "Training + prediction complete.\n"
     ]
    }
   ],
   "source": [
    "testCatboost(VERSION, test_df, ids, threshold, cat_features)"
   ]
  }
 ],
 "metadata": {
  "kernelspec": {
   "display_name": "Python 3",
   "language": "python",
   "name": "python3"
  },
  "language_info": {
   "codemirror_mode": {
    "name": "ipython",
    "version": 3
   },
   "file_extension": ".py",
   "mimetype": "text/x-python",
   "name": "python",
   "nbconvert_exporter": "python",
   "pygments_lexer": "ipython3",
   "version": "3.13.9"
  }
 },
 "nbformat": 4,
 "nbformat_minor": 5
}
