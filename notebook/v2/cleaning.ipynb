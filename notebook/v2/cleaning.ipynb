{
 "cells": [
  {
   "cell_type": "code",
   "execution_count": 113,
   "id": "b3b86149",
   "metadata": {},
   "outputs": [],
   "source": [
    "from sklearn.model_selection import train_test_split\n",
    "from sklearn.metrics import classification_report\n",
    "import numpy as np\n",
    "import pandas as pd\n",
    "import matplotlib.pyplot as plt\n",
    "from datetime import datetime"
   ]
  },
  {
   "cell_type": "code",
   "execution_count": 114,
   "id": "e8fc7707",
   "metadata": {},
   "outputs": [],
   "source": [
    "import sys\n",
    "import os\n",
    "root_path = os.path.abspath(os.path.join(os.getcwd(), \"../..\"))\n",
    "if root_path not in sys.path:\n",
    "    sys.path.append(root_path)\n",
    "from fileDir import getDataDir\n",
    "from modules.v1.catboostModel import trainCatboost, testCatboost\n",
    "from modules.v1.xgboostModel import trainXgboost, testXgboost"
   ]
  },
  {
   "cell_type": "code",
   "execution_count": 115,
   "id": "a0baa5c7",
   "metadata": {},
   "outputs": [],
   "source": [
    "VERSION = 5\n",
    "TRAIN_PATH = getDataDir(\"train\")\n",
    "TEST_PATH = getDataDir(\"test\")\n",
    "CLEANED_TRAIN_PATH = getDataDir(\"train\", VERSION)\n",
    "CLEANED_TEST_PATH = getDataDir(\"test\", VERSION)"
   ]
  },
  {
   "cell_type": "code",
   "execution_count": 116,
   "id": "6333e406",
   "metadata": {},
   "outputs": [
    {
     "data": {
      "text/plain": [
       "Index(['ID', 'pms_i_ymd', 'Area', 'Province', 'Shop Name', 'gender',\n",
       "       'date_of_birth_week', 'date_of_birth', 'marital_status',\n",
       "       'number_of_children', 'postal_code', 'tel_category',\n",
       "       'number_of_resident', 'living_period_year', 'living_period_month',\n",
       "       'type_of_residence', 'c_postal_code', 'c_business_type',\n",
       "       'c_number_of_employee', 'c_position', 'c_occupation',\n",
       "       'c_employment_status', 'c_monthly_salary', 'c_number_of_working_year',\n",
       "       'c_number_of_working_month', 'c_salary_payment_methods',\n",
       "       'c_date_of_salary_payment', 'media', 'place_for_sending_information',\n",
       "       'r_expected_credit_limit', 'r_propose', 'r_allloan_case',\n",
       "       'r_allloan_amount', 'r_additional_income', 'r_spouse_income',\n",
       "       'r_generalcode1', 'r_generalcode2', 'r_generalcode3', 'r_generalcode4',\n",
       "       'r_generalcode5', 'apply', 'default_12month'],\n",
       "      dtype='object')"
      ]
     },
     "execution_count": 116,
     "metadata": {},
     "output_type": "execute_result"
    }
   ],
   "source": [
    "df = pd.read_csv(TRAIN_PATH)\n",
    "df.columns"
   ]
  },
  {
   "cell_type": "markdown",
   "id": "67a42394",
   "metadata": {},
   "source": [
    "## Clean Datasets"
   ]
  },
  {
   "cell_type": "code",
   "execution_count": 117,
   "id": "35bed8f1",
   "metadata": {},
   "outputs": [],
   "source": [
    "cat_features = [\n",
    "    'gender', 'c_business_type', 'c_position', 'c_occupation',\n",
    "       'c_employment_status', 'c_monthly_salary', 'r_expected_credit_limit',\n",
    "       'r_additional_income', 'r_generalcode3', 'apply',\n",
    "       'age', 'months_at_residence', 'months_at_job', 'total_income'\n",
    "]\n"
   ]
  },
  {
   "cell_type": "code",
   "execution_count": 118,
   "id": "bd44b7b8",
   "metadata": {},
   "outputs": [],
   "source": [
    "def cleanDataset(df, cleanPath):\n",
    "\n",
    "    # %%\n",
    "    import pandas as pd\n",
    "    from sklearn.model_selection import train_test_split\n",
    "    from sklearn.metrics import classification_report\n",
    "    from datetime import datetime\n",
    "\n",
    "    # %%\n",
    "    import sys\n",
    "    import os\n",
    "    root_path = os.path.abspath(os.path.join(os.getcwd(), \"../..\"))\n",
    "    if root_path not in sys.path:\n",
    "        sys.path.append(root_path)\n",
    "    from fileDir import getDataDir, getModelDir, getPredDir\n",
    "\n",
    "    # %%\n",
    "    #df = pd.read_csv(getDataDir(\"train\"))\n",
    "    df.head()\n",
    "\n",
    "    # %%\n",
    "    df[\"pms_i_ymd\"] = pd.to_datetime(df[\"pms_i_ymd\"], errors=\"coerce\")\n",
    "    df[\"date_of_birth\"] = pd.to_datetime(df[\"date_of_birth\"], errors=\"coerce\")\n",
    "\n",
    "    # %%\n",
    "    df[\"age\"] = (((df[\"pms_i_ymd\"] - df[\"date_of_birth\"]).dt.days / 365).astype(int))\n",
    "    df[\"months_at_residence\"] = df[\"living_period_year\"] * 12 + df[\"living_period_month\"]\n",
    "    df[\"months_at_job\"] = df[\"c_number_of_working_year\"] * 12 + df[\"c_number_of_working_month\"]\n",
    "    df[\"total_income\"] = df[\"c_monthly_salary\"] + df[\"r_additional_income\"]\n",
    "    #df[\"debt_to_income_ratio\"] = df[\"r_allloan_amount\"] / (df[\"total_income\"] + 1)\n",
    "    #df[\"loan_burden_per_income\"] = df[\"r_expected_credit_limit\"] / (df[\"total_income\"] + 1)\n",
    "\n",
    "    # %%\n",
    "    df.head()\n",
    "\n",
    "    # %%\n",
    "    df.shape\n",
    "\n",
    "    # %%\n",
    "    df.columns\n",
    "\n",
    "    # %%\n",
    "    df = df.drop(columns=[\"ID\", \"pms_i_ymd\", \"Area\", \"Province\", \"Shop Name\", \"date_of_birth_week\", \"date_of_birth\", \"marital_status\", \"number_of_children\", \"postal_code\", \"tel_category\", \"number_of_resident\", \"living_period_year\", \"living_period_month\", \"c_number_of_working_year\", \"c_postal_code\", \"c_number_of_working_month\", \"c_salary_payment_methods\", \"c_date_of_salary_payment\", \"media\", \"place_for_sending_information\", \"r_propose\", \"r_allloan_case\", \"r_allloan_amount\", \"r_generalcode4\", \"r_generalcode5\"])\n",
    "    df.columns\n",
    "\n",
    "    # %%\n",
    "    df = df.dropna(axis=1, thresh=len(df)*0.6)\n",
    "\n",
    "    df.columns\n",
    "\n",
    "    # %%\n",
    "    df = df.drop(columns=[\"r_spouse_income\", \"c_number_of_employee\", \"type_of_residence\"])\n",
    "    df.columns\n",
    "\n",
    "    # %%\n",
    "    categorical_cols = [\n",
    "        \"gender\", \"c_business_type\", \"c_position\",\n",
    "        \"c_occupation\", \"c_employment_status\",\n",
    "        \"c_employment_status\",\n",
    "        \"r_generalcode3\", \"apply\"\n",
    "    ]\n",
    "\n",
    "    # %%\n",
    "    from sklearn.impute import SimpleImputer\n",
    "\n",
    "    numeric_cols = df.select_dtypes(include=['int64', 'float64']).columns\n",
    "    categorical_cols = df.select_dtypes(include=['object', 'category']).columns\n",
    "\n",
    "    # Create imputers\n",
    "    num_imputer = SimpleImputer(strategy='median')           # for numeric columns\n",
    "    cat_imputer = SimpleImputer(strategy='most_frequent')    # for categorical columns\n",
    "\n",
    "    # Fit and transform\n",
    "    df[numeric_cols] = num_imputer.fit_transform(df[numeric_cols])\n",
    "    df[categorical_cols] = cat_imputer.fit_transform(df[categorical_cols])\n",
    "\n",
    "    # %%\n",
    "    from sklearn.preprocessing import LabelEncoder\n",
    "    df[[\"gender\", \"apply\", \"r_generalcode3\", \"r_additional_income\", \"default_12month\"]] = df[[\"gender\", \"apply\", \"r_generalcode3\", \"r_additional_income\", \"default_12month\"]].apply(LabelEncoder().fit_transform)\n",
    "\n",
    "    # %%\n",
    "    # Loop through each numeric column and remove outliers\n",
    "    numeric_cols = list(numeric_cols)\n",
    "    numeric_cols.remove(\"default_12month\") \n",
    "    for col in numeric_cols:\n",
    "        Q1 = df[col].quantile(0.25)   # 25th percentile\n",
    "        Q3 = df[col].quantile(0.75)   # 75th percentile\n",
    "        IQR = Q3 - Q1                 # Interquartile Range\n",
    "        lower = Q1 - 1.5 * IQR        # Lower bound\n",
    "        upper = Q3 + 1.5 * IQR        # Upper bound\n",
    "\n",
    "        # Keep only the rows within the bounds\n",
    "        df = df[(df[col] >= lower) & (df[col] <= upper)]\n",
    "\n",
    "    # %%\n",
    "    df['c_monthly_salary'] = pd.qcut(df['c_monthly_salary'], q=3, labels=['low', 'medium', 'high'])\n",
    "    df['r_expected_credit_limit'] = pd.qcut(df['r_expected_credit_limit'], q=3, labels=['low', 'medium', 'high'])\n",
    "    df['age'] = pd.qcut(df['age'], q=3, labels=['low', 'medium', 'high'])\n",
    "    df['months_at_residence'] = pd.qcut(df['months_at_residence'], q=3, labels=['low', 'medium', 'high'])\n",
    "    df['months_at_job'] = pd.qcut(df['months_at_job'], q=3, labels=['low', 'medium', 'high'])\n",
    "    df['total_income'] = pd.qcut(df['total_income'], q=3, labels=['low', 'medium', 'high'])\n",
    "\n",
    "    df[[\"c_employment_status\", \"c_occupation\", \"c_position\", \"c_business_type\", \"c_monthly_salary\", \"r_expected_credit_limit\", \"age\", \"months_at_residence\", \"months_at_job\", \"total_income\"]] = df[[\"c_employment_status\", \"c_occupation\", \"c_position\", \"c_business_type\", \"c_monthly_salary\", \"r_expected_credit_limit\", \"age\", \"months_at_residence\", \"months_at_job\", \"total_income\"]].apply(LabelEncoder().fit_transform)\n",
    "\n",
    "    df.head()\n",
    "\n",
    "    # %%\n",
    "    categorical_cols = [\n",
    "        \"c_monthly_salary\", \"r_expected_credit_limit\", \"age\", \"months_at_residence\", \"months_at_job\", \"total_income\"\n",
    "    ]\n",
    "\n",
    "    for col in cat_features:\n",
    "        df[col] = df[col].astype(\"str\")\n",
    "\n",
    "    df.to_csv(cleanPath, index=False)\n",
    "    return df"
   ]
  },
  {
   "cell_type": "code",
   "execution_count": 119,
   "id": "50d5a093",
   "metadata": {},
   "outputs": [],
   "source": [
    "def cleanDataset2(df, cleanPath):\n",
    "\n",
    "    # %%\n",
    "    import pandas as pd\n",
    "    from sklearn.model_selection import train_test_split\n",
    "    from sklearn.metrics import classification_report\n",
    "    from datetime import datetime\n",
    "\n",
    "    # %%\n",
    "    import sys\n",
    "    import os\n",
    "    root_path = os.path.abspath(os.path.join(os.getcwd(), \"../..\"))\n",
    "    if root_path not in sys.path:\n",
    "        sys.path.append(root_path)\n",
    "    from fileDir import getDataDir, getModelDir, getPredDir\n",
    "\n",
    "    # %%\n",
    "    #df = pd.read_csv(getDataDir(\"train\"))\n",
    "    df.head()\n",
    "\n",
    "    # %%\n",
    "    df[\"pms_i_ymd\"] = pd.to_datetime(df[\"pms_i_ymd\"], errors=\"coerce\")\n",
    "    df[\"date_of_birth\"] = pd.to_datetime(df[\"date_of_birth\"], errors=\"coerce\")\n",
    "\n",
    "    # Compute age and fill NaN with mean\n",
    "    df[\"age\"] = ((df[\"pms_i_ymd\"] - df[\"date_of_birth\"]).dt.days / 365)\n",
    "    df[\"age\"].fillna(df[\"age\"].mean(), inplace=True)\n",
    "    df[\"age\"] = df[\"age\"].astype(int)\n",
    "\n",
    "    # %%\n",
    "    #df[\"age\"] = (((df[\"pms_i_ymd\"] - df[\"date_of_birth\"]).dt.days / 365).astype(int))\n",
    "    df[\"months_at_residence\"] = df[\"living_period_year\"] * 12 + df[\"living_period_month\"]\n",
    "    df[\"months_at_job\"] = df[\"c_number_of_working_year\"] * 12 + df[\"c_number_of_working_month\"]\n",
    "    df[\"total_income\"] = df[\"c_monthly_salary\"] + df[\"r_additional_income\"]\n",
    "    #df[\"debt_to_income_ratio\"] = df[\"r_allloan_amount\"] / (df[\"total_income\"] + 1)\n",
    "    #df[\"loan_burden_per_income\"] = df[\"r_expected_credit_limit\"] / (df[\"total_income\"] + 1)\n",
    "\n",
    "    # %%\n",
    "    df.head()\n",
    "\n",
    "    # %%\n",
    "    df.shape\n",
    "\n",
    "    # %%\n",
    "    df.columns\n",
    "\n",
    "    # %%\n",
    "    df = df.drop(columns=[\"ID\", \"pms_i_ymd\", \"Area\", \"Province\", \"Shop Name\", \"date_of_birth_week\", \"date_of_birth\", \"marital_status\", \"number_of_children\", \"postal_code\", \"tel_category\", \"number_of_resident\", \"living_period_year\", \"living_period_month\", \"c_number_of_working_year\", \"c_postal_code\", \"c_number_of_working_month\", \"c_salary_payment_methods\", \"c_date_of_salary_payment\", \"media\", \"place_for_sending_information\", \"r_propose\", \"r_allloan_case\", \"r_allloan_amount\", \"r_generalcode4\", \"r_generalcode5\"])\n",
    "    df.columns\n",
    "\n",
    "    # %%\n",
    "    df = df.dropna(axis=1, thresh=len(df)*0.6)\n",
    "\n",
    "    df.columns\n",
    "\n",
    "    # %%\n",
    "    df = df.drop(columns=[\"r_spouse_income\", \"c_number_of_employee\", \"type_of_residence\"])\n",
    "    df.columns\n",
    "\n",
    "    # %%\n",
    "    categorical_cols = [\n",
    "        \"gender\", \"c_business_type\", \"c_position\",\n",
    "        \"c_occupation\", \"c_employment_status\",\n",
    "        \"c_employment_status\",\n",
    "        \"r_generalcode3\", \"apply\"\n",
    "    ]\n",
    "\n",
    "    # %%\n",
    "    from sklearn.impute import SimpleImputer\n",
    "\n",
    "    numeric_cols = df.select_dtypes(include=['int64', 'float64']).columns\n",
    "    categorical_cols = df.select_dtypes(include=['object', 'category']).columns\n",
    "\n",
    "    # Create imputers\n",
    "    num_imputer = SimpleImputer(strategy='median')           # for numeric columns\n",
    "    cat_imputer = SimpleImputer(strategy='most_frequent')    # for categorical columns\n",
    "\n",
    "    # Fit and transform\n",
    "    df[numeric_cols] = num_imputer.fit_transform(df[numeric_cols])\n",
    "    df[categorical_cols] = cat_imputer.fit_transform(df[categorical_cols])\n",
    "\n",
    "    # %%\n",
    "    from sklearn.preprocessing import LabelEncoder\n",
    "    df[[\"gender\", \"apply\", \"r_generalcode3\", \"r_additional_income\"]] = df[[\"gender\", \"apply\", \"r_generalcode3\", \"r_additional_income\"]].apply(LabelEncoder().fit_transform)\n",
    "\n",
    "    # %%\n",
    "    # Loop through each numeric column and remove outliers\n",
    "    #numeric_cols = list(numeric_cols)\n",
    "    #numeric_cols.remove(\"default_12month\") \n",
    "    #for col in numeric_cols:\n",
    "    #    Q1 = df[col].quantile(0.25)   # 25th percentile\n",
    "    #    Q3 = df[col].quantile(0.75)   # 75th percentile\n",
    "    #    IQR = Q3 - Q1                 # Interquartile Range\n",
    "    #    lower = Q1 - 1.5 * IQR        # Lower bound\n",
    "    #    upper = Q3 + 1.5 * IQR        # Upper bound\n",
    "\n",
    "        # Keep only the rows within the bounds\n",
    "    #    df = df[(df[col] >= lower) & (df[col] <= upper)]\n",
    "\n",
    "    # %%\n",
    "    df['c_monthly_salary'] = pd.qcut(df['c_monthly_salary'], q=3, labels=['low', 'medium', 'high'])\n",
    "    df['r_expected_credit_limit'] = pd.qcut(df['r_expected_credit_limit'], q=3, labels=['low', 'medium', 'high'])\n",
    "    df['age'] = pd.qcut(df['age'], q=3, labels=['low', 'medium', 'high'])\n",
    "    df['months_at_residence'] = pd.qcut(df['months_at_residence'], q=3, labels=['low', 'medium', 'high'])\n",
    "    df['months_at_job'] = pd.qcut(df['months_at_job'], q=3, labels=['low', 'medium', 'high'])\n",
    "    df['total_income'] = pd.qcut(df['total_income'], q=3, labels=['low', 'medium', 'high'])\n",
    "\n",
    "    df[[\"c_employment_status\", \"c_occupation\", \"c_position\", \"c_business_type\", \"c_monthly_salary\", \"r_expected_credit_limit\", \"age\", \"months_at_residence\", \"months_at_job\", \"total_income\"]] = df[[\"c_employment_status\", \"c_occupation\", \"c_position\", \"c_business_type\", \"c_monthly_salary\", \"r_expected_credit_limit\", \"age\", \"months_at_residence\", \"months_at_job\", \"total_income\"]].apply(LabelEncoder().fit_transform)\n",
    "\n",
    "    df.head()\n",
    "\n",
    "    # %%\n",
    "    categorical_cols = [\n",
    "        \"c_monthly_salary\", \"r_expected_credit_limit\", \"age\", \"months_at_residence\", \"months_at_job\", \"total_income\"\n",
    "    ]\n",
    "\n",
    "    for col in cat_features:\n",
    "        df[col] = df[col].astype(\"str\")\n",
    "\n",
    "    df.to_csv(cleanPath, index=False)\n",
    "    return df"
   ]
  },
  {
   "cell_type": "code",
   "execution_count": 120,
   "id": "6ec86cd9",
   "metadata": {},
   "outputs": [
    {
     "name": "stderr",
     "output_type": "stream",
     "text": [
      "C:\\Users\\chins\\AppData\\Local\\Temp\\ipykernel_1388\\3359359648.py:27: FutureWarning: A value is trying to be set on a copy of a DataFrame or Series through chained assignment using an inplace method.\n",
      "The behavior will change in pandas 3.0. This inplace method will never work because the intermediate object on which we are setting values always behaves as a copy.\n",
      "\n",
      "For example, when doing 'df[col].method(value, inplace=True)', try using 'df.method({col: value}, inplace=True)' or df[col] = df[col].method(value) instead, to perform the operation inplace on the original object.\n",
      "\n",
      "\n",
      "  df[\"age\"].fillna(df[\"age\"].mean(), inplace=True)\n"
     ]
    }
   ],
   "source": [
    "train_df = pd.read_csv(TRAIN_PATH)\n",
    "test_df = pd.read_csv(TEST_PATH)\n",
    "ids = test_df[\"ID\"].copy()\n",
    "\n",
    "train_df = cleanDataset(train_df, CLEANED_TRAIN_PATH)\n",
    "test_df = cleanDataset2(test_df, CLEANED_TEST_PATH)"
   ]
  },
  {
   "cell_type": "code",
   "execution_count": 121,
   "id": "3344e6bb",
   "metadata": {},
   "outputs": [
    {
     "data": {
      "text/plain": [
       "Index(['gender', 'c_business_type', 'c_position', 'c_occupation',\n",
       "       'c_employment_status', 'c_monthly_salary', 'r_expected_credit_limit',\n",
       "       'r_additional_income', 'r_generalcode3', 'apply', 'default_12month',\n",
       "       'age', 'months_at_residence', 'months_at_job', 'total_income'],\n",
       "      dtype='object')"
      ]
     },
     "execution_count": 121,
     "metadata": {},
     "output_type": "execute_result"
    }
   ],
   "source": [
    "train_df.columns"
   ]
  },
  {
   "cell_type": "code",
   "execution_count": 122,
   "id": "86557c65",
   "metadata": {},
   "outputs": [
    {
     "data": {
      "text/plain": [
       "(8619, 14)"
      ]
     },
     "execution_count": 122,
     "metadata": {},
     "output_type": "execute_result"
    }
   ],
   "source": [
    "test_df.shape"
   ]
  },
  {
   "cell_type": "markdown",
   "id": "21cb3566",
   "metadata": {},
   "source": [
    "## Testing"
   ]
  },
  {
   "cell_type": "code",
   "execution_count": 123,
   "id": "0b7725d1",
   "metadata": {},
   "outputs": [
    {
     "name": "stderr",
     "output_type": "stream",
     "text": [
      "[I 2025-11-01 01:34:32,183] A new study created in memory with name: no-name-e2cc5c18-caec-4218-ad2a-63eeca3d1ff0\n"
     ]
    },
    {
     "name": "stdout",
     "output_type": "stream",
     "text": [
      "GPU detected -> using CatBoost GPU training.\n",
      "Running hyperparameter tuning with Optuna...\n"
     ]
    },
    {
     "data": {
      "application/vnd.jupyter.widget-view+json": {
       "model_id": "c72946ef88544ad79a5c0fa4739c1a48",
       "version_major": 2,
       "version_minor": 0
      },
      "text/plain": [
       "  0%|          | 0/10 [00:00<?, ?it/s]"
      ]
     },
     "metadata": {},
     "output_type": "display_data"
    },
    {
     "name": "stderr",
     "output_type": "stream",
     "text": [
      "Change of simpleCtr will not affect combinations ctrs.\n",
      "Change of simpleCtr will not affect combinations ctrs.\n",
      "Change of simpleCtr will not affect combinations ctrs.\n",
      "Change of simpleCtr will not affect combinations ctrs.\n",
      "Change of simpleCtr will not affect combinations ctrs.\n",
      "Change of simpleCtr will not affect combinations ctrs.\n",
      "Change of simpleCtr will not affect combinations ctrs.\n",
      "Change of simpleCtr will not affect combinations ctrs.\n",
      "Change of simpleCtr will not affect combinations ctrs.\n",
      "Change of simpleCtr will not affect combinations ctrs.\n",
      "Change of simpleCtr will not affect combinations ctrs.\n",
      "Change of simpleCtr will not affect combinations ctrs.\n"
     ]
    },
    {
     "name": "stdout",
     "output_type": "stream",
     "text": [
      "[I 2025-11-01 01:34:37,388] Trial 0 finished with value: 0.5428302738189434 and parameters: {'bagging_temperature': 0.4525298972747116, 'iterations': 786, 'simple_ctr': 'Buckets', 'depth': 5, 'learning_rate': 0.03860553079921787, 'l2_leaf_reg': 5.285096913092954, 'random_strength': 2.567186448492727, 'grow_policy': 'Lossguide', 'leaf_estimation_iterations': 2, 'leaf_estimation_method': 'Gradient', 'one_hot_max_size': 9, 'max_ctr_complexity': 3, 'auto_class_weights': 'Balanced', 'od_type': 'IncToDec', 'od_wait': 48}. Best is trial 0 with value: 0.5428302738189434.\n"
     ]
    },
    {
     "name": "stderr",
     "output_type": "stream",
     "text": [
      "Change of simpleCtr will not affect combinations ctrs.\n",
      "Change of simpleCtr will not affect combinations ctrs.\n",
      "Change of simpleCtr will not affect combinations ctrs.\n",
      "Change of simpleCtr will not affect combinations ctrs.\n",
      "Change of simpleCtr will not affect combinations ctrs.\n",
      "Change of simpleCtr will not affect combinations ctrs.\n",
      "Change of simpleCtr will not affect combinations ctrs.\n",
      "Change of simpleCtr will not affect combinations ctrs.\n",
      "Change of simpleCtr will not affect combinations ctrs.\n",
      "Change of simpleCtr will not affect combinations ctrs.\n",
      "Change of simpleCtr will not affect combinations ctrs.\n",
      "Change of simpleCtr will not affect combinations ctrs.\n"
     ]
    },
    {
     "name": "stdout",
     "output_type": "stream",
     "text": [
      "[I 2025-11-01 01:34:55,026] Trial 1 finished with value: 0.5651120763864559 and parameters: {'bagging_temperature': 0.5435287464098958, 'iterations': 792, 'simple_ctr': 'Buckets', 'depth': 5, 'learning_rate': 0.07383500613642323, 'l2_leaf_reg': 3.980181043132135, 'random_strength': 0.9599984961373049, 'grow_policy': 'SymmetricTree', 'leaf_estimation_iterations': 4, 'leaf_estimation_method': 'Gradient', 'one_hot_max_size': 10, 'max_ctr_complexity': 3, 'auto_class_weights': None, 'od_type': 'IncToDec', 'od_wait': 56}. Best is trial 1 with value: 0.5651120763864559.\n"
     ]
    },
    {
     "name": "stderr",
     "output_type": "stream",
     "text": [
      "Change of simpleCtr will not affect combinations ctrs.\n",
      "Change of simpleCtr will not affect combinations ctrs.\n",
      "Change of simpleCtr will not affect combinations ctrs.\n",
      "Change of simpleCtr will not affect combinations ctrs.\n",
      "Change of simpleCtr will not affect combinations ctrs.\n",
      "Change of simpleCtr will not affect combinations ctrs.\n",
      "Change of simpleCtr will not affect combinations ctrs.\n",
      "Change of simpleCtr will not affect combinations ctrs.\n",
      "Change of simpleCtr will not affect combinations ctrs.\n",
      "Change of simpleCtr will not affect combinations ctrs.\n",
      "Change of simpleCtr will not affect combinations ctrs.\n",
      "Change of simpleCtr will not affect combinations ctrs.\n"
     ]
    },
    {
     "name": "stdout",
     "output_type": "stream",
     "text": [
      "[I 2025-11-01 01:35:03,985] Trial 2 finished with value: 0.5453351645772807 and parameters: {'bagging_temperature': 0.8012277434111841, 'iterations': 579, 'simple_ctr': 'Buckets', 'depth': 6, 'learning_rate': 0.014340386870869515, 'l2_leaf_reg': 0.05523783439324127, 'random_strength': 1.887797192700648, 'grow_policy': 'Lossguide', 'leaf_estimation_iterations': 5, 'leaf_estimation_method': 'Newton', 'one_hot_max_size': 10, 'max_ctr_complexity': 2, 'auto_class_weights': None, 'od_type': 'IncToDec', 'od_wait': 32}. Best is trial 1 with value: 0.5651120763864559.\n"
     ]
    },
    {
     "name": "stderr",
     "output_type": "stream",
     "text": [
      "Change of simpleCtr will not affect combinations ctrs.\n",
      "Change of simpleCtr will not affect combinations ctrs.\n",
      "Change of simpleCtr will not affect combinations ctrs.\n",
      "Change of simpleCtr will not affect combinations ctrs.\n",
      "Change of simpleCtr will not affect combinations ctrs.\n",
      "Change of simpleCtr will not affect combinations ctrs.\n",
      "Change of simpleCtr will not affect combinations ctrs.\n",
      "Change of simpleCtr will not affect combinations ctrs.\n",
      "Change of simpleCtr will not affect combinations ctrs.\n",
      "Change of simpleCtr will not affect combinations ctrs.\n",
      "Change of simpleCtr will not affect combinations ctrs.\n",
      "Change of simpleCtr will not affect combinations ctrs.\n"
     ]
    },
    {
     "name": "stdout",
     "output_type": "stream",
     "text": [
      "[I 2025-11-01 01:35:34,222] Trial 3 finished with value: 0.5642740761254346 and parameters: {'bagging_temperature': 0.6231602968954744, 'iterations': 814, 'simple_ctr': 'Borders', 'depth': 6, 'learning_rate': 0.029719966770933692, 'l2_leaf_reg': 0.17934587034429433, 'random_strength': 2.4136804027285184, 'grow_policy': 'SymmetricTree', 'leaf_estimation_iterations': 4, 'leaf_estimation_method': 'Newton', 'one_hot_max_size': 5, 'max_ctr_complexity': 3, 'auto_class_weights': None, 'od_type': 'IncToDec', 'od_wait': 64}. Best is trial 1 with value: 0.5651120763864559.\n"
     ]
    },
    {
     "name": "stderr",
     "output_type": "stream",
     "text": [
      "Change of simpleCtr will not affect combinations ctrs.\n",
      "Change of simpleCtr will not affect combinations ctrs.\n",
      "Change of simpleCtr will not affect combinations ctrs.\n",
      "Change of simpleCtr will not affect combinations ctrs.\n",
      "Change of simpleCtr will not affect combinations ctrs.\n",
      "Change of simpleCtr will not affect combinations ctrs.\n",
      "Change of simpleCtr will not affect combinations ctrs.\n",
      "Change of simpleCtr will not affect combinations ctrs.\n",
      "Change of simpleCtr will not affect combinations ctrs.\n",
      "Change of simpleCtr will not affect combinations ctrs.\n",
      "Change of simpleCtr will not affect combinations ctrs.\n",
      "Change of simpleCtr will not affect combinations ctrs.\n"
     ]
    },
    {
     "name": "stdout",
     "output_type": "stream",
     "text": [
      "[I 2025-11-01 01:35:48,628] Trial 4 finished with value: 0.5504475964370071 and parameters: {'bagging_temperature': 0.724826003381539, 'iterations': 977, 'simple_ctr': 'Buckets', 'depth': 8, 'learning_rate': 0.062085304467391876, 'l2_leaf_reg': 0.10252394122703197, 'random_strength': 1.2873984456705172, 'grow_policy': 'Lossguide', 'leaf_estimation_iterations': 5, 'leaf_estimation_method': 'Newton', 'one_hot_max_size': 4, 'max_ctr_complexity': 1, 'auto_class_weights': None, 'od_type': 'IncToDec', 'od_wait': 82}. Best is trial 1 with value: 0.5651120763864559.\n"
     ]
    },
    {
     "name": "stderr",
     "output_type": "stream",
     "text": [
      "Change of simpleCtr will not affect combinations ctrs.\n",
      "Change of simpleCtr will not affect combinations ctrs.\n",
      "Change of simpleCtr will not affect combinations ctrs.\n",
      "Change of simpleCtr will not affect combinations ctrs.\n",
      "Change of simpleCtr will not affect combinations ctrs.\n",
      "Change of simpleCtr will not affect combinations ctrs.\n",
      "Change of simpleCtr will not affect combinations ctrs.\n",
      "Change of simpleCtr will not affect combinations ctrs.\n",
      "Change of simpleCtr will not affect combinations ctrs.\n",
      "Change of simpleCtr will not affect combinations ctrs.\n",
      "Change of simpleCtr will not affect combinations ctrs.\n",
      "Change of simpleCtr will not affect combinations ctrs.\n"
     ]
    },
    {
     "name": "stdout",
     "output_type": "stream",
     "text": [
      "[I 2025-11-01 01:36:07,764] Trial 5 finished with value: 0.5640866283911601 and parameters: {'bagging_temperature': 0.3563111888883721, 'iterations': 851, 'simple_ctr': 'Buckets', 'depth': 6, 'learning_rate': 0.016746594138907764, 'l2_leaf_reg': 0.011558829187935077, 'random_strength': 2.145716604830029, 'grow_policy': 'SymmetricTree', 'leaf_estimation_iterations': 5, 'leaf_estimation_method': 'Newton', 'one_hot_max_size': 9, 'max_ctr_complexity': 1, 'auto_class_weights': None, 'od_type': 'IncToDec', 'od_wait': 47}. Best is trial 1 with value: 0.5651120763864559.\n"
     ]
    },
    {
     "name": "stderr",
     "output_type": "stream",
     "text": [
      "Change of simpleCtr will not affect combinations ctrs.\n",
      "Change of simpleCtr will not affect combinations ctrs.\n",
      "Change of simpleCtr will not affect combinations ctrs.\n",
      "Change of simpleCtr will not affect combinations ctrs.\n",
      "Change of simpleCtr will not affect combinations ctrs.\n",
      "Change of simpleCtr will not affect combinations ctrs.\n",
      "Change of simpleCtr will not affect combinations ctrs.\n",
      "Change of simpleCtr will not affect combinations ctrs.\n",
      "Change of simpleCtr will not affect combinations ctrs.\n",
      "Change of simpleCtr will not affect combinations ctrs.\n",
      "Change of simpleCtr will not affect combinations ctrs.\n",
      "Change of simpleCtr will not affect combinations ctrs.\n"
     ]
    },
    {
     "name": "stdout",
     "output_type": "stream",
     "text": [
      "[I 2025-11-01 01:36:13,498] Trial 6 finished with value: 0.5580322860205885 and parameters: {'bagging_temperature': 0.317547599892267, 'iterations': 871, 'simple_ctr': 'Buckets', 'depth': 4, 'learning_rate': 0.06407385406515846, 'l2_leaf_reg': 0.024455114923640067, 'random_strength': 0.1568023769042231, 'grow_policy': 'SymmetricTree', 'leaf_estimation_iterations': 1, 'leaf_estimation_method': 'Newton', 'one_hot_max_size': 8, 'max_ctr_complexity': 3, 'auto_class_weights': 'Balanced', 'od_type': 'IncToDec', 'od_wait': 51}. Best is trial 1 with value: 0.5651120763864559.\n"
     ]
    },
    {
     "name": "stderr",
     "output_type": "stream",
     "text": [
      "Change of simpleCtr will not affect combinations ctrs.\n",
      "Change of simpleCtr will not affect combinations ctrs.\n",
      "Change of simpleCtr will not affect combinations ctrs.\n",
      "Change of simpleCtr will not affect combinations ctrs.\n",
      "Change of simpleCtr will not affect combinations ctrs.\n",
      "Change of simpleCtr will not affect combinations ctrs.\n",
      "Change of simpleCtr will not affect combinations ctrs.\n",
      "Change of simpleCtr will not affect combinations ctrs.\n",
      "Change of simpleCtr will not affect combinations ctrs.\n",
      "Change of simpleCtr will not affect combinations ctrs.\n",
      "Change of simpleCtr will not affect combinations ctrs.\n",
      "Change of simpleCtr will not affect combinations ctrs.\n"
     ]
    },
    {
     "name": "stdout",
     "output_type": "stream",
     "text": [
      "[I 2025-11-01 01:36:16,611] Trial 7 finished with value: 0.5584569598797594 and parameters: {'bagging_temperature': 0.7341312419346472, 'iterations': 491, 'simple_ctr': 'Buckets', 'depth': 3, 'learning_rate': 0.09846552072632485, 'l2_leaf_reg': 0.5512864996804028, 'random_strength': 0.19327646527176276, 'grow_policy': 'Lossguide', 'leaf_estimation_iterations': 2, 'leaf_estimation_method': 'Newton', 'one_hot_max_size': 8, 'max_ctr_complexity': 1, 'auto_class_weights': None, 'od_type': 'IncToDec', 'od_wait': 58}. Best is trial 1 with value: 0.5651120763864559.\n"
     ]
    },
    {
     "name": "stderr",
     "output_type": "stream",
     "text": [
      "Change of simpleCtr will not affect combinations ctrs.\n",
      "Change of simpleCtr will not affect combinations ctrs.\n",
      "Change of simpleCtr will not affect combinations ctrs.\n",
      "Change of simpleCtr will not affect combinations ctrs.\n",
      "Change of simpleCtr will not affect combinations ctrs.\n",
      "Change of simpleCtr will not affect combinations ctrs.\n",
      "Change of simpleCtr will not affect combinations ctrs.\n",
      "Change of simpleCtr will not affect combinations ctrs.\n",
      "Change of simpleCtr will not affect combinations ctrs.\n",
      "Change of simpleCtr will not affect combinations ctrs.\n",
      "Change of simpleCtr will not affect combinations ctrs.\n",
      "Change of simpleCtr will not affect combinations ctrs.\n"
     ]
    },
    {
     "name": "stdout",
     "output_type": "stream",
     "text": [
      "[I 2025-11-01 01:36:24,024] Trial 8 finished with value: 0.5579781030174743 and parameters: {'bagging_temperature': 0.08392689965806921, 'iterations': 717, 'simple_ctr': 'Borders', 'depth': 5, 'learning_rate': 0.023168656134770756, 'l2_leaf_reg': 4.896160349094909, 'random_strength': 0.16889133196016365, 'grow_policy': 'SymmetricTree', 'leaf_estimation_iterations': 4, 'leaf_estimation_method': 'Newton', 'one_hot_max_size': 8, 'max_ctr_complexity': 1, 'auto_class_weights': 'Balanced', 'od_type': 'IncToDec', 'od_wait': 80}. Best is trial 1 with value: 0.5651120763864559.\n"
     ]
    },
    {
     "name": "stderr",
     "output_type": "stream",
     "text": [
      "Change of simpleCtr will not affect combinations ctrs.\n",
      "Change of simpleCtr will not affect combinations ctrs.\n",
      "Change of simpleCtr will not affect combinations ctrs.\n",
      "Change of simpleCtr will not affect combinations ctrs.\n",
      "Change of simpleCtr will not affect combinations ctrs.\n",
      "Change of simpleCtr will not affect combinations ctrs.\n",
      "Change of simpleCtr will not affect combinations ctrs.\n",
      "Change of simpleCtr will not affect combinations ctrs.\n",
      "Change of simpleCtr will not affect combinations ctrs.\n",
      "Change of simpleCtr will not affect combinations ctrs.\n",
      "Change of simpleCtr will not affect combinations ctrs.\n",
      "Change of simpleCtr will not affect combinations ctrs.\n"
     ]
    },
    {
     "name": "stdout",
     "output_type": "stream",
     "text": [
      "[I 2025-11-01 01:36:29,867] Trial 9 finished with value: 0.5510036040069393 and parameters: {'bagging_temperature': 0.99676429407285, 'iterations': 564, 'simple_ctr': 'Buckets', 'depth': 8, 'learning_rate': 0.09407543948053992, 'l2_leaf_reg': 2.314742661898409, 'random_strength': 0.7792307662391913, 'grow_policy': 'Lossguide', 'leaf_estimation_iterations': 5, 'leaf_estimation_method': 'Gradient', 'one_hot_max_size': 4, 'max_ctr_complexity': 1, 'auto_class_weights': None, 'od_type': 'IncToDec', 'od_wait': 34}. Best is trial 1 with value: 0.5651120763864559.\n",
      "\n",
      "Best Parameters Found: {'bagging_temperature': 0.5435287464098958, 'iterations': 792, 'simple_ctr': 'Buckets', 'depth': 5, 'learning_rate': 0.07383500613642323, 'l2_leaf_reg': 3.980181043132135, 'random_strength': 0.9599984961373049, 'grow_policy': 'SymmetricTree', 'leaf_estimation_iterations': 4, 'leaf_estimation_method': 'Gradient', 'one_hot_max_size': 10, 'max_ctr_complexity': 3, 'auto_class_weights': None, 'od_type': 'IncToDec', 'od_wait': 56}\n",
      "Logged best parameters to ../../model/v5/param_log_catboost.json.json\n"
     ]
    },
    {
     "name": "stderr",
     "output_type": "stream",
     "text": [
      "Change of simpleCtr will not affect combinations ctrs.\n",
      "Change of simpleCtr will not affect combinations ctrs.\n",
      "Exception in thread Thread-8 (start):\n",
      "Traceback (most recent call last):\n",
      "  File \u001b[35m\"c:\\Users\\chins\\AppData\\Local\\Programs\\Python\\Python313\\Lib\\threading.py\"\u001b[0m, line \u001b[35m1043\u001b[0m, in \u001b[35m_bootstrap_inner\u001b[0m\n",
      "    \u001b[31mself.run\u001b[0m\u001b[1;31m()\u001b[0m\n",
      "    \u001b[31m~~~~~~~~\u001b[0m\u001b[1;31m^^\u001b[0m\n",
      "  File \u001b[35m\"C:\\Users\\chins\\AppData\\Roaming\\Python\\Python313\\site-packages\\ipykernel\\ipkernel.py\"\u001b[0m, line \u001b[35m788\u001b[0m, in \u001b[35mrun_closure\u001b[0m\n",
      "    \u001b[31m_threading_Thread_run\u001b[0m\u001b[1;31m(self)\u001b[0m\n",
      "    \u001b[31m~~~~~~~~~~~~~~~~~~~~~\u001b[0m\u001b[1;31m^^^^^^\u001b[0m\n",
      "  File \u001b[35m\"c:\\Users\\chins\\AppData\\Local\\Programs\\Python\\Python313\\Lib\\threading.py\"\u001b[0m, line \u001b[35m994\u001b[0m, in \u001b[35mrun\u001b[0m\n",
      "    \u001b[31mself._target\u001b[0m\u001b[1;31m(*self._args, **self._kwargs)\u001b[0m\n",
      "    \u001b[31m~~~~~~~~~~~~\u001b[0m\u001b[1;31m^^^^^^^^^^^^^^^^^^^^^^^^^^^^^\u001b[0m\n",
      "  File \u001b[35m\"c:\\Users\\chins\\AppData\\Local\\Programs\\Python\\Python313\\Lib\\site-packages\\catboost\\widget\\ipythonwidget.py\"\u001b[0m, line \u001b[35m44\u001b[0m, in \u001b[35mstart\u001b[0m\n",
      "    \u001b[31mdisplay\u001b[0m\u001b[1;31m(self)\u001b[0m\n",
      "    \u001b[31m~~~~~~~\u001b[0m\u001b[1;31m^^^^^^\u001b[0m\n",
      "  File \u001b[35m\"C:\\Users\\chins\\AppData\\Roaming\\Python\\Python313\\site-packages\\IPython\\core\\display_functions.py\"\u001b[0m, line \u001b[35m285\u001b[0m, in \u001b[35mdisplay\u001b[0m\n",
      "    \u001b[31mpublish_display_data\u001b[0m\u001b[1;31m(data=format_dict, metadata=md_dict, **kwargs)\u001b[0m\n",
      "    \u001b[31m~~~~~~~~~~~~~~~~~~~~\u001b[0m\u001b[1;31m^^^^^^^^^^^^^^^^^^^^^^^^^^^^^^^^^^^^^^^^^^^^^^\u001b[0m\n",
      "  File \u001b[35m\"C:\\Users\\chins\\AppData\\Roaming\\Python\\Python313\\site-packages\\IPython\\core\\display_functions.py\"\u001b[0m, line \u001b[35m73\u001b[0m, in \u001b[35mpublish_display_data\u001b[0m\n",
      "    \u001b[31mdisplay_pub.publish\u001b[0m\u001b[1;31m(\u001b[0m\n",
      "    \u001b[31m~~~~~~~~~~~~~~~~~~~\u001b[0m\u001b[1;31m^\u001b[0m\n",
      "        \u001b[1;31mdata=data,\u001b[0m\n",
      "        \u001b[1;31m^^^^^^^^^^\u001b[0m\n",
      "        \u001b[1;31mmetadata=metadata,\u001b[0m\n",
      "        \u001b[1;31m^^^^^^^^^^^^^^^^^^\u001b[0m\n",
      "        \u001b[1;31m**kwargs\u001b[0m\n",
      "        \u001b[1;31m^^^^^^^^\u001b[0m\n",
      "    \u001b[1;31m)\u001b[0m\n",
      "    \u001b[1;31m^\u001b[0m\n",
      "  File \u001b[35m\"C:\\Users\\chins\\AppData\\Roaming\\Python\\Python313\\site-packages\\ipykernel\\zmqshell.py\"\u001b[0m, line \u001b[35m135\u001b[0m, in \u001b[35mpublish\u001b[0m\n",
      "    msg = self.session.msg(msg_type, json_clean(content), parent=\u001b[1;31mself.parent_header\u001b[0m)\n",
      "                                                                 \u001b[1;31m^^^^^^^^^^^^^^^^^^\u001b[0m\n",
      "  File \u001b[35m\"C:\\Users\\chins\\AppData\\Roaming\\Python\\Python313\\site-packages\\ipykernel\\zmqshell.py\"\u001b[0m, line \u001b[35m69\u001b[0m, in \u001b[35mparent_header\u001b[0m\n",
      "    return \u001b[31mself._parent_header.get\u001b[0m\u001b[1;31m()\u001b[0m\n",
      "           \u001b[31m~~~~~~~~~~~~~~~~~~~~~~~\u001b[0m\u001b[1;31m^^\u001b[0m\n",
      "\u001b[1;35mLookupError\u001b[0m: \u001b[35m<ContextVar name='parent_header' at 0x0000028FF8605620>\u001b[0m\n",
      "Change of simpleCtr will not affect combinations ctrs.\n",
      "Change of simpleCtr will not affect combinations ctrs.\n",
      "Default metric period is 5 because AUC is/are not implemented for GPU\n"
     ]
    },
    {
     "name": "stdout",
     "output_type": "stream",
     "text": [
      "0:\ttest: 0.5303386\tbest: 0.5303386 (0)\ttotal: 21.7ms\tremaining: 17.1s\n",
      "200:\ttest: 0.5635578\tbest: 0.5640232 (165)\ttotal: 2.74s\tremaining: 8.07s\n",
      "400:\ttest: 0.5658157\tbest: 0.5658157 (400)\ttotal: 5.45s\tremaining: 5.32s\n",
      "600:\ttest: 0.5656327\tbest: 0.5662449 (425)\ttotal: 8.21s\tremaining: 2.61s\n",
      "791:\ttest: 0.5657886\tbest: 0.5662449 (425)\ttotal: 10.8s\tremaining: 0us\n",
      "bestTest = 0.5662449002\n",
      "bestIteration = 425\n",
      "Shrink model to first 426 iterations.\n",
      "\n",
      "Optimal Threshold: 0.128\n",
      "\n",
      "Confusion Matrix:\n",
      " [[ 707 1476]\n",
      " [  89  284]]\n",
      "\n",
      "Classification Report:\n",
      "               precision    recall  f1-score   support\n",
      "\n",
      "           0       0.89      0.32      0.47      2183\n",
      "           1       0.16      0.76      0.27       373\n",
      "\n",
      "    accuracy                           0.39      2556\n",
      "   macro avg       0.52      0.54      0.37      2556\n",
      "weighted avg       0.78      0.39      0.44      2556\n",
      "\n",
      "ROC-AUC Score: 0.5662332255461715\n",
      "\n",
      "CatBoost model training complete and saved!\n"
     ]
    }
   ],
   "source": [
    "threshold = trainCatboost(VERSION, train_df)"
   ]
  },
  {
   "cell_type": "code",
   "execution_count": 124,
   "id": "6a42dbaa",
   "metadata": {},
   "outputs": [
    {
     "name": "stdout",
     "output_type": "stream",
     "text": [
      "\n",
      "Predictions saved to: ../../prediction/prediction_catboost_v5.csv\n",
      "Training + prediction complete.\n"
     ]
    }
   ],
   "source": [
    "testCatboost(VERSION, test_df, ids, threshold)"
   ]
  }
 ],
 "metadata": {
  "kernelspec": {
   "display_name": "Python 3",
   "language": "python",
   "name": "python3"
  },
  "language_info": {
   "codemirror_mode": {
    "name": "ipython",
    "version": 3
   },
   "file_extension": ".py",
   "mimetype": "text/x-python",
   "name": "python",
   "nbconvert_exporter": "python",
   "pygments_lexer": "ipython3",
   "version": "3.13.9"
  }
 },
 "nbformat": 4,
 "nbformat_minor": 5
}
