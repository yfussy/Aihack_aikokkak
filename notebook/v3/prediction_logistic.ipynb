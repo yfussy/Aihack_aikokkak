{
 "cells": [
  {
   "cell_type": "markdown",
   "id": "4a27034b",
   "metadata": {},
   "source": [
    "# Testing"
   ]
  },
  {
   "cell_type": "code",
   "execution_count": null,
   "id": "0c89891f",
   "metadata": {},
   "outputs": [],
   "source": [
    "import pandas as pd\n",
    "import numpy as np\n",
    "import joblib\n",
    "from sklearn.linear_model import LogisticRegression"
   ]
  },
  {
   "cell_type": "code",
   "execution_count": 18,
   "id": "a44efe73",
   "metadata": {},
   "outputs": [],
   "source": [
    "import sys\n",
    "import os\n",
    "root_path = os.path.abspath(os.path.join(os.getcwd(), \"../..\"))\n",
    "if root_path not in sys.path:\n",
    "    sys.path.append(root_path)\n",
    "from fileDir import getDataDir, getModelDir, getPredDir"
   ]
  },
  {
   "cell_type": "code",
   "execution_count": null,
   "id": "bdce773f",
   "metadata": {},
   "outputs": [],
   "source": [
    "TEST_PATH = getDataDir(\"test\")\n",
    "LOGISTIC_MODEL_PATH = getModelDir(\"model_logistic\", 1, True)\n",
    "LOGISTIC_SCALER_PATH = getModelDir(\"scaler_model_logistic\", 1, True)\n",
    "LOGISTIC_FEATURES_PATH = getModelDir(\"train_features_model_logistic\", 1, True)\n",
    "\n",
    "LOGISTIC_PRED_PATH = getPredDir(1, \"prediction_logistic\")"
   ]
  },
  {
   "cell_type": "markdown",
   "id": "42c72b71",
   "metadata": {},
   "source": [
    "Load Models and Test"
   ]
  },
  {
   "cell_type": "code",
   "execution_count": null,
   "id": "ece6a675",
   "metadata": {},
   "outputs": [],
   "source": [
    "logistic_model: LogisticRegression = joblib.load(LOGISTIC_MODEL_PATH)\n",
    "logistic_scaler = joblib.load(LOGISTIC_SCALER_PATH)\n",
    "logistic_train_features = joblib.load(LOGISTIC_FEATURES_PATH)\n",
    "\n",
    "df = pd.read_csv(TEST_PATH)\n",
    "\n",
    "ids = df[\"ID\"]"
   ]
  },
  {
   "cell_type": "markdown",
   "id": "ba51ab2e",
   "metadata": {},
   "source": [
    "Prepare Test"
   ]
  },
  {
   "cell_type": "code",
   "execution_count": null,
   "id": "88a3ee92",
   "metadata": {},
   "outputs": [],
   "source": [
    "#Drop Columns\n",
    "drop_cols = ['ID','pms_i_ymd','Area','Province','Shop Name','date_of_birth_week','c_postal_code','c_date_of_salary_payment','media','place_for_sending_information','r_generalcode4']\n",
    "df = df.drop(columns=drop_cols, errors=\"ignore\")\n",
    "\n",
    "#year to month\n",
    "df['living_period_month'] = df['living_period_month'] + df['living_period_year']*12\n",
    "df['c_number_of_working_month'] = df['c_number_of_working_month'] + df['c_number_of_working_year']*12\n",
    "\n",
    "df = df.drop(columns = ['living_period_year','c_number_of_working_year'])\n",
    "\n",
    "df['date_of_birth'] = pd.to_datetime(df['date_of_birth'], errors='coerce')\n",
    "df['birth_year'] = df['date_of_birth'].dt.year\n",
    "df.drop(columns=['date_of_birth'], inplace=True)\n",
    "df['age'] = 2025 - df['birth_year']  # replace 2025 with current year or dataset year\n",
    "df.drop(columns=['birth_year'], inplace=True)\n",
    "\n",
    "#Numeric\n",
    "num_cols = ['number_of_children','number_of_resident',\n",
    "       'living_period_month','c_number_of_employee','c_monthly_salary',\n",
    "       'c_number_of_working_month','r_expected_credit_limit', 'r_allloan_case',\n",
    "       'r_allloan_amount', 'r_additional_income', 'r_spouse_income','age']\n",
    "df[num_cols] = df[num_cols].fillna(df[num_cols].median())\n",
    "\n",
    "#Categorical\n",
    "cols = ['gender', 'marital_status','postal_code', 'tel_category','type_of_residence',\n",
    "       'c_business_type','c_position', 'c_occupation',\n",
    "       'c_employment_status','c_salary_payment_methods','r_propose','r_generalcode1', 'r_generalcode2', 'r_generalcode3','r_generalcode5','apply']\n",
    "df[cols] = df[cols].fillna('Unknown')\n",
    "\n",
    "\n",
    "logistic_train_df = df"
   ]
  },
  {
   "cell_type": "code",
   "execution_count": null,
   "id": "0018840c",
   "metadata": {},
   "outputs": [],
   "source": [
    "# Allign Features\n",
    "logistic_train_df = pd.get_dummies(logistic_train_df, drop_first=True)\n",
    "\n",
    "for col in logistic_train_features:\n",
    "    if col not in logistic_train_df.columns:\n",
    "        logistic_train_df[col] = 0\n",
    "\n",
    "logistic_train_df = logistic_train_df[logistic_train_features]\n",
    "\n",
    "\n",
    "# Scaler\n",
    "X_test_logistic = logistic_scaler.transform(logistic_train_df)"
   ]
  },
  {
   "cell_type": "markdown",
   "id": "d6ec098d",
   "metadata": {},
   "source": [
    "Predict"
   ]
  },
  {
   "cell_type": "code",
   "execution_count": null,
   "id": "bd55c278",
   "metadata": {},
   "outputs": [],
   "source": [
    "logistic_y_proba = logistic_model.predict_proba(X_test_logistic)[:, 1]\n",
    "\n",
    "logistic_threshold = 0.486\n",
    "logistic_pred = (logistic_y_proba >= logistic_threshold).astype(int)"
   ]
  },
  {
   "cell_type": "markdown",
   "id": "a6c14a34",
   "metadata": {},
   "source": [
    "Export Output"
   ]
  },
  {
   "cell_type": "code",
   "execution_count": null,
   "id": "3c08fef6",
   "metadata": {},
   "outputs": [],
   "source": [
    "logistic_output_df = pd.DataFrame({\n",
    "    \"ID\": ids,\n",
    "    \"default_12month\": logistic_pred\n",
    "})\n",
    "\n",
    "logistic_output_df.to_csv(LOGISTIC_PRED_PATH, index=False)"
   ]
  }
 ],
 "metadata": {
  "kernelspec": {
   "display_name": ".venv",
   "language": "python",
   "name": "python3"
  },
  "language_info": {
   "codemirror_mode": {
    "name": "ipython",
    "version": 3
   },
   "file_extension": ".py",
   "mimetype": "text/x-python",
   "name": "python",
   "nbconvert_exporter": "python",
   "pygments_lexer": "ipython3",
   "version": "3.10.12"
  }
 },
 "nbformat": 4,
 "nbformat_minor": 5
}
