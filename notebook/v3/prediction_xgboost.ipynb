{
 "cells": [
  {
   "cell_type": "markdown",
   "id": "4a27034b",
   "metadata": {},
   "source": [
    "# Testing"
   ]
  },
  {
   "cell_type": "code",
   "execution_count": 1,
   "id": "0c89891f",
   "metadata": {},
   "outputs": [],
   "source": [
    "import pandas as pd\n",
    "import numpy as np\n",
    "import joblib\n",
    "from xgboost import XGBClassifier"
   ]
  },
  {
   "cell_type": "code",
   "execution_count": 2,
   "id": "a44efe73",
   "metadata": {},
   "outputs": [],
   "source": [
    "import sys\n",
    "import os\n",
    "root_path = os.path.abspath(os.path.join(os.getcwd(), \"../..\"))\n",
    "if root_path not in sys.path:\n",
    "    sys.path.append(root_path)\n",
    "from fileDir import getDataDir, getModelDir, getPredDir"
   ]
  },
  {
   "cell_type": "code",
   "execution_count": 3,
   "id": "bdce773f",
   "metadata": {},
   "outputs": [],
   "source": [
    "TEST_PATH = getDataDir(\"test\")\n",
    "XGB_MODEL_PATH = getModelDir(\"model_xgboost\", 3, True)\n",
    "XGB_SCALER_PATH = getModelDir(\"scaler_model_xgboost\", 3, True)\n",
    "XGB_FEATURES_PATH = getModelDir(\"train_features_model_xgboost\", 3, True)\n",
    "\n",
    "XGB_PRED_PATH = getPredDir(3, \"prediction_xgb\")"
   ]
  },
  {
   "cell_type": "markdown",
   "id": "42c72b71",
   "metadata": {},
   "source": [
    "Load Models and Test"
   ]
  },
  {
   "cell_type": "code",
   "execution_count": 4,
   "id": "ece6a675",
   "metadata": {},
   "outputs": [
    {
     "ename": "FileNotFoundError",
     "evalue": "[Errno 2] No such file or directory: '../../model/v3/model_xgboost.pkl'",
     "output_type": "error",
     "traceback": [
      "\u001b[0;31m---------------------------------------------------------------------------\u001b[0m",
      "\u001b[0;31mFileNotFoundError\u001b[0m                         Traceback (most recent call last)",
      "Cell \u001b[0;32mIn[4], line 1\u001b[0m\n\u001b[0;32m----> 1\u001b[0m xgb_model: XGBClassifier \u001b[38;5;241m=\u001b[39m \u001b[43mjoblib\u001b[49m\u001b[38;5;241;43m.\u001b[39;49m\u001b[43mload\u001b[49m\u001b[43m(\u001b[49m\u001b[43mXGB_MODEL_PATH\u001b[49m\u001b[43m)\u001b[49m\n\u001b[1;32m      2\u001b[0m xgb_scaler \u001b[38;5;241m=\u001b[39m joblib\u001b[38;5;241m.\u001b[39mload(XGB_SCALER_PATH)\n\u001b[1;32m      3\u001b[0m xgb_train_features \u001b[38;5;241m=\u001b[39m joblib\u001b[38;5;241m.\u001b[39mload(XGB_FEATURES_PATH)\n",
      "File \u001b[0;32m~/UNI/testoa/Aihack_aikokkak/.venv/lib/python3.10/site-packages/joblib/numpy_pickle.py:735\u001b[0m, in \u001b[0;36mload\u001b[0;34m(filename, mmap_mode, ensure_native_byte_order)\u001b[0m\n\u001b[1;32m    733\u001b[0m         obj \u001b[38;5;241m=\u001b[39m _unpickle(fobj, ensure_native_byte_order\u001b[38;5;241m=\u001b[39mensure_native_byte_order)\n\u001b[1;32m    734\u001b[0m \u001b[38;5;28;01melse\u001b[39;00m:\n\u001b[0;32m--> 735\u001b[0m     \u001b[38;5;28;01mwith\u001b[39;00m \u001b[38;5;28;43mopen\u001b[39;49m\u001b[43m(\u001b[49m\u001b[43mfilename\u001b[49m\u001b[43m,\u001b[49m\u001b[43m \u001b[49m\u001b[38;5;124;43m\"\u001b[39;49m\u001b[38;5;124;43mrb\u001b[39;49m\u001b[38;5;124;43m\"\u001b[39;49m\u001b[43m)\u001b[49m \u001b[38;5;28;01mas\u001b[39;00m f:\n\u001b[1;32m    736\u001b[0m         \u001b[38;5;28;01mwith\u001b[39;00m _validate_fileobject_and_memmap(f, filename, mmap_mode) \u001b[38;5;28;01mas\u001b[39;00m (\n\u001b[1;32m    737\u001b[0m             fobj,\n\u001b[1;32m    738\u001b[0m             validated_mmap_mode,\n\u001b[1;32m    739\u001b[0m         ):\n\u001b[1;32m    740\u001b[0m             \u001b[38;5;28;01mif\u001b[39;00m \u001b[38;5;28misinstance\u001b[39m(fobj, \u001b[38;5;28mstr\u001b[39m):\n\u001b[1;32m    741\u001b[0m                 \u001b[38;5;66;03m# if the returned file object is a string, this means we\u001b[39;00m\n\u001b[1;32m    742\u001b[0m                 \u001b[38;5;66;03m# try to load a pickle file generated with an version of\u001b[39;00m\n\u001b[1;32m    743\u001b[0m                 \u001b[38;5;66;03m# Joblib so we load it with joblib compatibility function.\u001b[39;00m\n",
      "\u001b[0;31mFileNotFoundError\u001b[0m: [Errno 2] No such file or directory: '../../model/v3/model_xgboost.pkl'"
     ]
    }
   ],
   "source": [
    "xgb_model: XGBClassifier = joblib.load(XGB_MODEL_PATH)\n",
    "xgb_scaler = joblib.load(XGB_SCALER_PATH)\n",
    "xgb_train_features = joblib.load(XGB_FEATURES_PATH)\n",
    "\n",
    "df = pd.read_csv(TEST_PATH)\n",
    "\n",
    "ids = df[\"ID\"]"
   ]
  },
  {
   "cell_type": "markdown",
   "id": "ba51ab2e",
   "metadata": {},
   "source": [
    "Prepare Test"
   ]
  },
  {
   "cell_type": "code",
   "execution_count": null,
   "id": "88a3ee92",
   "metadata": {},
   "outputs": [],
   "source": [
    "df[\"pms_i_ymd\"] = pd.to_datetime(df[\"pms_i_ymd\"], errors=\"coerce\")\n",
    "df[\"date_of_birth\"] = pd.to_datetime(df[\"date_of_birth\"], errors=\"coerce\")\n",
    "df[\"age\"] = ((df[\"pms_i_ymd\"] - df[\"date_of_birth\"]).dt.days / 365).astype(float)\n",
    "df[\"years_at_residence\"] = df[\"living_period_year\"] + df[\"living_period_month\"] / 12\n",
    "df[\"years_at_job\"] = df[\"c_number_of_working_year\"] + df[\"c_number_of_working_month\"] / 12\n",
    "df[\"total_income\"] = df[\"c_monthly_salary\"] + df[\"r_additional_income\"] + df[\"r_spouse_income\"]\n",
    "df[\"debt_to_income_ratio\"] = df[\"r_allloan_amount\"] / (df[\"total_income\"] + 1)\n",
    "df[\"loan_burden_per_income\"] = df[\"r_expected_credit_limit\"] / (df[\"total_income\"] + 1)\n",
    "\n",
    "df_original = df.copy()\n",
    "columns_to_remove = ['Area', 'Province', 'Shop Name','marital_status',\n",
    "       'number_of_children', 'postal_code', 'number_of_resident', 'c_postal_code',\n",
    "       'c_number_of_employee','media', 'place_for_sending_information', 'r_generalcode4',\n",
    "       'r_generalcode5' ]\n",
    "removed_data = df[columns_to_remove].copy()\n",
    "df = df.drop(columns=columns_to_remove)\n",
    "\n",
    "df = df.dropna()\n",
    "\n",
    "columns_to_remove2 = [\"pms_i_ymd\", \"date_of_birth\", \"living_period_year\",\n",
    "         \"living_period_month\", \"c_number_of_working_year\",\n",
    "         \"c_number_of_working_month\"]\n",
    "removed_data2 = df[columns_to_remove2].copy()\n",
    "df = df.drop(columns=columns_to_remove2)\n",
    "\n",
    "xgb_train_df = df"
   ]
  },
  {
   "cell_type": "code",
   "execution_count": null,
   "id": "0018840c",
   "metadata": {},
   "outputs": [],
   "source": [
    "# Allign Features\n",
    "xgb_train_df = pd.get_dummies(xgb_train_df, drop_first=True)\n",
    "\n",
    "for col in xgb_train_features:\n",
    "    if col not in xgb_train_df.columns:\n",
    "        xgb_train_df[col] = 0\n",
    "\n",
    "xgb_train_df = xgb_train_df[xgb_train_features]\n",
    "\n",
    "\n",
    "# Scaler\n",
    "X_test_xgb = xgb_scaler.transform(xgb_train_df)"
   ]
  },
  {
   "cell_type": "markdown",
   "id": "d6ec098d",
   "metadata": {},
   "source": [
    "Predict"
   ]
  },
  {
   "cell_type": "code",
   "execution_count": null,
   "id": "bd55c278",
   "metadata": {},
   "outputs": [],
   "source": [
    "xgb_y_proba = xgb_model.predict_proba(X_test_xgb)[:, 1]\n",
    "\n",
    "xgb_threshold = 0.137\n",
    "xgb_pred = (xgb_y_proba >= xgb_threshold).astype(int)"
   ]
  },
  {
   "cell_type": "markdown",
   "id": "a6c14a34",
   "metadata": {},
   "source": [
    "Export Output"
   ]
  },
  {
   "cell_type": "code",
   "execution_count": null,
   "id": "3c08fef6",
   "metadata": {},
   "outputs": [],
   "source": [
    "xgb_output_df = pd.DataFrame({\n",
    "    \"ID\": ids,\n",
    "    \"default_12month\": xgb_pred\n",
    "})\n",
    "\n",
    "xgb_output_df.to_csv(XGB_PRED_PATH, index=False)"
   ]
  }
 ],
 "metadata": {
  "kernelspec": {
   "display_name": ".venv",
   "language": "python",
   "name": "python3"
  },
  "language_info": {
   "codemirror_mode": {
    "name": "ipython",
    "version": 3
   },
   "file_extension": ".py",
   "mimetype": "text/x-python",
   "name": "python",
   "nbconvert_exporter": "python",
   "pygments_lexer": "ipython3",
   "version": "3.10.12"
  }
 },
 "nbformat": 4,
 "nbformat_minor": 5
}
