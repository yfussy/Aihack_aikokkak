{
 "cells": [
  {
   "cell_type": "code",
   "execution_count": 1,
   "id": "07283eff",
   "metadata": {},
   "outputs": [],
   "source": [
    "from sklearn.model_selection import train_test_split\n",
    "from sklearn.metrics import classification_report\n",
    "import numpy as np\n",
    "import pandas as pd\n",
    "import matplotlib.pyplot as plt"
   ]
  },
  {
   "cell_type": "code",
   "execution_count": 2,
   "id": "85f1e632",
   "metadata": {},
   "outputs": [
    {
     "data": {
      "text/html": [
       "<div>\n",
       "<style scoped>\n",
       "    .dataframe tbody tr th:only-of-type {\n",
       "        vertical-align: middle;\n",
       "    }\n",
       "\n",
       "    .dataframe tbody tr th {\n",
       "        vertical-align: top;\n",
       "    }\n",
       "\n",
       "    .dataframe thead th {\n",
       "        text-align: right;\n",
       "    }\n",
       "</style>\n",
       "<table border=\"1\" class=\"dataframe\">\n",
       "  <thead>\n",
       "    <tr style=\"text-align: right;\">\n",
       "      <th></th>\n",
       "      <th>ID</th>\n",
       "      <th>pms_i_ymd</th>\n",
       "      <th>Area</th>\n",
       "      <th>Province</th>\n",
       "      <th>Shop Name</th>\n",
       "      <th>gender</th>\n",
       "      <th>date_of_birth_week</th>\n",
       "      <th>date_of_birth</th>\n",
       "      <th>marital_status</th>\n",
       "      <th>number_of_children</th>\n",
       "      <th>...</th>\n",
       "      <th>r_allloan_amount</th>\n",
       "      <th>r_additional_income</th>\n",
       "      <th>r_spouse_income</th>\n",
       "      <th>r_generalcode1</th>\n",
       "      <th>r_generalcode2</th>\n",
       "      <th>r_generalcode3</th>\n",
       "      <th>r_generalcode4</th>\n",
       "      <th>r_generalcode5</th>\n",
       "      <th>apply</th>\n",
       "      <th>default_12month</th>\n",
       "    </tr>\n",
       "  </thead>\n",
       "  <tbody>\n",
       "    <tr>\n",
       "      <th>0</th>\n",
       "      <td>202412000001</td>\n",
       "      <td>2018/4/2</td>\n",
       "      <td>Bangkok Metropolitan Region</td>\n",
       "      <td>Bangkok</td>\n",
       "      <td>Silom Complex</td>\n",
       "      <td>F2</td>\n",
       "      <td>6</td>\n",
       "      <td>1971/5/18</td>\n",
       "      <td>1</td>\n",
       "      <td>2</td>\n",
       "      <td>...</td>\n",
       "      <td>0</td>\n",
       "      <td>0.0</td>\n",
       "      <td>0.0</td>\n",
       "      <td>NaN</td>\n",
       "      <td>NaN</td>\n",
       "      <td>2.0</td>\n",
       "      <td>4.0</td>\n",
       "      <td>4.0</td>\n",
       "      <td>WI</td>\n",
       "      <td>0</td>\n",
       "    </tr>\n",
       "    <tr>\n",
       "      <th>1</th>\n",
       "      <td>202412000002</td>\n",
       "      <td>2018/4/2</td>\n",
       "      <td>Bangkok Metropolitan Region</td>\n",
       "      <td>Bangkok</td>\n",
       "      <td>Silom Complex</td>\n",
       "      <td>M</td>\n",
       "      <td>4</td>\n",
       "      <td>1983/1/5</td>\n",
       "      <td>1</td>\n",
       "      <td>0</td>\n",
       "      <td>...</td>\n",
       "      <td>0</td>\n",
       "      <td>5000.0</td>\n",
       "      <td>0.0</td>\n",
       "      <td>NaN</td>\n",
       "      <td>NaN</td>\n",
       "      <td>1.0</td>\n",
       "      <td>4.0</td>\n",
       "      <td>4.0</td>\n",
       "      <td>WI</td>\n",
       "      <td>0</td>\n",
       "    </tr>\n",
       "    <tr>\n",
       "      <th>2</th>\n",
       "      <td>202412000003</td>\n",
       "      <td>2018/4/3</td>\n",
       "      <td>Bangkok Metropolitan Region</td>\n",
       "      <td>Bangkok</td>\n",
       "      <td>Silom Complex</td>\n",
       "      <td>F2</td>\n",
       "      <td>5</td>\n",
       "      <td>1992/11/19</td>\n",
       "      <td>1</td>\n",
       "      <td>0</td>\n",
       "      <td>...</td>\n",
       "      <td>10000</td>\n",
       "      <td>NaN</td>\n",
       "      <td>NaN</td>\n",
       "      <td>NaN</td>\n",
       "      <td>NaN</td>\n",
       "      <td>1.0</td>\n",
       "      <td>2.0</td>\n",
       "      <td>4.0</td>\n",
       "      <td>DS</td>\n",
       "      <td>0</td>\n",
       "    </tr>\n",
       "    <tr>\n",
       "      <th>3</th>\n",
       "      <td>202412000004</td>\n",
       "      <td>2018/4/4</td>\n",
       "      <td>Bangkok Metropolitan Region</td>\n",
       "      <td>Bangkok</td>\n",
       "      <td>Silom Complex</td>\n",
       "      <td>M</td>\n",
       "      <td>7</td>\n",
       "      <td>1990/11/3</td>\n",
       "      <td>1</td>\n",
       "      <td>2</td>\n",
       "      <td>...</td>\n",
       "      <td>0</td>\n",
       "      <td>0.0</td>\n",
       "      <td>0.0</td>\n",
       "      <td>NaN</td>\n",
       "      <td>NaN</td>\n",
       "      <td>1.0</td>\n",
       "      <td>4.0</td>\n",
       "      <td>4.0</td>\n",
       "      <td>WI</td>\n",
       "      <td>0</td>\n",
       "    </tr>\n",
       "    <tr>\n",
       "      <th>4</th>\n",
       "      <td>202412000005</td>\n",
       "      <td>2018/4/4</td>\n",
       "      <td>Bangkok Metropolitan Region</td>\n",
       "      <td>Bangkok</td>\n",
       "      <td>Silom Complex</td>\n",
       "      <td>F2</td>\n",
       "      <td>6</td>\n",
       "      <td>1994/12/16</td>\n",
       "      <td>3</td>\n",
       "      <td>1</td>\n",
       "      <td>...</td>\n",
       "      <td>0</td>\n",
       "      <td>0.0</td>\n",
       "      <td>0.0</td>\n",
       "      <td>NaN</td>\n",
       "      <td>NaN</td>\n",
       "      <td>1.0</td>\n",
       "      <td>4.0</td>\n",
       "      <td>4.0</td>\n",
       "      <td>DS</td>\n",
       "      <td>1</td>\n",
       "    </tr>\n",
       "  </tbody>\n",
       "</table>\n",
       "<p>5 rows × 42 columns</p>\n",
       "</div>"
      ],
      "text/plain": [
       "             ID pms_i_ymd                         Area Province  \\\n",
       "0  202412000001  2018/4/2  Bangkok Metropolitan Region  Bangkok   \n",
       "1  202412000002  2018/4/2  Bangkok Metropolitan Region  Bangkok   \n",
       "2  202412000003  2018/4/3  Bangkok Metropolitan Region  Bangkok   \n",
       "3  202412000004  2018/4/4  Bangkok Metropolitan Region  Bangkok   \n",
       "4  202412000005  2018/4/4  Bangkok Metropolitan Region  Bangkok   \n",
       "\n",
       "       Shop Name gender  date_of_birth_week date_of_birth  marital_status  \\\n",
       "0  Silom Complex     F2                   6     1971/5/18               1   \n",
       "1  Silom Complex      M                   4      1983/1/5               1   \n",
       "2  Silom Complex     F2                   5    1992/11/19               1   \n",
       "3  Silom Complex      M                   7     1990/11/3               1   \n",
       "4  Silom Complex     F2                   6    1994/12/16               3   \n",
       "\n",
       "   number_of_children  ...  r_allloan_amount  r_additional_income  \\\n",
       "0                   2  ...                 0                  0.0   \n",
       "1                   0  ...                 0               5000.0   \n",
       "2                   0  ...             10000                  NaN   \n",
       "3                   2  ...                 0                  0.0   \n",
       "4                   1  ...                 0                  0.0   \n",
       "\n",
       "   r_spouse_income  r_generalcode1  r_generalcode2  r_generalcode3  \\\n",
       "0              0.0             NaN             NaN             2.0   \n",
       "1              0.0             NaN             NaN             1.0   \n",
       "2              NaN             NaN             NaN             1.0   \n",
       "3              0.0             NaN             NaN             1.0   \n",
       "4              0.0             NaN             NaN             1.0   \n",
       "\n",
       "   r_generalcode4  r_generalcode5  apply  default_12month  \n",
       "0             4.0             4.0     WI                0  \n",
       "1             4.0             4.0     WI                0  \n",
       "2             2.0             4.0     DS                0  \n",
       "3             4.0             4.0     WI                0  \n",
       "4             4.0             4.0     DS                1  \n",
       "\n",
       "[5 rows x 42 columns]"
      ]
     },
     "execution_count": 2,
     "metadata": {},
     "output_type": "execute_result"
    }
   ],
   "source": [
    "import sys\n",
    "import os\n",
    "root_path = os.path.abspath(os.path.join(os.getcwd(), \"../..\"))\n",
    "if root_path not in sys.path:\n",
    "    sys.path.append(root_path)\n",
    "from fileDir import getDataDir, getModelDir, getPredDir\n",
    "# TRAIN_PATH = getDataDir(\"train\")\n",
    "df = pd.read_csv(\"../../data/train_dataset.csv\")\n",
    "df.head()"
   ]
  },
  {
   "cell_type": "code",
   "execution_count": 34,
   "id": "e23daa96",
   "metadata": {},
   "outputs": [
    {
     "data": {
      "text/plain": [
       "(2781, 40)"
      ]
     },
     "execution_count": 34,
     "metadata": {},
     "output_type": "execute_result"
    }
   ],
   "source": [
    "%matplotlib inline\n",
    "import seaborn as sns\n",
    "df.shape"
   ]
  },
  {
   "cell_type": "code",
   "execution_count": 4,
   "id": "afa8ff19",
   "metadata": {},
   "outputs": [],
   "source": [
    "if {'living_period_month','living_period_year'}.issubset(df.columns):\n",
    "        df['living_period_year'] = (df['living_period_month'].fillna(0) + df['living_period_year'].fillna(0) * 12)/12\n",
    "        df.drop(columns=['living_period_month'], inplace=True)\n",
    "\n",
    "if {'c_number_of_working_month','c_number_of_working_year'}.issubset(df.columns):\n",
    "        df['c_number_of_working_year'] = (df['c_number_of_working_month'].fillna(0) + df['c_number_of_working_year'].fillna(0) * 12)/12\n",
    "        df.drop(columns=['c_number_of_working_month'], inplace=True)\n",
    "\n",
    "    # Convert birth date to age\n",
    "if 'date_of_birth' in df.columns:\n",
    "        df['date_of_birth'] = pd.to_datetime(df['date_of_birth'], errors='coerce')\n",
    "        df['age'] = 2025 - df['date_of_birth'].dt.year\n",
    "        df.drop(columns=['date_of_birth'], inplace=True)"
   ]
  },
  {
   "cell_type": "code",
   "execution_count": 5,
   "id": "18a7d1df",
   "metadata": {},
   "outputs": [
    {
     "name": "stdout",
     "output_type": "stream",
     "text": [
      "['ID', 'pms_i_ymd', 'Area', 'Province', 'Shop Name', 'gender', 'date_of_birth_week', 'marital_status', 'number_of_children', 'postal_code', 'tel_category', 'number_of_resident', 'living_period_year', 'type_of_residence', 'c_postal_code', 'c_business_type', 'c_number_of_employee', 'c_position', 'c_occupation', 'c_employment_status', 'c_monthly_salary', 'c_number_of_working_year', 'c_salary_payment_methods', 'c_date_of_salary_payment', 'media', 'place_for_sending_information', 'r_expected_credit_limit', 'r_propose', 'r_allloan_case', 'r_allloan_amount', 'r_additional_income', 'r_spouse_income', 'r_generalcode1', 'r_generalcode2', 'r_generalcode3', 'r_generalcode4', 'r_generalcode5', 'apply', 'default_12month', 'age']\n"
     ]
    }
   ],
   "source": [
    "print(df.columns.tolist())"
   ]
  },
  {
   "cell_type": "code",
   "execution_count": 29,
   "id": "fa8db737",
   "metadata": {},
   "outputs": [
    {
     "name": "stdout",
     "output_type": "stream",
     "text": [
      "0.0 7.0\n"
     ]
    }
   ],
   "source": [
    "print(df['r_generalcode5'].min(), df['r_generalcode5'].max())"
   ]
  },
  {
   "cell_type": "code",
   "execution_count": 31,
   "id": "7f0c9a3c",
   "metadata": {},
   "outputs": [
    {
     "name": "stdout",
     "output_type": "stream",
     "text": [
      "[17443, 29135]\n"
     ]
    }
   ],
   "source": [
    "row_numbers = df.index[df['r_generalcode5'] == 7.0].tolist()\n",
    "print(row_numbers)"
   ]
  },
  {
   "cell_type": "code",
   "execution_count": 6,
   "id": "df59c79d",
   "metadata": {},
   "outputs": [
    {
     "name": "stdout",
     "output_type": "stream",
     "text": [
      "7 1\n",
      "5 1\n",
      "20 0\n",
      "96220 1054\n",
      "3 1\n",
      "74 0\n",
      "60.0 0.0\n",
      "7 1\n",
      "93170.0 27.0\n",
      "17 1\n",
      "9999 0\n",
      "5 1\n",
      "55 12\n",
      "5 1\n",
      "210000 5000\n",
      "40.0 0.08333333333333333\n",
      "3 1\n",
      "36.0 0.0\n",
      "12 1\n",
      "2 1\n",
      "1500000.0 0.0\n",
      "6.0 1.0\n",
      "2110000.0 0.0\n",
      "1200000 0\n",
      "1000000.0 0.0\n",
      "700000.0 0.0\n",
      "4.0 0.0\n",
      "9.0 0.0\n",
      "4.0 0.0\n",
      "9.0 0.0\n",
      "7.0 0.0\n"
     ]
    }
   ],
   "source": [
    "num_cols = ['date_of_birth_week', 'marital_status', 'number_of_children', 'postal_code', 'tel_category'\n",
    ",'number_of_resident', 'living_period_year', 'type_of_residence', 'c_postal_code', 'c_business_type', 'c_number_of_employee'\n",
    ",'c_position', 'c_occupation', 'c_employment_status', 'c_monthly_salary', 'c_number_of_working_year'\n",
    ",'c_salary_payment_methods', 'c_date_of_salary_payment', 'media', 'place_for_sending_information', 'r_expected_credit_limit'\n",
    ",'r_propose', 'r_allloan_case', 'r_allloan_amount', 'r_additional_income', 'r_spouse_income', 'r_generalcode1'\n",
    ",'r_generalcode2', 'r_generalcode3', 'r_generalcode4', 'r_generalcode5']\n",
    "for c in num_cols:\n",
    "    print(df[c].max(), df[c].min())"
   ]
  },
  {
   "cell_type": "code",
   "execution_count": 24,
   "id": "76a1bc46",
   "metadata": {},
   "outputs": [
    {
     "name": "stdout",
     "output_type": "stream",
     "text": [
      "2110000.0 0.0\n",
      "1200000 0\n",
      "1000000.0 0.0\n",
      "700000.0 0.0\n",
      "4.0 0.0\n",
      "9.0 0.0\n",
      "4.0 0.0\n",
      "9.0 0.0\n",
      "7.0 0.0\n"
     ]
    }
   ],
   "source": [
    "num_cols = ['r_allloan_case', 'r_allloan_amount', 'r_additional_income', 'r_spouse_income', 'r_generalcode1'\n",
    ",'r_generalcode2', 'r_generalcode3', 'r_generalcode4', 'r_generalcode5']\n",
    "for c in num_cols:\n",
    "    print(df[c].max(), df[c].min())"
   ]
  },
  {
   "cell_type": "code",
   "execution_count": 35,
   "id": "72ee4a31",
   "metadata": {},
   "outputs": [],
   "source": [
    "df = df[df['r_generalcode1'] > 2]"
   ]
  },
  {
   "cell_type": "code",
   "execution_count": 36,
   "id": "54430635",
   "metadata": {},
   "outputs": [],
   "source": [
    "df.loc[df['r_generalcode1'] == 2] = 0\n",
    "df.loc[df['r_generalcode1'] == 1] = 1\n",
    "df['all_income'] = df['c_monthly_salary'] + (df['r_generalcode1']*df['r_spouse_income'])"
   ]
  },
  {
   "cell_type": "code",
   "execution_count": 41,
   "id": "e24ccdfe",
   "metadata": {},
   "outputs": [
    {
     "name": "stdout",
     "output_type": "stream",
     "text": [
      "nan\n"
     ]
    }
   ],
   "source": [
    "print(df['r_generalcode1'].min())"
   ]
  },
  {
   "cell_type": "code",
   "execution_count": 39,
   "id": "93cb5206",
   "metadata": {},
   "outputs": [
    {
     "name": "stdout",
     "output_type": "stream",
     "text": [
      "['ID', 'pms_i_ymd', 'Area', 'Province', 'Shop Name', 'gender', 'date_of_birth_week', 'marital_status', 'number_of_children', 'postal_code', 'tel_category', 'number_of_resident', 'living_period_year', 'type_of_residence', 'c_postal_code', 'c_business_type', 'c_number_of_employee', 'c_position', 'c_occupation', 'c_employment_status', 'c_monthly_salary', 'c_number_of_working_year', 'c_salary_payment_methods', 'c_date_of_salary_payment', 'media', 'place_for_sending_information', 'r_expected_credit_limit', 'r_propose', 'r_allloan_case', 'r_allloan_amount', 'r_additional_income', 'r_spouse_income', 'r_generalcode1', 'r_generalcode2', 'r_generalcode3', 'r_generalcode4', 'r_generalcode5', 'apply', 'default_12month', 'age', 'all_income']\n"
     ]
    }
   ],
   "source": [
    "print(df.columns.tolist())"
   ]
  },
  {
   "cell_type": "code",
   "execution_count": 53,
   "id": "e3a2d2d1",
   "metadata": {},
   "outputs": [
    {
     "data": {
      "text/plain": [
       "ID                                   0\n",
       "pms_i_ymd                            0\n",
       "Area                                 0\n",
       "Province                             0\n",
       "Shop Name                            0\n",
       "gender                               0\n",
       "date_of_birth_week                   0\n",
       "date_of_birth                        0\n",
       "marital_status                       0\n",
       "number_of_children                   0\n",
       "postal_code                          0\n",
       "tel_category                         0\n",
       "number_of_resident                   0\n",
       "living_period_year                   0\n",
       "living_period_month                  0\n",
       "type_of_residence                    0\n",
       "c_postal_code                        1\n",
       "c_business_type                      0\n",
       "c_number_of_employee                 0\n",
       "c_position                           0\n",
       "c_occupation                         0\n",
       "c_employment_status                  0\n",
       "c_monthly_salary                     0\n",
       "c_number_of_working_year             0\n",
       "c_number_of_working_month            0\n",
       "c_salary_payment_methods             0\n",
       "c_date_of_salary_payment            61\n",
       "media                                0\n",
       "place_for_sending_information        0\n",
       "r_expected_credit_limit            227\n",
       "r_propose                          489\n",
       "r_allloan_case                       0\n",
       "r_allloan_amount                     0\n",
       "r_additional_income               3293\n",
       "r_spouse_income                   2768\n",
       "r_generalcode1                   19295\n",
       "r_generalcode2                   19426\n",
       "r_generalcode3                    1045\n",
       "r_generalcode4                    1420\n",
       "r_generalcode5                    1127\n",
       "apply                                0\n",
       "default_12month                      0\n",
       "dtype: int64"
      ]
     },
     "execution_count": 53,
     "metadata": {},
     "output_type": "execute_result"
    }
   ],
   "source": [
    "df.isnull().sum()"
   ]
  },
  {
   "cell_type": "code",
   "execution_count": 10,
   "id": "c5f72632",
   "metadata": {},
   "outputs": [],
   "source": [
    "if 'date_of_birth' in df.columns:\n",
    "        df['date_of_birth'] = pd.to_datetime(df['date_of_birth'], errors='coerce')\n",
    "        df['age'] = 2025 - df['date_of_birth'].dt.year\n",
    "        df.drop(columns=['date_of_birth'], inplace=True)"
   ]
  },
  {
   "cell_type": "code",
   "execution_count": 29,
   "id": "65551047",
   "metadata": {},
   "outputs": [
    {
     "data": {
      "text/plain": [
       "<Axes: xlabel='default_12month', ylabel='c_monthly_salary'>"
      ]
     },
     "execution_count": 29,
     "metadata": {},
     "output_type": "execute_result"
    },
    {
     "data": {
      "image/png": "[encoded data removed]",
      "text/plain": [
       "<Figure size 640x480 with 1 Axes>"
      ]
     },
     "metadata": {},
     "output_type": "display_data"
    }
   ],
   "source": [
    "sns.boxplot(x=df.default_12month, y=df['c_monthly_salary'])"
   ]
  },
  {
   "cell_type": "code",
   "execution_count": 30,
   "id": "6579b159",
   "metadata": {},
   "outputs": [],
   "source": [
    "col = 'c_monthly_salary'\n",
    "Q1 = df[col].quantile(0.25)\n",
    "Q3 = df[col].quantile(0.75)\n",
    "IQR = Q3 - Q1\n",
    "\n",
    "df_no_outliers = df[(df[col] >= Q1 - 1.5 * IQR) & (df[col] <= Q3 + 1.5 * IQR)]"
   ]
  },
  {
   "cell_type": "code",
   "execution_count": 31,
   "id": "98eea779",
   "metadata": {},
   "outputs": [
    {
     "data": {
      "text/plain": [
       "<Axes: xlabel='default_12month', ylabel='c_monthly_salary'>"
      ]
     },
     "execution_count": 31,
     "metadata": {},
     "output_type": "execute_result"
    },
    {
     "data": {
      "image/png": "[encoded data removed]",
      "text/plain": [
       "<Figure size 640x480 with 1 Axes>"
      ]
     },
     "metadata": {},
     "output_type": "display_data"
    }
   ],
   "source": [
    "sns.boxplot(x=df.default_12month, y=df_no_outliers['c_monthly_salary'])"
   ]
  },
  {
   "cell_type": "code",
   "execution_count": 32,
   "id": "1981f9ce",
   "metadata": {},
   "outputs": [
    {
     "data": {
      "text/plain": [
       "<Axes: xlabel='default_12month', ylabel='r_allloan_case'>"
      ]
     },
     "execution_count": 32,
     "metadata": {},
     "output_type": "execute_result"
    },
    {
     "data": {
      "image/png": "[encoded data removed]",
      "text/plain": [
       "<Figure size 640x480 with 1 Axes>"
      ]
     },
     "metadata": {},
     "output_type": "display_data"
    }
   ],
   "source": [
    "sns.boxplot(x=df.default_12month, y=df_no_outliers['r_allloan_case'])"
   ]
  },
  {
   "cell_type": "code",
   "execution_count": 13,
   "id": "2b59af22",
   "metadata": {},
   "outputs": [
    {
     "data": {
      "text/plain": [
       "<Axes: xlabel='default_12month', ylabel='count'>"
      ]
     },
     "execution_count": 13,
     "metadata": {},
     "output_type": "execute_result"
    },
    {
     "data": {
      "image/png": "[encoded data removed]",
      "text/plain": [
       "<Figure size 640x480 with 1 Axes>"
      ]
     },
     "metadata": {},
     "output_type": "display_data"
    }
   ],
   "source": [
    "%matplotlib inline\n",
    "import seaborn as sns\n",
    "\n",
    "sns.countplot(x=df.default_12month, hue=df[\"salary_group\"])"
   ]
  },
  {
   "cell_type": "code",
   "execution_count": 37,
   "id": "da99d0cb",
   "metadata": {},
   "outputs": [
    {
     "data": {
      "text/plain": [
       "<Axes: xlabel='default_12month', ylabel='number_of_children'>"
      ]
     },
     "execution_count": 37,
     "metadata": {},
     "output_type": "execute_result"
    },
    {
     "data": {
      "image/png": "[encoded data removed]",
      "text/plain": [
       "<Figure size 640x480 with 1 Axes>"
      ]
     },
     "metadata": {},
     "output_type": "display_data"
    }
   ],
   "source": [
    "sns.boxplot(x=df.default_12month, y=df['number_of_children'])"
   ]
  },
  {
   "cell_type": "code",
   "execution_count": null,
   "id": "15a0d535",
   "metadata": {},
   "outputs": [
    {
     "name": "stdout",
     "output_type": "stream",
     "text": [
      "5000\n",
      "210000\n",
      "12228.040831386053\n",
      "10850.0\n",
      "8964.0\n",
      "13881.0\n"
     ]
    }
   ],
   "source": [
    "print(df['c_monthly_salary'].min())\n",
    "print(df['c_monthly_salary'].max())\n",
    "print(df['c_monthly_salary'].mean())\n",
    "print(df['c_monthly_salary'].median())\n",
    "Q1 = df['c_monthly_salary'].quantile(0.25)\n",
    "Q3 = df['c_monthly_salary'].quantile(0.75)\n",
    "print(Q3)"
   ]
  },
  {
   "cell_type": "code",
   "execution_count": 36,
   "id": "1870e624",
   "metadata": {},
   "outputs": [],
   "source": [
    "bins = [0, 8000, 14000, 210000]   # intervals: (0–10000], (10000–20000], (20000–30000]\n",
    "labels = [1, 2, 3]                # labels for each range\n",
    "\n",
    "# Apply the binning\n",
    "df['c_monthly_salary_group'] = pd.cut(df['c_monthly_salary'], bins=bins, labels=labels, include_lowest=True)"
   ]
  },
  {
   "cell_type": "code",
   "execution_count": 37,
   "id": "bc96d149",
   "metadata": {},
   "outputs": [
    {
     "name": "stdout",
     "output_type": "stream",
     "text": [
      "0    2\n",
      "1    2\n",
      "2    2\n",
      "3    2\n",
      "4    1\n",
      "Name: c_monthly_salary_group, dtype: category\n",
      "Categories (3, int64): [1 < 2 < 3]\n"
     ]
    }
   ],
   "source": [
    "print(df['c_monthly_salary_group'].head())"
   ]
  },
  {
   "cell_type": "code",
   "execution_count": 40,
   "id": "06db6b68",
   "metadata": {},
   "outputs": [
    {
     "data": {
      "text/plain": [
       "<Axes: xlabel='default_12month', ylabel='count'>"
      ]
     },
     "execution_count": 40,
     "metadata": {},
     "output_type": "execute_result"
    },
    {
     "data": {
      "image/png": "[encoded data removed]",
      "text/plain": [
       "<Figure size 640x480 with 1 Axes>"
      ]
     },
     "metadata": {},
     "output_type": "display_data"
    }
   ],
   "source": [
    "sns.countplot(x=df.default_12month, hue=df['c_monthly_salary_group'])"
   ]
  },
  {
   "cell_type": "code",
   "execution_count": 47,
   "id": "8f66c8b0",
   "metadata": {},
   "outputs": [],
   "source": [
    "num_cols = ['r_spouse_income', 'c_monthly_salary', 'r_additional_income']\n",
    "for c in num_cols:\n",
    "        if c in df.columns:\n",
    "            df[c] = pd.to_numeric(df[c], errors='coerce')\n",
    "num_cols = [c for c in num_cols if c in df.columns]\n",
    "df[num_cols] = df[num_cols].fillna(0)"
   ]
  },
  {
   "cell_type": "code",
   "execution_count": 48,
   "id": "9eeb2659",
   "metadata": {},
   "outputs": [
    {
     "data": {
      "text/plain": [
       "<Axes: xlabel='default_12month', ylabel='all_income'>"
      ]
     },
     "execution_count": 48,
     "metadata": {},
     "output_type": "execute_result"
    },
    {
     "data": {
      "image/png": "[encoded data removed]",
      "text/plain": [
       "<Figure size 640x480 with 1 Axes>"
      ]
     },
     "metadata": {},
     "output_type": "display_data"
    }
   ],
   "source": [
    "df['all_income'] = df['r_spouse_income'].fillna(0) + df['c_monthly_salary'].fillna(0) + df['r_additional_income'].fillna(0)\n",
    "sns.boxplot(x=df.default_12month, y=df['all_income'])"
   ]
  },
  {
   "cell_type": "code",
   "execution_count": 45,
   "id": "eab5874f",
   "metadata": {},
   "outputs": [
    {
     "name": "stdout",
     "output_type": "stream",
     "text": [
      "1040200.0\n",
      "5000.0\n",
      "20913.69474849342\n",
      "17050.0\n"
     ]
    }
   ],
   "source": [
    "print(df['all_income'].max())\n",
    "print(df['all_income'].min())\n",
    "print(df['all_income'].mean())\n",
    "print(df['all_income'].median())"
   ]
  },
  {
   "cell_type": "code",
   "execution_count": 43,
   "id": "9a0916dd",
   "metadata": {},
   "outputs": [],
   "source": [
    "col = 'all_income'\n",
    "Q1 = df[col].quantile(0.25)\n",
    "Q3 = df[col].quantile(0.75)\n",
    "IQR = Q3 - Q1\n",
    "\n",
    "df_no_outliers = df[(df[col] >= Q1 - 1.5 * IQR) & (df[col] <= Q3 + 1.5 * IQR)]"
   ]
  },
  {
   "cell_type": "code",
   "execution_count": 44,
   "id": "822026b5",
   "metadata": {},
   "outputs": [
    {
     "data": {
      "text/plain": [
       "<Axes: xlabel='default_12month', ylabel='all_income'>"
      ]
     },
     "execution_count": 44,
     "metadata": {},
     "output_type": "execute_result"
    },
    {
     "data": {
      "image/png": "[encoded data removed]",
      "text/plain": [
       "<Figure size 640x480 with 1 Axes>"
      ]
     },
     "metadata": {},
     "output_type": "display_data"
    }
   ],
   "source": [
    "sns.boxplot(x=df.default_12month, y=df_no_outliers['all_income'])"
   ]
  }
 ],
 "metadata": {
  "kernelspec": {
   "display_name": ".venv",
   "language": "python",
   "name": "python3"
  },
  "language_info": {
   "codemirror_mode": {
    "name": "ipython",
    "version": 3
   },
   "file_extension": ".py",
   "mimetype": "text/x-python",
   "name": "python",
   "nbconvert_exporter": "python",
   "pygments_lexer": "ipython3",
   "version": "3.10.12"
  }
 },
 "nbformat": 4,
 "nbformat_minor": 5
}
