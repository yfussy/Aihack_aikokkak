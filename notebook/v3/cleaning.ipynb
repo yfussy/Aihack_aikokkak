{
 "cells": [
  {
   "cell_type": "code",
   "execution_count": 13,
   "id": "a426a07a",
   "metadata": {},
   "outputs": [],
   "source": [
    "import pandas as pd\n",
    "from sklearn.model_selection import train_test_split\n",
    "from sklearn.metrics import classification_report\n",
    "from datetime import datetime"
   ]
  },
  {
   "cell_type": "code",
   "execution_count": 14,
   "id": "681e808f",
   "metadata": {},
   "outputs": [],
   "source": [
    "import sys\n",
    "import os\n",
    "root_path = os.path.abspath(os.path.join(os.getcwd(), \"../..\"))\n",
    "if root_path not in sys.path:\n",
    "    sys.path.append(root_path)\n",
    "from fileDir import getDataDir, getModelDir, getPredDir"
   ]
  },
  {
   "cell_type": "code",
   "execution_count": 15,
   "id": "71a55c3b",
   "metadata": {},
   "outputs": [],
   "source": [
    "df = pd.read_csv(getDataDir(\"train\", 3))"
   ]
  },
  {
   "cell_type": "code",
   "execution_count": 16,
   "id": "057e7cff",
   "metadata": {},
   "outputs": [
    {
     "data": {
      "text/plain": [
       "Index(['ID', 'pms_i_ymd', 'Area', 'Province', 'Shop Name', 'gender',\n",
       "       'date_of_birth_week', 'date_of_birth', 'marital_status',\n",
       "       'number_of_children', 'postal_code', 'tel_category',\n",
       "       'number_of_resident', 'living_period_year', 'living_period_month',\n",
       "       'type_of_residence', 'c_postal_code', 'c_business_type',\n",
       "       'c_number_of_employee', 'c_position', 'c_occupation',\n",
       "       'c_employment_status', 'c_monthly_salary', 'c_number_of_working_year',\n",
       "       'c_number_of_working_month', 'c_salary_payment_methods',\n",
       "       'c_date_of_salary_payment', 'media', 'place_for_sending_information',\n",
       "       'r_expected_credit_limit', 'r_propose', 'r_allloan_case',\n",
       "       'r_allloan_amount', 'r_additional_income', 'r_spouse_income',\n",
       "       'r_generalcode1', 'r_generalcode2', 'r_generalcode3', 'r_generalcode4',\n",
       "       'r_generalcode5', 'apply', 'default_12month'],\n",
       "      dtype='object')"
      ]
     },
     "execution_count": 16,
     "metadata": {},
     "output_type": "execute_result"
    }
   ],
   "source": [
    "df.columns"
   ]
  },
  {
   "cell_type": "code",
   "execution_count": 17,
   "id": "74a1cc6b",
   "metadata": {},
   "outputs": [],
   "source": [
    "df[\"pms_i_ymd\"] = pd.to_datetime(df[\"pms_i_ymd\"], errors=\"coerce\")\n",
    "df[\"date_of_birth\"] = pd.to_datetime(df[\"date_of_birth\"], errors=\"coerce\")\n",
    "df[\"age\"] = ((df[\"pms_i_ymd\"] - df[\"date_of_birth\"]).dt.days / 365).astype(float)\n",
    "df[\"years_at_residence\"] = df[\"living_period_year\"] + df[\"living_period_month\"] / 12\n",
    "df[\"years_at_job\"] = df[\"c_number_of_working_year\"] + df[\"c_number_of_working_month\"] / 12\n",
    "df[\"total_income\"] = df[\"c_monthly_salary\"] + df[\"r_additional_income\"] + df[\"r_spouse_income\"]\n",
    "df[\"debt_to_income_ratio\"] = df[\"r_allloan_amount\"] / (df[\"total_income\"] + 1)\n",
    "df[\"loan_burden_per_income\"] = df[\"r_expected_credit_limit\"] / (df[\"total_income\"] + 1)"
   ]
  },
  {
   "cell_type": "code",
   "execution_count": 18,
   "id": "1455bbfa",
   "metadata": {},
   "outputs": [],
   "source": [
    "df_original = df.copy()\n",
    "columns_to_remove = ['Area', 'Province', 'Shop Name','marital_status',\n",
    "       'number_of_children', 'postal_code', 'number_of_resident', 'c_postal_code',\n",
    "       'c_number_of_employee','media', 'place_for_sending_information', 'r_generalcode4',\n",
    "       'r_generalcode5' ]\n",
    "removed_data = df[columns_to_remove].copy()\n",
    "df = df.drop(columns=columns_to_remove)"
   ]
  },
  {
   "cell_type": "markdown",
   "id": "1fe9ebad",
   "metadata": {},
   "source": []
  },
  {
   "cell_type": "markdown",
   "id": "663a11ec",
   "metadata": {},
   "source": []
  },
  {
   "cell_type": "code",
   "execution_count": 19,
   "id": "8c1829b8",
   "metadata": {},
   "outputs": [
    {
     "data": {
      "text/html": [
       "<div>\n",
       "<style scoped>\n",
       "    .dataframe tbody tr th:only-of-type {\n",
       "        vertical-align: middle;\n",
       "    }\n",
       "\n",
       "    .dataframe tbody tr th {\n",
       "        vertical-align: top;\n",
       "    }\n",
       "\n",
       "    .dataframe thead th {\n",
       "        text-align: right;\n",
       "    }\n",
       "</style>\n",
       "<table border=\"1\" class=\"dataframe\">\n",
       "  <thead>\n",
       "    <tr style=\"text-align: right;\">\n",
       "      <th></th>\n",
       "      <th>ID</th>\n",
       "      <th>pms_i_ymd</th>\n",
       "      <th>gender</th>\n",
       "      <th>date_of_birth_week</th>\n",
       "      <th>date_of_birth</th>\n",
       "      <th>tel_category</th>\n",
       "      <th>living_period_year</th>\n",
       "      <th>living_period_month</th>\n",
       "      <th>type_of_residence</th>\n",
       "      <th>c_business_type</th>\n",
       "      <th>...</th>\n",
       "      <th>r_generalcode2</th>\n",
       "      <th>r_generalcode3</th>\n",
       "      <th>apply</th>\n",
       "      <th>default_12month</th>\n",
       "      <th>age</th>\n",
       "      <th>years_at_residence</th>\n",
       "      <th>years_at_job</th>\n",
       "      <th>total_income</th>\n",
       "      <th>debt_to_income_ratio</th>\n",
       "      <th>loan_burden_per_income</th>\n",
       "    </tr>\n",
       "  </thead>\n",
       "  <tbody>\n",
       "    <tr>\n",
       "      <th>0</th>\n",
       "      <td>202412000001</td>\n",
       "      <td>2018-04-02</td>\n",
       "      <td>F2</td>\n",
       "      <td>6</td>\n",
       "      <td>1971-05-18</td>\n",
       "      <td>3</td>\n",
       "      <td>5</td>\n",
       "      <td>0</td>\n",
       "      <td>6</td>\n",
       "      <td>7</td>\n",
       "      <td>...</td>\n",
       "      <td>NaN</td>\n",
       "      <td>2.0</td>\n",
       "      <td>WI</td>\n",
       "      <td>0</td>\n",
       "      <td>46.906849</td>\n",
       "      <td>5.000000</td>\n",
       "      <td>5.000000</td>\n",
       "      <td>9070.0</td>\n",
       "      <td>0.0</td>\n",
       "      <td>4.409657</td>\n",
       "    </tr>\n",
       "    <tr>\n",
       "      <th>1</th>\n",
       "      <td>202412000002</td>\n",
       "      <td>2018-04-02</td>\n",
       "      <td>M</td>\n",
       "      <td>4</td>\n",
       "      <td>1983-01-05</td>\n",
       "      <td>3</td>\n",
       "      <td>4</td>\n",
       "      <td>0</td>\n",
       "      <td>6</td>\n",
       "      <td>7</td>\n",
       "      <td>...</td>\n",
       "      <td>NaN</td>\n",
       "      <td>1.0</td>\n",
       "      <td>WI</td>\n",
       "      <td>0</td>\n",
       "      <td>35.263014</td>\n",
       "      <td>4.000000</td>\n",
       "      <td>5.333333</td>\n",
       "      <td>16765.0</td>\n",
       "      <td>0.0</td>\n",
       "      <td>1.192890</td>\n",
       "    </tr>\n",
       "    <tr>\n",
       "      <th>2</th>\n",
       "      <td>202412000003</td>\n",
       "      <td>2018-04-03</td>\n",
       "      <td>F2</td>\n",
       "      <td>5</td>\n",
       "      <td>1992-11-19</td>\n",
       "      <td>3</td>\n",
       "      <td>5</td>\n",
       "      <td>2</td>\n",
       "      <td>3</td>\n",
       "      <td>7</td>\n",
       "      <td>...</td>\n",
       "      <td>NaN</td>\n",
       "      <td>1.0</td>\n",
       "      <td>DS</td>\n",
       "      <td>0</td>\n",
       "      <td>25.386301</td>\n",
       "      <td>5.166667</td>\n",
       "      <td>0.250000</td>\n",
       "      <td>NaN</td>\n",
       "      <td>NaN</td>\n",
       "      <td>NaN</td>\n",
       "    </tr>\n",
       "    <tr>\n",
       "      <th>3</th>\n",
       "      <td>202412000004</td>\n",
       "      <td>2018-04-04</td>\n",
       "      <td>M</td>\n",
       "      <td>7</td>\n",
       "      <td>1990-11-03</td>\n",
       "      <td>3</td>\n",
       "      <td>4</td>\n",
       "      <td>3</td>\n",
       "      <td>5</td>\n",
       "      <td>3</td>\n",
       "      <td>...</td>\n",
       "      <td>NaN</td>\n",
       "      <td>1.0</td>\n",
       "      <td>WI</td>\n",
       "      <td>0</td>\n",
       "      <td>27.435616</td>\n",
       "      <td>4.250000</td>\n",
       "      <td>4.250000</td>\n",
       "      <td>13659.0</td>\n",
       "      <td>0.0</td>\n",
       "      <td>1.098097</td>\n",
       "    </tr>\n",
       "    <tr>\n",
       "      <th>4</th>\n",
       "      <td>202412000005</td>\n",
       "      <td>2018-04-04</td>\n",
       "      <td>F2</td>\n",
       "      <td>6</td>\n",
       "      <td>1994-12-16</td>\n",
       "      <td>3</td>\n",
       "      <td>0</td>\n",
       "      <td>4</td>\n",
       "      <td>4</td>\n",
       "      <td>7</td>\n",
       "      <td>...</td>\n",
       "      <td>NaN</td>\n",
       "      <td>1.0</td>\n",
       "      <td>DS</td>\n",
       "      <td>1</td>\n",
       "      <td>23.315068</td>\n",
       "      <td>0.333333</td>\n",
       "      <td>0.166667</td>\n",
       "      <td>7440.0</td>\n",
       "      <td>0.0</td>\n",
       "      <td>1.343905</td>\n",
       "    </tr>\n",
       "  </tbody>\n",
       "</table>\n",
       "<p>5 rows × 35 columns</p>\n",
       "</div>"
      ],
      "text/plain": [
       "             ID  pms_i_ymd gender  date_of_birth_week date_of_birth  \\\n",
       "0  202412000001 2018-04-02     F2                   6    1971-05-18   \n",
       "1  202412000002 2018-04-02      M                   4    1983-01-05   \n",
       "2  202412000003 2018-04-03     F2                   5    1992-11-19   \n",
       "3  202412000004 2018-04-04      M                   7    1990-11-03   \n",
       "4  202412000005 2018-04-04     F2                   6    1994-12-16   \n",
       "\n",
       "   tel_category  living_period_year  living_period_month  type_of_residence  \\\n",
       "0             3                   5                    0                  6   \n",
       "1             3                   4                    0                  6   \n",
       "2             3                   5                    2                  3   \n",
       "3             3                   4                    3                  5   \n",
       "4             3                   0                    4                  4   \n",
       "\n",
       "   c_business_type  ...  r_generalcode2  r_generalcode3  apply  \\\n",
       "0                7  ...             NaN             2.0     WI   \n",
       "1                7  ...             NaN             1.0     WI   \n",
       "2                7  ...             NaN             1.0     DS   \n",
       "3                3  ...             NaN             1.0     WI   \n",
       "4                7  ...             NaN             1.0     DS   \n",
       "\n",
       "   default_12month        age  years_at_residence  years_at_job  total_income  \\\n",
       "0                0  46.906849            5.000000      5.000000        9070.0   \n",
       "1                0  35.263014            4.000000      5.333333       16765.0   \n",
       "2                0  25.386301            5.166667      0.250000           NaN   \n",
       "3                0  27.435616            4.250000      4.250000       13659.0   \n",
       "4                1  23.315068            0.333333      0.166667        7440.0   \n",
       "\n",
       "   debt_to_income_ratio  loan_burden_per_income  \n",
       "0                   0.0                4.409657  \n",
       "1                   0.0                1.192890  \n",
       "2                   NaN                     NaN  \n",
       "3                   0.0                1.098097  \n",
       "4                   0.0                1.343905  \n",
       "\n",
       "[5 rows x 35 columns]"
      ]
     },
     "execution_count": 19,
     "metadata": {},
     "output_type": "execute_result"
    }
   ],
   "source": [
    "df.head()"
   ]
  },
  {
   "cell_type": "code",
   "execution_count": 20,
   "id": "f6926dde",
   "metadata": {},
   "outputs": [
    {
     "data": {
      "text/plain": [
       "(32524, 35)"
      ]
     },
     "execution_count": 20,
     "metadata": {},
     "output_type": "execute_result"
    }
   ],
   "source": [
    "df.shape"
   ]
  },
  {
   "cell_type": "code",
   "execution_count": 21,
   "id": "48a9f0f7",
   "metadata": {},
   "outputs": [
    {
     "data": {
      "text/plain": [
       "(11522, 35)"
      ]
     },
     "execution_count": 21,
     "metadata": {},
     "output_type": "execute_result"
    }
   ],
   "source": [
    "df = df.dropna()\n",
    "df.shape"
   ]
  },
  {
   "cell_type": "code",
   "execution_count": 22,
   "id": "813b7333",
   "metadata": {},
   "outputs": [],
   "source": [
    "columns_to_remove2 = [\"pms_i_ymd\", \"date_of_birth\", \"living_period_year\",\n",
    "         \"living_period_month\", \"c_number_of_working_year\",\n",
    "         \"c_number_of_working_month\"]\n",
    "removed_data2 = df[columns_to_remove2].copy()\n",
    "df = df.drop(columns=columns_to_remove2)"
   ]
  },
  {
   "cell_type": "code",
   "execution_count": 23,
   "id": "8fc19fd2",
   "metadata": {},
   "outputs": [
    {
     "data": {
      "text/plain": [
       "(11522, 29)"
      ]
     },
     "execution_count": 23,
     "metadata": {},
     "output_type": "execute_result"
    }
   ],
   "source": [
    "df.shape\n"
   ]
  },
  {
   "cell_type": "code",
   "execution_count": 24,
   "id": "fde6fd84",
   "metadata": {},
   "outputs": [],
   "source": [
    "df.to_csv(getDataDir(\"cleaned\", 3))"
   ]
  },
  {
   "cell_type": "code",
   "execution_count": null,
   "id": "43aae7d0",
   "metadata": {},
   "outputs": [],
   "source": [
    "df[\"pms_i_ymd\"] = pd.to_datetime(df[\"pms_i_ymd\"], errors=\"coerce\")\n",
    "df[\"date_of_birth\"] = pd.to_datetime(df[\"date_of_birth\"], errors=\"coerce\")\n",
    "df[\"age\"] = ((df[\"pms_i_ymd\"] - df[\"date_of_birth\"]).dt.days / 365).astype(float)\n",
    "df[\"years_at_residence\"] = df[\"living_period_year\"] + df[\"living_period_month\"] / 12\n",
    "df[\"years_at_job\"] = df[\"c_number_of_working_year\"] + df[\"c_number_of_working_month\"] / 12\n",
    "df[\"total_income\"] = df[\"c_monthly_salary\"] + df[\"r_additional_income\"] + df[\"r_spouse_income\"]\n",
    "df[\"debt_to_income_ratio\"] = df[\"r_allloan_amount\"] / (df[\"total_income\"] + 1)\n",
    "df[\"loan_burden_per_income\"] = df[\"r_expected_credit_limit\"] / (df[\"total_income\"] + 1)\n",
    "\n",
    "df_original = df.copy()\n",
    "columns_to_remove = ['Area', 'Province', 'Shop Name','marital_status',\n",
    "       'number_of_children', 'postal_code', 'number_of_resident', 'c_postal_code',\n",
    "       'c_number_of_employee','media', 'place_for_sending_information', 'r_generalcode4',\n",
    "       'r_generalcode5' ]\n",
    "removed_data = df[columns_to_remove].copy()\n",
    "df = df.drop(columns=columns_to_remove)\n",
    "\n",
    "df = df.dropna()\n",
    "\n",
    "columns_to_remove2 = [\"pms_i_ymd\", \"date_of_birth\", \"living_period_year\",\n",
    "         \"living_period_month\", \"c_number_of_working_year\",\n",
    "         \"c_number_of_working_month\"]\n",
    "removed_data2 = df[columns_to_remove2].copy()\n",
    "df = df.drop(columns=columns_to_remove2)\n",
    "\n",
    "logistic_train_df = df"
   ]
  }
 ],
 "metadata": {
  "kernelspec": {
   "display_name": ".venv",
   "language": "python",
   "name": "python3"
  },
  "language_info": {
   "codemirror_mode": {
    "name": "ipython",
    "version": 3
   },
   "file_extension": ".py",
   "mimetype": "text/x-python",
   "name": "python",
   "nbconvert_exporter": "python",
   "pygments_lexer": "ipython3",
   "version": "3.10.12"
  }
 },
 "nbformat": 4,
 "nbformat_minor": 5
}
