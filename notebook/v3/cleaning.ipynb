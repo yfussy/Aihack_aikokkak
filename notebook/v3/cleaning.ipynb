{
 "cells": [
  {
   "cell_type": "code",
   "execution_count": 1,
   "id": "b3b86149",
   "metadata": {},
   "outputs": [],
   "source": [
    "from sklearn.model_selection import train_test_split\n",
    "from sklearn.metrics import classification_report\n",
    "import numpy as np\n",
    "import pandas as pd\n",
    "import matplotlib.pyplot as plt\n",
    "from datetime import datetime"
   ]
  },
  {
   "cell_type": "code",
   "execution_count": 2,
   "id": "e8fc7707",
   "metadata": {},
   "outputs": [
    {
     "name": "stderr",
     "output_type": "stream",
     "text": [
      "/home/megarina/UNI/testoa/Aihack_aikokkak/.venv/lib/python3.10/site-packages/tqdm/auto.py:21: TqdmWarning: IProgress not found. Please update jupyter and ipywidgets. See https://ipywidgets.readthedocs.io/en/stable/user_install.html\n",
      "  from .autonotebook import tqdm as notebook_tqdm\n"
     ]
    }
   ],
   "source": [
    "import sys\n",
    "import os\n",
    "root_path = os.path.abspath(os.path.join(os.getcwd(), \"../..\"))\n",
    "if root_path not in sys.path:\n",
    "    sys.path.append(root_path)\n",
    "from fileDir import getDataDir\n",
    "from modules.v1.catboostModel import trainCatboost, testCatboost"
   ]
  },
  {
   "cell_type": "code",
   "execution_count": 3,
   "id": "a0baa5c7",
   "metadata": {},
   "outputs": [],
   "source": [
    "VERSION = 3\n",
    "TRAIN_PATH = getDataDir(\"train\")\n",
    "TEST_PATH = getDataDir(\"test\")\n",
    "CLEANED_TRAIN_PATH = getDataDir(\"train\", VERSION)\n",
    "CLEANED_TEST_PATH = getDataDir(\"test\", VERSION)"
   ]
  },
  {
   "cell_type": "markdown",
   "id": "67a42394",
   "metadata": {},
   "source": [
    "## Clean Datasets"
   ]
  },
  {
   "cell_type": "code",
   "execution_count": 4,
   "id": "9f9db62b",
   "metadata": {},
   "outputs": [],
   "source": [
    "cat_features = [\n",
    "    'gender','tel_category','type_of_residence','postal_code',\n",
    "    'c_business_type','c_position','c_occupation','c_employment_status', 'r_generalcode1',\n",
    "    'c_salary_payment_methods','r_propose','r_generalcode2',\n",
    "    'r_generalcode3','apply'\n",
    "]"
   ]
  },
  {
   "cell_type": "code",
   "execution_count": null,
   "id": "6a60bfa0",
   "metadata": {},
   "outputs": [],
   "source": [
    "def cleanDataset(df, cleanPath):\n",
    "    # Drop unnecessary columns (keep ID)\n",
    "    drop_cols = ['pms_i_ymd','Area','Province','Shop Name','date_of_birth_week','marital_status',\n",
    "                 'c_postal_code','nummber_of_resident','c_number_of_employee', 'media','number_of_children',\n",
    "                 'place_for_sending_information','r_generalcode4', 'r_generalcode5', 'r_allloan_case']\n",
    "    df = df.drop(columns=drop_cols, errors='ignore')\n",
    "\n",
    "    # Cut incorrect data\n",
    "    df.loc[df['r_generalcode1'] > 2, 'r_generalcode1'] = 0\n",
    "    df.loc[df['r_generalcode1'] < 1, 'r_generalcode1'] = 0\n",
    "    df.loc[df['c_date_of_salary_payment'] > 31, 'c_date_of_salary_payment'] = 31\n",
    "    df.loc[df['c_date_of_salary_payment'] < 1, 'c_date_of_salary_payment'] = 1\n",
    "    df['c_date_of_salary_payment'] = df['c_date_of_salary_payment'].fillna(31)\n",
    "    df.loc[df['postal_code'] < 10000, 'postal_code'] = np.nan\n",
    "    df['1gen'] = df['r_generalcode1']\n",
    "\n",
    "\n",
    "    #spouse\n",
    "    df.loc[df['1gen'] == 2, '1gen'] = 0\n",
    "    df['r_spouse_income'] = df['1gen'].fillna(0)*df['r_spouse_income'].fillna(0)\n",
    "    df.drop(columns=['1gen'], inplace=True)\n",
    "\n",
    "    # Combine year/month features safely\n",
    "    if {'living_period_month','living_period_year'}.issubset(df.columns):\n",
    "        df['living_period_year'] = (df['living_period_month'].fillna(0) + df['living_period_year'].fillna(0) * 12)/12\n",
    "        df.drop(columns=['living_period_month'], inplace=True)\n",
    "\n",
    "    if {'c_number_of_working_month','c_number_of_working_year'}.issubset(df.columns):\n",
    "        df['c_number_of_working_month'] = df['c_number_of_working_month'].fillna(0) + df['c_number_of_working_year'].fillna(0) * 12\n",
    "        df.drop(columns=['c_number_of_working_year'], inplace=True)\n",
    "\n",
    "    # Convert birth date to age\n",
    "    if 'date_of_birth' in df.columns:\n",
    "        df['date_of_birth'] = pd.to_datetime(df['date_of_birth'], errors='coerce')\n",
    "        df['age'] = 2025 - df['date_of_birth'].dt.year\n",
    "        df.drop(columns=['date_of_birth'], inplace=True)\n",
    "\n",
    "    # Ensure numeric columns are numeric\n",
    "    num_cols = ['living_period_year','c_date_of_salary_payment', 'all_income',\n",
    "                'c_monthly_salary','c_number_of_working_month','r_expected_credit_limit',\n",
    "                'r_allloan_amount','r_additional_income','age','r_spouse_income']\n",
    "\n",
    "    for c in num_cols:\n",
    "        if c in df.columns:\n",
    "            df[c] = pd.to_numeric(df[c], errors='coerce')\n",
    "    num_cols = [c for c in num_cols if c in df.columns]\n",
    "    df[num_cols] = df[num_cols].fillna(df[num_cols].median())\n",
    "\n",
    "\n",
    "    # Fill categorical columns\n",
    "    cat_cols = ['gender','tel_category','type_of_residence','postal_code',\n",
    "                'c_business_type','c_position','c_occupation','c_employment_status','r_generalcode1',\n",
    "                'c_salary_payment_methods','r_propose','r_generalcode2',\n",
    "                'r_generalcode3','apply']\n",
    "    \n",
    "    df.loc[df['postal_code'] < 10000, 'postal_code'] = np.nan\n",
    "    df.loc[df['r_generalcode3'] < 1, 'r_generalcode3'] = np.nan\n",
    "    for c in cat_features:\n",
    "        df[c] = df[c].astype(str)\n",
    "\n",
    "    df.replace([\"NaN\", \"nan\", \"None\", \"\"], np.nan, inplace=True)\n",
    "    # df.loc[df['postal_code'] < 10000, 'postal_code'] = np.nan\n",
    "    # df.loc[df['r_generalcode3'] < 1, 'r_generalcode3'] = np.nan\n",
    "    \n",
    "    # for c in cat_cols:\n",
    "    #     if c in df.columns:\n",
    "    #         df[c] = df[c].fillna('Unknown')\n",
    "    \n",
    "    # for c in cat_cols:\n",
    "    #     if c in df.columns:\n",
    "    #         df[c] = df[c].astype('category')\n",
    "    #         print(c)\n",
    "    #         print(df[c].cat.categories)\n",
    "            \n",
    "    print(df.head(8))\n",
    "    print(df.shape)\n",
    "    print(df.isna().sum().sum())\n",
    "    df.to_csv(cleanPath, index=False)\n",
    "    return df"
   ]
  },
  {
   "cell_type": "code",
   "execution_count": 15,
   "id": "6ec86cd9",
   "metadata": {},
   "outputs": [
    {
     "name": "stdout",
     "output_type": "stream",
     "text": [
      "             ID gender postal_code tel_category  number_of_resident  \\\n",
      "0  202412000001     F2     10400.0            3                   2   \n",
      "1  202412000002      M     10500.0            3                   3   \n",
      "2  202412000003     F2     10170.0            3                   6   \n",
      "3  202412000004      M     10500.0            3                   2   \n",
      "4  202412000005     F2     10120.0            3                   2   \n",
      "5  202412000006     F2     10400.0            3                   2   \n",
      "6  202412000007     F2     10120.0            3                   8   \n",
      "7  202412000008     F2     10120.0            3                   4   \n",
      "\n",
      "   living_period_year type_of_residence c_business_type c_position  \\\n",
      "0            5.000000                 6               7          5   \n",
      "1            4.000000                 6               7          5   \n",
      "2            5.166667                 3               7          4   \n",
      "3            4.250000                 5               3          5   \n",
      "4            0.333333                 4               7          5   \n",
      "5            2.000000                 6               8          4   \n",
      "6           25.000000                 1               8          4   \n",
      "7           10.000000                 6               4          5   \n",
      "\n",
      "  c_occupation  ... r_propose  r_allloan_amount  r_additional_income  \\\n",
      "0           55  ...       5.0                 0                  0.0   \n",
      "1           55  ...       6.0                 0               5000.0   \n",
      "2           53  ...       5.0             10000                  0.0   \n",
      "3           55  ...       5.0                 0                  0.0   \n",
      "4           55  ...       5.0                 0                  0.0   \n",
      "5           53  ...       5.0                 0                  0.0   \n",
      "6           53  ...       5.0                 0                  0.0   \n",
      "7           54  ...       5.0                 0                  0.0   \n",
      "\n",
      "  r_spouse_income  r_generalcode1  r_generalcode2 r_generalcode3  apply  \\\n",
      "0             0.0             NaN             NaN            2.0     WI   \n",
      "1             0.0             NaN             NaN            1.0     WI   \n",
      "2             0.0             NaN             NaN            1.0     DS   \n",
      "3             0.0             NaN             NaN            1.0     WI   \n",
      "4             0.0             NaN             NaN            1.0     DS   \n",
      "5             0.0             NaN             NaN            2.0     WI   \n",
      "6             0.0             NaN             NaN            1.0     WI   \n",
      "7             0.0             1.0             6.0            1.0     WI   \n",
      "\n",
      "   default_12month  age  \n",
      "0                0   54  \n",
      "1                0   42  \n",
      "2                0   33  \n",
      "3                0   35  \n",
      "4                1   31  \n",
      "5                0   32  \n",
      "6                0   32  \n",
      "7                0   41  \n",
      "\n",
      "[8 rows x 26 columns]\n",
      "(32524, 26)\n",
      "40257\n",
      "             ID gender postal_code tel_category  number_of_resident  \\\n",
      "0  202412000196     F2     10120.0            3                   4   \n",
      "1  202412000241     F2     10120.0            3                   5   \n",
      "2  202412000242     F2     10120.0            3                   1   \n",
      "3  202412000243     F1     10530.0            3                   6   \n",
      "4  202412000244      M     10700.0            3                   5   \n",
      "5  202412000245     F2     10120.0            3                   2   \n",
      "6  202412000246      M     10400.0            3                   2   \n",
      "7  202412000247      M     10160.0            3                   2   \n",
      "\n",
      "   living_period_year type_of_residence c_business_type c_position  \\\n",
      "0            9.000000                 6               7          5   \n",
      "1            3.166667                 6               4          5   \n",
      "2            2.000000                 6               4          5   \n",
      "3           10.000000                 3               5          2   \n",
      "4            1.333333                 6               5          4   \n",
      "5            2.333333                 6               8          5   \n",
      "6           13.000000                 6              12          4   \n",
      "7            2.000000                 6              11          4   \n",
      "\n",
      "  c_occupation  ... r_expected_credit_limit  r_propose  r_allloan_amount  \\\n",
      "0           55  ...                  5000.0        5.0                 0   \n",
      "1           54  ...                 10000.0        5.0             20000   \n",
      "2           54  ...                 20000.0        5.0             17000   \n",
      "3           20  ...                 50000.0        5.0             50000   \n",
      "4           51  ...                 10000.0        5.0                 0   \n",
      "5           55  ...                 25000.0        5.0             30000   \n",
      "6           40  ...                 30000.0        5.0                 0   \n",
      "7           51  ...                 30000.0        5.0                 0   \n",
      "\n",
      "  r_additional_income  r_spouse_income  r_generalcode1 r_generalcode2  \\\n",
      "0                 0.0          17000.0             1.0            4.0   \n",
      "1                 0.0          12700.0             1.0            3.0   \n",
      "2              1000.0              0.0             NaN            NaN   \n",
      "3                 0.0              0.0             NaN            NaN   \n",
      "4                 0.0          23000.0             1.0            5.0   \n",
      "5                 0.0              0.0             NaN            NaN   \n",
      "6              1000.0              0.0             NaN            NaN   \n",
      "7             30000.0              0.0             NaN            NaN   \n",
      "\n",
      "   r_generalcode3  apply  age  \n",
      "0             1.0     WI   44  \n",
      "1             2.0     WI   32  \n",
      "2             2.0     WI   49  \n",
      "3             2.0     WI   46  \n",
      "4             1.0     WI   37  \n",
      "5             2.0     WI   44  \n",
      "6             1.0     DS   43  \n",
      "7             2.0     DS   50  \n",
      "\n",
      "[8 rows x 25 columns]\n",
      "(8619, 25)\n",
      "10818\n"
     ]
    }
   ],
   "source": [
    "train_df = pd.read_csv(TRAIN_PATH)\n",
    "test_df = pd.read_csv(TEST_PATH)\n",
    "ids = test_df[\"ID\"].copy()\n",
    "\n",
    "train_df = cleanDataset(train_df, CLEANED_TRAIN_PATH)\n",
    "test_df = cleanDataset(test_df, CLEANED_TEST_PATH)\n"
   ]
  },
  {
   "cell_type": "markdown",
   "id": "21cb3566",
   "metadata": {},
   "source": [
    "## Testing"
   ]
  },
  {
   "cell_type": "code",
   "execution_count": 7,
   "id": "d2c7075a",
   "metadata": {},
   "outputs": [
    {
     "name": "stderr",
     "output_type": "stream",
     "text": [
      "[I 2025-10-31 22:20:30,253] A new study created in memory with name: no-name-9c833956-0a0a-4aee-b286-ebb3252105aa\n"
     ]
    },
    {
     "name": "stdout",
     "output_type": "stream",
     "text": [
      "No GPU detected -> using CPU training.\n",
      "Running hyperparameter tuning with Optuna...\n"
     ]
    },
    {
     "name": "stderr",
     "output_type": "stream",
     "text": [
      "  0%|          | 0/10 [00:00<?, ?it/s]Change of simpleCtr will not affect combinations ctrs.\n",
      "Change of simpleCtr will not affect combinations ctrs.\n",
      "Change of simpleCtr will not affect combinations ctrs.\n",
      "Change of simpleCtr will not affect combinations ctrs.\n",
      "Change of simpleCtr will not affect combinations ctrs.\n",
      "Change of simpleCtr will not affect combinations ctrs.\n",
      "Change of simpleCtr will not affect combinations ctrs.\n",
      "Change of simpleCtr will not affect combinations ctrs.\n",
      "Change of simpleCtr will not affect combinations ctrs.\n",
      "Change of simpleCtr will not affect combinations ctrs.\n",
      "Change of simpleCtr will not affect combinations ctrs.\n",
      "Change of simpleCtr will not affect combinations ctrs.\n",
      "Best trial: 0. Best value: 0.618256:  10%|█         | 1/10 [01:10<10:33, 70.44s/it]"
     ]
    },
    {
     "name": "stdout",
     "output_type": "stream",
     "text": [
      "[I 2025-10-31 22:21:40,689] Trial 0 finished with value: 0.6182561959168966 and parameters: {'bootstrap_type': 'Bernoulli', 'subsample': 0.5459633397433823, 'iterations': 777, 'simple_ctr': 'Buckets', 'depth': 7, 'learning_rate': 0.08397839971063478, 'l2_leaf_reg': 0.1743538925138322, 'random_strength': 2.226901097449556, 'grow_policy': 'SymmetricTree', 'leaf_estimation_iterations': 2, 'leaf_estimation_method': 'Newton', 'one_hot_max_size': 6, 'max_ctr_complexity': 2, 'auto_class_weights': 'Balanced', 'od_type': 'IncToDec', 'od_wait': 54}. Best is trial 0 with value: 0.6182561959168966.\n"
     ]
    },
    {
     "name": "stderr",
     "output_type": "stream",
     "text": [
      "Change of simpleCtr will not affect combinations ctrs.\n",
      "Change of simpleCtr will not affect combinations ctrs.\n",
      "Change of simpleCtr will not affect combinations ctrs.\n",
      "Change of simpleCtr will not affect combinations ctrs.\n",
      "Change of simpleCtr will not affect combinations ctrs.\n",
      "Change of simpleCtr will not affect combinations ctrs.\n",
      "Change of simpleCtr will not affect combinations ctrs.\n",
      "Change of simpleCtr will not affect combinations ctrs.\n",
      "Change of simpleCtr will not affect combinations ctrs.\n",
      "Change of simpleCtr will not affect combinations ctrs.\n",
      "Change of simpleCtr will not affect combinations ctrs.\n",
      "Change of simpleCtr will not affect combinations ctrs.\n",
      "Best trial: 1. Best value: 0.621:  20%|██        | 2/10 [02:28<10:00, 75.04s/it]   "
     ]
    },
    {
     "name": "stdout",
     "output_type": "stream",
     "text": [
      "[I 2025-10-31 22:22:58,943] Trial 1 finished with value: 0.6210001830673295 and parameters: {'bootstrap_type': 'Bernoulli', 'subsample': 0.9824557384096, 'iterations': 978, 'simple_ctr': 'BinarizedTargetMeanValue', 'depth': 3, 'learning_rate': 0.0584762481240694, 'l2_leaf_reg': 2.5611991841050474, 'random_strength': 1.997677522767386, 'grow_policy': 'SymmetricTree', 'leaf_estimation_iterations': 2, 'leaf_estimation_method': 'Newton', 'one_hot_max_size': 4, 'max_ctr_complexity': 2, 'auto_class_weights': 'Balanced', 'od_type': 'IncToDec', 'od_wait': 68}. Best is trial 1 with value: 0.6210001830673295.\n"
     ]
    },
    {
     "name": "stderr",
     "output_type": "stream",
     "text": [
      "Change of simpleCtr will not affect combinations ctrs.\n",
      "Change of simpleCtr will not affect combinations ctrs.\n",
      "Change of simpleCtr will not affect combinations ctrs.\n",
      "Change of simpleCtr will not affect combinations ctrs.\n",
      "Change of simpleCtr will not affect combinations ctrs.\n",
      "Change of simpleCtr will not affect combinations ctrs.\n",
      "Change of simpleCtr will not affect combinations ctrs.\n",
      "Change of simpleCtr will not affect combinations ctrs.\n",
      "Change of simpleCtr will not affect combinations ctrs.\n",
      "Change of simpleCtr will not affect combinations ctrs.\n",
      "Change of simpleCtr will not affect combinations ctrs.\n",
      "Change of simpleCtr will not affect combinations ctrs.\n",
      "Best trial: 2. Best value: 0.625358:  30%|███       | 3/10 [03:43<08:45, 75.05s/it]"
     ]
    },
    {
     "name": "stdout",
     "output_type": "stream",
     "text": [
      "[I 2025-10-31 22:24:14,004] Trial 2 finished with value: 0.625358464373518 and parameters: {'bootstrap_type': 'Bernoulli', 'subsample': 0.6711898397865865, 'iterations': 622, 'simple_ctr': 'Buckets', 'depth': 6, 'learning_rate': 0.05075165327681962, 'l2_leaf_reg': 0.03149266794850976, 'random_strength': 0.17270770750086112, 'grow_policy': 'Lossguide', 'leaf_estimation_iterations': 2, 'leaf_estimation_method': 'Newton', 'one_hot_max_size': 7, 'max_ctr_complexity': 2, 'auto_class_weights': None, 'od_type': 'IncToDec', 'od_wait': 49}. Best is trial 2 with value: 0.625358464373518.\n"
     ]
    },
    {
     "name": "stderr",
     "output_type": "stream",
     "text": [
      "Change of simpleCtr will not affect combinations ctrs.\n",
      "Change of simpleCtr will not affect combinations ctrs.\n",
      "Change of simpleCtr will not affect combinations ctrs.\n",
      "Change of simpleCtr will not affect combinations ctrs.\n",
      "Change of simpleCtr will not affect combinations ctrs.\n",
      "Change of simpleCtr will not affect combinations ctrs.\n",
      "Change of simpleCtr will not affect combinations ctrs.\n",
      "Change of simpleCtr will not affect combinations ctrs.\n",
      "Change of simpleCtr will not affect combinations ctrs.\n",
      "Change of simpleCtr will not affect combinations ctrs.\n",
      "Change of simpleCtr will not affect combinations ctrs.\n",
      "Change of simpleCtr will not affect combinations ctrs.\n",
      "Best trial: 2. Best value: 0.625358:  40%|████      | 4/10 [05:28<08:40, 86.69s/it]"
     ]
    },
    {
     "name": "stdout",
     "output_type": "stream",
     "text": [
      "[I 2025-10-31 22:25:58,541] Trial 3 finished with value: 0.607692025332588 and parameters: {'bootstrap_type': 'Bernoulli', 'subsample': 0.9511791645268823, 'iterations': 673, 'simple_ctr': 'Counter', 'depth': 3, 'learning_rate': 0.024352210391897854, 'l2_leaf_reg': 2.9613531632300796, 'random_strength': 0.12426203728338577, 'grow_policy': 'SymmetricTree', 'leaf_estimation_iterations': 1, 'leaf_estimation_method': 'Gradient', 'one_hot_max_size': 2, 'max_ctr_complexity': 3, 'auto_class_weights': None, 'od_type': 'IncToDec', 'od_wait': 77}. Best is trial 2 with value: 0.625358464373518.\n"
     ]
    },
    {
     "name": "stderr",
     "output_type": "stream",
     "text": [
      "Change of simpleCtr will not affect combinations ctrs.\n",
      "Change of simpleCtr will not affect combinations ctrs.\n",
      "Change of simpleCtr will not affect combinations ctrs.\n",
      "Change of simpleCtr will not affect combinations ctrs.\n",
      "Change of simpleCtr will not affect combinations ctrs.\n",
      "Change of simpleCtr will not affect combinations ctrs.\n",
      "Change of simpleCtr will not affect combinations ctrs.\n",
      "Change of simpleCtr will not affect combinations ctrs.\n",
      "Change of simpleCtr will not affect combinations ctrs.\n",
      "Change of simpleCtr will not affect combinations ctrs.\n",
      "Change of simpleCtr will not affect combinations ctrs.\n",
      "Change of simpleCtr will not affect combinations ctrs.\n",
      "Best trial: 2. Best value: 0.625358:  50%|█████     | 5/10 [08:53<10:47, 129.46s/it]"
     ]
    },
    {
     "name": "stdout",
     "output_type": "stream",
     "text": [
      "[I 2025-10-31 22:29:23,828] Trial 4 finished with value: 0.6211253223890972 and parameters: {'bootstrap_type': 'Bernoulli', 'subsample': 0.7411137522992517, 'iterations': 592, 'simple_ctr': 'Buckets', 'depth': 8, 'learning_rate': 0.010996580800985251, 'l2_leaf_reg': 0.03483580882637811, 'random_strength': 1.5460845709998845, 'grow_policy': 'Lossguide', 'leaf_estimation_iterations': 5, 'leaf_estimation_method': 'Gradient', 'one_hot_max_size': 9, 'max_ctr_complexity': 2, 'auto_class_weights': None, 'od_type': 'IncToDec', 'od_wait': 74}. Best is trial 2 with value: 0.625358464373518.\n"
     ]
    },
    {
     "name": "stderr",
     "output_type": "stream",
     "text": [
      "Change of simpleCtr will not affect combinations ctrs.\n",
      "Change of simpleCtr will not affect combinations ctrs.\n",
      "Change of simpleCtr will not affect combinations ctrs.\n",
      "Change of simpleCtr will not affect combinations ctrs.\n",
      "Change of simpleCtr will not affect combinations ctrs.\n",
      "Change of simpleCtr will not affect combinations ctrs.\n",
      "Change of simpleCtr will not affect combinations ctrs.\n",
      "Change of simpleCtr will not affect combinations ctrs.\n",
      "Change of simpleCtr will not affect combinations ctrs.\n",
      "Change of simpleCtr will not affect combinations ctrs.\n",
      "Change of simpleCtr will not affect combinations ctrs.\n",
      "Change of simpleCtr will not affect combinations ctrs.\n",
      "Best trial: 2. Best value: 0.625358:  60%|██████    | 6/10 [12:30<10:36, 159.13s/it]"
     ]
    },
    {
     "name": "stdout",
     "output_type": "stream",
     "text": [
      "[I 2025-10-31 22:33:00,554] Trial 5 finished with value: 0.6184160080060255 and parameters: {'bootstrap_type': 'Bernoulli', 'subsample': 0.9857099010353176, 'iterations': 695, 'simple_ctr': 'BinarizedTargetMeanValue', 'depth': 5, 'learning_rate': 0.03429550572600413, 'l2_leaf_reg': 0.473040134512008, 'random_strength': 2.471132953387456, 'grow_policy': 'SymmetricTree', 'leaf_estimation_iterations': 4, 'leaf_estimation_method': 'Gradient', 'one_hot_max_size': 3, 'max_ctr_complexity': 3, 'auto_class_weights': None, 'od_type': 'IncToDec', 'od_wait': 87}. Best is trial 2 with value: 0.625358464373518.\n"
     ]
    },
    {
     "name": "stderr",
     "output_type": "stream",
     "text": [
      "Change of simpleCtr will not affect combinations ctrs.\n",
      "Change of simpleCtr will not affect combinations ctrs.\n",
      "Change of simpleCtr will not affect combinations ctrs.\n",
      "Change of simpleCtr will not affect combinations ctrs.\n",
      "Change of simpleCtr will not affect combinations ctrs.\n",
      "Change of simpleCtr will not affect combinations ctrs.\n",
      "Change of simpleCtr will not affect combinations ctrs.\n",
      "Change of simpleCtr will not affect combinations ctrs.\n",
      "Change of simpleCtr will not affect combinations ctrs.\n",
      "Change of simpleCtr will not affect combinations ctrs.\n",
      "Change of simpleCtr will not affect combinations ctrs.\n",
      "Change of simpleCtr will not affect combinations ctrs.\n",
      "Best trial: 6. Best value: 0.625851:  70%|███████   | 7/10 [14:13<07:02, 140.83s/it]"
     ]
    },
    {
     "name": "stdout",
     "output_type": "stream",
     "text": [
      "[I 2025-10-31 22:34:43,694] Trial 6 finished with value: 0.6258509891203831 and parameters: {'bootstrap_type': 'Bernoulli', 'subsample': 0.8651897098102402, 'iterations': 836, 'simple_ctr': 'Buckets', 'depth': 7, 'learning_rate': 0.05045148668753002, 'l2_leaf_reg': 3.178931975283541, 'random_strength': 0.1863766616127951, 'grow_policy': 'Lossguide', 'leaf_estimation_iterations': 2, 'leaf_estimation_method': 'Newton', 'one_hot_max_size': 8, 'max_ctr_complexity': 3, 'auto_class_weights': None, 'od_type': 'IncToDec', 'od_wait': 39}. Best is trial 6 with value: 0.6258509891203831.\n"
     ]
    },
    {
     "name": "stderr",
     "output_type": "stream",
     "text": [
      "Change of simpleCtr will not affect combinations ctrs.\n",
      "Change of simpleCtr will not affect combinations ctrs.\n",
      "Change of simpleCtr will not affect combinations ctrs.\n",
      "Change of simpleCtr will not affect combinations ctrs.\n",
      "Change of simpleCtr will not affect combinations ctrs.\n",
      "Change of simpleCtr will not affect combinations ctrs.\n",
      "Change of simpleCtr will not affect combinations ctrs.\n",
      "Change of simpleCtr will not affect combinations ctrs.\n",
      "Change of simpleCtr will not affect combinations ctrs.\n",
      "Change of simpleCtr will not affect combinations ctrs.\n",
      "Change of simpleCtr will not affect combinations ctrs.\n",
      "Change of simpleCtr will not affect combinations ctrs.\n",
      "Best trial: 7. Best value: 0.626837:  80%|████████  | 8/10 [15:38<04:06, 123.22s/it]"
     ]
    },
    {
     "name": "stdout",
     "output_type": "stream",
     "text": [
      "[I 2025-10-31 22:36:09,209] Trial 7 finished with value: 0.6268373157457532 and parameters: {'bootstrap_type': 'Bernoulli', 'subsample': 0.8632705090735316, 'iterations': 642, 'simple_ctr': 'Borders', 'depth': 5, 'learning_rate': 0.05302800979316938, 'l2_leaf_reg': 0.04224695536089089, 'random_strength': 0.19866454566505828, 'grow_policy': 'Lossguide', 'leaf_estimation_iterations': 4, 'leaf_estimation_method': 'Gradient', 'one_hot_max_size': 9, 'max_ctr_complexity': 3, 'auto_class_weights': 'Balanced', 'od_type': 'IncToDec', 'od_wait': 59}. Best is trial 7 with value: 0.6268373157457532.\n"
     ]
    },
    {
     "name": "stderr",
     "output_type": "stream",
     "text": [
      "Change of simpleCtr will not affect combinations ctrs.\n",
      "Change of simpleCtr will not affect combinations ctrs.\n",
      "Change of simpleCtr will not affect combinations ctrs.\n",
      "Change of simpleCtr will not affect combinations ctrs.\n",
      "Change of simpleCtr will not affect combinations ctrs.\n",
      "Change of simpleCtr will not affect combinations ctrs.\n",
      "Change of simpleCtr will not affect combinations ctrs.\n",
      "Change of simpleCtr will not affect combinations ctrs.\n",
      "Change of simpleCtr will not affect combinations ctrs.\n",
      "Change of simpleCtr will not affect combinations ctrs.\n",
      "Change of simpleCtr will not affect combinations ctrs.\n",
      "Change of simpleCtr will not affect combinations ctrs.\n",
      "Best trial: 7. Best value: 0.626837:  90%|█████████ | 9/10 [17:48<02:05, 125.07s/it]"
     ]
    },
    {
     "name": "stdout",
     "output_type": "stream",
     "text": [
      "[I 2025-10-31 22:38:18,358] Trial 8 finished with value: 0.6213271125762206 and parameters: {'bootstrap_type': 'Bernoulli', 'subsample': 0.8384739571249693, 'iterations': 567, 'simple_ctr': 'Buckets', 'depth': 4, 'learning_rate': 0.07703603579575945, 'l2_leaf_reg': 2.4172553488614845, 'random_strength': 0.9010749881292803, 'grow_policy': 'SymmetricTree', 'leaf_estimation_iterations': 4, 'leaf_estimation_method': 'Gradient', 'one_hot_max_size': 6, 'max_ctr_complexity': 2, 'auto_class_weights': None, 'od_type': 'IncToDec', 'od_wait': 32}. Best is trial 7 with value: 0.6268373157457532.\n"
     ]
    },
    {
     "name": "stderr",
     "output_type": "stream",
     "text": [
      "Change of simpleCtr will not affect combinations ctrs.\n",
      "Change of simpleCtr will not affect combinations ctrs.\n",
      "Change of simpleCtr will not affect combinations ctrs.\n",
      "Change of simpleCtr will not affect combinations ctrs.\n",
      "Change of simpleCtr will not affect combinations ctrs.\n",
      "Change of simpleCtr will not affect combinations ctrs.\n",
      "Change of simpleCtr will not affect combinations ctrs.\n",
      "Change of simpleCtr will not affect combinations ctrs.\n",
      "Change of simpleCtr will not affect combinations ctrs.\n",
      "Change of simpleCtr will not affect combinations ctrs.\n",
      "Change of simpleCtr will not affect combinations ctrs.\n",
      "Change of simpleCtr will not affect combinations ctrs.\n",
      "Best trial: 7. Best value: 0.626837: 100%|██████████| 10/10 [21:29<00:00, 128.98s/it]\n",
      "Change of simpleCtr will not affect combinations ctrs.\n"
     ]
    },
    {
     "name": "stdout",
     "output_type": "stream",
     "text": [
      "[I 2025-10-31 22:41:59,998] Trial 9 finished with value: 0.6136162597254017 and parameters: {'bootstrap_type': 'Bernoulli', 'subsample': 0.5819704498263161, 'iterations': 892, 'simple_ctr': 'Counter', 'depth': 8, 'learning_rate': 0.010361367102559261, 'l2_leaf_reg': 0.10647782020005236, 'random_strength': 4.6753269662767245, 'grow_policy': 'Lossguide', 'leaf_estimation_iterations': 1, 'leaf_estimation_method': 'Gradient', 'one_hot_max_size': 8, 'max_ctr_complexity': 1, 'auto_class_weights': 'Balanced', 'od_type': 'IncToDec', 'od_wait': 78}. Best is trial 7 with value: 0.6268373157457532.\n",
      "\n",
      "Best Parameters Found: {'bootstrap_type': 'Bernoulli', 'subsample': 0.8632705090735316, 'iterations': 642, 'simple_ctr': 'Borders', 'depth': 5, 'learning_rate': 0.05302800979316938, 'l2_leaf_reg': 0.04224695536089089, 'random_strength': 0.19866454566505828, 'grow_policy': 'Lossguide', 'leaf_estimation_iterations': 4, 'leaf_estimation_method': 'Gradient', 'one_hot_max_size': 9, 'max_ctr_complexity': 3, 'auto_class_weights': 'Balanced', 'od_type': 'IncToDec', 'od_wait': 59}\n",
      "Logged best parameters to ../../model/v3/param_log_catboost.json.json\n"
     ]
    },
    {
     "name": "stderr",
     "output_type": "stream",
     "text": [
      "/home/megarina/UNI/testoa/Aihack_aikokkak/.venv/lib/python3.10/site-packages/catboost/core.py:1536: UserWarning: To draw plots in fit() method you should install ipywidgets and ipython\n",
      "  warnings.warn(\"To draw plots in fit() method you should install ipywidgets and ipython\")\n"
     ]
    },
    {
     "ename": "ImportError",
     "evalue": "No module named 'ipywidgets'",
     "output_type": "error",
     "traceback": [
      "\u001b[0;31m---------------------------------------------------------------------------\u001b[0m",
      "\u001b[0;31mModuleNotFoundError\u001b[0m                       Traceback (most recent call last)",
      "File \u001b[0;32m~/UNI/testoa/Aihack_aikokkak/.venv/lib/python3.10/site-packages/catboost/core.py:1533\u001b[0m, in \u001b[0;36m_get_catboost_widget\u001b[0;34m(train_dirs)\u001b[0m\n\u001b[1;32m   1532\u001b[0m \u001b[38;5;28;01mtry\u001b[39;00m:\n\u001b[0;32m-> 1533\u001b[0m     \u001b[38;5;28;01mfrom\u001b[39;00m\u001b[38;5;250m \u001b[39m\u001b[38;5;21;01m.\u001b[39;00m\u001b[38;5;21;01mwidget\u001b[39;00m\u001b[38;5;250m \u001b[39m\u001b[38;5;28;01mimport\u001b[39;00m MetricVisualizer\n\u001b[1;32m   1534\u001b[0m     \u001b[38;5;28;01mreturn\u001b[39;00m MetricVisualizer(train_dirs)\n",
      "File \u001b[0;32m~/UNI/testoa/Aihack_aikokkak/.venv/lib/python3.10/site-packages/catboost/widget/__init__.py:1\u001b[0m\n\u001b[0;32m----> 1\u001b[0m \u001b[38;5;28;01mfrom\u001b[39;00m\u001b[38;5;250m \u001b[39m\u001b[38;5;21;01m.\u001b[39;00m\u001b[38;5;21;01mipythonwidget\u001b[39;00m\u001b[38;5;250m \u001b[39m\u001b[38;5;28;01mimport\u001b[39;00m MetricVisualizer  \u001b[38;5;66;03m# noqa\u001b[39;00m\n\u001b[1;32m      2\u001b[0m \u001b[38;5;28;01mfrom\u001b[39;00m\u001b[38;5;250m \u001b[39m\u001b[38;5;21;01m.\u001b[39;00m\u001b[38;5;21;01mmetrics_plotter\u001b[39;00m\u001b[38;5;250m \u001b[39m\u001b[38;5;28;01mimport\u001b[39;00m MetricsPlotter  \u001b[38;5;66;03m# noqa\u001b[39;00m\n",
      "File \u001b[0;32m~/UNI/testoa/Aihack_aikokkak/.venv/lib/python3.10/site-packages/catboost/widget/ipythonwidget.py:6\u001b[0m\n\u001b[1;32m      5\u001b[0m \u001b[38;5;28;01mfrom\u001b[39;00m\u001b[38;5;250m \u001b[39m\u001b[38;5;21;01mIPython\u001b[39;00m\u001b[38;5;21;01m.\u001b[39;00m\u001b[38;5;21;01mdisplay\u001b[39;00m\u001b[38;5;250m \u001b[39m\u001b[38;5;28;01mimport\u001b[39;00m display\n\u001b[0;32m----> 6\u001b[0m \u001b[38;5;28;01mfrom\u001b[39;00m\u001b[38;5;250m \u001b[39m\u001b[38;5;21;01mipywidgets\u001b[39;00m\u001b[38;5;250m \u001b[39m\u001b[38;5;28;01mimport\u001b[39;00m DOMWidget, Layout, widget_serialization\n\u001b[1;32m      9\u001b[0m \u001b[38;5;28;01mclass\u001b[39;00m\u001b[38;5;250m \u001b[39m\u001b[38;5;21;01mMetricWidget\u001b[39;00m(DOMWidget):\n",
      "\u001b[0;31mModuleNotFoundError\u001b[0m: No module named 'ipywidgets'",
      "\nDuring handling of the above exception, another exception occurred:\n",
      "\u001b[0;31mImportError\u001b[0m                               Traceback (most recent call last)",
      "Cell \u001b[0;32mIn[7], line 1\u001b[0m\n\u001b[0;32m----> 1\u001b[0m threshold \u001b[38;5;241m=\u001b[39m \u001b[43mtrainCatboost\u001b[49m\u001b[43m(\u001b[49m\u001b[43mVERSION\u001b[49m\u001b[43m,\u001b[49m\u001b[43m \u001b[49m\u001b[43mtrain_df\u001b[49m\u001b[43m,\u001b[49m\u001b[43m \u001b[49m\u001b[43mcat_features\u001b[49m\u001b[43m)\u001b[49m\n\u001b[1;32m      2\u001b[0m testCatboost(VERSION, test_df, ids, threshold)\n",
      "File \u001b[0;32m~/UNI/testoa/Aihack_aikokkak/modules/v1/catboostModel.py:161\u001b[0m, in \u001b[0;36mtrainCatboost\u001b[0;34m(version, train_df, categorical_columns, hypertune)\u001b[0m\n\u001b[1;32m    151\u001b[0m final_params \u001b[38;5;241m=\u001b[39m {\n\u001b[1;32m    152\u001b[0m     \u001b[38;5;241m*\u001b[39m\u001b[38;5;241m*\u001b[39mstudy\u001b[38;5;241m.\u001b[39mbest_params,\n\u001b[1;32m    153\u001b[0m     \u001b[38;5;124m\"\u001b[39m\u001b[38;5;124meval_metric\u001b[39m\u001b[38;5;124m\"\u001b[39m: \u001b[38;5;124m\"\u001b[39m\u001b[38;5;124mAUC\u001b[39m\u001b[38;5;124m\"\u001b[39m,\n\u001b[0;32m   (...)\u001b[0m\n\u001b[1;32m    157\u001b[0m     \u001b[38;5;124m\"\u001b[39m\u001b[38;5;124mverbose\u001b[39m\u001b[38;5;124m\"\u001b[39m: \u001b[38;5;241m200\u001b[39m,\n\u001b[1;32m    158\u001b[0m }\n\u001b[1;32m    160\u001b[0m final_model \u001b[38;5;241m=\u001b[39m CatBoostClassifier(\u001b[38;5;241m*\u001b[39m\u001b[38;5;241m*\u001b[39mfinal_params)\n\u001b[0;32m--> 161\u001b[0m \u001b[43mfinal_model\u001b[49m\u001b[38;5;241;43m.\u001b[39;49m\u001b[43mfit\u001b[49m\u001b[43m(\u001b[49m\u001b[43mtrain_pool\u001b[49m\u001b[43m,\u001b[49m\u001b[43m \u001b[49m\u001b[43meval_set\u001b[49m\u001b[38;5;241;43m=\u001b[39;49m\u001b[43meval_pool\u001b[49m\u001b[43m,\u001b[49m\u001b[43m \u001b[49m\u001b[43muse_best_model\u001b[49m\u001b[38;5;241;43m=\u001b[39;49m\u001b[38;5;28;43;01mTrue\u001b[39;49;00m\u001b[43m,\u001b[49m\u001b[43m \u001b[49m\u001b[43mplot\u001b[49m\u001b[38;5;241;43m=\u001b[39;49m\u001b[38;5;28;43;01mTrue\u001b[39;49;00m\u001b[43m)\u001b[49m\n\u001b[1;32m    163\u001b[0m y_proba \u001b[38;5;241m=\u001b[39m final_model\u001b[38;5;241m.\u001b[39mpredict_proba(X_test)[:, \u001b[38;5;241m1\u001b[39m]\n\u001b[1;32m    165\u001b[0m \u001b[38;5;66;03m# Optimal threshold by F1\u001b[39;00m\n",
      "File \u001b[0;32m~/UNI/testoa/Aihack_aikokkak/.venv/lib/python3.10/site-packages/catboost/core.py:5245\u001b[0m, in \u001b[0;36mCatBoostClassifier.fit\u001b[0;34m(self, X, y, cat_features, text_features, embedding_features, graph, sample_weight, baseline, use_best_model, eval_set, verbose, logging_level, plot, plot_file, column_description, verbose_eval, metric_period, silent, early_stopping_rounds, save_snapshot, snapshot_file, snapshot_interval, init_model, callbacks, log_cout, log_cerr)\u001b[0m\n\u001b[1;32m   5242\u001b[0m \u001b[38;5;28;01mif\u001b[39;00m \u001b[38;5;124m'\u001b[39m\u001b[38;5;124mloss_function\u001b[39m\u001b[38;5;124m'\u001b[39m \u001b[38;5;129;01min\u001b[39;00m params:\n\u001b[1;32m   5243\u001b[0m     CatBoostClassifier\u001b[38;5;241m.\u001b[39m_check_is_compatible_loss(params[\u001b[38;5;124m'\u001b[39m\u001b[38;5;124mloss_function\u001b[39m\u001b[38;5;124m'\u001b[39m])\n\u001b[0;32m-> 5245\u001b[0m \u001b[38;5;28;43mself\u001b[39;49m\u001b[38;5;241;43m.\u001b[39;49m\u001b[43m_fit\u001b[49m\u001b[43m(\u001b[49m\u001b[43mX\u001b[49m\u001b[43m,\u001b[49m\u001b[43m \u001b[49m\u001b[43my\u001b[49m\u001b[43m,\u001b[49m\u001b[43m \u001b[49m\u001b[43mcat_features\u001b[49m\u001b[43m,\u001b[49m\u001b[43m \u001b[49m\u001b[43mtext_features\u001b[49m\u001b[43m,\u001b[49m\u001b[43m \u001b[49m\u001b[43membedding_features\u001b[49m\u001b[43m,\u001b[49m\u001b[43m \u001b[49m\u001b[38;5;28;43;01mNone\u001b[39;49;00m\u001b[43m,\u001b[49m\u001b[43m \u001b[49m\u001b[43mgraph\u001b[49m\u001b[43m,\u001b[49m\u001b[43m \u001b[49m\u001b[43msample_weight\u001b[49m\u001b[43m,\u001b[49m\u001b[43m \u001b[49m\u001b[38;5;28;43;01mNone\u001b[39;49;00m\u001b[43m,\u001b[49m\u001b[43m \u001b[49m\u001b[38;5;28;43;01mNone\u001b[39;49;00m\u001b[43m,\u001b[49m\u001b[43m \u001b[49m\u001b[38;5;28;43;01mNone\u001b[39;49;00m\u001b[43m,\u001b[49m\u001b[43m \u001b[49m\u001b[38;5;28;43;01mNone\u001b[39;49;00m\u001b[43m,\u001b[49m\u001b[43m \u001b[49m\u001b[43mbaseline\u001b[49m\u001b[43m,\u001b[49m\u001b[43m \u001b[49m\u001b[43muse_best_model\u001b[49m\u001b[43m,\u001b[49m\n\u001b[1;32m   5246\u001b[0m \u001b[43m          \u001b[49m\u001b[43meval_set\u001b[49m\u001b[43m,\u001b[49m\u001b[43m \u001b[49m\u001b[43mverbose\u001b[49m\u001b[43m,\u001b[49m\u001b[43m \u001b[49m\u001b[43mlogging_level\u001b[49m\u001b[43m,\u001b[49m\u001b[43m \u001b[49m\u001b[43mplot\u001b[49m\u001b[43m,\u001b[49m\u001b[43m \u001b[49m\u001b[43mplot_file\u001b[49m\u001b[43m,\u001b[49m\u001b[43m \u001b[49m\u001b[43mcolumn_description\u001b[49m\u001b[43m,\u001b[49m\u001b[43m \u001b[49m\u001b[43mverbose_eval\u001b[49m\u001b[43m,\u001b[49m\u001b[43m \u001b[49m\u001b[43mmetric_period\u001b[49m\u001b[43m,\u001b[49m\n\u001b[1;32m   5247\u001b[0m \u001b[43m          \u001b[49m\u001b[43msilent\u001b[49m\u001b[43m,\u001b[49m\u001b[43m \u001b[49m\u001b[43mearly_stopping_rounds\u001b[49m\u001b[43m,\u001b[49m\u001b[43m \u001b[49m\u001b[43msave_snapshot\u001b[49m\u001b[43m,\u001b[49m\u001b[43m \u001b[49m\u001b[43msnapshot_file\u001b[49m\u001b[43m,\u001b[49m\u001b[43m \u001b[49m\u001b[43msnapshot_interval\u001b[49m\u001b[43m,\u001b[49m\u001b[43m \u001b[49m\u001b[43minit_model\u001b[49m\u001b[43m,\u001b[49m\u001b[43m \u001b[49m\u001b[43mcallbacks\u001b[49m\u001b[43m,\u001b[49m\u001b[43m \u001b[49m\u001b[43mlog_cout\u001b[49m\u001b[43m,\u001b[49m\u001b[43m \u001b[49m\u001b[43mlog_cerr\u001b[49m\u001b[43m)\u001b[49m\n\u001b[1;32m   5248\u001b[0m \u001b[38;5;28;01mreturn\u001b[39;00m \u001b[38;5;28mself\u001b[39m\n",
      "File \u001b[0;32m~/UNI/testoa/Aihack_aikokkak/.venv/lib/python3.10/site-packages/catboost/core.py:2409\u001b[0m, in \u001b[0;36mCatBoost._fit\u001b[0;34m(self, X, y, cat_features, text_features, embedding_features, pairs, graph, sample_weight, group_id, group_weight, subgroup_id, pairs_weight, baseline, use_best_model, eval_set, verbose, logging_level, plot, plot_file, column_description, verbose_eval, metric_period, silent, early_stopping_rounds, save_snapshot, snapshot_file, snapshot_interval, init_model, callbacks, log_cout, log_cerr)\u001b[0m\n\u001b[1;32m   2406\u001b[0m train_pool \u001b[38;5;241m=\u001b[39m train_params[\u001b[38;5;124m\"\u001b[39m\u001b[38;5;124mtrain_pool\u001b[39m\u001b[38;5;124m\"\u001b[39m]\n\u001b[1;32m   2407\u001b[0m allow_clear_pool \u001b[38;5;241m=\u001b[39m train_params[\u001b[38;5;124m\"\u001b[39m\u001b[38;5;124mallow_clear_pool\u001b[39m\u001b[38;5;124m\"\u001b[39m]\n\u001b[0;32m-> 2409\u001b[0m \u001b[38;5;28;01mwith\u001b[39;00m plot_wrapper(plot, plot_file, \u001b[38;5;124m'\u001b[39m\u001b[38;5;124mTraining plots\u001b[39m\u001b[38;5;124m'\u001b[39m, [_get_train_dir(\u001b[38;5;28mself\u001b[39m\u001b[38;5;241m.\u001b[39mget_params())]):\n\u001b[1;32m   2410\u001b[0m     \u001b[38;5;28mself\u001b[39m\u001b[38;5;241m.\u001b[39m_train(\n\u001b[1;32m   2411\u001b[0m         train_pool,\n\u001b[1;32m   2412\u001b[0m         train_params[\u001b[38;5;124m\"\u001b[39m\u001b[38;5;124meval_sets\u001b[39m\u001b[38;5;124m\"\u001b[39m],\n\u001b[0;32m   (...)\u001b[0m\n\u001b[1;32m   2415\u001b[0m         train_params[\u001b[38;5;124m\"\u001b[39m\u001b[38;5;124minit_model\u001b[39m\u001b[38;5;124m\"\u001b[39m]\n\u001b[1;32m   2416\u001b[0m     )\n\u001b[1;32m   2418\u001b[0m \u001b[38;5;66;03m# Have property feature_importance possibly set\u001b[39;00m\n",
      "File \u001b[0;32m/usr/lib/python3.10/contextlib.py:135\u001b[0m, in \u001b[0;36m_GeneratorContextManager.__enter__\u001b[0;34m(self)\u001b[0m\n\u001b[1;32m    133\u001b[0m \u001b[38;5;28;01mdel\u001b[39;00m \u001b[38;5;28mself\u001b[39m\u001b[38;5;241m.\u001b[39margs, \u001b[38;5;28mself\u001b[39m\u001b[38;5;241m.\u001b[39mkwds, \u001b[38;5;28mself\u001b[39m\u001b[38;5;241m.\u001b[39mfunc\n\u001b[1;32m    134\u001b[0m \u001b[38;5;28;01mtry\u001b[39;00m:\n\u001b[0;32m--> 135\u001b[0m     \u001b[38;5;28;01mreturn\u001b[39;00m \u001b[38;5;28;43mnext\u001b[39;49m\u001b[43m(\u001b[49m\u001b[38;5;28;43mself\u001b[39;49m\u001b[38;5;241;43m.\u001b[39;49m\u001b[43mgen\u001b[49m\u001b[43m)\u001b[49m\n\u001b[1;32m    136\u001b[0m \u001b[38;5;28;01mexcept\u001b[39;00m \u001b[38;5;167;01mStopIteration\u001b[39;00m:\n\u001b[1;32m    137\u001b[0m     \u001b[38;5;28;01mraise\u001b[39;00m \u001b[38;5;167;01mRuntimeError\u001b[39;00m(\u001b[38;5;124m\"\u001b[39m\u001b[38;5;124mgenerator didn\u001b[39m\u001b[38;5;124m'\u001b[39m\u001b[38;5;124mt yield\u001b[39m\u001b[38;5;124m\"\u001b[39m) \u001b[38;5;28;01mfrom\u001b[39;00m\u001b[38;5;250m \u001b[39m\u001b[38;5;28;01mNone\u001b[39;00m\n",
      "File \u001b[0;32m~/UNI/testoa/Aihack_aikokkak/.venv/lib/python3.10/site-packages/catboost/core.py:1543\u001b[0m, in \u001b[0;36mplot_wrapper\u001b[0;34m(plot, plot_file, plot_title, train_dirs)\u001b[0m\n\u001b[1;32m   1540\u001b[0m \u001b[38;5;129m@contextmanager\u001b[39m\n\u001b[1;32m   1541\u001b[0m \u001b[38;5;28;01mdef\u001b[39;00m\u001b[38;5;250m \u001b[39m\u001b[38;5;21mplot_wrapper\u001b[39m(plot, plot_file, plot_title, train_dirs):\n\u001b[1;32m   1542\u001b[0m     \u001b[38;5;28;01mif\u001b[39;00m plot:\n\u001b[0;32m-> 1543\u001b[0m         widget \u001b[38;5;241m=\u001b[39m \u001b[43m_get_catboost_widget\u001b[49m\u001b[43m(\u001b[49m\u001b[43mtrain_dirs\u001b[49m\u001b[43m)\u001b[49m\n\u001b[1;32m   1544\u001b[0m         widget\u001b[38;5;241m.\u001b[39m_run_update()\n\u001b[1;32m   1545\u001b[0m     \u001b[38;5;28;01mtry\u001b[39;00m:\n",
      "File \u001b[0;32m~/UNI/testoa/Aihack_aikokkak/.venv/lib/python3.10/site-packages/catboost/core.py:1537\u001b[0m, in \u001b[0;36m_get_catboost_widget\u001b[0;34m(train_dirs)\u001b[0m\n\u001b[1;32m   1535\u001b[0m \u001b[38;5;28;01mexcept\u001b[39;00m \u001b[38;5;167;01mImportError\u001b[39;00m \u001b[38;5;28;01mas\u001b[39;00m e:\n\u001b[1;32m   1536\u001b[0m     warnings\u001b[38;5;241m.\u001b[39mwarn(\u001b[38;5;124m\"\u001b[39m\u001b[38;5;124mTo draw plots in fit() method you should install ipywidgets and ipython\u001b[39m\u001b[38;5;124m\"\u001b[39m)\n\u001b[0;32m-> 1537\u001b[0m     \u001b[38;5;28;01mraise\u001b[39;00m \u001b[38;5;167;01mImportError\u001b[39;00m(\u001b[38;5;28mstr\u001b[39m(e))\n",
      "\u001b[0;31mImportError\u001b[0m: No module named 'ipywidgets'"
     ]
    }
   ],
   "source": [
    "threshold = trainCatboost(VERSION, train_df, cat_features)\n",
    "testCatboost(VERSION, test_df, ids, threshold)"
   ]
  },
  {
   "cell_type": "code",
   "execution_count": null,
   "id": "4c31c144",
   "metadata": {},
   "outputs": [
    {
     "ename": "NameError",
     "evalue": "name 'threshold' is not defined",
     "output_type": "error",
     "traceback": [
      "\u001b[0;31m---------------------------------------------------------------------------\u001b[0m",
      "\u001b[0;31mNameError\u001b[0m                                 Traceback (most recent call last)",
      "Cell \u001b[0;32mIn[11], line 1\u001b[0m\n\u001b[0;32m----> 1\u001b[0m testCatboost(VERSION, test_df, ids, \u001b[43mthreshold\u001b[49m, cat_features)\n",
      "\u001b[0;31mNameError\u001b[0m: name 'threshold' is not defined"
     ]
    }
   ],
   "source": [
    "# testCatboost(VERSION, test_df, ids, threshold, cat_features)"
   ]
  },
  {
   "cell_type": "code",
   "execution_count": null,
   "id": "006c3b5a",
   "metadata": {},
   "outputs": [
    {
     "name": "stdout",
     "output_type": "stream",
     "text": [
      "8619\n",
      "8619\n",
      "32524\n"
     ]
    }
   ],
   "source": [
    "print(len(test_df))\n",
    "print(len(ids))\n",
    "print(len(train_df))"
   ]
  }
 ],
 "metadata": {
  "kernelspec": {
   "display_name": ".venv",
   "language": "python",
   "name": "python3"
  },
  "language_info": {
   "codemirror_mode": {
    "name": "ipython",
    "version": 3
   },
   "file_extension": ".py",
   "mimetype": "text/x-python",
   "name": "python",
   "nbconvert_exporter": "python",
   "pygments_lexer": "ipython3",
   "version": "3.10.12"
  }
 },
 "nbformat": 4,
 "nbformat_minor": 5
}
