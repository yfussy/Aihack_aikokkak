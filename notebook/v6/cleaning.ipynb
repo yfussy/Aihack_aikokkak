{
 "cells": [
  {
   "cell_type": "code",
   "execution_count": 1,
   "id": "b3b86149",
   "metadata": {},
   "outputs": [],
   "source": [
    "from sklearn.model_selection import train_test_split\n",
    "from sklearn.metrics import classification_report\n",
    "import numpy as np\n",
    "import pandas as pd\n",
    "import matplotlib.pyplot as plt\n",
    "from datetime import datetime"
   ]
  },
  {
   "cell_type": "code",
   "execution_count": 2,
   "id": "e8fc7707",
   "metadata": {},
   "outputs": [],
   "source": [
    "import sys\n",
    "import os\n",
    "root_path = os.path.abspath(os.path.join(os.getcwd(), \"../..\"))\n",
    "if root_path not in sys.path:\n",
    "    sys.path.append(root_path)\n",
    "from fileDir import getDataDir\n",
    "from modules.v1.catboostModel import trainCatboost, testCatboost\n",
    "from modules.v1.xgboostModel import trainXgboost, testXgboost"
   ]
  },
  {
   "cell_type": "code",
   "execution_count": 3,
   "id": "a0baa5c7",
   "metadata": {},
   "outputs": [],
   "source": [
    "VERSION = 5\n",
    "TRAIN_PATH = getDataDir(\"train\")\n",
    "TEST_PATH = getDataDir(\"test\")\n",
    "CLEANED_TRAIN_PATH = getDataDir(\"train\", VERSION)\n",
    "CLEANED_TEST_PATH = getDataDir(\"test\", VERSION)"
   ]
  },
  {
   "cell_type": "code",
   "execution_count": 4,
   "id": "6333e406",
   "metadata": {},
   "outputs": [
    {
     "data": {
      "text/plain": [
       "Index(['ID', 'pms_i_ymd', 'Area', 'Province', 'Shop Name', 'gender',\n",
       "       'date_of_birth_week', 'date_of_birth', 'marital_status',\n",
       "       'number_of_children', 'postal_code', 'tel_category',\n",
       "       'number_of_resident', 'living_period_year', 'living_period_month',\n",
       "       'type_of_residence', 'c_postal_code', 'c_business_type',\n",
       "       'c_number_of_employee', 'c_position', 'c_occupation',\n",
       "       'c_employment_status', 'c_monthly_salary', 'c_number_of_working_year',\n",
       "       'c_number_of_working_month', 'c_salary_payment_methods',\n",
       "       'c_date_of_salary_payment', 'media', 'place_for_sending_information',\n",
       "       'r_expected_credit_limit', 'r_propose', 'r_allloan_case',\n",
       "       'r_allloan_amount', 'r_additional_income', 'r_spouse_income',\n",
       "       'r_generalcode1', 'r_generalcode2', 'r_generalcode3', 'r_generalcode4',\n",
       "       'r_generalcode5', 'apply', 'default_12month'],\n",
       "      dtype='object')"
      ]
     },
     "execution_count": 4,
     "metadata": {},
     "output_type": "execute_result"
    }
   ],
   "source": [
    "df = pd.read_csv(TRAIN_PATH)\n",
    "df.columns"
   ]
  },
  {
   "cell_type": "markdown",
   "id": "67a42394",
   "metadata": {},
   "source": [
    "## Clean Datasets"
   ]
  },
  {
   "cell_type": "code",
   "execution_count": 5,
   "id": "35bed8f1",
   "metadata": {},
   "outputs": [],
   "source": [
    "cat_features = [\n",
    "    \"Area\",\n",
    "    \"Province\",\n",
    "    \"gender\",\n",
    "    \"marital_status\",\n",
    "    \"tel_category\",\n",
    "    \"type_of_residence\",\n",
    "    \"c_postal_code\",\n",
    "    \"c_business_type\",\n",
    "    \"c_position\",\n",
    "    \"c_occupation\",\n",
    "    \"c_employment_status\",\n",
    "    \"c_salary_payment_methods\",\n",
    "    \"media\",\n",
    "    \"place_for_sending_information\",\n",
    "    \"r_propose\",\n",
    "    \"r_generalcode1\",\n",
    "    \"r_generalcode2\",\n",
    "    \"r_generalcode3\",\n",
    "    \"r_generalcode4\",\n",
    "    \"r_generalcode5\",\n",
    "    \"apply\"\n",
    "]\n",
    "\n"
   ]
  },
  {
   "cell_type": "code",
   "execution_count": 6,
   "id": "6a60bfa0",
   "metadata": {},
   "outputs": [],
   "source": [
    "def cleanDataset(df, cleanPath):\n",
    "    # Drop unnecessary columns (keep ID)\n",
    "\n",
    "    # drop_cols = ['pms_i_ymd','Area','Province','Shop Name','gender','date_of_birth_week',\n",
    "    #              'marital_status','number_of_children','postal_code','number_of_resident',\n",
    "    #              'c_postal_code','c_number_of_employee','c_salary_payment_method',\n",
    "    #              'c_date_of_salary_payment','media','place_for_sending_information','r_propose',\n",
    "    #              'r_alloan_case','r_allloan_amount', 'r_additional_income', 'r_spouse_income',\n",
    "    #              'r_generalcode4','r_generalcode5','apply']\n",
    "\n",
    "    drop_cols = ['pms_i_ymd','Area','Province','Shop Name','date_of_birth_week',\n",
    "                 'c_postal_code','c_date_of_salary_payment','media',\n",
    "                 'place_for_sending_information','r_generalcode4', 'r_generalcode5','r_allloan_case']\n",
    "    df = df.drop(columns=drop_cols, errors='ignore')\n",
    "\n",
    "    # Combine year/month features safely\n",
    "    if {'living_period_month','living_period_year'}.issubset(df.columns):\n",
    "        df['living_period_month'] = df['living_period_month'].fillna(0) + df['living_period_year'].fillna(0) * 12\n",
    "        df.drop(columns=['living_period_year'], inplace=True)\n",
    "\n",
    "    if {'c_number_of_working_month','c_number_of_working_year'}.issubset(df.columns):\n",
    "        df['c_number_of_working_month'] = df['c_number_of_working_month'].fillna(0) + df['c_number_of_working_year'].fillna(0) * 12\n",
    "        df.drop(columns=['c_number_of_working_year'], inplace=True)\n",
    "\n",
    "    #Combine Income & Calculate net worth\n",
    "    other_income_cols = ['r_additional_income','r_spouse_income','r_allloan_amount']\n",
    "    df[other_income_cols] = df[other_income_cols].fillna(0)\n",
    "    df['c_monthly_salary'] = df['c_monthly_salary'].fillna(df['c_monthly_salary'].median())\n",
    "\n",
    "    if {'c_monthly_salary','r_additional_income','r_spouse_income'}.issubset(df.columns):\n",
    "        df['income'] = df['c_monthly_salary'] + df['r_additional_income'] + df['r_spouse_income']\n",
    "        df.drop(columns=['c_monthly_salary','r_additional_income','r_spouse_income'], inplace=True)\n",
    "\n",
    "    df['networth'] = df['income'] - df['r_allloan_amount']\n",
    "    df.drop(columns=['r_allloan_amount'], inplace=True)\n",
    "\n",
    "    # Convert birth date to age\n",
    "    if 'date_of_birth' in df.columns:\n",
    "        df['date_of_birth'] = pd.to_datetime(df['date_of_birth'], errors='coerce')\n",
    "        df['age'] = 2025 - df['date_of_birth'].dt.year\n",
    "        df.drop(columns=['date_of_birth'], inplace=True)\n",
    "\n",
    "    # Cut incorrect data\n",
    "    # 1. Keep only valid values (1–2), replace others with 0\n",
    "    df['r_generalcode1'] = df['r_generalcode1'].where(df['r_generalcode1'].between(1, 2), np.nan)\n",
    "\n",
    "    # 2. Clamp salary payment date between 1 and 31\n",
    "    #df['c_date_of_salary_payment'] = df['c_date_of_salary_payment'].clip(lower=1, upper=31)\n",
    "\n",
    "    # 3. Replace invalid postal codes (<10000) with NaN\n",
    "    df['postal_code'] = df['postal_code'].where(df['postal_code'].astype(str).str.len() == 5, np.nan)\n",
    "\n",
    "    # Ensure numeric columns are numeric\n",
    "    num_cols = ['number_of_children','number_of_resident','living_period_month','c_number_of_employee',\n",
    "                'c_number_of_working_month','r_expected_credit_limit','age','networth']\n",
    "    \n",
    "    for c in num_cols:\n",
    "        if c in df.columns:\n",
    "            df[c] = pd.to_numeric(df[c], errors='coerce')\n",
    "    num_cols = [c for c in num_cols if c in df.columns]\n",
    "    df[num_cols] = df[num_cols].fillna(df[num_cols].median())\n",
    "\n",
    "    # Fill categorical columns\n",
    "    cat_cols = ['gender','marital_status','postal_code','tel_category','type_of_residence',\n",
    "                'c_business_type','c_position','c_occupation','c_employment_status',\n",
    "                'c_salary_payment_methods','r_propose','r_generalcode1','r_generalcode2',\n",
    "                'r_generalcode3','r_generalcode5','apply']\n",
    "    for c in cat_cols:\n",
    "        if c in df.columns:\n",
    "            df[c] = df[c].fillna(np.nan)\n",
    "\n",
    "    print(df.head(3))\n",
    "    df.to_csv(cleanPath, index=False)\n",
    "\n",
    "    #All Categoric feature -> string\n",
    "\n",
    "    # Keep only columns that exist in df\n",
    "    existing_cat_features = [c for c in cat_features if c in df.columns]\n",
    "    # Convert them to string\n",
    "    df[existing_cat_features] = df[existing_cat_features].astype(str)\n",
    "    \n",
    "    return df"
   ]
  },
  {
   "cell_type": "code",
   "execution_count": 7,
   "id": "6ec86cd9",
   "metadata": {},
   "outputs": [
    {
     "name": "stdout",
     "output_type": "stream",
     "text": [
      "             ID gender  marital_status  number_of_children  postal_code  \\\n",
      "0  202412000001     F2               1                   2      10400.0   \n",
      "1  202412000002      M               1                   0      10500.0   \n",
      "2  202412000003     F2               1                   0      10170.0   \n",
      "\n",
      "   tel_category  number_of_resident  living_period_month  type_of_residence  \\\n",
      "0             3                   2                   60                  6   \n",
      "1             3                   3                   48                  6   \n",
      "2             3                   6                   62                  3   \n",
      "\n",
      "   c_business_type  ...  r_expected_credit_limit  r_propose  r_generalcode1  \\\n",
      "0                7  ...                  40000.0        5.0             NaN   \n",
      "1                7  ...                  20000.0        6.0             NaN   \n",
      "2                7  ...                  20000.0        5.0             NaN   \n",
      "\n",
      "   r_generalcode2  r_generalcode3  apply  default_12month   income  networth  \\\n",
      "0             NaN             2.0     WI                0   9070.0    9070.0   \n",
      "1             NaN             1.0     WI                0  16765.0   16765.0   \n",
      "2             NaN             1.0     DS                0  10420.0     420.0   \n",
      "\n",
      "   age  \n",
      "0   54  \n",
      "1   42  \n",
      "2   33  \n",
      "\n",
      "[3 rows x 26 columns]\n",
      "             ID gender  marital_status  number_of_children  postal_code  \\\n",
      "0  202412000196     F2               2                   2      10120.0   \n",
      "1  202412000241     F2               2                   0      10120.0   \n",
      "2  202412000242     F2               1                   0      10120.0   \n",
      "\n",
      "   tel_category  number_of_resident  living_period_month  type_of_residence  \\\n",
      "0             3                   4                  108                  6   \n",
      "1             3                   5                   38                  6   \n",
      "2             3                   1                   24                  6   \n",
      "\n",
      "   c_business_type  ...  c_salary_payment_methods  r_expected_credit_limit  \\\n",
      "0                7  ...                         1                   5000.0   \n",
      "1                4  ...                         1                  10000.0   \n",
      "2                4  ...                         1                  20000.0   \n",
      "\n",
      "   r_propose  r_generalcode1  r_generalcode2  r_generalcode3  apply   income  \\\n",
      "0        5.0             1.0             4.0             1.0     WI  24150.0   \n",
      "1        5.0             1.0             3.0             2.0     WI  24700.0   \n",
      "2        5.0             NaN             NaN             2.0     WI   8800.0   \n",
      "\n",
      "   networth  age  \n",
      "0   24150.0   44  \n",
      "1    4700.0   32  \n",
      "2   -8200.0   49  \n",
      "\n",
      "[3 rows x 25 columns]\n"
     ]
    }
   ],
   "source": [
    "train_df = pd.read_csv(TRAIN_PATH)\n",
    "test_df = pd.read_csv(TEST_PATH)\n",
    "ids = test_df[\"ID\"].copy()\n",
    "\n",
    "train_df = cleanDataset(train_df, CLEANED_TRAIN_PATH)\n",
    "test_df = cleanDataset(test_df, CLEANED_TEST_PATH)"
   ]
  },
  {
   "cell_type": "markdown",
   "id": "21cb3566",
   "metadata": {},
   "source": [
    "## Testing"
   ]
  },
  {
   "cell_type": "code",
   "execution_count": 8,
   "id": "d2c7075a",
   "metadata": {},
   "outputs": [
    {
     "name": "stderr",
     "output_type": "stream",
     "text": [
      "[I 2025-10-31 23:51:13,278] A new study created in memory with name: no-name-029a47f9-d90c-4f7a-95fa-58b001b581a8\n"
     ]
    },
    {
     "name": "stdout",
     "output_type": "stream",
     "text": [
      "No GPU detected -> using XGBoost CPU training (hist).\n"
     ]
    },
    {
     "data": {
      "application/vnd.jupyter.widget-view+json": {
       "model_id": "b027d7454884433f88d61c64f6569165",
       "version_major": 2,
       "version_minor": 0
      },
      "text/plain": [
       "  0%|          | 0/50 [00:00<?, ?it/s]"
      ]
     },
     "metadata": {},
     "output_type": "display_data"
    },
    {
     "name": "stdout",
     "output_type": "stream",
     "text": [
      "[I 2025-10-31 23:51:17,071] Trial 0 finished with value: 0.5976500933544657 and parameters: {'max_depth': 5, 'learning_rate': 0.2536999076681771, 'subsample': 0.8659969709057025, 'colsample_bytree': 0.7993292420985183, 'gamma': 0.7800932022121826, 'min_child_weight': 2.403950683025824, 'lambda': 0.0017073967431528124, 'alpha': 2.915443189153755}. Best is trial 0 with value: 0.5976500933544657.\n",
      "[I 2025-10-31 23:51:20,943] Trial 1 finished with value: 0.597070382674285 and parameters: {'max_depth': 7, 'learning_rate': 0.11114989443094977, 'subsample': 0.5102922471479012, 'colsample_bytree': 0.9849549260809971, 'gamma': 4.162213204002109, 'min_child_weight': 2.9110519961044856, 'lambda': 0.005337032762603957, 'alpha': 0.00541524411940254}. Best is trial 0 with value: 0.5976500933544657.\n",
      "[W 2025-10-31 23:51:21,714] Trial 2 failed with parameters: {'max_depth': 5, 'learning_rate': 0.05958389350068958, 'subsample': 0.7159725093210578, 'colsample_bytree': 0.645614570099021, 'gamma': 3.0592644736118975, 'min_child_weight': 2.2554447458683766, 'lambda': 0.01474275315991467, 'alpha': 0.029204338471814112} because of the following error: KeyboardInterrupt().\n",
      "Traceback (most recent call last):\n",
      "  File \"/opt/miniconda3/envs/aihack/lib/python3.12/site-packages/optuna/study/_optimize.py\", line 201, in _run_trial\n",
      "    value_or_values = func(trial)\n",
      "                      ^^^^^^^^^^^\n",
      "  File \"/Users/praise/Desktop/AIhack/modules/v1/xgboostModel.py\", line 128, in objective\n",
      "    model = train(\n",
      "            ^^^^^^\n",
      "  File \"/opt/miniconda3/envs/aihack/lib/python3.12/site-packages/xgboost/core.py\", line 729, in inner_f\n",
      "    return func(**kwargs)\n",
      "           ^^^^^^^^^^^^^^\n",
      "  File \"/opt/miniconda3/envs/aihack/lib/python3.12/site-packages/xgboost/training.py\", line 183, in train\n",
      "    bst.update(dtrain, iteration=i, fobj=obj)\n",
      "  File \"/opt/miniconda3/envs/aihack/lib/python3.12/site-packages/xgboost/core.py\", line 2247, in update\n",
      "    _LIB.XGBoosterUpdateOneIter(\n",
      "KeyboardInterrupt\n",
      "[W 2025-10-31 23:51:21,718] Trial 2 failed with value None.\n"
     ]
    },
    {
     "ename": "KeyboardInterrupt",
     "evalue": "",
     "output_type": "error",
     "traceback": [
      "\u001b[31m---------------------------------------------------------------------------\u001b[39m",
      "\u001b[31mKeyboardInterrupt\u001b[39m                         Traceback (most recent call last)",
      "\u001b[36mCell\u001b[39m\u001b[36m \u001b[39m\u001b[32mIn[8]\u001b[39m\u001b[32m, line 1\u001b[39m\n\u001b[32m----> \u001b[39m\u001b[32m1\u001b[39m threshold = \u001b[43mtrainXgboost\u001b[49m\u001b[43m(\u001b[49m\u001b[43mVERSION\u001b[49m\u001b[43m,\u001b[49m\u001b[43m \u001b[49m\u001b[43mtrain_df\u001b[49m\u001b[43m)\u001b[49m\n",
      "\u001b[36mFile \u001b[39m\u001b[32m~/Desktop/AIhack/modules/v1/xgboostModel.py:156\u001b[39m, in \u001b[36mtrainXgboost\u001b[39m\u001b[34m(version, train_df)\u001b[39m\n\u001b[32m    149\u001b[39m \u001b[38;5;66;03m# Run optimization\u001b[39;00m\n\u001b[32m    150\u001b[39m study = optuna.create_study(\n\u001b[32m    151\u001b[39m     direction=\u001b[33m\"\u001b[39m\u001b[33mmaximize\u001b[39m\u001b[33m\"\u001b[39m,\n\u001b[32m    152\u001b[39m     sampler=optuna.samplers.TPESampler(seed=\u001b[32m42\u001b[39m),\n\u001b[32m    153\u001b[39m     pruner=optuna.pruners.MedianPruner()\n\u001b[32m    154\u001b[39m )\n\u001b[32m--> \u001b[39m\u001b[32m156\u001b[39m \u001b[43mstudy\u001b[49m\u001b[43m.\u001b[49m\u001b[43moptimize\u001b[49m\u001b[43m(\u001b[49m\u001b[43mobjective\u001b[49m\u001b[43m,\u001b[49m\u001b[43m \u001b[49m\u001b[43mn_trials\u001b[49m\u001b[43m=\u001b[49m\u001b[32;43m50\u001b[39;49m\u001b[43m,\u001b[49m\u001b[43m \u001b[49m\u001b[43mshow_progress_bar\u001b[49m\u001b[43m=\u001b[49m\u001b[38;5;28;43;01mTrue\u001b[39;49;00m\u001b[43m)\u001b[49m\n\u001b[32m    158\u001b[39m \u001b[38;5;28mprint\u001b[39m(\u001b[33m\"\u001b[39m\u001b[33mBest AUC:\u001b[39m\u001b[33m\"\u001b[39m, study.best_value)\n\u001b[32m    159\u001b[39m \u001b[38;5;28mprint\u001b[39m(\u001b[33m\"\u001b[39m\u001b[33mBest Params:\u001b[39m\u001b[33m\"\u001b[39m, study.best_params)\n",
      "\u001b[36mFile \u001b[39m\u001b[32m/opt/miniconda3/envs/aihack/lib/python3.12/site-packages/optuna/study/study.py:490\u001b[39m, in \u001b[36mStudy.optimize\u001b[39m\u001b[34m(self, func, n_trials, timeout, n_jobs, catch, callbacks, gc_after_trial, show_progress_bar)\u001b[39m\n\u001b[32m    388\u001b[39m \u001b[38;5;28;01mdef\u001b[39;00m\u001b[38;5;250m \u001b[39m\u001b[34moptimize\u001b[39m(\n\u001b[32m    389\u001b[39m     \u001b[38;5;28mself\u001b[39m,\n\u001b[32m    390\u001b[39m     func: ObjectiveFuncType,\n\u001b[32m   (...)\u001b[39m\u001b[32m    397\u001b[39m     show_progress_bar: \u001b[38;5;28mbool\u001b[39m = \u001b[38;5;28;01mFalse\u001b[39;00m,\n\u001b[32m    398\u001b[39m ) -> \u001b[38;5;28;01mNone\u001b[39;00m:\n\u001b[32m    399\u001b[39m \u001b[38;5;250m    \u001b[39m\u001b[33;03m\"\"\"Optimize an objective function.\u001b[39;00m\n\u001b[32m    400\u001b[39m \n\u001b[32m    401\u001b[39m \u001b[33;03m    Optimization is done by choosing a suitable set of hyperparameter values from a given\u001b[39;00m\n\u001b[32m   (...)\u001b[39m\u001b[32m    488\u001b[39m \u001b[33;03m            If nested invocation of this method occurs.\u001b[39;00m\n\u001b[32m    489\u001b[39m \u001b[33;03m    \"\"\"\u001b[39;00m\n\u001b[32m--> \u001b[39m\u001b[32m490\u001b[39m     \u001b[43m_optimize\u001b[49m\u001b[43m(\u001b[49m\n\u001b[32m    491\u001b[39m \u001b[43m        \u001b[49m\u001b[43mstudy\u001b[49m\u001b[43m=\u001b[49m\u001b[38;5;28;43mself\u001b[39;49m\u001b[43m,\u001b[49m\n\u001b[32m    492\u001b[39m \u001b[43m        \u001b[49m\u001b[43mfunc\u001b[49m\u001b[43m=\u001b[49m\u001b[43mfunc\u001b[49m\u001b[43m,\u001b[49m\n\u001b[32m    493\u001b[39m \u001b[43m        \u001b[49m\u001b[43mn_trials\u001b[49m\u001b[43m=\u001b[49m\u001b[43mn_trials\u001b[49m\u001b[43m,\u001b[49m\n\u001b[32m    494\u001b[39m \u001b[43m        \u001b[49m\u001b[43mtimeout\u001b[49m\u001b[43m=\u001b[49m\u001b[43mtimeout\u001b[49m\u001b[43m,\u001b[49m\n\u001b[32m    495\u001b[39m \u001b[43m        \u001b[49m\u001b[43mn_jobs\u001b[49m\u001b[43m=\u001b[49m\u001b[43mn_jobs\u001b[49m\u001b[43m,\u001b[49m\n\u001b[32m    496\u001b[39m \u001b[43m        \u001b[49m\u001b[43mcatch\u001b[49m\u001b[43m=\u001b[49m\u001b[38;5;28;43mtuple\u001b[39;49m\u001b[43m(\u001b[49m\u001b[43mcatch\u001b[49m\u001b[43m)\u001b[49m\u001b[43m \u001b[49m\u001b[38;5;28;43;01mif\u001b[39;49;00m\u001b[43m \u001b[49m\u001b[38;5;28;43misinstance\u001b[39;49m\u001b[43m(\u001b[49m\u001b[43mcatch\u001b[49m\u001b[43m,\u001b[49m\u001b[43m \u001b[49m\u001b[43mIterable\u001b[49m\u001b[43m)\u001b[49m\u001b[43m \u001b[49m\u001b[38;5;28;43;01melse\u001b[39;49;00m\u001b[43m \u001b[49m\u001b[43m(\u001b[49m\u001b[43mcatch\u001b[49m\u001b[43m,\u001b[49m\u001b[43m)\u001b[49m\u001b[43m,\u001b[49m\n\u001b[32m    497\u001b[39m \u001b[43m        \u001b[49m\u001b[43mcallbacks\u001b[49m\u001b[43m=\u001b[49m\u001b[43mcallbacks\u001b[49m\u001b[43m,\u001b[49m\n\u001b[32m    498\u001b[39m \u001b[43m        \u001b[49m\u001b[43mgc_after_trial\u001b[49m\u001b[43m=\u001b[49m\u001b[43mgc_after_trial\u001b[49m\u001b[43m,\u001b[49m\n\u001b[32m    499\u001b[39m \u001b[43m        \u001b[49m\u001b[43mshow_progress_bar\u001b[49m\u001b[43m=\u001b[49m\u001b[43mshow_progress_bar\u001b[49m\u001b[43m,\u001b[49m\n\u001b[32m    500\u001b[39m \u001b[43m    \u001b[49m\u001b[43m)\u001b[49m\n",
      "\u001b[36mFile \u001b[39m\u001b[32m/opt/miniconda3/envs/aihack/lib/python3.12/site-packages/optuna/study/_optimize.py:63\u001b[39m, in \u001b[36m_optimize\u001b[39m\u001b[34m(study, func, n_trials, timeout, n_jobs, catch, callbacks, gc_after_trial, show_progress_bar)\u001b[39m\n\u001b[32m     61\u001b[39m \u001b[38;5;28;01mtry\u001b[39;00m:\n\u001b[32m     62\u001b[39m     \u001b[38;5;28;01mif\u001b[39;00m n_jobs == \u001b[32m1\u001b[39m:\n\u001b[32m---> \u001b[39m\u001b[32m63\u001b[39m         \u001b[43m_optimize_sequential\u001b[49m\u001b[43m(\u001b[49m\n\u001b[32m     64\u001b[39m \u001b[43m            \u001b[49m\u001b[43mstudy\u001b[49m\u001b[43m,\u001b[49m\n\u001b[32m     65\u001b[39m \u001b[43m            \u001b[49m\u001b[43mfunc\u001b[49m\u001b[43m,\u001b[49m\n\u001b[32m     66\u001b[39m \u001b[43m            \u001b[49m\u001b[43mn_trials\u001b[49m\u001b[43m,\u001b[49m\n\u001b[32m     67\u001b[39m \u001b[43m            \u001b[49m\u001b[43mtimeout\u001b[49m\u001b[43m,\u001b[49m\n\u001b[32m     68\u001b[39m \u001b[43m            \u001b[49m\u001b[43mcatch\u001b[49m\u001b[43m,\u001b[49m\n\u001b[32m     69\u001b[39m \u001b[43m            \u001b[49m\u001b[43mcallbacks\u001b[49m\u001b[43m,\u001b[49m\n\u001b[32m     70\u001b[39m \u001b[43m            \u001b[49m\u001b[43mgc_after_trial\u001b[49m\u001b[43m,\u001b[49m\n\u001b[32m     71\u001b[39m \u001b[43m            \u001b[49m\u001b[43mreseed_sampler_rng\u001b[49m\u001b[43m=\u001b[49m\u001b[38;5;28;43;01mFalse\u001b[39;49;00m\u001b[43m,\u001b[49m\n\u001b[32m     72\u001b[39m \u001b[43m            \u001b[49m\u001b[43mtime_start\u001b[49m\u001b[43m=\u001b[49m\u001b[38;5;28;43;01mNone\u001b[39;49;00m\u001b[43m,\u001b[49m\n\u001b[32m     73\u001b[39m \u001b[43m            \u001b[49m\u001b[43mprogress_bar\u001b[49m\u001b[43m=\u001b[49m\u001b[43mprogress_bar\u001b[49m\u001b[43m,\u001b[49m\n\u001b[32m     74\u001b[39m \u001b[43m        \u001b[49m\u001b[43m)\u001b[49m\n\u001b[32m     75\u001b[39m     \u001b[38;5;28;01melse\u001b[39;00m:\n\u001b[32m     76\u001b[39m         \u001b[38;5;28;01mif\u001b[39;00m n_jobs == -\u001b[32m1\u001b[39m:\n",
      "\u001b[36mFile \u001b[39m\u001b[32m/opt/miniconda3/envs/aihack/lib/python3.12/site-packages/optuna/study/_optimize.py:160\u001b[39m, in \u001b[36m_optimize_sequential\u001b[39m\u001b[34m(study, func, n_trials, timeout, catch, callbacks, gc_after_trial, reseed_sampler_rng, time_start, progress_bar)\u001b[39m\n\u001b[32m    157\u001b[39m         \u001b[38;5;28;01mbreak\u001b[39;00m\n\u001b[32m    159\u001b[39m \u001b[38;5;28;01mtry\u001b[39;00m:\n\u001b[32m--> \u001b[39m\u001b[32m160\u001b[39m     frozen_trial_id = \u001b[43m_run_trial\u001b[49m\u001b[43m(\u001b[49m\u001b[43mstudy\u001b[49m\u001b[43m,\u001b[49m\u001b[43m \u001b[49m\u001b[43mfunc\u001b[49m\u001b[43m,\u001b[49m\u001b[43m \u001b[49m\u001b[43mcatch\u001b[49m\u001b[43m)\u001b[49m\n\u001b[32m    161\u001b[39m \u001b[38;5;28;01mfinally\u001b[39;00m:\n\u001b[32m    162\u001b[39m     \u001b[38;5;66;03m# The following line mitigates memory problems that can be occurred in some\u001b[39;00m\n\u001b[32m    163\u001b[39m     \u001b[38;5;66;03m# environments (e.g., services that use computing containers such as GitHub Actions).\u001b[39;00m\n\u001b[32m    164\u001b[39m     \u001b[38;5;66;03m# Please refer to the following PR for further details:\u001b[39;00m\n\u001b[32m    165\u001b[39m     \u001b[38;5;66;03m# https://github.com/optuna/optuna/pull/325.\u001b[39;00m\n\u001b[32m    166\u001b[39m     \u001b[38;5;28;01mif\u001b[39;00m gc_after_trial:\n",
      "\u001b[36mFile \u001b[39m\u001b[32m/opt/miniconda3/envs/aihack/lib/python3.12/site-packages/optuna/study/_optimize.py:258\u001b[39m, in \u001b[36m_run_trial\u001b[39m\u001b[34m(study, func, catch)\u001b[39m\n\u001b[32m    251\u001b[39m         \u001b[38;5;28;01massert\u001b[39;00m \u001b[38;5;28;01mFalse\u001b[39;00m, \u001b[33m\"\u001b[39m\u001b[33mShould not reach.\u001b[39m\u001b[33m\"\u001b[39m\n\u001b[32m    253\u001b[39m \u001b[38;5;28;01mif\u001b[39;00m (\n\u001b[32m    254\u001b[39m     updated_state == TrialState.FAIL\n\u001b[32m    255\u001b[39m     \u001b[38;5;129;01mand\u001b[39;00m func_err \u001b[38;5;129;01mis\u001b[39;00m \u001b[38;5;129;01mnot\u001b[39;00m \u001b[38;5;28;01mNone\u001b[39;00m\n\u001b[32m    256\u001b[39m     \u001b[38;5;129;01mand\u001b[39;00m \u001b[38;5;129;01mnot\u001b[39;00m \u001b[38;5;28misinstance\u001b[39m(func_err, catch)\n\u001b[32m    257\u001b[39m ):\n\u001b[32m--> \u001b[39m\u001b[32m258\u001b[39m     \u001b[38;5;28;01mraise\u001b[39;00m func_err\n\u001b[32m    259\u001b[39m \u001b[38;5;28;01mreturn\u001b[39;00m trial._trial_id\n",
      "\u001b[36mFile \u001b[39m\u001b[32m/opt/miniconda3/envs/aihack/lib/python3.12/site-packages/optuna/study/_optimize.py:201\u001b[39m, in \u001b[36m_run_trial\u001b[39m\u001b[34m(study, func, catch)\u001b[39m\n\u001b[32m    199\u001b[39m \u001b[38;5;28;01mwith\u001b[39;00m get_heartbeat_thread(trial._trial_id, study._storage):\n\u001b[32m    200\u001b[39m     \u001b[38;5;28;01mtry\u001b[39;00m:\n\u001b[32m--> \u001b[39m\u001b[32m201\u001b[39m         value_or_values = \u001b[43mfunc\u001b[49m\u001b[43m(\u001b[49m\u001b[43mtrial\u001b[49m\u001b[43m)\u001b[49m\n\u001b[32m    202\u001b[39m     \u001b[38;5;28;01mexcept\u001b[39;00m exceptions.TrialPruned \u001b[38;5;28;01mas\u001b[39;00m e:\n\u001b[32m    203\u001b[39m         \u001b[38;5;66;03m# TODO(mamu): Handle multi-objective cases.\u001b[39;00m\n\u001b[32m    204\u001b[39m         state = TrialState.PRUNED\n",
      "\u001b[36mFile \u001b[39m\u001b[32m~/Desktop/AIhack/modules/v1/xgboostModel.py:128\u001b[39m, in \u001b[36mtrainXgboost.<locals>.objective\u001b[39m\u001b[34m(trial)\u001b[39m\n\u001b[32m    125\u001b[39m dtrain = DMatrix(X.iloc[train_idx], label=y.iloc[train_idx])\n\u001b[32m    126\u001b[39m dvalid = DMatrix(X.iloc[valid_idx], label=y.iloc[valid_idx])\n\u001b[32m--> \u001b[39m\u001b[32m128\u001b[39m model = \u001b[43mtrain\u001b[49m\u001b[43m(\u001b[49m\n\u001b[32m    129\u001b[39m \u001b[43m    \u001b[49m\u001b[43mparams\u001b[49m\u001b[43m,\u001b[49m\n\u001b[32m    130\u001b[39m \u001b[43m    \u001b[49m\u001b[43mdtrain\u001b[49m\u001b[43m,\u001b[49m\n\u001b[32m    131\u001b[39m \u001b[43m    \u001b[49m\u001b[43mnum_boost_round\u001b[49m\u001b[43m=\u001b[49m\u001b[32;43m3000\u001b[39;49m\u001b[43m,\u001b[49m\n\u001b[32m    132\u001b[39m \u001b[43m    \u001b[49m\u001b[43mevals\u001b[49m\u001b[43m=\u001b[49m\u001b[43m[\u001b[49m\u001b[43m(\u001b[49m\u001b[43mdvalid\u001b[49m\u001b[43m,\u001b[49m\u001b[43m \u001b[49m\u001b[33;43m\"\u001b[39;49m\u001b[33;43mvalid\u001b[39;49m\u001b[33;43m\"\u001b[39;49m\u001b[43m)\u001b[49m\u001b[43m]\u001b[49m\u001b[43m,\u001b[49m\n\u001b[32m    133\u001b[39m \u001b[43m    \u001b[49m\u001b[43mearly_stopping_rounds\u001b[49m\u001b[43m=\u001b[49m\u001b[32;43m100\u001b[39;49m\u001b[43m,\u001b[49m\n\u001b[32m    134\u001b[39m \u001b[43m    \u001b[49m\u001b[43mverbose_eval\u001b[49m\u001b[43m=\u001b[49m\u001b[38;5;28;43;01mFalse\u001b[39;49;00m\n\u001b[32m    135\u001b[39m \u001b[43m\u001b[49m\u001b[43m)\u001b[49m\n\u001b[32m    137\u001b[39m preds = model.predict(dvalid)\n\u001b[32m    138\u001b[39m score = roc_auc_score(y[valid_idx], preds)\n",
      "\u001b[36mFile \u001b[39m\u001b[32m/opt/miniconda3/envs/aihack/lib/python3.12/site-packages/xgboost/core.py:729\u001b[39m, in \u001b[36mrequire_keyword_args.<locals>.throw_if.<locals>.inner_f\u001b[39m\u001b[34m(*args, **kwargs)\u001b[39m\n\u001b[32m    727\u001b[39m \u001b[38;5;28;01mfor\u001b[39;00m k, arg \u001b[38;5;129;01min\u001b[39;00m \u001b[38;5;28mzip\u001b[39m(sig.parameters, args):\n\u001b[32m    728\u001b[39m     kwargs[k] = arg\n\u001b[32m--> \u001b[39m\u001b[32m729\u001b[39m \u001b[38;5;28;01mreturn\u001b[39;00m \u001b[43mfunc\u001b[49m\u001b[43m(\u001b[49m\u001b[43m*\u001b[49m\u001b[43m*\u001b[49m\u001b[43mkwargs\u001b[49m\u001b[43m)\u001b[49m\n",
      "\u001b[36mFile \u001b[39m\u001b[32m/opt/miniconda3/envs/aihack/lib/python3.12/site-packages/xgboost/training.py:183\u001b[39m, in \u001b[36mtrain\u001b[39m\u001b[34m(params, dtrain, num_boost_round, evals, obj, maximize, early_stopping_rounds, evals_result, verbose_eval, xgb_model, callbacks, custom_metric)\u001b[39m\n\u001b[32m    181\u001b[39m \u001b[38;5;28;01mif\u001b[39;00m cb_container.before_iteration(bst, i, dtrain, evals):\n\u001b[32m    182\u001b[39m     \u001b[38;5;28;01mbreak\u001b[39;00m\n\u001b[32m--> \u001b[39m\u001b[32m183\u001b[39m \u001b[43mbst\u001b[49m\u001b[43m.\u001b[49m\u001b[43mupdate\u001b[49m\u001b[43m(\u001b[49m\u001b[43mdtrain\u001b[49m\u001b[43m,\u001b[49m\u001b[43m \u001b[49m\u001b[43miteration\u001b[49m\u001b[43m=\u001b[49m\u001b[43mi\u001b[49m\u001b[43m,\u001b[49m\u001b[43m \u001b[49m\u001b[43mfobj\u001b[49m\u001b[43m=\u001b[49m\u001b[43mobj\u001b[49m\u001b[43m)\u001b[49m\n\u001b[32m    184\u001b[39m \u001b[38;5;28;01mif\u001b[39;00m cb_container.after_iteration(bst, i, dtrain, evals):\n\u001b[32m    185\u001b[39m     \u001b[38;5;28;01mbreak\u001b[39;00m\n",
      "\u001b[36mFile \u001b[39m\u001b[32m/opt/miniconda3/envs/aihack/lib/python3.12/site-packages/xgboost/core.py:2247\u001b[39m, in \u001b[36mBooster.update\u001b[39m\u001b[34m(self, dtrain, iteration, fobj)\u001b[39m\n\u001b[32m   2243\u001b[39m \u001b[38;5;28mself\u001b[39m._assign_dmatrix_features(dtrain)\n\u001b[32m   2245\u001b[39m \u001b[38;5;28;01mif\u001b[39;00m fobj \u001b[38;5;129;01mis\u001b[39;00m \u001b[38;5;28;01mNone\u001b[39;00m:\n\u001b[32m   2246\u001b[39m     _check_call(\n\u001b[32m-> \u001b[39m\u001b[32m2247\u001b[39m         \u001b[43m_LIB\u001b[49m\u001b[43m.\u001b[49m\u001b[43mXGBoosterUpdateOneIter\u001b[49m\u001b[43m(\u001b[49m\n\u001b[32m   2248\u001b[39m \u001b[43m            \u001b[49m\u001b[38;5;28;43mself\u001b[39;49m\u001b[43m.\u001b[49m\u001b[43mhandle\u001b[49m\u001b[43m,\u001b[49m\u001b[43m \u001b[49m\u001b[43mctypes\u001b[49m\u001b[43m.\u001b[49m\u001b[43mc_int\u001b[49m\u001b[43m(\u001b[49m\u001b[43miteration\u001b[49m\u001b[43m)\u001b[49m\u001b[43m,\u001b[49m\u001b[43m \u001b[49m\u001b[43mdtrain\u001b[49m\u001b[43m.\u001b[49m\u001b[43mhandle\u001b[49m\n\u001b[32m   2249\u001b[39m \u001b[43m        \u001b[49m\u001b[43m)\u001b[49m\n\u001b[32m   2250\u001b[39m     )\n\u001b[32m   2251\u001b[39m \u001b[38;5;28;01melse\u001b[39;00m:\n\u001b[32m   2252\u001b[39m     pred = \u001b[38;5;28mself\u001b[39m.predict(dtrain, output_margin=\u001b[38;5;28;01mTrue\u001b[39;00m, training=\u001b[38;5;28;01mTrue\u001b[39;00m)\n",
      "\u001b[31mKeyboardInterrupt\u001b[39m: "
     ]
    }
   ],
   "source": [
    "threshold = trainXgboost(VERSION, train_df)"
   ]
  },
  {
   "cell_type": "code",
   "execution_count": null,
   "id": "15771fc1",
   "metadata": {},
   "outputs": [],
   "source": [
    "testXgboost(VERSION, test_df, ids, threshold)"
   ]
  },
  {
   "cell_type": "code",
   "execution_count": null,
   "id": "0b7725d1",
   "metadata": {},
   "outputs": [],
   "source": [
    "threshold = trainCatboost(VERSION, train_df)"
   ]
  },
  {
   "cell_type": "code",
   "execution_count": null,
   "id": "6a42dbaa",
   "metadata": {},
   "outputs": [],
   "source": [
    "testCatboost(VERSION, test_df, ids, threshold)"
   ]
  }
 ],
 "metadata": {
  "kernelspec": {
   "display_name": "aihack",
   "language": "python",
   "name": "python3"
  },
  "language_info": {
   "codemirror_mode": {
    "name": "ipython",
    "version": 3
   },
   "file_extension": ".py",
   "mimetype": "text/x-python",
   "name": "python",
   "nbconvert_exporter": "python",
   "pygments_lexer": "ipython3",
   "version": "3.12.12"
  }
 },
 "nbformat": 4,
 "nbformat_minor": 5
}
