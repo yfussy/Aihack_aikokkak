{
 "cells": [
  {
   "cell_type": "code",
   "execution_count": 1,
   "id": "b3b86149",
   "metadata": {},
   "outputs": [],
   "source": [
    "from sklearn.model_selection import train_test_split\n",
    "from sklearn.metrics import classification_report\n",
    "import numpy as np\n",
    "import pandas as pd\n",
    "import matplotlib.pyplot as plt\n",
    "from datetime import datetime"
   ]
  },
  {
   "cell_type": "code",
   "execution_count": 2,
   "id": "e8fc7707",
   "metadata": {},
   "outputs": [],
   "source": [
    "import sys\n",
    "import os\n",
    "root_path = os.path.abspath(os.path.join(os.getcwd(), \"../..\"))\n",
    "if root_path not in sys.path:\n",
    "    sys.path.append(root_path)\n",
    "from fileDir import getDataDir\n",
    "# from modules.v1.xgboostModel import trainXgboost, testXgboost\n",
    "from modules.v1.catboostModel import trainCatboost, testCatboost"
   ]
  },
  {
   "cell_type": "code",
   "execution_count": 3,
   "id": "a0baa5c7",
   "metadata": {},
   "outputs": [],
   "source": [
    "VERSION = 6\n",
    "TRAIN_PATH = getDataDir(\"train\")\n",
    "TEST_PATH = getDataDir(\"test\")\n",
    "CLEANED_TRAIN_PATH = getDataDir(\"train\", VERSION)\n",
    "CLEANED_TEST_PATH = getDataDir(\"test\", VERSION)"
   ]
  },
  {
   "cell_type": "code",
   "execution_count": 4,
   "id": "35c57aa3",
   "metadata": {},
   "outputs": [
    {
     "data": {
      "text/plain": [
       "Index(['ID', 'pms_i_ymd', 'Area', 'Province', 'Shop Name', 'gender',\n",
       "       'date_of_birth_week', 'date_of_birth', 'marital_status',\n",
       "       'number_of_children', 'postal_code', 'tel_category',\n",
       "       'number_of_resident', 'living_period_year', 'living_period_month',\n",
       "       'type_of_residence', 'c_postal_code', 'c_business_type',\n",
       "       'c_number_of_employee', 'c_position', 'c_occupation',\n",
       "       'c_employment_status', 'c_monthly_salary', 'c_number_of_working_year',\n",
       "       'c_number_of_working_month', 'c_salary_payment_methods',\n",
       "       'c_date_of_salary_payment', 'media', 'place_for_sending_information',\n",
       "       'r_expected_credit_limit', 'r_propose', 'r_allloan_case',\n",
       "       'r_allloan_amount', 'r_additional_income', 'r_spouse_income',\n",
       "       'r_generalcode1', 'r_generalcode2', 'r_generalcode3', 'r_generalcode4',\n",
       "       'r_generalcode5', 'apply', 'default_12month'],\n",
       "      dtype='object')"
      ]
     },
     "execution_count": 4,
     "metadata": {},
     "output_type": "execute_result"
    }
   ],
   "source": [
    "df = pd.read_csv(TRAIN_PATH)\n",
    "df.columns"
   ]
  },
  {
   "cell_type": "markdown",
   "id": "67a42394",
   "metadata": {},
   "source": [
    "## Clean Datasets"
   ]
  },
  {
   "cell_type": "code",
   "execution_count": 5,
   "id": "7a0dc425",
   "metadata": {},
   "outputs": [],
   "source": [
    "cat_features = [\n",
    "    \"Area\",\n",
    "    \"Province\",\n",
    "    \"gender\",\n",
    "    \"marital_status\",\n",
    "    \"tel_category\",\n",
    "    \"type_of_residence\",\n",
    "    \"c_postal_code\",\n",
    "    \"c_business_type\",\n",
    "    \"c_position\",\n",
    "    \"c_occupation\",\n",
    "    \"c_employment_status\",\n",
    "    \"c_salary_payment_methods\",\n",
    "    \"media\",\n",
    "    \"place_for_sending_information\",\n",
    "    \"r_propose\",\n",
    "    \"r_generalcode1\",\n",
    "    \"r_generalcode2\",\n",
    "    \"r_generalcode3\",\n",
    "    \"r_generalcode4\",\n",
    "    \"r_generalcode5\",\n",
    "    \"apply\"\n",
    "]\n",
    "\n"
   ]
  },
  {
   "cell_type": "code",
   "execution_count": 6,
   "id": "6a60bfa0",
   "metadata": {},
   "outputs": [],
   "source": [
    "def cleanDataset(df, cleanPath):\n",
    "    # Drop unnecessary columns (keep ID)\n",
    "\n",
    "    # drop_cols = ['pms_i_ymd','Area','Province','Shop Name','gender','date_of_birth_week',\n",
    "    #              'marital_status','number_of_children','postal_code','number_of_resident',\n",
    "    #              'c_postal_code','c_number_of_employee','c_salary_payment_method',\n",
    "    #              'c_date_of_salary_payment','media','place_for_sending_information','r_propose',\n",
    "    #              'r_alloan_case','r_allloan_amount', 'r_additional_income', 'r_spouse_income',\n",
    "    #              'r_generalcode4','r_generalcode5','apply']\n",
    "\n",
    "    drop_cols = ['pms_i_ymd','Area','Province','Shop Name','date_of_birth_week',\n",
    "                 'c_postal_code','c_date_of_salary_payment','media',\n",
    "                 'place_for_sending_information','r_generalcode4', 'r_generalcode5','r_allloan_case']\n",
    "    df = df.drop(columns=drop_cols, errors='ignore')\n",
    "\n",
    "    # Combine year/month features safely\n",
    "    if {'living_period_month','living_period_year'}.issubset(df.columns):\n",
    "        df['living_period_month'] = df['living_period_month'].fillna(0) + df['living_period_year'].fillna(0) * 12\n",
    "        df.drop(columns=['living_period_year'], inplace=True)\n",
    "\n",
    "    if {'c_number_of_working_month','c_number_of_working_year'}.issubset(df.columns):\n",
    "        df['c_number_of_working_month'] = df['c_number_of_working_month'].fillna(0) + df['c_number_of_working_year'].fillna(0) * 12\n",
    "        df.drop(columns=['c_number_of_working_year'], inplace=True)\n",
    "\n",
    "    #Combine Income & Calculate net worth\n",
    "    other_income_cols = ['r_additional_income','r_spouse_income','r_allloan_amount']\n",
    "    df[other_income_cols] = df[other_income_cols].fillna(0)\n",
    "    df['c_monthly_salary'] = df['c_monthly_salary'].fillna(df['c_monthly_salary'].median())\n",
    "\n",
    "    if {'c_monthly_salary','r_additional_income','r_spouse_income'}.issubset(df.columns):\n",
    "        df['income'] = df['c_monthly_salary'] + df['r_additional_income'] + df['r_spouse_income']\n",
    "        df.drop(columns=['c_monthly_salary','r_additional_income','r_spouse_income'], inplace=True)\n",
    "\n",
    "    df['networth'] = df['income'] - df['r_allloan_amount']\n",
    "    df.drop(columns=['r_allloan_amount'], inplace=True)\n",
    "\n",
    "    # Convert birth date to age\n",
    "    if 'date_of_birth' in df.columns:\n",
    "        df['date_of_birth'] = pd.to_datetime(df['date_of_birth'], errors='coerce')\n",
    "        df['age'] = 2025 - df['date_of_birth'].dt.year\n",
    "        df.drop(columns=['date_of_birth'], inplace=True)\n",
    "\n",
    "    # Cut incorrect data\n",
    "    # 1. Keep only valid values (1–2), replace others with 0\n",
    "    df['r_generalcode1'] = df['r_generalcode1'].where(df['r_generalcode1'].between(1, 2), np.nan)\n",
    "\n",
    "    # 2. Clamp salary payment date between 1 and 31\n",
    "    #df['c_date_of_salary_payment'] = df['c_date_of_salary_payment'].clip(lower=1, upper=31)\n",
    "\n",
    "    # 3. Replace invalid postal codes (<10000) with NaN\n",
    "    df['postal_code'] = df['postal_code'].where(df['postal_code'].astype(str).str.len() == 5, np.nan)\n",
    "\n",
    "    # Ensure numeric columns are numeric\n",
    "    num_cols = ['number_of_children','number_of_resident','living_period_month','c_number_of_employee',\n",
    "                'c_number_of_working_month','r_expected_credit_limit','age','networth']\n",
    "    \n",
    "    for c in num_cols:\n",
    "        if c in df.columns:\n",
    "            df[c] = pd.to_numeric(df[c], errors='coerce')\n",
    "    num_cols = [c for c in num_cols if c in df.columns]\n",
    "    df[num_cols] = df[num_cols].fillna(df[num_cols].median())\n",
    "\n",
    "    # Fill categorical columns\n",
    "    cat_cols = ['gender','marital_status','postal_code','tel_category','type_of_residence',\n",
    "                'c_business_type','c_position','c_occupation','c_employment_status',\n",
    "                'c_salary_payment_methods','r_propose','r_generalcode1','r_generalcode2',\n",
    "                'r_generalcode3','r_generalcode5','apply']\n",
    "    for c in cat_cols:\n",
    "        if c in df.columns:\n",
    "            df[c] = df[c].fillna(np.nan)\n",
    "\n",
    "    print(df.head(3))\n",
    "    df.to_csv(cleanPath, index=False)\n",
    "\n",
    "    #All Categoric feature -> string\n",
    "    # Keep only columns that exist in df\n",
    "    existing_cat_features = [c for c in cat_features if c in df.columns]\n",
    "\n",
    "    # Convert them to string\n",
    "    df[existing_cat_features] = df[existing_cat_features].astype(str)\n",
    "    return df"
   ]
  },
  {
   "cell_type": "code",
   "execution_count": 7,
   "id": "6ec86cd9",
   "metadata": {},
   "outputs": [
    {
     "name": "stdout",
     "output_type": "stream",
     "text": [
      "             ID gender  marital_status  number_of_children  postal_code  \\\n",
      "0  202412000001     F2               1                   2      10400.0   \n",
      "1  202412000002      M               1                   0      10500.0   \n",
      "2  202412000003     F2               1                   0      10170.0   \n",
      "\n",
      "   tel_category  number_of_resident  living_period_month  type_of_residence  \\\n",
      "0             3                   2                   60                  6   \n",
      "1             3                   3                   48                  6   \n",
      "2             3                   6                   62                  3   \n",
      "\n",
      "   c_business_type  ...  r_expected_credit_limit  r_propose  r_generalcode1  \\\n",
      "0                7  ...                  40000.0        5.0             NaN   \n",
      "1                7  ...                  20000.0        6.0             NaN   \n",
      "2                7  ...                  20000.0        5.0             NaN   \n",
      "\n",
      "   r_generalcode2  r_generalcode3  apply  default_12month   income  networth  \\\n",
      "0             NaN             2.0     WI                0   9070.0    9070.0   \n",
      "1             NaN             1.0     WI                0  16765.0   16765.0   \n",
      "2             NaN             1.0     DS                0  10420.0     420.0   \n",
      "\n",
      "   age  \n",
      "0   54  \n",
      "1   42  \n",
      "2   33  \n",
      "\n",
      "[3 rows x 26 columns]\n",
      "             ID gender  marital_status  number_of_children  postal_code  \\\n",
      "0  202412000196     F2               2                   2      10120.0   \n",
      "1  202412000241     F2               2                   0      10120.0   \n",
      "2  202412000242     F2               1                   0      10120.0   \n",
      "\n",
      "   tel_category  number_of_resident  living_period_month  type_of_residence  \\\n",
      "0             3                   4                  108                  6   \n",
      "1             3                   5                   38                  6   \n",
      "2             3                   1                   24                  6   \n",
      "\n",
      "   c_business_type  ...  c_salary_payment_methods  r_expected_credit_limit  \\\n",
      "0                7  ...                         1                   5000.0   \n",
      "1                4  ...                         1                  10000.0   \n",
      "2                4  ...                         1                  20000.0   \n",
      "\n",
      "   r_propose  r_generalcode1  r_generalcode2  r_generalcode3  apply   income  \\\n",
      "0        5.0             1.0             4.0             1.0     WI  24150.0   \n",
      "1        5.0             1.0             3.0             2.0     WI  24700.0   \n",
      "2        5.0             NaN             NaN             2.0     WI   8800.0   \n",
      "\n",
      "   networth  age  \n",
      "0   24150.0   44  \n",
      "1    4700.0   32  \n",
      "2   -8200.0   49  \n",
      "\n",
      "[3 rows x 25 columns]\n"
     ]
    }
   ],
   "source": [
    "train_df = pd.read_csv(TRAIN_PATH)\n",
    "test_df = pd.read_csv(TEST_PATH)\n",
    "ids = test_df[\"ID\"].copy()\n",
    "\n",
    "train_df = cleanDataset(train_df, CLEANED_TRAIN_PATH)\n",
    "test_df = cleanDataset(test_df, CLEANED_TEST_PATH)"
   ]
  },
  {
   "cell_type": "markdown",
   "id": "21cb3566",
   "metadata": {},
   "source": [
    "## Testing"
   ]
  },
  {
   "cell_type": "code",
   "execution_count": 8,
   "id": "d2c7075a",
   "metadata": {},
   "outputs": [],
   "source": [
    "# threshold = trainXgboost(VERSION, train_df)\n",
    "# testXgboost(VERSION, test_df, ids, threshold)"
   ]
  },
  {
   "cell_type": "code",
   "execution_count": 9,
   "id": "ab4c9a15",
   "metadata": {},
   "outputs": [
    {
     "name": "stderr",
     "output_type": "stream",
     "text": [
      "[I 2025-10-31 23:14:33,615] A new study created in memory with name: no-name-035c2398-f912-4e05-8296-baee46ebde3f\n"
     ]
    },
    {
     "name": "stdout",
     "output_type": "stream",
     "text": [
      "No GPU detected -> using CPU training.\n",
      "Running hyperparameter tuning with Optuna...\n"
     ]
    },
    {
     "data": {
      "application/vnd.jupyter.widget-view+json": {
       "model_id": "a55e2adc1a28423593c9e4cfe832eb8b",
       "version_major": 2,
       "version_minor": 0
      },
      "text/plain": [
       "  0%|          | 0/10 [00:00<?, ?it/s]"
      ]
     },
     "metadata": {},
     "output_type": "display_data"
    },
    {
     "name": "stderr",
     "output_type": "stream",
     "text": [
      "Change of simpleCtr will not affect combinations ctrs.\n",
      "Change of simpleCtr will not affect combinations ctrs.\n",
      "Change of simpleCtr will not affect combinations ctrs.\n",
      "Change of simpleCtr will not affect combinations ctrs.\n",
      "Change of simpleCtr will not affect combinations ctrs.\n",
      "Change of simpleCtr will not affect combinations ctrs.\n",
      "Change of simpleCtr will not affect combinations ctrs.\n",
      "Change of simpleCtr will not affect combinations ctrs.\n",
      "Change of simpleCtr will not affect combinations ctrs.\n",
      "Change of simpleCtr will not affect combinations ctrs.\n",
      "Change of simpleCtr will not affect combinations ctrs.\n",
      "Change of simpleCtr will not affect combinations ctrs.\n"
     ]
    },
    {
     "name": "stdout",
     "output_type": "stream",
     "text": [
      "[I 2025-10-31 23:14:59,594] Trial 0 finished with value: 0.6245682427025265 and parameters: {'bootstrap_type': 'Bernoulli', 'subsample': 0.8822583463454028, 'iterations': 837, 'simple_ctr': 'Buckets', 'depth': 3, 'learning_rate': 0.0291152029270211, 'l2_leaf_reg': 0.0543890580479135, 'random_strength': 0.7083281517411809, 'grow_policy': 'Lossguide', 'leaf_estimation_iterations': 3, 'leaf_estimation_method': 'Gradient', 'one_hot_max_size': 6, 'max_ctr_complexity': 2, 'auto_class_weights': 'Balanced', 'od_type': 'IncToDec', 'od_wait': 86}. Best is trial 0 with value: 0.6245682427025265.\n"
     ]
    },
    {
     "name": "stderr",
     "output_type": "stream",
     "text": [
      "Change of simpleCtr will not affect combinations ctrs.\n",
      "Change of simpleCtr will not affect combinations ctrs.\n",
      "Change of simpleCtr will not affect combinations ctrs.\n",
      "Change of simpleCtr will not affect combinations ctrs.\n",
      "Change of simpleCtr will not affect combinations ctrs.\n",
      "Change of simpleCtr will not affect combinations ctrs.\n",
      "Change of simpleCtr will not affect combinations ctrs.\n",
      "Change of simpleCtr will not affect combinations ctrs.\n",
      "Change of simpleCtr will not affect combinations ctrs.\n",
      "Change of simpleCtr will not affect combinations ctrs.\n",
      "Change of simpleCtr will not affect combinations ctrs.\n",
      "Change of simpleCtr will not affect combinations ctrs.\n"
     ]
    },
    {
     "name": "stdout",
     "output_type": "stream",
     "text": [
      "[I 2025-10-31 23:15:21,363] Trial 1 finished with value: 0.6168619312603066 and parameters: {'bootstrap_type': 'Bernoulli', 'subsample': 0.874199222051885, 'iterations': 826, 'simple_ctr': 'Borders', 'depth': 3, 'learning_rate': 0.0106418283324601, 'l2_leaf_reg': 0.030677777488419596, 'random_strength': 3.981049415287959, 'grow_policy': 'Lossguide', 'leaf_estimation_iterations': 3, 'leaf_estimation_method': 'Newton', 'one_hot_max_size': 3, 'max_ctr_complexity': 2, 'auto_class_weights': 'Balanced', 'od_type': 'IncToDec', 'od_wait': 76}. Best is trial 0 with value: 0.6245682427025265.\n"
     ]
    },
    {
     "name": "stderr",
     "output_type": "stream",
     "text": [
      "Change of simpleCtr will not affect combinations ctrs.\n",
      "Change of simpleCtr will not affect combinations ctrs.\n",
      "Change of simpleCtr will not affect combinations ctrs.\n",
      "Change of simpleCtr will not affect combinations ctrs.\n",
      "Change of simpleCtr will not affect combinations ctrs.\n",
      "Change of simpleCtr will not affect combinations ctrs.\n",
      "Change of simpleCtr will not affect combinations ctrs.\n",
      "Change of simpleCtr will not affect combinations ctrs.\n",
      "Change of simpleCtr will not affect combinations ctrs.\n",
      "Change of simpleCtr will not affect combinations ctrs.\n",
      "Change of simpleCtr will not affect combinations ctrs.\n",
      "Change of simpleCtr will not affect combinations ctrs.\n"
     ]
    },
    {
     "name": "stdout",
     "output_type": "stream",
     "text": [
      "[I 2025-10-31 23:15:46,877] Trial 2 finished with value: 0.609214082457945 and parameters: {'bootstrap_type': 'Bernoulli', 'subsample': 0.9797816471318617, 'iterations': 408, 'simple_ctr': 'Buckets', 'depth': 4, 'learning_rate': 0.016436787964743224, 'l2_leaf_reg': 0.37754577297857445, 'random_strength': 4.40426634128591, 'grow_policy': 'Lossguide', 'leaf_estimation_iterations': 5, 'leaf_estimation_method': 'Gradient', 'one_hot_max_size': 2, 'max_ctr_complexity': 1, 'auto_class_weights': None, 'od_type': 'IncToDec', 'od_wait': 96}. Best is trial 0 with value: 0.6245682427025265.\n"
     ]
    },
    {
     "name": "stderr",
     "output_type": "stream",
     "text": [
      "Change of simpleCtr will not affect combinations ctrs.\n",
      "Change of simpleCtr will not affect combinations ctrs.\n",
      "Change of simpleCtr will not affect combinations ctrs.\n",
      "Change of simpleCtr will not affect combinations ctrs.\n",
      "Change of simpleCtr will not affect combinations ctrs.\n",
      "Change of simpleCtr will not affect combinations ctrs.\n",
      "Change of simpleCtr will not affect combinations ctrs.\n",
      "Change of simpleCtr will not affect combinations ctrs.\n",
      "Change of simpleCtr will not affect combinations ctrs.\n",
      "Change of simpleCtr will not affect combinations ctrs.\n",
      "Change of simpleCtr will not affect combinations ctrs.\n",
      "Change of simpleCtr will not affect combinations ctrs.\n"
     ]
    },
    {
     "name": "stdout",
     "output_type": "stream",
     "text": [
      "[I 2025-10-31 23:16:30,403] Trial 3 finished with value: 0.6257435169680087 and parameters: {'bootstrap_type': 'Bernoulli', 'subsample': 0.7573667718827705, 'iterations': 929, 'simple_ctr': 'Borders', 'depth': 5, 'learning_rate': 0.040010085952529084, 'l2_leaf_reg': 0.0117914351782389, 'random_strength': 1.124208748895785, 'grow_policy': 'SymmetricTree', 'leaf_estimation_iterations': 5, 'leaf_estimation_method': 'Gradient', 'one_hot_max_size': 4, 'max_ctr_complexity': 3, 'auto_class_weights': None, 'od_type': 'IncToDec', 'od_wait': 47}. Best is trial 3 with value: 0.6257435169680087.\n"
     ]
    },
    {
     "name": "stderr",
     "output_type": "stream",
     "text": [
      "Change of simpleCtr will not affect combinations ctrs.\n",
      "Change of simpleCtr will not affect combinations ctrs.\n",
      "Change of simpleCtr will not affect combinations ctrs.\n",
      "Change of simpleCtr will not affect combinations ctrs.\n",
      "Change of simpleCtr will not affect combinations ctrs.\n",
      "Change of simpleCtr will not affect combinations ctrs.\n",
      "Change of simpleCtr will not affect combinations ctrs.\n",
      "Change of simpleCtr will not affect combinations ctrs.\n",
      "Change of simpleCtr will not affect combinations ctrs.\n",
      "Change of simpleCtr will not affect combinations ctrs.\n",
      "Change of simpleCtr will not affect combinations ctrs.\n",
      "Change of simpleCtr will not affect combinations ctrs.\n"
     ]
    },
    {
     "name": "stdout",
     "output_type": "stream",
     "text": [
      "[I 2025-10-31 23:16:43,303] Trial 4 finished with value: 0.6250655421261125 and parameters: {'bootstrap_type': 'Bernoulli', 'subsample': 0.5899451639375689, 'iterations': 940, 'simple_ctr': 'BinarizedTargetMeanValue', 'depth': 6, 'learning_rate': 0.05606864184819115, 'l2_leaf_reg': 0.022838740772844084, 'random_strength': 3.882361317737478, 'grow_policy': 'Lossguide', 'leaf_estimation_iterations': 1, 'leaf_estimation_method': 'Newton', 'one_hot_max_size': 5, 'max_ctr_complexity': 1, 'auto_class_weights': None, 'od_type': 'IncToDec', 'od_wait': 56}. Best is trial 3 with value: 0.6257435169680087.\n"
     ]
    },
    {
     "name": "stderr",
     "output_type": "stream",
     "text": [
      "Change of simpleCtr will not affect combinations ctrs.\n",
      "Change of simpleCtr will not affect combinations ctrs.\n",
      "Change of simpleCtr will not affect combinations ctrs.\n",
      "Change of simpleCtr will not affect combinations ctrs.\n",
      "Change of simpleCtr will not affect combinations ctrs.\n",
      "Change of simpleCtr will not affect combinations ctrs.\n",
      "Change of simpleCtr will not affect combinations ctrs.\n",
      "Change of simpleCtr will not affect combinations ctrs.\n",
      "Change of simpleCtr will not affect combinations ctrs.\n",
      "Change of simpleCtr will not affect combinations ctrs.\n",
      "Change of simpleCtr will not affect combinations ctrs.\n",
      "Change of simpleCtr will not affect combinations ctrs.\n"
     ]
    },
    {
     "name": "stdout",
     "output_type": "stream",
     "text": [
      "[I 2025-10-31 23:17:00,212] Trial 5 finished with value: 0.6267724431212759 and parameters: {'bootstrap_type': 'Bernoulli', 'subsample': 0.5758814138853083, 'iterations': 841, 'simple_ctr': 'Counter', 'depth': 6, 'learning_rate': 0.030172666509001658, 'l2_leaf_reg': 0.34693584264259075, 'random_strength': 2.9208663428988766, 'grow_policy': 'Lossguide', 'leaf_estimation_iterations': 1, 'leaf_estimation_method': 'Newton', 'one_hot_max_size': 7, 'max_ctr_complexity': 1, 'auto_class_weights': 'Balanced', 'od_type': 'IncToDec', 'od_wait': 60}. Best is trial 5 with value: 0.6267724431212759.\n"
     ]
    },
    {
     "name": "stderr",
     "output_type": "stream",
     "text": [
      "Change of simpleCtr will not affect combinations ctrs.\n",
      "Change of simpleCtr will not affect combinations ctrs.\n",
      "Change of simpleCtr will not affect combinations ctrs.\n",
      "Change of simpleCtr will not affect combinations ctrs.\n",
      "Change of simpleCtr will not affect combinations ctrs.\n",
      "Change of simpleCtr will not affect combinations ctrs.\n",
      "Change of simpleCtr will not affect combinations ctrs.\n",
      "Change of simpleCtr will not affect combinations ctrs.\n",
      "Change of simpleCtr will not affect combinations ctrs.\n",
      "Change of simpleCtr will not affect combinations ctrs.\n",
      "Change of simpleCtr will not affect combinations ctrs.\n",
      "Change of simpleCtr will not affect combinations ctrs.\n"
     ]
    },
    {
     "name": "stdout",
     "output_type": "stream",
     "text": [
      "[I 2025-10-31 23:17:17,719] Trial 6 finished with value: 0.6201202321381976 and parameters: {'bootstrap_type': 'Bernoulli', 'subsample': 0.686436532931067, 'iterations': 592, 'simple_ctr': 'Counter', 'depth': 3, 'learning_rate': 0.013418129998097729, 'l2_leaf_reg': 0.01636935377339296, 'random_strength': 2.707508906980087, 'grow_policy': 'Lossguide', 'leaf_estimation_iterations': 5, 'leaf_estimation_method': 'Newton', 'one_hot_max_size': 7, 'max_ctr_complexity': 3, 'auto_class_weights': 'Balanced', 'od_type': 'IncToDec', 'od_wait': 77}. Best is trial 5 with value: 0.6267724431212759.\n"
     ]
    },
    {
     "name": "stderr",
     "output_type": "stream",
     "text": [
      "Change of simpleCtr will not affect combinations ctrs.\n",
      "Change of simpleCtr will not affect combinations ctrs.\n",
      "Change of simpleCtr will not affect combinations ctrs.\n",
      "Change of simpleCtr will not affect combinations ctrs.\n",
      "Change of simpleCtr will not affect combinations ctrs.\n",
      "Change of simpleCtr will not affect combinations ctrs.\n",
      "Change of simpleCtr will not affect combinations ctrs.\n",
      "Change of simpleCtr will not affect combinations ctrs.\n",
      "Change of simpleCtr will not affect combinations ctrs.\n",
      "Change of simpleCtr will not affect combinations ctrs.\n",
      "Change of simpleCtr will not affect combinations ctrs.\n",
      "Change of simpleCtr will not affect combinations ctrs.\n"
     ]
    },
    {
     "name": "stdout",
     "output_type": "stream",
     "text": [
      "[I 2025-10-31 23:17:23,969] Trial 7 finished with value: 0.6286599725079389 and parameters: {'bootstrap_type': 'Bernoulli', 'subsample': 0.6043543927928057, 'iterations': 562, 'simple_ctr': 'Counter', 'depth': 7, 'learning_rate': 0.055203662158240026, 'l2_leaf_reg': 0.4521232224262562, 'random_strength': 0.7501649703412521, 'grow_policy': 'SymmetricTree', 'leaf_estimation_iterations': 1, 'leaf_estimation_method': 'Newton', 'one_hot_max_size': 10, 'max_ctr_complexity': 2, 'auto_class_weights': 'Balanced', 'od_type': 'IncToDec', 'od_wait': 93}. Best is trial 7 with value: 0.6286599725079389.\n"
     ]
    },
    {
     "name": "stderr",
     "output_type": "stream",
     "text": [
      "Change of simpleCtr will not affect combinations ctrs.\n",
      "Change of simpleCtr will not affect combinations ctrs.\n",
      "Change of simpleCtr will not affect combinations ctrs.\n",
      "Change of simpleCtr will not affect combinations ctrs.\n",
      "Change of simpleCtr will not affect combinations ctrs.\n",
      "Change of simpleCtr will not affect combinations ctrs.\n",
      "Change of simpleCtr will not affect combinations ctrs.\n",
      "Change of simpleCtr will not affect combinations ctrs.\n",
      "Change of simpleCtr will not affect combinations ctrs.\n",
      "Change of simpleCtr will not affect combinations ctrs.\n",
      "Change of simpleCtr will not affect combinations ctrs.\n",
      "Change of simpleCtr will not affect combinations ctrs.\n"
     ]
    },
    {
     "name": "stdout",
     "output_type": "stream",
     "text": [
      "[I 2025-10-31 23:17:56,053] Trial 8 finished with value: 0.6222251252979815 and parameters: {'bootstrap_type': 'Bernoulli', 'subsample': 0.9755561146286078, 'iterations': 446, 'simple_ctr': 'BinarizedTargetMeanValue', 'depth': 8, 'learning_rate': 0.01068500108236556, 'l2_leaf_reg': 3.447440932015337, 'random_strength': 0.19440302063455786, 'grow_policy': 'SymmetricTree', 'leaf_estimation_iterations': 4, 'leaf_estimation_method': 'Gradient', 'one_hot_max_size': 5, 'max_ctr_complexity': 2, 'auto_class_weights': None, 'od_type': 'IncToDec', 'od_wait': 87}. Best is trial 7 with value: 0.6286599725079389.\n"
     ]
    },
    {
     "name": "stderr",
     "output_type": "stream",
     "text": [
      "Change of simpleCtr will not affect combinations ctrs.\n",
      "Change of simpleCtr will not affect combinations ctrs.\n",
      "Change of simpleCtr will not affect combinations ctrs.\n",
      "Change of simpleCtr will not affect combinations ctrs.\n",
      "Change of simpleCtr will not affect combinations ctrs.\n",
      "Change of simpleCtr will not affect combinations ctrs.\n",
      "Change of simpleCtr will not affect combinations ctrs.\n",
      "Change of simpleCtr will not affect combinations ctrs.\n",
      "Change of simpleCtr will not affect combinations ctrs.\n",
      "Change of simpleCtr will not affect combinations ctrs.\n",
      "Change of simpleCtr will not affect combinations ctrs.\n",
      "Change of simpleCtr will not affect combinations ctrs.\n"
     ]
    },
    {
     "name": "stdout",
     "output_type": "stream",
     "text": [
      "[I 2025-10-31 23:18:25,972] Trial 9 finished with value: 0.6237106419462829 and parameters: {'bootstrap_type': 'Bernoulli', 'subsample': 0.761635411281699, 'iterations': 908, 'simple_ctr': 'BinarizedTargetMeanValue', 'depth': 4, 'learning_rate': 0.012071230385970654, 'l2_leaf_reg': 1.5791753240045088, 'random_strength': 0.23776013986206954, 'grow_policy': 'SymmetricTree', 'leaf_estimation_iterations': 1, 'leaf_estimation_method': 'Newton', 'one_hot_max_size': 4, 'max_ctr_complexity': 2, 'auto_class_weights': None, 'od_type': 'IncToDec', 'od_wait': 95}. Best is trial 7 with value: 0.6286599725079389.\n",
      "\n",
      "Best Parameters Found: {'bootstrap_type': 'Bernoulli', 'subsample': 0.6043543927928057, 'iterations': 562, 'simple_ctr': 'Counter', 'depth': 7, 'learning_rate': 0.055203662158240026, 'l2_leaf_reg': 0.4521232224262562, 'random_strength': 0.7501649703412521, 'grow_policy': 'SymmetricTree', 'leaf_estimation_iterations': 1, 'leaf_estimation_method': 'Newton', 'one_hot_max_size': 10, 'max_ctr_complexity': 2, 'auto_class_weights': 'Balanced', 'od_type': 'IncToDec', 'od_wait': 93}\n"
     ]
    },
    {
     "ename": "FileNotFoundError",
     "evalue": "[Errno 2] No such file or directory: '../../model/v6/param_log_catboost.json'",
     "output_type": "error",
     "traceback": [
      "\u001b[31m---------------------------------------------------------------------------\u001b[39m",
      "\u001b[31mFileNotFoundError\u001b[39m                         Traceback (most recent call last)",
      "\u001b[36mCell\u001b[39m\u001b[36m \u001b[39m\u001b[32mIn[9]\u001b[39m\u001b[32m, line 1\u001b[39m\n\u001b[32m----> \u001b[39m\u001b[32m1\u001b[39m threshold = \u001b[43mtrainCatboost\u001b[49m\u001b[43m(\u001b[49m\u001b[43mVERSION\u001b[49m\u001b[43m,\u001b[49m\u001b[43m \u001b[49m\u001b[43mtrain_df\u001b[49m\u001b[43m,\u001b[49m\u001b[43m \u001b[49m\u001b[43mcat_features\u001b[49m\u001b[43m)\u001b[49m\n",
      "\u001b[36mFile \u001b[39m\u001b[32m~/Desktop/AIhack/modules/v1/catboostModel.py:143\u001b[39m, in \u001b[36mtrainCatboost\u001b[39m\u001b[34m(version, train_df, categorical_columns, hypertune)\u001b[39m\n\u001b[32m    135\u001b[39m \u001b[38;5;28mprint\u001b[39m(\u001b[33m\"\u001b[39m\u001b[38;5;130;01m\\n\u001b[39;00m\u001b[33mBest Parameters Found:\u001b[39m\u001b[33m\"\u001b[39m, study.best_params)\n\u001b[32m    137\u001b[39m param_data = {\n\u001b[32m    138\u001b[39m     \u001b[33m\"\u001b[39m\u001b[33mtimestamp\u001b[39m\u001b[33m\"\u001b[39m: datetime.now().strftime(\u001b[33m\"\u001b[39m\u001b[33m%\u001b[39m\u001b[33mY-\u001b[39m\u001b[33m%\u001b[39m\u001b[33mm-\u001b[39m\u001b[38;5;132;01m%d\u001b[39;00m\u001b[33m \u001b[39m\u001b[33m%\u001b[39m\u001b[33mH:\u001b[39m\u001b[33m%\u001b[39m\u001b[33mM:\u001b[39m\u001b[33m%\u001b[39m\u001b[33mS\u001b[39m\u001b[33m\"\u001b[39m),\n\u001b[32m    139\u001b[39m     \u001b[33m\"\u001b[39m\u001b[33mbest_score\u001b[39m\u001b[33m\"\u001b[39m: study.best_value,\n\u001b[32m    140\u001b[39m     \u001b[33m\"\u001b[39m\u001b[33mbest_params\u001b[39m\u001b[33m\"\u001b[39m: study.best_params\n\u001b[32m    141\u001b[39m }\n\u001b[32m--> \u001b[39m\u001b[32m143\u001b[39m \u001b[38;5;28;01mwith\u001b[39;00m \u001b[38;5;28;43mopen\u001b[39;49m\u001b[43m(\u001b[49m\u001b[43mPARAM_PATH\u001b[49m\u001b[43m,\u001b[49m\u001b[43m \u001b[49m\u001b[33;43m\"\u001b[39;49m\u001b[33;43ma\u001b[39;49m\u001b[33;43m\"\u001b[39;49m\u001b[43m)\u001b[49m \u001b[38;5;28;01mas\u001b[39;00m f:\n\u001b[32m    144\u001b[39m     json.dump(param_data, f, indent=\u001b[32m4\u001b[39m)\n\u001b[32m    145\u001b[39m     f.write(\u001b[33m\"\u001b[39m\u001b[38;5;130;01m\\n\u001b[39;00m\u001b[33m\"\u001b[39m)  \u001b[38;5;66;03m# one run per line\u001b[39;00m\n",
      "\u001b[31mFileNotFoundError\u001b[39m: [Errno 2] No such file or directory: '../../model/v6/param_log_catboost.json'"
     ]
    }
   ],
   "source": [
    "threshold = trainCatboost(VERSION, train_df, cat_features)"
   ]
  }
 ],
 "metadata": {
  "kernelspec": {
   "display_name": "aihack",
   "language": "python",
   "name": "python3"
  },
  "language_info": {
   "codemirror_mode": {
    "name": "ipython",
    "version": 3
   },
   "file_extension": ".py",
   "mimetype": "text/x-python",
   "name": "python",
   "nbconvert_exporter": "python",
   "pygments_lexer": "ipython3",
   "version": "3.12.12"
  }
 },
 "nbformat": 4,
 "nbformat_minor": 5
}
