{
 "cells": [
  {
   "cell_type": "markdown",
   "id": "0fa8e20a",
   "metadata": {},
   "source": [
    "# Testing"
   ]
  },
  {
   "cell_type": "code",
   "execution_count": 43,
   "id": "c784157a",
   "metadata": {},
   "outputs": [],
   "source": [
    "import pandas as pd\n",
    "import joblib"
   ]
  },
  {
   "cell_type": "markdown",
   "id": "aea32a27",
   "metadata": {},
   "source": [
    "Load the model, scaler, and feature list"
   ]
  },
  {
   "cell_type": "code",
   "execution_count": 44,
   "id": "f0b4b6d8",
   "metadata": {},
   "outputs": [],
   "source": [
    "model = joblib.load(\"../model/model_v0.pkl\")\n",
    "scaler = joblib.load(\"../model/scaler_model_v0.pkl\")\n",
    "train_features = joblib.load(\"../model/train_features_model_v0.pkl\")"
   ]
  },
  {
   "cell_type": "markdown",
   "id": "0aed675a",
   "metadata": {},
   "source": [
    "Load the new dataset + Align columns with the training features"
   ]
  },
  {
   "cell_type": "code",
   "execution_count": 45,
   "id": "06e50b9a",
   "metadata": {},
   "outputs": [],
   "source": [
    "new_df = pd.read_csv(\"../data/test_without_gt.csv\")\n",
    "\n",
    "ids = new_df[\"ID\"]\n",
    "\n",
    "drop_cols = [\"ID\", \"Shop Name\", \"pms_i_ymd\", \"date_of_birth\", \"c_postal_code\", \"postal_code\"]\n",
    "new_df = new_df.drop(columns=drop_cols, errors=\"ignore\")\n",
    "\n",
    "new_df = pd.get_dummies(new_df, drop_first=True)"
   ]
  },
  {
   "cell_type": "code",
   "execution_count": 46,
   "id": "bfeb9748",
   "metadata": {},
   "outputs": [],
   "source": [
    "for col in train_features:\n",
    "    if col not in new_df.columns:\n",
    "        new_df[col] = 0\n",
    "\n",
    "new_df = new_df[train_features]"
   ]
  },
  {
   "cell_type": "markdown",
   "id": "cbfa6681",
   "metadata": {},
   "source": [
    "Scale"
   ]
  },
  {
   "cell_type": "code",
   "execution_count": 47,
   "id": "d1ac8c0a",
   "metadata": {},
   "outputs": [],
   "source": [
    "new_scaled = scaler.transform(new_df)"
   ]
  },
  {
   "cell_type": "markdown",
   "id": "4a618b9f",
   "metadata": {},
   "source": [
    "Predict"
   ]
  },
  {
   "cell_type": "code",
   "execution_count": 48,
   "id": "2e529c5e",
   "metadata": {},
   "outputs": [],
   "source": [
    "y_proba = model.predict_proba(new_scaled)[:, 1]\n",
    "\n",
    "# Use a lower threshold to catch more defaults\n",
    "threshold = 0.3\n",
    "preds = (y_proba > threshold).astype(int)"
   ]
  },
  {
   "cell_type": "markdown",
   "id": "77f8995f",
   "metadata": {},
   "source": [
    "Export output"
   ]
  },
  {
   "cell_type": "code",
   "execution_count": 49,
   "id": "7b0f7def",
   "metadata": {},
   "outputs": [],
   "source": [
    "output = pd.DataFrame({\n",
    "    \"ID\": ids,\n",
    "    \"default_12month\": preds\n",
    "})\n",
    "output.to_csv(\"../prediction/predictions.csv\", index=False)"
   ]
  }
 ],
 "metadata": {
  "kernelspec": {
   "display_name": "Python 3",
   "language": "python",
   "name": "python3"
  },
  "language_info": {
   "codemirror_mode": {
    "name": "ipython",
    "version": 3
   },
   "file_extension": ".py",
   "mimetype": "text/x-python",
   "name": "python",
   "nbconvert_exporter": "python",
   "pygments_lexer": "ipython3",
   "version": "3.12.3"
  }
 },
 "nbformat": 4,
 "nbformat_minor": 5
}
