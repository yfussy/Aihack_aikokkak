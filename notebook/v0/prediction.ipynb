{
 "cells": [
  {
   "cell_type": "markdown",
   "id": "0fa8e20a",
   "metadata": {},
   "source": [
    "# Testing"
   ]
  },
  {
   "cell_type": "code",
   "execution_count": 11,
   "id": "c784157a",
   "metadata": {},
   "outputs": [],
   "source": [
    "import pandas as pd\n",
    "import numpy as np\n",
    "import joblib\n",
    "from xgboost import XGBClassifier"
   ]
  },
  {
   "cell_type": "code",
   "execution_count": 12,
   "id": "c501296c",
   "metadata": {},
   "outputs": [],
   "source": [
    "import sys\n",
    "import os\n",
    "root_path = os.path.abspath(os.path.join(os.getcwd(), \"../..\"))\n",
    "if root_path not in sys.path:\n",
    "    sys.path.append(root_path)\n",
    "from fileDir import getDataDir, getModelDir, getPredDir"
   ]
  },
  {
   "cell_type": "markdown",
   "id": "aea32a27",
   "metadata": {},
   "source": [
    "Load the model, scaler, and feature list"
   ]
  },
  {
   "cell_type": "code",
   "execution_count": 13,
   "id": "88ca022e",
   "metadata": {},
   "outputs": [],
   "source": [
    "MODEL_PATH = getModelDir(\"model\", 0)\n",
    "SCALER_PATH = getModelDir(\"scaler\", 0)\n",
    "FEATURES_PATH = getModelDir(\"feature\", 0)\n",
    "TEST_PATH = getDataDir(\"test\")"
   ]
  },
  {
   "cell_type": "code",
   "execution_count": 14,
   "id": "f0b4b6d8",
   "metadata": {},
   "outputs": [],
   "source": [
    "model: XGBClassifier = joblib.load(MODEL_PATH)\n",
    "scaler = joblib.load(SCALER_PATH)\n",
    "train_features = joblib.load(FEATURES_PATH)"
   ]
  },
  {
   "cell_type": "markdown",
   "id": "0aed675a",
   "metadata": {},
   "source": [
    "Load the new dataset + Align columns with the training features"
   ]
  },
  {
   "cell_type": "code",
   "execution_count": 15,
   "id": "06e50b9a",
   "metadata": {},
   "outputs": [],
   "source": [
    "test_df = pd.read_csv(TEST_PATH)\n",
    "\n",
    "ids = test_df[\"ID\"]\n",
    "\n",
    "drop_cols = [\"ID\", \"Shop Name\", \"pms_i_ymd\", \"date_of_birth\", \"c_postal_code\", \"postal_code\"]\n",
    "test_df = test_df.drop(columns=drop_cols, errors=\"ignore\")"
   ]
  },
  {
   "cell_type": "code",
   "execution_count": 16,
   "id": "bfeb9748",
   "metadata": {},
   "outputs": [],
   "source": [
    "test_df = pd.get_dummies(test_df, drop_first=True)\n",
    "\n",
    "# Align test features with training features\n",
    "for col in train_features:\n",
    "    if col not in test_df.columns:\n",
    "        test_df[col] = 0  # add missing columns\n",
    "\n",
    "# Reorder columns to match training order\n",
    "test_df = test_df[train_features]"
   ]
  },
  {
   "cell_type": "markdown",
   "id": "cbfa6681",
   "metadata": {},
   "source": [
    "Scale"
   ]
  },
  {
   "cell_type": "code",
   "execution_count": 17,
   "id": "d1ac8c0a",
   "metadata": {},
   "outputs": [],
   "source": [
    "X_test = scaler.transform(test_df)"
   ]
  },
  {
   "cell_type": "markdown",
   "id": "4a618b9f",
   "metadata": {},
   "source": [
    "Predict"
   ]
  },
  {
   "cell_type": "code",
   "execution_count": 18,
   "id": "2e529c5e",
   "metadata": {},
   "outputs": [],
   "source": [
    "y_proba = model.predict_proba(X_test)[:, 1]\n",
    "\n",
    "# model_v0 threshold recommendation\n",
    "threshold = 0.178\n",
    "preds = (y_proba > threshold).astype(int)"
   ]
  },
  {
   "cell_type": "markdown",
   "id": "77f8995f",
   "metadata": {},
   "source": [
    "Export output"
   ]
  },
  {
   "cell_type": "code",
   "execution_count": 19,
   "id": "7b0f7def",
   "metadata": {},
   "outputs": [],
   "source": [
    "output = pd.DataFrame({\n",
    "    \"ID\": ids,\n",
    "    \"default_12month\": preds\n",
    "})\n",
    "output.to_csv(getPredDir(0), index=False)"
   ]
  }
 ],
 "metadata": {
  "kernelspec": {
   "display_name": "base",
   "language": "python",
   "name": "python3"
  },
  "language_info": {
   "codemirror_mode": {
    "name": "ipython",
    "version": 3
   },
   "file_extension": ".py",
   "mimetype": "text/x-python",
   "name": "python",
   "nbconvert_exporter": "python",
   "pygments_lexer": "ipython3",
   "version": "3.13.5"
  }
 },
 "nbformat": 4,
 "nbformat_minor": 5
}
