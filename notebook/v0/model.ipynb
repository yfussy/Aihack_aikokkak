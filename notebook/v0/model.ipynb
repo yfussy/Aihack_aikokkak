{
 "cells": [
  {
   "cell_type": "markdown",
   "id": "5a562a31",
   "metadata": {},
   "source": [
    "# Model"
   ]
  },
  {
   "cell_type": "code",
   "execution_count": 1,
   "id": "5ef0cfad",
   "metadata": {},
   "outputs": [],
   "source": [
    "import pandas as pd\n",
    "import numpy as np\n",
    "import sklearn\n",
    "from sklearn.model_selection import train_test_split, RandomizedSearchCV\n",
    "from sklearn.preprocessing import StandardScaler\n",
    "from sklearn.metrics import (\n",
    "    classification_report,\n",
    "    confusion_matrix,\n",
    "    roc_auc_score,\n",
    "    precision_recall_curve,\n",
    ")\n",
    "from imblearn.over_sampling import SMOTE\n",
    "from xgboost import XGBClassifier\n",
    "import joblib\n",
    "import matplotlib.pyplot as plt\n",
    "from xgboost import plot_importance\n",
    "# pip install pandas numpy scikit-learn imblearn xgboost matplotlib joblib"
   ]
  },
  {
   "cell_type": "code",
   "execution_count": 2,
   "id": "075670db",
   "metadata": {},
   "outputs": [],
   "source": [
    "import sys\n",
    "import os\n",
    "root_path = os.path.abspath(os.path.join(os.getcwd(), \"../..\"))\n",
    "if root_path not in sys.path:\n",
    "    sys.path.append(root_path)\n",
    "from fileDir import getDataDir, getModelDir, getPredDir"
   ]
  },
  {
   "cell_type": "code",
   "execution_count": 3,
   "id": "f45816ca",
   "metadata": {},
   "outputs": [],
   "source": [
    "df = pd.read_csv(getDataDir(\"cleaned\", 0))"
   ]
  },
  {
   "cell_type": "code",
   "execution_count": 4,
   "id": "dd52aef3",
   "metadata": {},
   "outputs": [],
   "source": [
    "drop_cols = [\"ID\", \"Shop Name\", \"pms_i_ymd\", \"date_of_birth\", \"c_postal_code\", \"postal_code\"]\n",
    "df = df.drop(columns=drop_cols, errors=\"ignore\")"
   ]
  },
  {
   "cell_type": "markdown",
   "id": "2520e94f",
   "metadata": {},
   "source": [
    "Define target and features"
   ]
  },
  {
   "cell_type": "code",
   "execution_count": 5,
   "id": "2c997fe2",
   "metadata": {},
   "outputs": [],
   "source": [
    "target = \"default_12month\"\n",
    "X = df.drop(columns=[target])\n",
    "y = df[target]"
   ]
  },
  {
   "cell_type": "markdown",
   "id": "c619fad4",
   "metadata": {},
   "source": [
    "Handle categorical variables"
   ]
  },
  {
   "cell_type": "code",
   "execution_count": 6,
   "id": "2bd2be9a",
   "metadata": {},
   "outputs": [],
   "source": [
    "# Use one-hot encoding for categorical features (e.g., gender, marital_status, apply)\n",
    "X = pd.get_dummies(X, drop_first=True)"
   ]
  },
  {
   "cell_type": "markdown",
   "id": "1e857bd6",
   "metadata": {},
   "source": [
    "Save feature names before scailing"
   ]
  },
  {
   "cell_type": "code",
   "execution_count": 7,
   "id": "30ea5f9a",
   "metadata": {},
   "outputs": [
    {
     "data": {
      "text/plain": [
       "['../../model/v0/train_features_model.pkl']"
      ]
     },
     "execution_count": 7,
     "metadata": {},
     "output_type": "execute_result"
    }
   ],
   "source": [
    "feature_names = X.columns.tolist()\n",
    "joblib.dump(feature_names, getModelDir(\"feature\", 0))"
   ]
  },
  {
   "cell_type": "markdown",
   "id": "154c38e4",
   "metadata": {},
   "source": [
    "Split into training and testing sets"
   ]
  },
  {
   "cell_type": "code",
   "execution_count": 8,
   "id": "b5cc13c1",
   "metadata": {},
   "outputs": [],
   "source": [
    "X_train, X_test, y_train, y_test = train_test_split(X, y, test_size=0.2, random_state=42, stratify=y)"
   ]
  },
  {
   "cell_type": "markdown",
   "id": "ddd11a77",
   "metadata": {},
   "source": [
    "Normalize numeric features"
   ]
  },
  {
   "cell_type": "code",
   "execution_count": 9,
   "id": "bcfec658",
   "metadata": {},
   "outputs": [],
   "source": [
    "scaler = StandardScaler()\n",
    "X_train = scaler.fit_transform(X_train)\n",
    "X_test = scaler.transform(X_test)"
   ]
  },
  {
   "cell_type": "markdown",
   "id": "627cc2ea",
   "metadata": {},
   "source": [
    "Save the scaler"
   ]
  },
  {
   "cell_type": "code",
   "execution_count": 10,
   "id": "851643ba",
   "metadata": {},
   "outputs": [
    {
     "data": {
      "text/plain": [
       "['../../model/v0/scaler_model.pkl']"
      ]
     },
     "execution_count": 10,
     "metadata": {},
     "output_type": "execute_result"
    }
   ],
   "source": [
    "joblib.dump(scaler, getModelDir(\"scaler\", 0))"
   ]
  },
  {
   "cell_type": "markdown",
   "id": "d3de37b1",
   "metadata": {},
   "source": [
    "Handle Class Imbalance (SMOTE)"
   ]
  },
  {
   "cell_type": "code",
   "execution_count": 11,
   "id": "aa158e2a",
   "metadata": {},
   "outputs": [],
   "source": [
    "sm = SMOTE(random_state=42)\n",
    "X_train_res, y_train_res = sm.fit_resample(X_train, y_train)"
   ]
  },
  {
   "cell_type": "markdown",
   "id": "c82ab8b2",
   "metadata": {},
   "source": [
    "Hyperparameter Tuning (Using: XGBoost)"
   ]
  },
  {
   "cell_type": "code",
   "execution_count": 12,
   "id": "dbc090ea",
   "metadata": {},
   "outputs": [
    {
     "name": "stdout",
     "output_type": "stream",
     "text": [
      "Tuning hyperparameters...\n",
      "Fitting 3 folds for each of 1 candidates, totalling 3 fits\n"
     ]
    },
    {
     "name": "stderr",
     "output_type": "stream",
     "text": [
      "/home/megarina/UNI/testoa/Aihack_aikokkak/.venv/lib/python3.10/site-packages/sklearn/model_selection/_search.py:317: UserWarning: The total space of parameters 1 is smaller than n_iter=25. Running 1 iterations. For exhaustive searches, use GridSearchCV.\n",
      "  warnings.warn(\n"
     ]
    },
    {
     "name": "stderr",
     "output_type": "stream",
     "text": [
      "/home/megarina/UNI/testoa/Aihack_aikokkak/.venv/lib/python3.10/site-packages/xgboost/training.py:199: UserWarning: [10:47:33] WARNING: /workspace/src/learner.cc:790: \n",
      "Parameters: { \"use_label_encoder\" } are not used.\n",
      "\n",
      "  bst.update(dtrain, iteration=i, fobj=obj)\n",
      "/home/megarina/UNI/testoa/Aihack_aikokkak/.venv/lib/python3.10/site-packages/xgboost/training.py:199: UserWarning: [10:47:33] WARNING: /workspace/src/learner.cc:790: \n",
      "Parameters: { \"use_label_encoder\" } are not used.\n",
      "\n",
      "  bst.update(dtrain, iteration=i, fobj=obj)\n",
      "/home/megarina/UNI/testoa/Aihack_aikokkak/.venv/lib/python3.10/site-packages/xgboost/training.py:199: UserWarning: [10:47:33] WARNING: /workspace/src/learner.cc:790: \n",
      "Parameters: { \"use_label_encoder\" } are not used.\n",
      "\n",
      "  bst.update(dtrain, iteration=i, fobj=obj)\n",
      "/home/megarina/UNI/testoa/Aihack_aikokkak/.venv/lib/python3.10/site-packages/xgboost/training.py:199: UserWarning: [10:47:51] WARNING: /workspace/src/learner.cc:790: \n",
      "Parameters: { \"use_label_encoder\" } are not used.\n",
      "\n",
      "  bst.update(dtrain, iteration=i, fobj=obj)\n"
     ]
    },
    {
     "name": "stdout",
     "output_type": "stream",
     "text": [
      "Best Parameters Found: {'subsample': 0.9, 'n_estimators': 300, 'min_child_weight': 0.5, 'max_depth': 10, 'learning_rate': 0.015, 'gamma': 0.25, 'colsample_bytree': 0.9}\n"
     ]
    }
   ],
   "source": [
    "param_grid = {\n",
    "    \"n_estimators\": [300],\n",
    "    \"max_depth\": [10],\n",
    "    \"learning_rate\": [0.015],\n",
    "    \"subsample\": [0.9], # bound [0,1]\n",
    "    \"colsample_bytree\": [0.9], # bound [0,1]\n",
    "    \"min_child_weight\": [0.5],\n",
    "    \"gamma\": [0.25],\n",
    "}\n",
    "\n",
    "base_model = XGBClassifier(\n",
    "    eval_metric=\"logloss\",\n",
    "    random_state=42,\n",
    "    use_label_encoder=False,\n",
    ")\n",
    "\n",
    "search = RandomizedSearchCV(\n",
    "    base_model,\n",
    "    param_distributions=param_grid,\n",
    "    n_iter=25,\n",
    "    scoring=\"roc_auc\",\n",
    "    cv=3,\n",
    "    verbose=1,\n",
    "    n_jobs=-1,\n",
    "    random_state=42,\n",
    ")\n",
    "\n",
    "print(\"Tuning hyperparameters...\")\n",
    "search.fit(X_train_res, y_train_res)\n",
    "best_model = search.best_estimator_\n",
    "\n",
    "print(\"Best Parameters Found:\", search.best_params_)"
   ]
  },
  {
   "cell_type": "markdown",
   "id": "a79b85cf",
   "metadata": {},
   "source": [
    "Evaluate Model"
   ]
  },
  {
   "cell_type": "code",
   "execution_count": 13,
   "id": "0e2e85cf",
   "metadata": {},
   "outputs": [
    {
     "name": "stdout",
     "output_type": "stream",
     "text": [
      "\n",
      "Optimal Threshold: 0.165\n",
      "\n",
      "Confusion Matrix:\n",
      "[[3673 1990]\n",
      " [ 368  474]]\n",
      "\n",
      "Classification Report:\n",
      "              precision    recall  f1-score   support\n",
      "\n",
      "           0       0.91      0.65      0.76      5663\n",
      "           1       0.19      0.56      0.29       842\n",
      "\n",
      "    accuracy                           0.64      6505\n",
      "   macro avg       0.55      0.61      0.52      6505\n",
      "weighted avg       0.82      0.64      0.70      6505\n",
      "\n",
      "ROC-AUC Score: 0.6408987707429524\n"
     ]
    }
   ],
   "source": [
    "y_proba = best_model.predict_proba(X_test)[:, 1]\n",
    "\n",
    "# Automatically find the best threshold based on F1\n",
    "precision, recall, thresholds = precision_recall_curve(y_test, y_proba)\n",
    "f1_scores = 2 * (precision * recall) / (precision + recall + 1e-8)\n",
    "best_threshold = thresholds[np.argmax(f1_scores)]\n",
    "\n",
    "y_pred = (y_proba >= best_threshold).astype(int)\n",
    "\n",
    "print(\"\\nOptimal Threshold:\", round(best_threshold, 3))\n",
    "print(\"\\nConfusion Matrix:\")\n",
    "print(confusion_matrix(y_test, y_pred))\n",
    "print(\"\\nClassification Report:\")\n",
    "print(classification_report(y_test, y_pred))\n",
    "print(\"ROC-AUC Score:\", roc_auc_score(y_test, y_proba))"
   ]
  },
  {
   "cell_type": "markdown",
   "id": "b51b6d58",
   "metadata": {},
   "source": [
    "Save model"
   ]
  },
  {
   "cell_type": "code",
   "execution_count": 14,
   "id": "b82f405f",
   "metadata": {},
   "outputs": [
    {
     "data": {
      "text/plain": [
       "['../../model/v0/model.pkl']"
      ]
     },
     "execution_count": 14,
     "metadata": {},
     "output_type": "execute_result"
    }
   ],
   "source": [
    "joblib.dump(best_model, getModelDir(\"model\", 0))"
   ]
  },
  {
   "cell_type": "markdown",
   "id": "b79ae0d6",
   "metadata": {},
   "source": [
    "Feature Importance"
   ]
  },
  {
   "cell_type": "code",
   "execution_count": 15,
   "id": "afce2a7e",
   "metadata": {},
   "outputs": [
    {
     "data": {
      "text/plain": [
       "<Figure size 1000x600 with 0 Axes>"
      ]
     },
     "metadata": {},
     "output_type": "display_data"
    },
    {
     "data": {
      "image/png": "[encoded data removed]",
      "text/plain": [
       "<Figure size 640x480 with 1 Axes>"
      ]
     },
     "metadata": {},
     "output_type": "display_data"
    },
    {
     "name": "stdout",
     "output_type": "stream",
     "text": [
      "\n",
      "Model saved successfully as model_v0.pkl\n"
     ]
    }
   ],
   "source": [
    "plt.figure(figsize=(10, 6))\n",
    "plot_importance(best_model, max_num_features=20)\n",
    "plt.title(\"Top 20 Feature Importances (XGBoost)\")\n",
    "plt.tight_layout()\n",
    "plt.show()\n",
    "\n",
    "print(\"\\nModel saved successfully as model_v0.pkl\")"
   ]
  }
 ],
 "metadata": {
  "kernelspec": {
   "display_name": ".venv",
   "language": "python",
   "name": "python3"
  },
  "language_info": {
   "codemirror_mode": {
    "name": "ipython",
    "version": 3
   },
   "file_extension": ".py",
   "mimetype": "text/x-python",
   "name": "python",
   "nbconvert_exporter": "python",
   "pygments_lexer": "ipython3",
   "version": "3.10.12"
  }
 },
 "nbformat": 4,
 "nbformat_minor": 5
}
