{
 "cells": [
  {
   "cell_type": "markdown",
   "id": "1e05c98e",
   "metadata": {},
   "source": [
    "# Cleaning"
   ]
  },
  {
   "cell_type": "code",
   "execution_count": null,
   "id": "d8c063a0",
   "metadata": {},
   "outputs": [],
   "source": [
    "import pandas as pd\n",
    "from sklearn.model_selection import train_test_split\n",
    "from sklearn.metrics import classification_report\n",
    "from datetime import datetime\n",
    "from fileDir import *"
   ]
  },
  {
   "cell_type": "code",
   "execution_count": null,
   "id": "2757803d",
   "metadata": {},
   "outputs": [],
   "source": [
    "df = pd.read_csv(getDataDir(\"train\", 0))"
   ]
  },
  {
   "cell_type": "code",
   "execution_count": null,
   "id": "fc54f664",
   "metadata": {},
   "outputs": [
    {
     "data": {
      "text/plain": [
       "Index(['ID', 'pms_i_ymd', 'Area', 'Province', 'Shop Name', 'gender',\n",
       "       'date_of_birth_week', 'date_of_birth', 'marital_status',\n",
       "       'number_of_children', 'postal_code', 'tel_category',\n",
       "       'number_of_resident', 'living_period_year', 'living_period_month',\n",
       "       'type_of_residence', 'c_postal_code', 'c_business_type',\n",
       "       'c_number_of_employee', 'c_position', 'c_occupation',\n",
       "       'c_employment_status', 'c_monthly_salary', 'c_number_of_working_year',\n",
       "       'c_number_of_working_month', 'c_salary_payment_methods',\n",
       "       'c_date_of_salary_payment', 'media', 'place_for_sending_information',\n",
       "       'r_expected_credit_limit', 'r_propose', 'r_allloan_case',\n",
       "       'r_allloan_amount', 'r_additional_income', 'r_spouse_income',\n",
       "       'r_generalcode1', 'r_generalcode2', 'r_generalcode3', 'r_generalcode4',\n",
       "       'r_generalcode5', 'apply', 'default_12month'],\n",
       "      dtype='object')"
      ]
     },
     "execution_count": 4,
     "metadata": {},
     "output_type": "execute_result"
    }
   ],
   "source": [
    "df.columns"
   ]
  },
  {
   "cell_type": "code",
   "execution_count": 5,
   "id": "8e965898",
   "metadata": {},
   "outputs": [],
   "source": [
    "df[\"pms_i_ymd\"] = pd.to_datetime(df[\"pms_i_ymd\"], errors=\"coerce\")\n",
    "df[\"date_of_birth\"] = pd.to_datetime(df[\"date_of_birth\"], errors=\"coerce\")"
   ]
  },
  {
   "cell_type": "markdown",
   "id": "a0b47531",
   "metadata": {},
   "source": [
    "Feature Engineering"
   ]
  },
  {
   "cell_type": "code",
   "execution_count": 6,
   "id": "356d8efa",
   "metadata": {},
   "outputs": [],
   "source": [
    "df[\"age\"] = ((df[\"pms_i_ymd\"] - df[\"date_of_birth\"]).dt.days / 365).astype(float)\n",
    "df[\"years_at_residence\"] = df[\"living_period_year\"] + df[\"living_period_month\"] / 12\n",
    "df[\"years_at_job\"] = df[\"c_number_of_working_year\"] + df[\"c_number_of_working_month\"] / 12\n",
    "df[\"total_income\"] = df[\"c_monthly_salary\"] + df[\"r_additional_income\"] + df[\"r_spouse_income\"]\n",
    "df[\"debt_to_income_ratio\"] = df[\"r_allloan_amount\"] / (df[\"total_income\"] + 1)\n",
    "df[\"loan_burden_per_income\"] = df[\"r_expected_credit_limit\"] / (df[\"total_income\"] + 1)"
   ]
  },
  {
   "cell_type": "markdown",
   "id": "a5672c03",
   "metadata": {},
   "source": [
    "Handle categorical variables (for CatBoost or encoding later)"
   ]
  },
  {
   "cell_type": "code",
   "execution_count": 7,
   "id": "11191fa9",
   "metadata": {},
   "outputs": [],
   "source": [
    "categorical_cols = [\n",
    "    \"gender\", \"marital_status\", \"tel_category\", \"type_of_residence\",\n",
    "    \"c_business_type\", \"c_position\", \"c_occupation\",\n",
    "    \"c_employment_status\", \"c_salary_payment_methods\",\n",
    "    \"media\", \"place_for_sending_information\", \"r_propose\",\n",
    "    \"r_generalcode1\", \"r_generalcode2\", \"r_generalcode3\",\n",
    "    \"r_generalcode4\", \"r_generalcode5\", \"apply\"\n",
    "]\n",
    "\n",
    "for col in categorical_cols:\n",
    "    df[col] = df[col].astype(\"category\")\n"
   ]
  },
  {
   "cell_type": "markdown",
   "id": "47f32974",
   "metadata": {},
   "source": [
    "Handle missing values"
   ]
  },
  {
   "cell_type": "code",
   "execution_count": 8,
   "id": "d4adae6c",
   "metadata": {},
   "outputs": [],
   "source": [
    "# Fill numeric NaN with 0 or median, depending on context\n",
    "numeric_cols = df.select_dtypes(include=[\"int64\", \"float64\"]).columns.tolist()\n",
    "for col in numeric_cols:\n",
    "    df[col] = df[col].fillna(df[col].median())"
   ]
  },
  {
   "cell_type": "code",
   "execution_count": 9,
   "id": "9cc4d515",
   "metadata": {},
   "outputs": [],
   "source": [
    "# Fill categorical NaN with 'Unknown'\n",
    "for col in categorical_cols:\n",
    "    df[col] = df[col].cat.add_categories(\"Unknown\").fillna(\"Unknown\")"
   ]
  },
  {
   "cell_type": "code",
   "execution_count": 10,
   "id": "aa3f4e52",
   "metadata": {},
   "outputs": [],
   "source": [
    "# --- Drop unneeded original date columns (after derived features) ---\n",
    "df.drop([\"pms_i_ymd\", \"date_of_birth\", \"living_period_year\",\n",
    "         \"living_period_month\", \"c_number_of_working_year\",\n",
    "         \"c_number_of_working_month\"], axis=1, inplace=True)"
   ]
  },
  {
   "cell_type": "markdown",
   "id": "10c9a43a",
   "metadata": {},
   "source": [
    "Last Check"
   ]
  },
  {
   "cell_type": "code",
   "execution_count": 11,
   "id": "8c5b9086",
   "metadata": {},
   "outputs": [
    {
     "name": "stdout",
     "output_type": "stream",
     "text": [
      "Shape of cleaned data: (32524, 42)\n",
      "Sample rows:\n",
      "             ID                         Area Province      Shop Name gender  \\\n",
      "0  2.024120e+11  Bangkok Metropolitan Region  Bangkok  Silom Complex     F2   \n",
      "1  2.024120e+11  Bangkok Metropolitan Region  Bangkok  Silom Complex      M   \n",
      "2  2.024120e+11  Bangkok Metropolitan Region  Bangkok  Silom Complex     F2   \n",
      "3  2.024120e+11  Bangkok Metropolitan Region  Bangkok  Silom Complex      M   \n",
      "4  2.024120e+11  Bangkok Metropolitan Region  Bangkok  Silom Complex     F2   \n",
      "\n",
      "   date_of_birth_week marital_status  number_of_children  postal_code  \\\n",
      "0                   6              1                   2        10400   \n",
      "1                   4              1                   0        10500   \n",
      "2                   5              1                   0        10170   \n",
      "3                   7              1                   2        10500   \n",
      "4                   6              3                   1        10120   \n",
      "\n",
      "  tel_category  ...  r_generalcode4 r_generalcode5  apply default_12month  \\\n",
      "0            3  ...             4.0            4.0     WI               0   \n",
      "1            3  ...             4.0            4.0     WI               0   \n",
      "2            3  ...             2.0            4.0     DS               0   \n",
      "3            3  ...             4.0            4.0     WI               0   \n",
      "4            3  ...             4.0            4.0     DS               1   \n",
      "\n",
      "         age years_at_residence years_at_job total_income  \\\n",
      "0  46.906849           5.000000     5.000000       9070.0   \n",
      "1  35.263014           4.000000     5.333333      16765.0   \n",
      "2  25.386301           5.166667     0.250000      17575.0   \n",
      "3  27.435616           4.250000     4.250000      13659.0   \n",
      "4  23.315068           0.333333     0.166667       7440.0   \n",
      "\n",
      "   debt_to_income_ratio loan_burden_per_income  \n",
      "0                   0.0               4.409657  \n",
      "1                   0.0               1.192890  \n",
      "2                   0.0               1.010969  \n",
      "3                   0.0               1.098097  \n",
      "4                   0.0               1.343905  \n",
      "\n",
      "[5 rows x 42 columns]\n"
     ]
    }
   ],
   "source": [
    "print(\"Shape of cleaned data:\", df.shape)\n",
    "print(\"Sample rows:\")\n",
    "print(df.head())"
   ]
  },
  {
   "cell_type": "markdown",
   "id": "f6653b1b",
   "metadata": {},
   "source": [
    "Save to CSV"
   ]
  },
  {
   "cell_type": "code",
   "execution_count": null,
   "id": "0be94fdf",
   "metadata": {},
   "outputs": [],
   "source": [
    "df.to_csv(getDataDir(\"clean\", 0))"
   ]
  }
 ],
 "metadata": {
  "kernelspec": {
   "display_name": "base",
   "language": "python",
   "name": "python3"
  },
  "language_info": {
   "codemirror_mode": {
    "name": "ipython",
    "version": 3
   },
   "file_extension": ".py",
   "mimetype": "text/x-python",
   "name": "python",
   "nbconvert_exporter": "python",
   "pygments_lexer": "ipython3",
   "version": "3.13.5"
  }
 },
 "nbformat": 4,
 "nbformat_minor": 5
}
