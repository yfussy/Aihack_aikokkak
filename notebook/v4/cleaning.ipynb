{
 "cells": [
  {
   "cell_type": "code",
   "execution_count": 2,
   "id": "b3b86149",
   "metadata": {},
   "outputs": [],
   "source": [
    "from sklearn.model_selection import train_test_split\n",
    "from sklearn.metrics import classification_report\n",
    "import numpy as np\n",
    "import pandas as pd\n",
    "import matplotlib.pyplot as plt\n",
    "from datetime import datetime"
   ]
  },
  {
   "cell_type": "code",
   "execution_count": 3,
   "id": "e8fc7707",
   "metadata": {},
   "outputs": [],
   "source": [
    "import sys\n",
    "import os\n",
    "root_path = os.path.abspath(os.path.join(os.getcwd(), \"../..\"))\n",
    "if root_path not in sys.path:\n",
    "    sys.path.append(root_path)\n",
    "from fileDir import getDataDir\n",
    "from modules.v1.catboostModel import trainCatboost, testCatboost"
   ]
  },
  {
   "cell_type": "code",
   "execution_count": 4,
   "id": "a0baa5c7",
   "metadata": {},
   "outputs": [],
   "source": [
    "VERSION = 3\n",
    "TRAIN_PATH = getDataDir(\"train\")\n",
    "TEST_PATH = getDataDir(\"test\")\n",
    "CLEANED_TRAIN_PATH = getDataDir(\"train\", VERSION)\n",
    "CLEANED_TEST_PATH = getDataDir(\"test\", VERSION)"
   ]
  },
  {
   "cell_type": "markdown",
   "id": "67a42394",
   "metadata": {},
   "source": [
    "## Clean Datasets"
   ]
  },
  {
   "cell_type": "code",
   "execution_count": 7,
   "id": "35bed8f1",
   "metadata": {},
   "outputs": [],
   "source": [
    "cat_features = [\n",
    "    \"Area\",\n",
    "    \"Province\",\n",
    "    \"Shop Name\",\n",
    "    \"gender\",\n",
    "    \"date_of_birth\",\n",
    "    \"marital_status\",\n",
    "    \"tel_category\",\n",
    "    \"type_of_residence\",\n",
    "    \"c_business_type\",\n",
    "    \"c_position\",\n",
    "    \"c_occupation\",\n",
    "    \"c_employment_status\",\n",
    "    \"c_salary_payment_methods\",\n",
    "    \"media\",\n",
    "    \"place_for_sending_information\",\n",
    "    \"r_propose\",\n",
    "    \"r_generalcode1\",\n",
    "    \"r_generalcode2\",\n",
    "    \"r_generalcode3\",\n",
    "    \"r_generalcode4\",\n",
    "    \"r_generalcode5\",\n",
    "    \"apply\"\n",
    "]"
   ]
  },
  {
   "cell_type": "code",
   "execution_count": 8,
   "id": "6a60bfa0",
   "metadata": {},
   "outputs": [],
   "source": [
    "def cleanDataset(df, cleanPath):\n",
    "    # Drop unnecessary columns (keep ID)\n",
    "    drop_cols = [\"ID\", \"pms_i_ymd\",\"postal_code\", \"c_postal_code\"]\n",
    "    df = df.drop(columns=drop_cols, errors='ignore')\n",
    "\n",
    "    # Combine year/month features safely\n",
    "    if {'living_period_month','living_period_year'}.issubset(df.columns):\n",
    "        df['living_period_year'] = (df['living_period_month'].fillna(0) + df['living_period_year'].fillna(0) * 12)/12\n",
    "        df.drop(columns=['living_period_month'], inplace=True)\n",
    "\n",
    "    if {'c_number_of_working_month','c_number_of_working_year'}.issubset(df.columns):\n",
    "        df['c_number_of_working_month'] = df['c_number_of_working_month'].fillna(0) + df['c_number_of_working_year'].fillna(0) * 12\n",
    "        df.drop(columns=['c_number_of_working_year'], inplace=True)\n",
    "\n",
    "    # Convert birth date to age\n",
    "    if {'APP_date', 'date_of_birth'}.issubset(df.columns):\n",
    "        df['APP_date'] = pd.to_datetime(df['APP_date'], errors='coerce')\n",
    "        df['date_of_birth'] = pd.to_datetime(df['date_of_birth'], errors='coerce')\n",
    "        df['age'] = (df['APP_date'] - df['date_of_birth']).dt.days // 365\n",
    "        df.drop(columns=['date_of_birth'], inplace=True)\n",
    "\n",
    "    if {'r_allloan_amount','r_expected_credit_limit'}.issubset(df.columns):\n",
    "        df[\"debt_ratio\"] = df[\"r_allloan_amount\"] / (df[\"r_expected_credit_limit\"].replace(0, np.nan))\n",
    "        df[\"debt_ratio\"].fillna(0, inplace=True)\n",
    "\n",
    "    # Fill categorical columns\n",
    "    df = df.applymap(lambda x: x.strip() if isinstance(x, str) else x)\n",
    "    df.replace([\"NaN\", \"nan\", \"None\", \"\"], np.nan, inplace=True)\n",
    "    for c in cat_features:\n",
    "        if c in df.columns:\n",
    "            df[c] = df[c].fillna('Unknown')\n",
    "\n",
    "    # Ensure numeric columns are numeric\n",
    "    num_cols = [col for col in df.columns if col not in cat_features]\n",
    "\n",
    "    for c in num_cols:\n",
    "        if c in df.columns:\n",
    "            df[c] = pd.to_numeric(df[c], errors='coerce')\n",
    "    num_cols = [c for c in num_cols if c in df.columns]\n",
    "    df[num_cols] = df[num_cols].fillna(df[num_cols].median())\n",
    "\n",
    "    print(df.head(3))\n",
    "    print(df['c_monthly_salary'].min(), df['c_monthly_salary'].max())\n",
    "    df.to_csv(cleanPath, index=False)\n",
    "    return df"
   ]
  },
  {
   "cell_type": "code",
   "execution_count": 9,
   "id": "6ec86cd9",
   "metadata": {},
   "outputs": [
    {
     "name": "stderr",
     "output_type": "stream",
     "text": [
      "C:\\Users\\Toa\\AppData\\Local\\Temp\\ipykernel_348\\504481239.py:24: FutureWarning: A value is trying to be set on a copy of a DataFrame or Series through chained assignment using an inplace method.\n",
      "The behavior will change in pandas 3.0. This inplace method will never work because the intermediate object on which we are setting values always behaves as a copy.\n",
      "\n",
      "For example, when doing 'df[col].method(value, inplace=True)', try using 'df.method({col: value}, inplace=True)' or df[col] = df[col].method(value) instead, to perform the operation inplace on the original object.\n",
      "\n",
      "\n",
      "  df[\"debt_ratio\"].fillna(0, inplace=True)\n",
      "C:\\Users\\Toa\\AppData\\Local\\Temp\\ipykernel_348\\504481239.py:27: FutureWarning: DataFrame.applymap has been deprecated. Use DataFrame.map instead.\n",
      "  df = df.applymap(lambda x: x.strip() if isinstance(x, str) else x)\n"
     ]
    },
    {
     "name": "stdout",
     "output_type": "stream",
     "text": [
      "                          Area Province      Shop Name gender  \\\n",
      "0  Bangkok Metropolitan Region  Bangkok  Silom Complex     F2   \n",
      "1  Bangkok Metropolitan Region  Bangkok  Silom Complex      M   \n",
      "2  Bangkok Metropolitan Region  Bangkok  Silom Complex     F2   \n",
      "\n",
      "   date_of_birth_week date_of_birth  marital_status  number_of_children  \\\n",
      "0                   6     5/18/1971               1                   2   \n",
      "1                   4      1/5/1983               1                   0   \n",
      "2                   5    11/19/1992               1                   0   \n",
      "\n",
      "   tel_category  number_of_resident  ...  r_additional_income  \\\n",
      "0             3                   2  ...                  0.0   \n",
      "1             3                   3  ...               5000.0   \n",
      "2             3                   6  ...                  0.0   \n",
      "\n",
      "   r_spouse_income  r_generalcode1  r_generalcode2  r_generalcode3  \\\n",
      "0              0.0         Unknown         Unknown             2.0   \n",
      "1              0.0         Unknown         Unknown             1.0   \n",
      "2              0.0         Unknown         Unknown             1.0   \n",
      "\n",
      "   r_generalcode4  r_generalcode5  apply  default_12month  debt_ratio  \n",
      "0             4.0             4.0     WI                0         0.0  \n",
      "1             4.0             4.0     WI                0         0.0  \n",
      "2             2.0             4.0     DS                0         0.5  \n",
      "\n",
      "[3 rows x 37 columns]\n",
      "5000 210000\n",
      "                          Area Province      Shop Name gender  \\\n",
      "0  Bangkok Metropolitan Region  Bangkok  Silom Complex     F2   \n",
      "1  Bangkok Metropolitan Region  Bangkok  Silom Complex     F2   \n",
      "2  Bangkok Metropolitan Region  Bangkok  Silom Complex     F2   \n",
      "\n",
      "   date_of_birth_week date_of_birth  marital_status  number_of_children  \\\n",
      "0                   2      1981/6/6               2                   2   \n",
      "1                   2     1993/7/12               2                   0   \n",
      "2                   4     1976/2/18               1                   0   \n",
      "\n",
      "   tel_category  number_of_resident  ...  r_allloan_amount  \\\n",
      "0             3                   4  ...                 0   \n",
      "1             3                   5  ...             20000   \n",
      "2             3                   1  ...             17000   \n",
      "\n",
      "   r_additional_income  r_spouse_income  r_generalcode1  r_generalcode2  \\\n",
      "0                  0.0          17000.0             1.0             4.0   \n",
      "1                  0.0          12700.0             1.0             3.0   \n",
      "2               1000.0              0.0         Unknown         Unknown   \n",
      "\n",
      "   r_generalcode3  r_generalcode4  r_generalcode5  apply  debt_ratio  \n",
      "0             1.0             4.0             3.0     WI        0.00  \n",
      "1             2.0             4.0             4.0     WI        2.00  \n",
      "2             2.0             4.0             4.0     WI        0.85  \n",
      "\n",
      "[3 rows x 36 columns]\n",
      "5010 219610\n"
     ]
    },
    {
     "name": "stderr",
     "output_type": "stream",
     "text": [
      "C:\\Users\\Toa\\AppData\\Local\\Temp\\ipykernel_348\\504481239.py:24: FutureWarning: A value is trying to be set on a copy of a DataFrame or Series through chained assignment using an inplace method.\n",
      "The behavior will change in pandas 3.0. This inplace method will never work because the intermediate object on which we are setting values always behaves as a copy.\n",
      "\n",
      "For example, when doing 'df[col].method(value, inplace=True)', try using 'df.method({col: value}, inplace=True)' or df[col] = df[col].method(value) instead, to perform the operation inplace on the original object.\n",
      "\n",
      "\n",
      "  df[\"debt_ratio\"].fillna(0, inplace=True)\n",
      "C:\\Users\\Toa\\AppData\\Local\\Temp\\ipykernel_348\\504481239.py:27: FutureWarning: DataFrame.applymap has been deprecated. Use DataFrame.map instead.\n",
      "  df = df.applymap(lambda x: x.strip() if isinstance(x, str) else x)\n"
     ]
    }
   ],
   "source": [
    "train_df = pd.read_csv(TRAIN_PATH)\n",
    "test_df = pd.read_csv(TEST_PATH)\n",
    "ids = test_df[\"ID\"].copy()\n",
    "\n",
    "train_df = cleanDataset(train_df, CLEANED_TRAIN_PATH)\n",
    "test_df = cleanDataset(test_df, CLEANED_TEST_PATH)"
   ]
  },
  {
   "cell_type": "markdown",
   "id": "21cb3566",
   "metadata": {},
   "source": [
    "## Testing"
   ]
  },
  {
   "cell_type": "code",
   "execution_count": 7,
   "id": "d2c7075a",
   "metadata": {},
   "outputs": [
    {
     "name": "stderr",
     "output_type": "stream",
     "text": [
      "[I 2025-10-28 21:58:37,251] A new study created in memory with name: no-name-bbce17e5-4cf7-4cb9-b860-6a72861ba34a\n"
     ]
    },
    {
     "name": "stdout",
     "output_type": "stream",
     "text": [
      "GPU detected -> using CatBoost GPU training.\n",
      "Running hyperparameter tuning with Optuna...\n"
     ]
    },
    {
     "data": {
      "application/vnd.jupyter.widget-view+json": {
       "model_id": "1b054353b6d64ff1be0f71e4123f23fe",
       "version_major": 2,
       "version_minor": 0
      },
      "text/plain": [
       "  0%|          | 0/40 [00:00<?, ?it/s]"
      ]
     },
     "metadata": {},
     "output_type": "display_data"
    },
    {
     "name": "stderr",
     "output_type": "stream",
     "text": [
      "Change of simpleCtr will not affect combinations ctrs.\n",
      "Change of simpleCtr will not affect combinations ctrs.\n",
      "Change of simpleCtr will not affect combinations ctrs.\n",
      "Change of simpleCtr will not affect combinations ctrs.\n",
      "Change of simpleCtr will not affect combinations ctrs.\n",
      "Change of simpleCtr will not affect combinations ctrs.\n",
      "Change of simpleCtr will not affect combinations ctrs.\n",
      "Change of simpleCtr will not affect combinations ctrs.\n",
      "Change of simpleCtr will not affect combinations ctrs.\n",
      "Change of simpleCtr will not affect combinations ctrs.\n",
      "Change of simpleCtr will not affect combinations ctrs.\n",
      "Change of simpleCtr will not affect combinations ctrs.\n"
     ]
    },
    {
     "name": "stdout",
     "output_type": "stream",
     "text": [
      "[I 2025-10-28 22:00:08,450] Trial 0 finished with value: 0.6345653499013337 and parameters: {'iterations': 550, 'depth': 8, 'learning_rate': 0.055817288830274696, 'l2_leaf_reg': 8.60211426411632, 'random_strength': 0.15324539525745628, 'bagging_temperature': 0.45220376340945134, 'grow_policy': 'SymmetricTree', 'leaf_estimation_iterations': 4, 'leaf_estimation_method': 'Gradient', 'one_hot_max_size': 4, 'max_ctr_complexity': 2, 'auto_class_weights': None, 'od_type': 'IncToDec', 'od_wait': 57, 'simple_ctr': 'FeatureFreq'}. Best is trial 0 with value: 0.6345653499013337.\n"
     ]
    },
    {
     "name": "stderr",
     "output_type": "stream",
     "text": [
      "Change of simpleCtr will not affect combinations ctrs.\n",
      "Change of simpleCtr will not affect combinations ctrs.\n",
      "Change of simpleCtr will not affect combinations ctrs.\n",
      "Change of simpleCtr will not affect combinations ctrs.\n",
      "Change of simpleCtr will not affect combinations ctrs.\n",
      "Change of simpleCtr will not affect combinations ctrs.\n",
      "Change of simpleCtr will not affect combinations ctrs.\n",
      "Change of simpleCtr will not affect combinations ctrs.\n",
      "Change of simpleCtr will not affect combinations ctrs.\n",
      "Change of simpleCtr will not affect combinations ctrs.\n",
      "Change of simpleCtr will not affect combinations ctrs.\n",
      "Change of simpleCtr will not affect combinations ctrs.\n"
     ]
    },
    {
     "name": "stdout",
     "output_type": "stream",
     "text": [
      "[I 2025-10-28 22:01:07,570] Trial 1 finished with value: 0.6280945867336732 and parameters: {'iterations': 1143, 'depth': 6, 'learning_rate': 0.015189092896060841, 'l2_leaf_reg': 2.7176117436985368, 'random_strength': 4.8255318376763885, 'bagging_temperature': 0.4648484709052466, 'grow_policy': 'Lossguide', 'leaf_estimation_iterations': 5, 'leaf_estimation_method': 'Gradient', 'one_hot_max_size': 2, 'max_ctr_complexity': 3, 'auto_class_weights': None, 'od_type': 'IncToDec', 'od_wait': 64, 'simple_ctr': 'Borders'}. Best is trial 0 with value: 0.6345653499013337.\n"
     ]
    },
    {
     "name": "stderr",
     "output_type": "stream",
     "text": [
      "Change of simpleCtr will not affect combinations ctrs.\n",
      "Change of simpleCtr will not affect combinations ctrs.\n",
      "Change of simpleCtr will not affect combinations ctrs.\n",
      "Change of simpleCtr will not affect combinations ctrs.\n",
      "Change of simpleCtr will not affect combinations ctrs.\n",
      "Change of simpleCtr will not affect combinations ctrs.\n",
      "Change of simpleCtr will not affect combinations ctrs.\n",
      "Change of simpleCtr will not affect combinations ctrs.\n",
      "Change of simpleCtr will not affect combinations ctrs.\n",
      "Change of simpleCtr will not affect combinations ctrs.\n",
      "Change of simpleCtr will not affect combinations ctrs.\n",
      "Change of simpleCtr will not affect combinations ctrs.\n"
     ]
    },
    {
     "name": "stdout",
     "output_type": "stream",
     "text": [
      "[I 2025-10-28 22:03:44,968] Trial 2 finished with value: 0.632943846403804 and parameters: {'iterations': 1473, 'depth': 7, 'learning_rate': 0.029159160984421992, 'l2_leaf_reg': 0.823467269092542, 'random_strength': 4.666926812797816, 'bagging_temperature': 0.22197635715818642, 'grow_policy': 'SymmetricTree', 'leaf_estimation_iterations': 2, 'leaf_estimation_method': 'Gradient', 'one_hot_max_size': 8, 'max_ctr_complexity': 2, 'auto_class_weights': None, 'od_type': 'IncToDec', 'od_wait': 42, 'simple_ctr': 'Buckets'}. Best is trial 0 with value: 0.6345653499013337.\n"
     ]
    },
    {
     "name": "stderr",
     "output_type": "stream",
     "text": [
      "Change of simpleCtr will not affect combinations ctrs.\n",
      "Change of simpleCtr will not affect combinations ctrs.\n",
      "Change of simpleCtr will not affect combinations ctrs.\n",
      "Change of simpleCtr will not affect combinations ctrs.\n",
      "Change of simpleCtr will not affect combinations ctrs.\n",
      "Change of simpleCtr will not affect combinations ctrs.\n",
      "Change of simpleCtr will not affect combinations ctrs.\n",
      "Change of simpleCtr will not affect combinations ctrs.\n",
      "Change of simpleCtr will not affect combinations ctrs.\n",
      "Change of simpleCtr will not affect combinations ctrs.\n",
      "Change of simpleCtr will not affect combinations ctrs.\n",
      "Change of simpleCtr will not affect combinations ctrs.\n"
     ]
    },
    {
     "name": "stdout",
     "output_type": "stream",
     "text": [
      "[I 2025-10-28 22:04:57,371] Trial 3 finished with value: 0.6235095413382202 and parameters: {'iterations': 657, 'depth': 7, 'learning_rate': 0.01864721489500878, 'l2_leaf_reg': 0.0317147568060298, 'random_strength': 1.8104429407075002, 'bagging_temperature': 0.0790054009234723, 'grow_policy': 'SymmetricTree', 'leaf_estimation_iterations': 2, 'leaf_estimation_method': 'Gradient', 'one_hot_max_size': 8, 'max_ctr_complexity': 3, 'auto_class_weights': None, 'od_type': 'IncToDec', 'od_wait': 84, 'simple_ctr': 'FloatTargetMeanValue'}. Best is trial 0 with value: 0.6345653499013337.\n"
     ]
    },
    {
     "name": "stderr",
     "output_type": "stream",
     "text": [
      "Change of simpleCtr will not affect combinations ctrs.\n",
      "Change of simpleCtr will not affect combinations ctrs.\n",
      "Change of simpleCtr will not affect combinations ctrs.\n",
      "Change of simpleCtr will not affect combinations ctrs.\n",
      "Change of simpleCtr will not affect combinations ctrs.\n",
      "Change of simpleCtr will not affect combinations ctrs.\n",
      "Change of simpleCtr will not affect combinations ctrs.\n",
      "Change of simpleCtr will not affect combinations ctrs.\n",
      "Change of simpleCtr will not affect combinations ctrs.\n",
      "Change of simpleCtr will not affect combinations ctrs.\n",
      "Change of simpleCtr will not affect combinations ctrs.\n",
      "Change of simpleCtr will not affect combinations ctrs.\n"
     ]
    },
    {
     "name": "stdout",
     "output_type": "stream",
     "text": [
      "[I 2025-10-28 22:05:16,582] Trial 4 finished with value: 0.6266976041929154 and parameters: {'iterations': 1482, 'depth': 7, 'learning_rate': 0.09633220916990165, 'l2_leaf_reg': 0.041097668664586015, 'random_strength': 0.2833111961890617, 'bagging_temperature': 0.7497415782621143, 'grow_policy': 'SymmetricTree', 'leaf_estimation_iterations': 4, 'leaf_estimation_method': 'Newton', 'one_hot_max_size': 4, 'max_ctr_complexity': 1, 'auto_class_weights': None, 'od_type': 'IncToDec', 'od_wait': 72, 'simple_ctr': 'Buckets'}. Best is trial 0 with value: 0.6345653499013337.\n"
     ]
    },
    {
     "name": "stderr",
     "output_type": "stream",
     "text": [
      "Change of simpleCtr will not affect combinations ctrs.\n",
      "Change of simpleCtr will not affect combinations ctrs.\n",
      "Change of simpleCtr will not affect combinations ctrs.\n",
      "Change of simpleCtr will not affect combinations ctrs.\n",
      "Change of simpleCtr will not affect combinations ctrs.\n",
      "Change of simpleCtr will not affect combinations ctrs.\n",
      "Change of simpleCtr will not affect combinations ctrs.\n",
      "Change of simpleCtr will not affect combinations ctrs.\n",
      "Change of simpleCtr will not affect combinations ctrs.\n",
      "Change of simpleCtr will not affect combinations ctrs.\n",
      "Change of simpleCtr will not affect combinations ctrs.\n",
      "Change of simpleCtr will not affect combinations ctrs.\n"
     ]
    },
    {
     "name": "stdout",
     "output_type": "stream",
     "text": [
      "[I 2025-10-28 22:05:24,040] Trial 5 finished with value: 0.6280805640141659 and parameters: {'iterations': 1454, 'depth': 5, 'learning_rate': 0.09686813251726184, 'l2_leaf_reg': 0.728435793289935, 'random_strength': 1.4926919471351445, 'bagging_temperature': 0.9527432568100985, 'grow_policy': 'Lossguide', 'leaf_estimation_iterations': 1, 'leaf_estimation_method': 'Newton', 'one_hot_max_size': 2, 'max_ctr_complexity': 3, 'auto_class_weights': None, 'od_type': 'IncToDec', 'od_wait': 94, 'simple_ctr': 'Borders'}. Best is trial 0 with value: 0.6345653499013337.\n"
     ]
    },
    {
     "name": "stderr",
     "output_type": "stream",
     "text": [
      "Change of simpleCtr will not affect combinations ctrs.\n",
      "Change of simpleCtr will not affect combinations ctrs.\n",
      "Change of simpleCtr will not affect combinations ctrs.\n",
      "Change of simpleCtr will not affect combinations ctrs.\n",
      "Change of simpleCtr will not affect combinations ctrs.\n",
      "Change of simpleCtr will not affect combinations ctrs.\n",
      "Change of simpleCtr will not affect combinations ctrs.\n",
      "Change of simpleCtr will not affect combinations ctrs.\n",
      "Change of simpleCtr will not affect combinations ctrs.\n",
      "Change of simpleCtr will not affect combinations ctrs.\n",
      "Change of simpleCtr will not affect combinations ctrs.\n",
      "Change of simpleCtr will not affect combinations ctrs.\n"
     ]
    },
    {
     "name": "stdout",
     "output_type": "stream",
     "text": [
      "[I 2025-10-28 22:05:33,784] Trial 6 finished with value: 0.6286822436239657 and parameters: {'iterations': 540, 'depth': 5, 'learning_rate': 0.07839430082814036, 'l2_leaf_reg': 4.083419215872652, 'random_strength': 1.1410244880715235, 'bagging_temperature': 0.29682968300071555, 'grow_policy': 'Lossguide', 'leaf_estimation_iterations': 2, 'leaf_estimation_method': 'Newton', 'one_hot_max_size': 2, 'max_ctr_complexity': 1, 'auto_class_weights': None, 'od_type': 'IncToDec', 'od_wait': 44, 'simple_ctr': 'Borders'}. Best is trial 0 with value: 0.6345653499013337.\n"
     ]
    },
    {
     "name": "stderr",
     "output_type": "stream",
     "text": [
      "Change of simpleCtr will not affect combinations ctrs.\n",
      "Change of simpleCtr will not affect combinations ctrs.\n",
      "Change of simpleCtr will not affect combinations ctrs.\n",
      "Change of simpleCtr will not affect combinations ctrs.\n",
      "Change of simpleCtr will not affect combinations ctrs.\n",
      "Change of simpleCtr will not affect combinations ctrs.\n",
      "Change of simpleCtr will not affect combinations ctrs.\n",
      "Change of simpleCtr will not affect combinations ctrs.\n",
      "Change of simpleCtr will not affect combinations ctrs.\n",
      "Change of simpleCtr will not affect combinations ctrs.\n",
      "Change of simpleCtr will not affect combinations ctrs.\n",
      "Change of simpleCtr will not affect combinations ctrs.\n"
     ]
    },
    {
     "name": "stdout",
     "output_type": "stream",
     "text": [
      "[I 2025-10-28 22:05:53,179] Trial 7 finished with value: 0.6201114015803088 and parameters: {'iterations': 716, 'depth': 5, 'learning_rate': 0.02150770413716066, 'l2_leaf_reg': 0.03339569518936526, 'random_strength': 0.7303968626174338, 'bagging_temperature': 0.742887357610327, 'grow_policy': 'SymmetricTree', 'leaf_estimation_iterations': 5, 'leaf_estimation_method': 'Newton', 'one_hot_max_size': 4, 'max_ctr_complexity': 1, 'auto_class_weights': 'Balanced', 'od_type': 'IncToDec', 'od_wait': 90, 'simple_ctr': 'FloatTargetMeanValue'}. Best is trial 0 with value: 0.6345653499013337.\n"
     ]
    },
    {
     "name": "stderr",
     "output_type": "stream",
     "text": [
      "Change of simpleCtr will not affect combinations ctrs.\n",
      "Change of simpleCtr will not affect combinations ctrs.\n",
      "Change of simpleCtr will not affect combinations ctrs.\n",
      "Change of simpleCtr will not affect combinations ctrs.\n",
      "Change of simpleCtr will not affect combinations ctrs.\n",
      "Change of simpleCtr will not affect combinations ctrs.\n",
      "Change of simpleCtr will not affect combinations ctrs.\n",
      "Change of simpleCtr will not affect combinations ctrs.\n",
      "Change of simpleCtr will not affect combinations ctrs.\n",
      "Change of simpleCtr will not affect combinations ctrs.\n",
      "Change of simpleCtr will not affect combinations ctrs.\n",
      "Change of simpleCtr will not affect combinations ctrs.\n"
     ]
    },
    {
     "name": "stdout",
     "output_type": "stream",
     "text": [
      "[I 2025-10-28 22:06:15,634] Trial 8 finished with value: 0.6312642474897766 and parameters: {'iterations': 1469, 'depth': 5, 'learning_rate': 0.014923574233436538, 'l2_leaf_reg': 0.09661853590867268, 'random_strength': 4.346021973142162, 'bagging_temperature': 0.9846739369114504, 'grow_policy': 'Lossguide', 'leaf_estimation_iterations': 5, 'leaf_estimation_method': 'Newton', 'one_hot_max_size': 4, 'max_ctr_complexity': 2, 'auto_class_weights': 'Balanced', 'od_type': 'IncToDec', 'od_wait': 59, 'simple_ctr': 'Buckets'}. Best is trial 0 with value: 0.6345653499013337.\n"
     ]
    },
    {
     "name": "stderr",
     "output_type": "stream",
     "text": [
      "Change of simpleCtr will not affect combinations ctrs.\n",
      "Change of simpleCtr will not affect combinations ctrs.\n",
      "Change of simpleCtr will not affect combinations ctrs.\n",
      "Change of simpleCtr will not affect combinations ctrs.\n",
      "Change of simpleCtr will not affect combinations ctrs.\n",
      "Change of simpleCtr will not affect combinations ctrs.\n",
      "Change of simpleCtr will not affect combinations ctrs.\n",
      "Change of simpleCtr will not affect combinations ctrs.\n",
      "Change of simpleCtr will not affect combinations ctrs.\n",
      "Change of simpleCtr will not affect combinations ctrs.\n",
      "Change of simpleCtr will not affect combinations ctrs.\n",
      "Change of simpleCtr will not affect combinations ctrs.\n"
     ]
    },
    {
     "name": "stdout",
     "output_type": "stream",
     "text": [
      "[I 2025-10-28 22:06:31,366] Trial 9 finished with value: 0.6264970032040665 and parameters: {'iterations': 519, 'depth': 6, 'learning_rate': 0.02602377419411503, 'l2_leaf_reg': 0.9616711938628254, 'random_strength': 4.519174848049691, 'bagging_temperature': 0.2614595374445, 'grow_policy': 'Lossguide', 'leaf_estimation_iterations': 2, 'leaf_estimation_method': 'Gradient', 'one_hot_max_size': 9, 'max_ctr_complexity': 1, 'auto_class_weights': 'Balanced', 'od_type': 'IncToDec', 'od_wait': 72, 'simple_ctr': 'FeatureFreq'}. Best is trial 0 with value: 0.6345653499013337.\n"
     ]
    },
    {
     "name": "stderr",
     "output_type": "stream",
     "text": [
      "Change of simpleCtr will not affect combinations ctrs.\n",
      "Change of simpleCtr will not affect combinations ctrs.\n",
      "Change of simpleCtr will not affect combinations ctrs.\n",
      "Change of simpleCtr will not affect combinations ctrs.\n",
      "Change of simpleCtr will not affect combinations ctrs.\n",
      "Change of simpleCtr will not affect combinations ctrs.\n",
      "Change of simpleCtr will not affect combinations ctrs.\n",
      "Change of simpleCtr will not affect combinations ctrs.\n",
      "Change of simpleCtr will not affect combinations ctrs.\n",
      "Change of simpleCtr will not affect combinations ctrs.\n",
      "Change of simpleCtr will not affect combinations ctrs.\n",
      "Change of simpleCtr will not affect combinations ctrs.\n"
     ]
    },
    {
     "name": "stdout",
     "output_type": "stream",
     "text": [
      "[I 2025-10-28 22:07:12,840] Trial 10 finished with value: 0.6326859450213201 and parameters: {'iterations': 919, 'depth': 3, 'learning_rate': 0.050602335671902005, 'l2_leaf_reg': 9.781284696138883, 'random_strength': 0.10253312499651428, 'bagging_temperature': 0.5084709100430216, 'grow_policy': 'SymmetricTree', 'leaf_estimation_iterations': 4, 'leaf_estimation_method': 'Gradient', 'one_hot_max_size': 6, 'max_ctr_complexity': 2, 'auto_class_weights': 'Balanced', 'od_type': 'IncToDec', 'od_wait': 53, 'simple_ctr': 'FeatureFreq'}. Best is trial 0 with value: 0.6345653499013337.\n"
     ]
    },
    {
     "name": "stderr",
     "output_type": "stream",
     "text": [
      "Change of simpleCtr will not affect combinations ctrs.\n",
      "Change of simpleCtr will not affect combinations ctrs.\n",
      "Change of simpleCtr will not affect combinations ctrs.\n",
      "Change of simpleCtr will not affect combinations ctrs.\n",
      "Change of simpleCtr will not affect combinations ctrs.\n",
      "Change of simpleCtr will not affect combinations ctrs.\n",
      "Change of simpleCtr will not affect combinations ctrs.\n",
      "Change of simpleCtr will not affect combinations ctrs.\n",
      "Change of simpleCtr will not affect combinations ctrs.\n",
      "Change of simpleCtr will not affect combinations ctrs.\n",
      "Change of simpleCtr will not affect combinations ctrs.\n",
      "Change of simpleCtr will not affect combinations ctrs.\n"
     ]
    },
    {
     "name": "stdout",
     "output_type": "stream",
     "text": [
      "[I 2025-10-28 22:10:12,031] Trial 11 finished with value: 0.636018200965034 and parameters: {'iterations': 1119, 'depth': 8, 'learning_rate': 0.040327449973747105, 'l2_leaf_reg': 0.212361339147607, 'random_strength': 0.25279624346851814, 'bagging_temperature': 0.08992157591606575, 'grow_policy': 'SymmetricTree', 'leaf_estimation_iterations': 3, 'leaf_estimation_method': 'Gradient', 'one_hot_max_size': 7, 'max_ctr_complexity': 2, 'auto_class_weights': None, 'od_type': 'IncToDec', 'od_wait': 31, 'simple_ctr': 'Buckets'}. Best is trial 11 with value: 0.636018200965034.\n"
     ]
    },
    {
     "name": "stderr",
     "output_type": "stream",
     "text": [
      "Change of simpleCtr will not affect combinations ctrs.\n",
      "Change of simpleCtr will not affect combinations ctrs.\n",
      "Change of simpleCtr will not affect combinations ctrs.\n",
      "Change of simpleCtr will not affect combinations ctrs.\n",
      "Change of simpleCtr will not affect combinations ctrs.\n",
      "Change of simpleCtr will not affect combinations ctrs.\n",
      "Change of simpleCtr will not affect combinations ctrs.\n",
      "Change of simpleCtr will not affect combinations ctrs.\n",
      "Change of simpleCtr will not affect combinations ctrs.\n",
      "Change of simpleCtr will not affect combinations ctrs.\n",
      "Change of simpleCtr will not affect combinations ctrs.\n",
      "Change of simpleCtr will not affect combinations ctrs.\n"
     ]
    },
    {
     "name": "stdout",
     "output_type": "stream",
     "text": [
      "[I 2025-10-28 22:12:51,919] Trial 12 finished with value: 0.635765516253182 and parameters: {'iterations': 1100, 'depth': 8, 'learning_rate': 0.0456660619280365, 'l2_leaf_reg': 0.21327710933045255, 'random_strength': 0.18821112895758627, 'bagging_temperature': 0.07843006295252752, 'grow_policy': 'SymmetricTree', 'leaf_estimation_iterations': 3, 'leaf_estimation_method': 'Gradient', 'one_hot_max_size': 6, 'max_ctr_complexity': 2, 'auto_class_weights': None, 'od_type': 'IncToDec', 'od_wait': 37, 'simple_ctr': 'FeatureFreq'}. Best is trial 11 with value: 0.636018200965034.\n"
     ]
    },
    {
     "name": "stderr",
     "output_type": "stream",
     "text": [
      "Change of simpleCtr will not affect combinations ctrs.\n",
      "Change of simpleCtr will not affect combinations ctrs.\n",
      "Change of simpleCtr will not affect combinations ctrs.\n",
      "Change of simpleCtr will not affect combinations ctrs.\n",
      "Change of simpleCtr will not affect combinations ctrs.\n",
      "Change of simpleCtr will not affect combinations ctrs.\n",
      "Change of simpleCtr will not affect combinations ctrs.\n",
      "Change of simpleCtr will not affect combinations ctrs.\n",
      "Change of simpleCtr will not affect combinations ctrs.\n",
      "Change of simpleCtr will not affect combinations ctrs.\n",
      "Change of simpleCtr will not affect combinations ctrs.\n",
      "Change of simpleCtr will not affect combinations ctrs.\n"
     ]
    },
    {
     "name": "stdout",
     "output_type": "stream",
     "text": [
      "[I 2025-10-28 22:15:54,910] Trial 13 finished with value: 0.6352159010113421 and parameters: {'iterations': 1173, 'depth': 8, 'learning_rate': 0.0421732859814896, 'l2_leaf_reg': 0.18070148920834905, 'random_strength': 0.28103412103263126, 'bagging_temperature': 0.0328954847346807, 'grow_policy': 'SymmetricTree', 'leaf_estimation_iterations': 3, 'leaf_estimation_method': 'Gradient', 'one_hot_max_size': 6, 'max_ctr_complexity': 2, 'auto_class_weights': None, 'od_type': 'IncToDec', 'od_wait': 30, 'simple_ctr': 'Buckets'}. Best is trial 11 with value: 0.636018200965034.\n"
     ]
    },
    {
     "name": "stderr",
     "output_type": "stream",
     "text": [
      "Change of simpleCtr will not affect combinations ctrs.\n",
      "Change of simpleCtr will not affect combinations ctrs.\n",
      "Change of simpleCtr will not affect combinations ctrs.\n",
      "Change of simpleCtr will not affect combinations ctrs.\n",
      "Change of simpleCtr will not affect combinations ctrs.\n",
      "Change of simpleCtr will not affect combinations ctrs.\n",
      "Change of simpleCtr will not affect combinations ctrs.\n",
      "Change of simpleCtr will not affect combinations ctrs.\n",
      "Change of simpleCtr will not affect combinations ctrs.\n",
      "Change of simpleCtr will not affect combinations ctrs.\n",
      "Change of simpleCtr will not affect combinations ctrs.\n",
      "Change of simpleCtr will not affect combinations ctrs.\n"
     ]
    },
    {
     "name": "stdout",
     "output_type": "stream",
     "text": [
      "[I 2025-10-28 22:18:20,511] Trial 14 finished with value: 0.6347553663258149 and parameters: {'iterations': 1026, 'depth': 8, 'learning_rate': 0.040877029925412894, 'l2_leaf_reg': 0.010835136346632506, 'random_strength': 0.30605225276723375, 'bagging_temperature': 0.13618786618518142, 'grow_policy': 'SymmetricTree', 'leaf_estimation_iterations': 3, 'leaf_estimation_method': 'Gradient', 'one_hot_max_size': 7, 'max_ctr_complexity': 2, 'auto_class_weights': None, 'od_type': 'IncToDec', 'od_wait': 33, 'simple_ctr': 'FeatureFreq'}. Best is trial 11 with value: 0.636018200965034.\n"
     ]
    },
    {
     "name": "stderr",
     "output_type": "stream",
     "text": [
      "Change of simpleCtr will not affect combinations ctrs.\n",
      "Change of simpleCtr will not affect combinations ctrs.\n",
      "Change of simpleCtr will not affect combinations ctrs.\n",
      "Change of simpleCtr will not affect combinations ctrs.\n",
      "Change of simpleCtr will not affect combinations ctrs.\n",
      "Change of simpleCtr will not affect combinations ctrs.\n",
      "Change of simpleCtr will not affect combinations ctrs.\n",
      "Change of simpleCtr will not affect combinations ctrs.\n",
      "Change of simpleCtr will not affect combinations ctrs.\n",
      "Change of simpleCtr will not affect combinations ctrs.\n",
      "Change of simpleCtr will not affect combinations ctrs.\n",
      "Change of simpleCtr will not affect combinations ctrs.\n"
     ]
    },
    {
     "name": "stdout",
     "output_type": "stream",
     "text": [
      "[I 2025-10-28 22:20:11,566] Trial 15 finished with value: 0.6345125279544298 and parameters: {'iterations': 1270, 'depth': 8, 'learning_rate': 0.0632474152699384, 'l2_leaf_reg': 0.301838635426962, 'random_strength': 0.47393404661765176, 'bagging_temperature': 0.02102157991953553, 'grow_policy': 'SymmetricTree', 'leaf_estimation_iterations': 3, 'leaf_estimation_method': 'Gradient', 'one_hot_max_size': 10, 'max_ctr_complexity': 2, 'auto_class_weights': None, 'od_type': 'IncToDec', 'od_wait': 42, 'simple_ctr': 'FeatureFreq'}. Best is trial 11 with value: 0.636018200965034.\n"
     ]
    },
    {
     "name": "stderr",
     "output_type": "stream",
     "text": [
      "Change of simpleCtr will not affect combinations ctrs.\n",
      "Change of simpleCtr will not affect combinations ctrs.\n",
      "Change of simpleCtr will not affect combinations ctrs.\n",
      "Change of simpleCtr will not affect combinations ctrs.\n",
      "Change of simpleCtr will not affect combinations ctrs.\n",
      "Change of simpleCtr will not affect combinations ctrs.\n",
      "Change of simpleCtr will not affect combinations ctrs.\n",
      "Change of simpleCtr will not affect combinations ctrs.\n",
      "Change of simpleCtr will not affect combinations ctrs.\n",
      "Change of simpleCtr will not affect combinations ctrs.\n",
      "Change of simpleCtr will not affect combinations ctrs.\n",
      "Change of simpleCtr will not affect combinations ctrs.\n"
     ]
    },
    {
     "name": "stdout",
     "output_type": "stream",
     "text": [
      "[I 2025-10-28 22:21:43,116] Trial 16 finished with value: 0.6262714581786468 and parameters: {'iterations': 844, 'depth': 7, 'learning_rate': 0.03697809556970201, 'l2_leaf_reg': 0.12029405820635673, 'random_strength': 0.1637753633629968, 'bagging_temperature': 0.15180899709522971, 'grow_policy': 'SymmetricTree', 'leaf_estimation_iterations': 1, 'leaf_estimation_method': 'Gradient', 'one_hot_max_size': 7, 'max_ctr_complexity': 3, 'auto_class_weights': None, 'od_type': 'IncToDec', 'od_wait': 38, 'simple_ctr': 'Buckets'}. Best is trial 11 with value: 0.636018200965034.\n"
     ]
    },
    {
     "name": "stderr",
     "output_type": "stream",
     "text": [
      "Change of simpleCtr will not affect combinations ctrs.\n",
      "Change of simpleCtr will not affect combinations ctrs.\n",
      "Change of simpleCtr will not affect combinations ctrs.\n",
      "Change of simpleCtr will not affect combinations ctrs.\n",
      "Change of simpleCtr will not affect combinations ctrs.\n",
      "Change of simpleCtr will not affect combinations ctrs.\n",
      "Change of simpleCtr will not affect combinations ctrs.\n",
      "Change of simpleCtr will not affect combinations ctrs.\n",
      "Change of simpleCtr will not affect combinations ctrs.\n",
      "Change of simpleCtr will not affect combinations ctrs.\n",
      "Change of simpleCtr will not affect combinations ctrs.\n",
      "Change of simpleCtr will not affect combinations ctrs.\n"
     ]
    },
    {
     "name": "stdout",
     "output_type": "stream",
     "text": [
      "[I 2025-10-28 22:23:16,007] Trial 17 finished with value: 0.633145660408213 and parameters: {'iterations': 1284, 'depth': 4, 'learning_rate': 0.033316613271968935, 'l2_leaf_reg': 0.3957712923895906, 'random_strength': 0.48877489304021055, 'bagging_temperature': 0.3215553082106881, 'grow_policy': 'SymmetricTree', 'leaf_estimation_iterations': 4, 'leaf_estimation_method': 'Gradient', 'one_hot_max_size': 6, 'max_ctr_complexity': 2, 'auto_class_weights': None, 'od_type': 'IncToDec', 'od_wait': 47, 'simple_ctr': 'FloatTargetMeanValue'}. Best is trial 11 with value: 0.636018200965034.\n"
     ]
    },
    {
     "name": "stderr",
     "output_type": "stream",
     "text": [
      "Change of simpleCtr will not affect combinations ctrs.\n",
      "Change of simpleCtr will not affect combinations ctrs.\n",
      "Change of simpleCtr will not affect combinations ctrs.\n",
      "Change of simpleCtr will not affect combinations ctrs.\n",
      "Change of simpleCtr will not affect combinations ctrs.\n",
      "Change of simpleCtr will not affect combinations ctrs.\n",
      "Change of simpleCtr will not affect combinations ctrs.\n",
      "Change of simpleCtr will not affect combinations ctrs.\n",
      "Change of simpleCtr will not affect combinations ctrs.\n",
      "Change of simpleCtr will not affect combinations ctrs.\n",
      "Change of simpleCtr will not affect combinations ctrs.\n",
      "Change of simpleCtr will not affect combinations ctrs.\n"
     ]
    },
    {
     "name": "stdout",
     "output_type": "stream",
     "text": [
      "[I 2025-10-28 22:25:13,289] Trial 18 finished with value: 0.6302599282818512 and parameters: {'iterations': 1105, 'depth': 6, 'learning_rate': 0.01023458170235193, 'l2_leaf_reg': 1.7420011072596562, 'random_strength': 0.17691167594782667, 'bagging_temperature': 0.39155435350514595, 'grow_policy': 'SymmetricTree', 'leaf_estimation_iterations': 3, 'leaf_estimation_method': 'Gradient', 'one_hot_max_size': 5, 'max_ctr_complexity': 3, 'auto_class_weights': 'Balanced', 'od_type': 'IncToDec', 'od_wait': 50, 'simple_ctr': 'FeatureFreq'}. Best is trial 11 with value: 0.636018200965034.\n"
     ]
    },
    {
     "name": "stderr",
     "output_type": "stream",
     "text": [
      "Change of simpleCtr will not affect combinations ctrs.\n",
      "Change of simpleCtr will not affect combinations ctrs.\n",
      "Change of simpleCtr will not affect combinations ctrs.\n",
      "Change of simpleCtr will not affect combinations ctrs.\n",
      "Change of simpleCtr will not affect combinations ctrs.\n",
      "Change of simpleCtr will not affect combinations ctrs.\n",
      "Change of simpleCtr will not affect combinations ctrs.\n",
      "Change of simpleCtr will not affect combinations ctrs.\n",
      "Change of simpleCtr will not affect combinations ctrs.\n",
      "Change of simpleCtr will not affect combinations ctrs.\n",
      "Change of simpleCtr will not affect combinations ctrs.\n",
      "Change of simpleCtr will not affect combinations ctrs.\n"
     ]
    },
    {
     "name": "stdout",
     "output_type": "stream",
     "text": [
      "[I 2025-10-28 22:26:32,587] Trial 19 finished with value: 0.6334097898709626 and parameters: {'iterations': 976, 'depth': 8, 'learning_rate': 0.0681769279863884, 'l2_leaf_reg': 0.0768239162181263, 'random_strength': 0.10308125166257814, 'bagging_temperature': 0.5779516644838028, 'grow_policy': 'SymmetricTree', 'leaf_estimation_iterations': 2, 'leaf_estimation_method': 'Gradient', 'one_hot_max_size': 8, 'max_ctr_complexity': 1, 'auto_class_weights': None, 'od_type': 'IncToDec', 'od_wait': 36, 'simple_ctr': 'Buckets'}. Best is trial 11 with value: 0.636018200965034.\n"
     ]
    },
    {
     "name": "stderr",
     "output_type": "stream",
     "text": [
      "Change of simpleCtr will not affect combinations ctrs.\n",
      "Change of simpleCtr will not affect combinations ctrs.\n",
      "Change of simpleCtr will not affect combinations ctrs.\n",
      "Change of simpleCtr will not affect combinations ctrs.\n",
      "Change of simpleCtr will not affect combinations ctrs.\n",
      "Change of simpleCtr will not affect combinations ctrs.\n",
      "Change of simpleCtr will not affect combinations ctrs.\n",
      "Change of simpleCtr will not affect combinations ctrs.\n",
      "Change of simpleCtr will not affect combinations ctrs.\n",
      "Change of simpleCtr will not affect combinations ctrs.\n",
      "Change of simpleCtr will not affect combinations ctrs.\n",
      "Change of simpleCtr will not affect combinations ctrs.\n"
     ]
    },
    {
     "name": "stdout",
     "output_type": "stream",
     "text": [
      "[I 2025-10-28 22:28:37,455] Trial 20 finished with value: 0.63595228854477 and parameters: {'iterations': 1300, 'depth': 7, 'learning_rate': 0.04842977868999239, 'l2_leaf_reg': 0.4026655890793358, 'random_strength': 0.4320890590453684, 'bagging_temperature': 0.1609142238212557, 'grow_policy': 'SymmetricTree', 'leaf_estimation_iterations': 3, 'leaf_estimation_method': 'Gradient', 'one_hot_max_size': 10, 'max_ctr_complexity': 2, 'auto_class_weights': None, 'od_type': 'IncToDec', 'od_wait': 75, 'simple_ctr': 'Buckets'}. Best is trial 11 with value: 0.636018200965034.\n"
     ]
    },
    {
     "name": "stderr",
     "output_type": "stream",
     "text": [
      "Change of simpleCtr will not affect combinations ctrs.\n",
      "Change of simpleCtr will not affect combinations ctrs.\n",
      "Change of simpleCtr will not affect combinations ctrs.\n",
      "Change of simpleCtr will not affect combinations ctrs.\n",
      "Change of simpleCtr will not affect combinations ctrs.\n",
      "Change of simpleCtr will not affect combinations ctrs.\n",
      "Change of simpleCtr will not affect combinations ctrs.\n",
      "Change of simpleCtr will not affect combinations ctrs.\n",
      "Change of simpleCtr will not affect combinations ctrs.\n",
      "Change of simpleCtr will not affect combinations ctrs.\n",
      "Change of simpleCtr will not affect combinations ctrs.\n",
      "Change of simpleCtr will not affect combinations ctrs.\n"
     ]
    },
    {
     "name": "stdout",
     "output_type": "stream",
     "text": [
      "[I 2025-10-28 22:30:27,800] Trial 21 finished with value: 0.6354585781102479 and parameters: {'iterations': 1310, 'depth': 7, 'learning_rate': 0.04805909815627013, 'l2_leaf_reg': 0.3279727932505109, 'random_strength': 0.42009246629923397, 'bagging_temperature': 0.17670553363723723, 'grow_policy': 'SymmetricTree', 'leaf_estimation_iterations': 3, 'leaf_estimation_method': 'Gradient', 'one_hot_max_size': 10, 'max_ctr_complexity': 2, 'auto_class_weights': None, 'od_type': 'IncToDec', 'od_wait': 83, 'simple_ctr': 'Buckets'}. Best is trial 11 with value: 0.636018200965034.\n"
     ]
    },
    {
     "name": "stderr",
     "output_type": "stream",
     "text": [
      "Change of simpleCtr will not affect combinations ctrs.\n",
      "Change of simpleCtr will not affect combinations ctrs.\n",
      "Change of simpleCtr will not affect combinations ctrs.\n",
      "Change of simpleCtr will not affect combinations ctrs.\n",
      "Change of simpleCtr will not affect combinations ctrs.\n",
      "Change of simpleCtr will not affect combinations ctrs.\n",
      "Change of simpleCtr will not affect combinations ctrs.\n",
      "Change of simpleCtr will not affect combinations ctrs.\n",
      "Change of simpleCtr will not affect combinations ctrs.\n",
      "Change of simpleCtr will not affect combinations ctrs.\n",
      "Change of simpleCtr will not affect combinations ctrs.\n",
      "Change of simpleCtr will not affect combinations ctrs.\n"
     ]
    },
    {
     "name": "stdout",
     "output_type": "stream",
     "text": [
      "[I 2025-10-28 22:32:25,273] Trial 22 finished with value: 0.6363942078103936 and parameters: {'iterations': 1359, 'depth': 8, 'learning_rate': 0.04583769555130468, 'l2_leaf_reg': 0.17883573491996052, 'random_strength': 0.21331038317059325, 'bagging_temperature': 0.11616468923720677, 'grow_policy': 'SymmetricTree', 'leaf_estimation_iterations': 4, 'leaf_estimation_method': 'Gradient', 'one_hot_max_size': 9, 'max_ctr_complexity': 2, 'auto_class_weights': None, 'od_type': 'IncToDec', 'od_wait': 74, 'simple_ctr': 'Buckets'}. Best is trial 22 with value: 0.6363942078103936.\n"
     ]
    },
    {
     "name": "stderr",
     "output_type": "stream",
     "text": [
      "Change of simpleCtr will not affect combinations ctrs.\n",
      "Change of simpleCtr will not affect combinations ctrs.\n",
      "Change of simpleCtr will not affect combinations ctrs.\n",
      "Change of simpleCtr will not affect combinations ctrs.\n",
      "Change of simpleCtr will not affect combinations ctrs.\n",
      "Change of simpleCtr will not affect combinations ctrs.\n",
      "Change of simpleCtr will not affect combinations ctrs.\n",
      "Change of simpleCtr will not affect combinations ctrs.\n",
      "Change of simpleCtr will not affect combinations ctrs.\n",
      "Change of simpleCtr will not affect combinations ctrs.\n",
      "Change of simpleCtr will not affect combinations ctrs.\n",
      "Change of simpleCtr will not affect combinations ctrs.\n"
     ]
    },
    {
     "name": "stdout",
     "output_type": "stream",
     "text": [
      "[I 2025-10-28 22:34:48,957] Trial 23 finished with value: 0.6366357590087602 and parameters: {'iterations': 1343, 'depth': 7, 'learning_rate': 0.03241614537525258, 'l2_leaf_reg': 0.49572548012371864, 'random_strength': 0.6832885022446349, 'bagging_temperature': 0.35331099459135307, 'grow_policy': 'SymmetricTree', 'leaf_estimation_iterations': 4, 'leaf_estimation_method': 'Gradient', 'one_hot_max_size': 9, 'max_ctr_complexity': 2, 'auto_class_weights': None, 'od_type': 'IncToDec', 'od_wait': 74, 'simple_ctr': 'Buckets'}. Best is trial 23 with value: 0.6366357590087602.\n"
     ]
    },
    {
     "name": "stderr",
     "output_type": "stream",
     "text": [
      "Change of simpleCtr will not affect combinations ctrs.\n",
      "Change of simpleCtr will not affect combinations ctrs.\n",
      "Change of simpleCtr will not affect combinations ctrs.\n",
      "Change of simpleCtr will not affect combinations ctrs.\n",
      "Change of simpleCtr will not affect combinations ctrs.\n",
      "Change of simpleCtr will not affect combinations ctrs.\n",
      "Change of simpleCtr will not affect combinations ctrs.\n",
      "Change of simpleCtr will not affect combinations ctrs.\n",
      "Change of simpleCtr will not affect combinations ctrs.\n",
      "Change of simpleCtr will not affect combinations ctrs.\n",
      "Change of simpleCtr will not affect combinations ctrs.\n",
      "Change of simpleCtr will not affect combinations ctrs.\n"
     ]
    },
    {
     "name": "stdout",
     "output_type": "stream",
     "text": [
      "[I 2025-10-28 22:38:11,679] Trial 24 finished with value: 0.6372679118933181 and parameters: {'iterations': 1374, 'depth': 8, 'learning_rate': 0.02560971165859926, 'l2_leaf_reg': 0.06477552107369805, 'random_strength': 0.8597240840018328, 'bagging_temperature': 0.3643435728144905, 'grow_policy': 'SymmetricTree', 'leaf_estimation_iterations': 4, 'leaf_estimation_method': 'Gradient', 'one_hot_max_size': 9, 'max_ctr_complexity': 2, 'auto_class_weights': None, 'od_type': 'IncToDec', 'od_wait': 79, 'simple_ctr': 'Buckets'}. Best is trial 24 with value: 0.6372679118933181.\n"
     ]
    },
    {
     "name": "stderr",
     "output_type": "stream",
     "text": [
      "Change of simpleCtr will not affect combinations ctrs.\n",
      "Change of simpleCtr will not affect combinations ctrs.\n",
      "Change of simpleCtr will not affect combinations ctrs.\n",
      "Change of simpleCtr will not affect combinations ctrs.\n",
      "Change of simpleCtr will not affect combinations ctrs.\n",
      "Change of simpleCtr will not affect combinations ctrs.\n",
      "Change of simpleCtr will not affect combinations ctrs.\n",
      "Change of simpleCtr will not affect combinations ctrs.\n",
      "Change of simpleCtr will not affect combinations ctrs.\n",
      "Change of simpleCtr will not affect combinations ctrs.\n",
      "Change of simpleCtr will not affect combinations ctrs.\n",
      "Change of simpleCtr will not affect combinations ctrs.\n"
     ]
    },
    {
     "name": "stdout",
     "output_type": "stream",
     "text": [
      "[I 2025-10-28 22:40:54,595] Trial 25 finished with value: 0.6361553862808863 and parameters: {'iterations': 1387, 'depth': 7, 'learning_rate': 0.024553842167477913, 'l2_leaf_reg': 0.015264789402249226, 'random_strength': 0.9196769559139196, 'bagging_temperature': 0.3635286428970064, 'grow_policy': 'SymmetricTree', 'leaf_estimation_iterations': 4, 'leaf_estimation_method': 'Gradient', 'one_hot_max_size': 9, 'max_ctr_complexity': 2, 'auto_class_weights': None, 'od_type': 'IncToDec', 'od_wait': 78, 'simple_ctr': 'Buckets'}. Best is trial 24 with value: 0.6372679118933181.\n"
     ]
    },
    {
     "name": "stderr",
     "output_type": "stream",
     "text": [
      "Change of simpleCtr will not affect combinations ctrs.\n",
      "Change of simpleCtr will not affect combinations ctrs.\n",
      "Change of simpleCtr will not affect combinations ctrs.\n",
      "Change of simpleCtr will not affect combinations ctrs.\n",
      "Change of simpleCtr will not affect combinations ctrs.\n",
      "Change of simpleCtr will not affect combinations ctrs.\n",
      "Change of simpleCtr will not affect combinations ctrs.\n",
      "Change of simpleCtr will not affect combinations ctrs.\n",
      "Change of simpleCtr will not affect combinations ctrs.\n",
      "Change of simpleCtr will not affect combinations ctrs.\n",
      "Change of simpleCtr will not affect combinations ctrs.\n",
      "Change of simpleCtr will not affect combinations ctrs.\n"
     ]
    },
    {
     "name": "stdout",
     "output_type": "stream",
     "text": [
      "[I 2025-10-28 22:41:05,519] Trial 26 finished with value: 0.627706332808098 and parameters: {'iterations': 1356, 'depth': 6, 'learning_rate': 0.030641893095801655, 'l2_leaf_reg': 0.05779838662525859, 'random_strength': 2.7507233233769868, 'bagging_temperature': 0.5619333252431211, 'grow_policy': 'Lossguide', 'leaf_estimation_iterations': 4, 'leaf_estimation_method': 'Newton', 'one_hot_max_size': 9, 'max_ctr_complexity': 3, 'auto_class_weights': 'Balanced', 'od_type': 'IncToDec', 'od_wait': 100, 'simple_ctr': 'Buckets'}. Best is trial 24 with value: 0.6372679118933181.\n"
     ]
    },
    {
     "name": "stderr",
     "output_type": "stream",
     "text": [
      "Change of simpleCtr will not affect combinations ctrs.\n",
      "Change of simpleCtr will not affect combinations ctrs.\n",
      "Change of simpleCtr will not affect combinations ctrs.\n",
      "Change of simpleCtr will not affect combinations ctrs.\n",
      "Change of simpleCtr will not affect combinations ctrs.\n",
      "Change of simpleCtr will not affect combinations ctrs.\n",
      "Change of simpleCtr will not affect combinations ctrs.\n",
      "Change of simpleCtr will not affect combinations ctrs.\n",
      "Change of simpleCtr will not affect combinations ctrs.\n",
      "Change of simpleCtr will not affect combinations ctrs.\n",
      "Change of simpleCtr will not affect combinations ctrs.\n",
      "Change of simpleCtr will not affect combinations ctrs.\n"
     ]
    },
    {
     "name": "stdout",
     "output_type": "stream",
     "text": [
      "[I 2025-10-28 22:43:13,258] Trial 27 finished with value: 0.6352926522691559 and parameters: {'iterations': 1200, 'depth': 8, 'learning_rate': 0.01936856492046214, 'l2_leaf_reg': 0.12637746381792234, 'random_strength': 0.662776779795605, 'bagging_temperature': 0.6687663183244603, 'grow_policy': 'SymmetricTree', 'leaf_estimation_iterations': 5, 'leaf_estimation_method': 'Gradient', 'one_hot_max_size': 9, 'max_ctr_complexity': 1, 'auto_class_weights': None, 'od_type': 'IncToDec', 'od_wait': 67, 'simple_ctr': 'Buckets'}. Best is trial 24 with value: 0.6372679118933181.\n"
     ]
    },
    {
     "name": "stderr",
     "output_type": "stream",
     "text": [
      "Change of simpleCtr will not affect combinations ctrs.\n",
      "Change of simpleCtr will not affect combinations ctrs.\n",
      "Change of simpleCtr will not affect combinations ctrs.\n",
      "Change of simpleCtr will not affect combinations ctrs.\n",
      "Change of simpleCtr will not affect combinations ctrs.\n",
      "Change of simpleCtr will not affect combinations ctrs.\n",
      "Change of simpleCtr will not affect combinations ctrs.\n",
      "Change of simpleCtr will not affect combinations ctrs.\n",
      "Change of simpleCtr will not affect combinations ctrs.\n",
      "Change of simpleCtr will not affect combinations ctrs.\n",
      "Change of simpleCtr will not affect combinations ctrs.\n",
      "Change of simpleCtr will not affect combinations ctrs.\n"
     ]
    },
    {
     "name": "stdout",
     "output_type": "stream",
     "text": [
      "[I 2025-10-28 22:45:44,100] Trial 28 finished with value: 0.6352468933056725 and parameters: {'iterations': 1385, 'depth': 7, 'learning_rate': 0.033977113307709264, 'l2_leaf_reg': 0.05317104219708868, 'random_strength': 2.10165901060273, 'bagging_temperature': 0.36367097167224544, 'grow_policy': 'SymmetricTree', 'leaf_estimation_iterations': 4, 'leaf_estimation_method': 'Gradient', 'one_hot_max_size': 8, 'max_ctr_complexity': 2, 'auto_class_weights': None, 'od_type': 'IncToDec', 'od_wait': 81, 'simple_ctr': 'Buckets'}. Best is trial 24 with value: 0.6372679118933181.\n"
     ]
    },
    {
     "name": "stderr",
     "output_type": "stream",
     "text": [
      "Change of simpleCtr will not affect combinations ctrs.\n",
      "Change of simpleCtr will not affect combinations ctrs.\n",
      "Change of simpleCtr will not affect combinations ctrs.\n",
      "Change of simpleCtr will not affect combinations ctrs.\n",
      "Change of simpleCtr will not affect combinations ctrs.\n",
      "Change of simpleCtr will not affect combinations ctrs.\n",
      "Change of simpleCtr will not affect combinations ctrs.\n",
      "Change of simpleCtr will not affect combinations ctrs.\n",
      "Change of simpleCtr will not affect combinations ctrs.\n",
      "Change of simpleCtr will not affect combinations ctrs.\n",
      "Change of simpleCtr will not affect combinations ctrs.\n",
      "Change of simpleCtr will not affect combinations ctrs.\n"
     ]
    },
    {
     "name": "stdout",
     "output_type": "stream",
     "text": [
      "[I 2025-10-28 22:48:47,771] Trial 29 finished with value: 0.6370075036981979 and parameters: {'iterations': 1241, 'depth': 8, 'learning_rate': 0.025182471130373862, 'l2_leaf_reg': 0.023492456510508155, 'random_strength': 1.208322429596642, 'bagging_temperature': 0.43065050435406216, 'grow_policy': 'SymmetricTree', 'leaf_estimation_iterations': 4, 'leaf_estimation_method': 'Gradient', 'one_hot_max_size': 10, 'max_ctr_complexity': 2, 'auto_class_weights': None, 'od_type': 'IncToDec', 'od_wait': 66, 'simple_ctr': 'Buckets'}. Best is trial 24 with value: 0.6372679118933181.\n"
     ]
    },
    {
     "name": "stderr",
     "output_type": "stream",
     "text": [
      "Change of simpleCtr will not affect combinations ctrs.\n",
      "Change of simpleCtr will not affect combinations ctrs.\n",
      "Change of simpleCtr will not affect combinations ctrs.\n",
      "Change of simpleCtr will not affect combinations ctrs.\n",
      "Change of simpleCtr will not affect combinations ctrs.\n",
      "Change of simpleCtr will not affect combinations ctrs.\n",
      "Change of simpleCtr will not affect combinations ctrs.\n",
      "Change of simpleCtr will not affect combinations ctrs.\n",
      "Change of simpleCtr will not affect combinations ctrs.\n",
      "Change of simpleCtr will not affect combinations ctrs.\n",
      "Change of simpleCtr will not affect combinations ctrs.\n",
      "Change of simpleCtr will not affect combinations ctrs.\n"
     ]
    },
    {
     "name": "stdout",
     "output_type": "stream",
     "text": [
      "[I 2025-10-28 22:52:04,202] Trial 30 finished with value: 0.6372434952650154 and parameters: {'iterations': 1222, 'depth': 8, 'learning_rate': 0.024798401692086643, 'l2_leaf_reg': 0.019916237290936216, 'random_strength': 1.1709064204977444, 'bagging_temperature': 0.44074478069221346, 'grow_policy': 'SymmetricTree', 'leaf_estimation_iterations': 5, 'leaf_estimation_method': 'Gradient', 'one_hot_max_size': 10, 'max_ctr_complexity': 2, 'auto_class_weights': None, 'od_type': 'IncToDec', 'od_wait': 65, 'simple_ctr': 'Borders'}. Best is trial 24 with value: 0.6372679118933181.\n"
     ]
    },
    {
     "name": "stderr",
     "output_type": "stream",
     "text": [
      "Change of simpleCtr will not affect combinations ctrs.\n",
      "Change of simpleCtr will not affect combinations ctrs.\n",
      "Change of simpleCtr will not affect combinations ctrs.\n",
      "Change of simpleCtr will not affect combinations ctrs.\n",
      "Change of simpleCtr will not affect combinations ctrs.\n",
      "Change of simpleCtr will not affect combinations ctrs.\n",
      "Change of simpleCtr will not affect combinations ctrs.\n",
      "Change of simpleCtr will not affect combinations ctrs.\n",
      "Change of simpleCtr will not affect combinations ctrs.\n",
      "Change of simpleCtr will not affect combinations ctrs.\n",
      "Change of simpleCtr will not affect combinations ctrs.\n",
      "Change of simpleCtr will not affect combinations ctrs.\n"
     ]
    },
    {
     "name": "stdout",
     "output_type": "stream",
     "text": [
      "[I 2025-10-28 22:55:21,025] Trial 31 finished with value: 0.6361219987539714 and parameters: {'iterations': 1227, 'depth': 8, 'learning_rate': 0.025118950540553433, 'l2_leaf_reg': 0.019773773231925383, 'random_strength': 1.076108558335306, 'bagging_temperature': 0.4095675907487105, 'grow_policy': 'SymmetricTree', 'leaf_estimation_iterations': 5, 'leaf_estimation_method': 'Gradient', 'one_hot_max_size': 10, 'max_ctr_complexity': 2, 'auto_class_weights': None, 'od_type': 'IncToDec', 'od_wait': 65, 'simple_ctr': 'Borders'}. Best is trial 24 with value: 0.6372679118933181.\n"
     ]
    },
    {
     "name": "stderr",
     "output_type": "stream",
     "text": [
      "Change of simpleCtr will not affect combinations ctrs.\n",
      "Change of simpleCtr will not affect combinations ctrs.\n",
      "Change of simpleCtr will not affect combinations ctrs.\n",
      "Change of simpleCtr will not affect combinations ctrs.\n",
      "Change of simpleCtr will not affect combinations ctrs.\n",
      "Change of simpleCtr will not affect combinations ctrs.\n",
      "Change of simpleCtr will not affect combinations ctrs.\n",
      "Change of simpleCtr will not affect combinations ctrs.\n",
      "Change of simpleCtr will not affect combinations ctrs.\n",
      "Change of simpleCtr will not affect combinations ctrs.\n",
      "Change of simpleCtr will not affect combinations ctrs.\n",
      "Change of simpleCtr will not affect combinations ctrs.\n"
     ]
    },
    {
     "name": "stdout",
     "output_type": "stream",
     "text": [
      "[I 2025-10-28 22:58:32,478] Trial 32 finished with value: 0.6332991136579119 and parameters: {'iterations': 1220, 'depth': 8, 'learning_rate': 0.01446514895198344, 'l2_leaf_reg': 0.016825456185344475, 'random_strength': 0.6704680577416106, 'bagging_temperature': 0.4731205487408866, 'grow_policy': 'SymmetricTree', 'leaf_estimation_iterations': 5, 'leaf_estimation_method': 'Gradient', 'one_hot_max_size': 10, 'max_ctr_complexity': 2, 'auto_class_weights': None, 'od_type': 'IncToDec', 'od_wait': 60, 'simple_ctr': 'Borders'}. Best is trial 24 with value: 0.6372679118933181.\n"
     ]
    },
    {
     "name": "stderr",
     "output_type": "stream",
     "text": [
      "Change of simpleCtr will not affect combinations ctrs.\n",
      "Change of simpleCtr will not affect combinations ctrs.\n",
      "Change of simpleCtr will not affect combinations ctrs.\n",
      "Change of simpleCtr will not affect combinations ctrs.\n",
      "Change of simpleCtr will not affect combinations ctrs.\n",
      "Change of simpleCtr will not affect combinations ctrs.\n",
      "Change of simpleCtr will not affect combinations ctrs.\n",
      "Change of simpleCtr will not affect combinations ctrs.\n",
      "Change of simpleCtr will not affect combinations ctrs.\n",
      "Change of simpleCtr will not affect combinations ctrs.\n",
      "Change of simpleCtr will not affect combinations ctrs.\n",
      "Change of simpleCtr will not affect combinations ctrs.\n"
     ]
    },
    {
     "name": "stdout",
     "output_type": "stream",
     "text": [
      "[I 2025-10-28 23:01:13,072] Trial 33 finished with value: 0.6363940992424889 and parameters: {'iterations': 1404, 'depth': 7, 'learning_rate': 0.02152298664510582, 'l2_leaf_reg': 0.025276996826343705, 'random_strength': 1.340217423953238, 'bagging_temperature': 0.5398889839055763, 'grow_policy': 'SymmetricTree', 'leaf_estimation_iterations': 5, 'leaf_estimation_method': 'Gradient', 'one_hot_max_size': 9, 'max_ctr_complexity': 2, 'auto_class_weights': None, 'od_type': 'IncToDec', 'od_wait': 69, 'simple_ctr': 'Borders'}. Best is trial 24 with value: 0.6372679118933181.\n"
     ]
    },
    {
     "name": "stderr",
     "output_type": "stream",
     "text": [
      "Change of simpleCtr will not affect combinations ctrs.\n",
      "Change of simpleCtr will not affect combinations ctrs.\n",
      "Change of simpleCtr will not affect combinations ctrs.\n",
      "Change of simpleCtr will not affect combinations ctrs.\n",
      "Change of simpleCtr will not affect combinations ctrs.\n",
      "Change of simpleCtr will not affect combinations ctrs.\n",
      "Change of simpleCtr will not affect combinations ctrs.\n",
      "Change of simpleCtr will not affect combinations ctrs.\n",
      "Change of simpleCtr will not affect combinations ctrs.\n",
      "Change of simpleCtr will not affect combinations ctrs.\n",
      "Change of simpleCtr will not affect combinations ctrs.\n",
      "Change of simpleCtr will not affect combinations ctrs.\n"
     ]
    },
    {
     "name": "stdout",
     "output_type": "stream",
     "text": [
      "[I 2025-10-28 23:03:52,439] Trial 34 finished with value: 0.6364633324934366 and parameters: {'iterations': 1066, 'depth': 8, 'learning_rate': 0.02734961830602996, 'l2_leaf_reg': 0.010074284102618727, 'random_strength': 0.8326895147028277, 'bagging_temperature': 0.43941466112542443, 'grow_policy': 'SymmetricTree', 'leaf_estimation_iterations': 4, 'leaf_estimation_method': 'Gradient', 'one_hot_max_size': 10, 'max_ctr_complexity': 2, 'auto_class_weights': None, 'od_type': 'IncToDec', 'od_wait': 61, 'simple_ctr': 'Borders'}. Best is trial 24 with value: 0.6372679118933181.\n"
     ]
    },
    {
     "name": "stderr",
     "output_type": "stream",
     "text": [
      "Change of simpleCtr will not affect combinations ctrs.\n",
      "Change of simpleCtr will not affect combinations ctrs.\n",
      "Change of simpleCtr will not affect combinations ctrs.\n",
      "Change of simpleCtr will not affect combinations ctrs.\n",
      "Change of simpleCtr will not affect combinations ctrs.\n",
      "Change of simpleCtr will not affect combinations ctrs.\n",
      "Change of simpleCtr will not affect combinations ctrs.\n",
      "Change of simpleCtr will not affect combinations ctrs.\n",
      "Change of simpleCtr will not affect combinations ctrs.\n",
      "Change of simpleCtr will not affect combinations ctrs.\n",
      "Change of simpleCtr will not affect combinations ctrs.\n",
      "Change of simpleCtr will not affect combinations ctrs.\n"
     ]
    },
    {
     "name": "stdout",
     "output_type": "stream",
     "text": [
      "[I 2025-10-28 23:06:27,593] Trial 35 finished with value: 0.6323737192303769 and parameters: {'iterations': 1249, 'depth': 7, 'learning_rate': 0.017315864672318233, 'l2_leaf_reg': 0.027004957350974468, 'random_strength': 2.004805751447206, 'bagging_temperature': 0.2369027188656037, 'grow_policy': 'SymmetricTree', 'leaf_estimation_iterations': 4, 'leaf_estimation_method': 'Gradient', 'one_hot_max_size': 8, 'max_ctr_complexity': 3, 'auto_class_weights': None, 'od_type': 'IncToDec', 'od_wait': 87, 'simple_ctr': 'FloatTargetMeanValue'}. Best is trial 24 with value: 0.6372679118933181.\n"
     ]
    },
    {
     "name": "stderr",
     "output_type": "stream",
     "text": [
      "Change of simpleCtr will not affect combinations ctrs.\n",
      "Change of simpleCtr will not affect combinations ctrs.\n",
      "Change of simpleCtr will not affect combinations ctrs.\n",
      "Change of simpleCtr will not affect combinations ctrs.\n",
      "Change of simpleCtr will not affect combinations ctrs.\n",
      "Change of simpleCtr will not affect combinations ctrs.\n",
      "Change of simpleCtr will not affect combinations ctrs.\n",
      "Change of simpleCtr will not affect combinations ctrs.\n",
      "Change of simpleCtr will not affect combinations ctrs.\n",
      "Change of simpleCtr will not affect combinations ctrs.\n",
      "Change of simpleCtr will not affect combinations ctrs.\n",
      "Change of simpleCtr will not affect combinations ctrs.\n"
     ]
    },
    {
     "name": "stdout",
     "output_type": "stream",
     "text": [
      "[I 2025-10-28 23:07:10,670] Trial 36 finished with value: 0.6324072288105517 and parameters: {'iterations': 1151, 'depth': 6, 'learning_rate': 0.023149863649059802, 'l2_leaf_reg': 0.04582819177338232, 'random_strength': 1.3578978713523768, 'bagging_temperature': 0.44555197662238477, 'grow_policy': 'Lossguide', 'leaf_estimation_iterations': 5, 'leaf_estimation_method': 'Gradient', 'one_hot_max_size': 9, 'max_ctr_complexity': 2, 'auto_class_weights': None, 'od_type': 'IncToDec', 'od_wait': 79, 'simple_ctr': 'Borders'}. Best is trial 24 with value: 0.6372679118933181.\n"
     ]
    },
    {
     "name": "stderr",
     "output_type": "stream",
     "text": [
      "Change of simpleCtr will not affect combinations ctrs.\n",
      "Change of simpleCtr will not affect combinations ctrs.\n",
      "Change of simpleCtr will not affect combinations ctrs.\n",
      "Change of simpleCtr will not affect combinations ctrs.\n",
      "Change of simpleCtr will not affect combinations ctrs.\n",
      "Change of simpleCtr will not affect combinations ctrs.\n",
      "Change of simpleCtr will not affect combinations ctrs.\n",
      "Change of simpleCtr will not affect combinations ctrs.\n",
      "Change of simpleCtr will not affect combinations ctrs.\n",
      "Change of simpleCtr will not affect combinations ctrs.\n",
      "Change of simpleCtr will not affect combinations ctrs.\n",
      "Change of simpleCtr will not affect combinations ctrs.\n"
     ]
    },
    {
     "name": "stdout",
     "output_type": "stream",
     "text": [
      "[I 2025-10-28 23:09:12,848] Trial 37 finished with value: 0.6324697201969324 and parameters: {'iterations': 1334, 'depth': 8, 'learning_rate': 0.012877148134622617, 'l2_leaf_reg': 0.6142585066266841, 'random_strength': 0.5983801255073247, 'bagging_temperature': 0.6304746022247842, 'grow_policy': 'SymmetricTree', 'leaf_estimation_iterations': 4, 'leaf_estimation_method': 'Newton', 'one_hot_max_size': 10, 'max_ctr_complexity': 1, 'auto_class_weights': None, 'od_type': 'IncToDec', 'od_wait': 69, 'simple_ctr': 'Buckets'}. Best is trial 24 with value: 0.6372679118933181.\n"
     ]
    },
    {
     "name": "stderr",
     "output_type": "stream",
     "text": [
      "Change of simpleCtr will not affect combinations ctrs.\n",
      "Change of simpleCtr will not affect combinations ctrs.\n",
      "Change of simpleCtr will not affect combinations ctrs.\n",
      "Change of simpleCtr will not affect combinations ctrs.\n",
      "Change of simpleCtr will not affect combinations ctrs.\n",
      "Change of simpleCtr will not affect combinations ctrs.\n",
      "Change of simpleCtr will not affect combinations ctrs.\n",
      "Change of simpleCtr will not affect combinations ctrs.\n",
      "Change of simpleCtr will not affect combinations ctrs.\n",
      "Change of simpleCtr will not affect combinations ctrs.\n",
      "Change of simpleCtr will not affect combinations ctrs.\n",
      "Change of simpleCtr will not affect combinations ctrs.\n"
     ]
    },
    {
     "name": "stdout",
     "output_type": "stream",
     "text": [
      "[I 2025-10-28 23:09:49,713] Trial 38 finished with value: 0.6320467060797633 and parameters: {'iterations': 1425, 'depth': 7, 'learning_rate': 0.028502853890045195, 'l2_leaf_reg': 0.07167300285005687, 'random_strength': 0.9953156504613753, 'bagging_temperature': 0.31539053970635644, 'grow_policy': 'Lossguide', 'leaf_estimation_iterations': 5, 'leaf_estimation_method': 'Gradient', 'one_hot_max_size': 8, 'max_ctr_complexity': 3, 'auto_class_weights': None, 'od_type': 'IncToDec', 'od_wait': 63, 'simple_ctr': 'Borders'}. Best is trial 24 with value: 0.6372679118933181.\n"
     ]
    },
    {
     "name": "stderr",
     "output_type": "stream",
     "text": [
      "Change of simpleCtr will not affect combinations ctrs.\n",
      "Change of simpleCtr will not affect combinations ctrs.\n",
      "Change of simpleCtr will not affect combinations ctrs.\n",
      "Change of simpleCtr will not affect combinations ctrs.\n",
      "Change of simpleCtr will not affect combinations ctrs.\n",
      "Change of simpleCtr will not affect combinations ctrs.\n",
      "Change of simpleCtr will not affect combinations ctrs.\n",
      "Change of simpleCtr will not affect combinations ctrs.\n",
      "Change of simpleCtr will not affect combinations ctrs.\n",
      "Change of simpleCtr will not affect combinations ctrs.\n",
      "Change of simpleCtr will not affect combinations ctrs.\n",
      "Change of simpleCtr will not affect combinations ctrs.\n"
     ]
    },
    {
     "name": "stdout",
     "output_type": "stream",
     "text": [
      "[I 2025-10-28 23:11:46,279] Trial 39 finished with value: 0.6323273550146188 and parameters: {'iterations': 638, 'depth': 8, 'learning_rate': 0.017869833577608758, 'l2_leaf_reg': 1.4467989109859312, 'random_strength': 2.9770658848659513, 'bagging_temperature': 0.5040870443408507, 'grow_policy': 'SymmetricTree', 'leaf_estimation_iterations': 4, 'leaf_estimation_method': 'Newton', 'one_hot_max_size': 7, 'max_ctr_complexity': 2, 'auto_class_weights': 'Balanced', 'od_type': 'IncToDec', 'od_wait': 56, 'simple_ctr': 'FloatTargetMeanValue'}. Best is trial 24 with value: 0.6372679118933181.\n",
      "\n",
      "Best Parameters Found:\n",
      "{'iterations': 1374, 'depth': 8, 'learning_rate': 0.02560971165859926, 'l2_leaf_reg': 0.06477552107369805, 'random_strength': 0.8597240840018328, 'bagging_temperature': 0.3643435728144905, 'grow_policy': 'SymmetricTree', 'leaf_estimation_iterations': 4, 'leaf_estimation_method': 'Gradient', 'one_hot_max_size': 9, 'max_ctr_complexity': 2, 'auto_class_weights': None, 'od_type': 'IncToDec', 'od_wait': 79, 'simple_ctr': 'Buckets'}\n",
      "Logged best parameters to ../../model/v4/param_log_catboost.json.json\n"
     ]
    },
    {
     "name": "stderr",
     "output_type": "stream",
     "text": [
      "Change of simpleCtr will not affect combinations ctrs.\n",
      "Change of simpleCtr will not affect combinations ctrs.\n"
     ]
    },
    {
     "data": {
      "application/vnd.jupyter.widget-view+json": {
       "model_id": "ed0c42993abe4bffa6f236c813e1562d",
       "version_major": 2,
       "version_minor": 0
      },
      "text/plain": [
       "MetricVisualizer(layout=Layout(align_self='stretch', height='500px'))"
      ]
     },
     "metadata": {},
     "output_type": "display_data"
    },
    {
     "name": "stderr",
     "output_type": "stream",
     "text": [
      "Change of simpleCtr will not affect combinations ctrs.\n",
      "Change of simpleCtr will not affect combinations ctrs.\n",
      "Default metric period is 5 because AUC is/are not implemented for GPU\n"
     ]
    },
    {
     "name": "stdout",
     "output_type": "stream",
     "text": [
      "0:\ttest: 0.6042821\tbest: 0.6042821 (0)\ttotal: 60.1ms\tremaining: 1m 22s\n",
      "200:\ttest: 0.6319764\tbest: 0.6319764 (200)\ttotal: 12.7s\tremaining: 1m 13s\n",
      "400:\ttest: 0.6347045\tbest: 0.6347045 (400)\ttotal: 22.5s\tremaining: 54.6s\n",
      "600:\ttest: 0.6354169\tbest: 0.6355478 (575)\ttotal: 32.3s\tremaining: 41.5s\n",
      "800:\ttest: 0.6356610\tbest: 0.6359806 (780)\ttotal: 42.3s\tremaining: 30.2s\n",
      "1000:\ttest: 0.6368963\tbest: 0.6368963 (1000)\ttotal: 52.3s\tremaining: 19.5s\n",
      "1200:\ttest: 0.6369961\tbest: 0.6372697 (1160)\ttotal: 1m 2s\tremaining: 8.99s\n",
      "1373:\ttest: 0.6368786\tbest: 0.6372697 (1160)\ttotal: 1m 10s\tremaining: 0us\n",
      "bestTest = 0.6372697353\n",
      "bestIteration = 1160\n",
      "Shrink model to first 1161 iterations.\n",
      "\n",
      "Optimal Threshold: 0.481\n",
      "\n",
      "Confusion Matrix:\n",
      " [[3000 2663]\n",
      " [ 271  571]]\n",
      "\n",
      "Classification Report:\n",
      "               precision    recall  f1-score   support\n",
      "\n",
      "           0       0.92      0.53      0.67      5663\n",
      "           1       0.18      0.68      0.28       842\n",
      "\n",
      "    accuracy                           0.55      6505\n",
      "   macro avg       0.55      0.60      0.48      6505\n",
      "weighted avg       0.82      0.55      0.62      6505\n",
      "\n",
      "ROC-AUC Score: 0.6372401927249559\n",
      "\n",
      "CatBoost model training complete and saved!\n"
     ]
    }
   ],
   "source": [
    "threshold = trainCatboost(VERSION, train_df, cat_features)"
   ]
  },
  {
   "cell_type": "code",
   "execution_count": null,
   "id": "15771fc1",
   "metadata": {},
   "outputs": [
    {
     "ename": "KeyError",
     "evalue": "\"['ID', 'postal_code', 'age'] not in index\"",
     "output_type": "error",
     "traceback": [
      "\u001b[1;31m---------------------------------------------------------------------------\u001b[0m",
      "\u001b[1;31mKeyError\u001b[0m                                  Traceback (most recent call last)",
      "Cell \u001b[1;32mIn[10], line 1\u001b[0m\n\u001b[1;32m----> 1\u001b[0m testCatboost(VERSION, test_df, ids, \u001b[38;5;241m0.481\u001b[39m, cat_features)\n",
      "File \u001b[1;32md:\\CU\\Aihack_aikokkak\\modules\\v1\\catboostModel.py:197\u001b[0m, in \u001b[0;36mtestCatboost\u001b[1;34m(version, test_df, ids, threshold, categorical_columns)\u001b[0m\n\u001b[0;32m    194\u001b[0m model \u001b[38;5;241m=\u001b[39m CatBoostClassifier()\n\u001b[0;32m    195\u001b[0m model\u001b[38;5;241m.\u001b[39mload_model(MODEL_PATH)\n\u001b[1;32m--> 197\u001b[0m test_df \u001b[38;5;241m=\u001b[39m test_df[feature_names]\n\u001b[0;32m    200\u001b[0m cat_features \u001b[38;5;241m=\u001b[39m [col \u001b[38;5;28;01mfor\u001b[39;00m col \u001b[38;5;129;01min\u001b[39;00m categorical_columns \u001b[38;5;28;01mif\u001b[39;00m col \u001b[38;5;129;01min\u001b[39;00m test_df\u001b[38;5;241m.\u001b[39mcolumns]\n\u001b[0;32m    201\u001b[0m test_df[cat_features] \u001b[38;5;241m=\u001b[39m test_df[cat_features]\u001b[38;5;241m.\u001b[39mastype(\u001b[38;5;28mstr\u001b[39m)\n",
      "File \u001b[1;32mc:\\Users\\Toa\\anaconda3\\Lib\\site-packages\\pandas\\core\\frame.py:4108\u001b[0m, in \u001b[0;36mDataFrame.__getitem__\u001b[1;34m(self, key)\u001b[0m\n\u001b[0;32m   4106\u001b[0m     \u001b[38;5;28;01mif\u001b[39;00m is_iterator(key):\n\u001b[0;32m   4107\u001b[0m         key \u001b[38;5;241m=\u001b[39m \u001b[38;5;28mlist\u001b[39m(key)\n\u001b[1;32m-> 4108\u001b[0m     indexer \u001b[38;5;241m=\u001b[39m \u001b[38;5;28mself\u001b[39m\u001b[38;5;241m.\u001b[39mcolumns\u001b[38;5;241m.\u001b[39m_get_indexer_strict(key, \u001b[38;5;124m\"\u001b[39m\u001b[38;5;124mcolumns\u001b[39m\u001b[38;5;124m\"\u001b[39m)[\u001b[38;5;241m1\u001b[39m]\n\u001b[0;32m   4110\u001b[0m \u001b[38;5;66;03m# take() does not accept boolean indexers\u001b[39;00m\n\u001b[0;32m   4111\u001b[0m \u001b[38;5;28;01mif\u001b[39;00m \u001b[38;5;28mgetattr\u001b[39m(indexer, \u001b[38;5;124m\"\u001b[39m\u001b[38;5;124mdtype\u001b[39m\u001b[38;5;124m\"\u001b[39m, \u001b[38;5;28;01mNone\u001b[39;00m) \u001b[38;5;241m==\u001b[39m \u001b[38;5;28mbool\u001b[39m:\n",
      "File \u001b[1;32mc:\\Users\\Toa\\anaconda3\\Lib\\site-packages\\pandas\\core\\indexes\\base.py:6200\u001b[0m, in \u001b[0;36mIndex._get_indexer_strict\u001b[1;34m(self, key, axis_name)\u001b[0m\n\u001b[0;32m   6197\u001b[0m \u001b[38;5;28;01melse\u001b[39;00m:\n\u001b[0;32m   6198\u001b[0m     keyarr, indexer, new_indexer \u001b[38;5;241m=\u001b[39m \u001b[38;5;28mself\u001b[39m\u001b[38;5;241m.\u001b[39m_reindex_non_unique(keyarr)\n\u001b[1;32m-> 6200\u001b[0m \u001b[38;5;28mself\u001b[39m\u001b[38;5;241m.\u001b[39m_raise_if_missing(keyarr, indexer, axis_name)\n\u001b[0;32m   6202\u001b[0m keyarr \u001b[38;5;241m=\u001b[39m \u001b[38;5;28mself\u001b[39m\u001b[38;5;241m.\u001b[39mtake(indexer)\n\u001b[0;32m   6203\u001b[0m \u001b[38;5;28;01mif\u001b[39;00m \u001b[38;5;28misinstance\u001b[39m(key, Index):\n\u001b[0;32m   6204\u001b[0m     \u001b[38;5;66;03m# GH 42790 - Preserve name from an Index\u001b[39;00m\n",
      "File \u001b[1;32mc:\\Users\\Toa\\anaconda3\\Lib\\site-packages\\pandas\\core\\indexes\\base.py:6252\u001b[0m, in \u001b[0;36mIndex._raise_if_missing\u001b[1;34m(self, key, indexer, axis_name)\u001b[0m\n\u001b[0;32m   6249\u001b[0m     \u001b[38;5;28;01mraise\u001b[39;00m \u001b[38;5;167;01mKeyError\u001b[39;00m(\u001b[38;5;124mf\u001b[39m\u001b[38;5;124m\"\u001b[39m\u001b[38;5;124mNone of [\u001b[39m\u001b[38;5;132;01m{\u001b[39;00mkey\u001b[38;5;132;01m}\u001b[39;00m\u001b[38;5;124m] are in the [\u001b[39m\u001b[38;5;132;01m{\u001b[39;00maxis_name\u001b[38;5;132;01m}\u001b[39;00m\u001b[38;5;124m]\u001b[39m\u001b[38;5;124m\"\u001b[39m)\n\u001b[0;32m   6251\u001b[0m not_found \u001b[38;5;241m=\u001b[39m \u001b[38;5;28mlist\u001b[39m(ensure_index(key)[missing_mask\u001b[38;5;241m.\u001b[39mnonzero()[\u001b[38;5;241m0\u001b[39m]]\u001b[38;5;241m.\u001b[39munique())\n\u001b[1;32m-> 6252\u001b[0m \u001b[38;5;28;01mraise\u001b[39;00m \u001b[38;5;167;01mKeyError\u001b[39;00m(\u001b[38;5;124mf\u001b[39m\u001b[38;5;124m\"\u001b[39m\u001b[38;5;132;01m{\u001b[39;00mnot_found\u001b[38;5;132;01m}\u001b[39;00m\u001b[38;5;124m not in index\u001b[39m\u001b[38;5;124m\"\u001b[39m)\n",
      "\u001b[1;31mKeyError\u001b[0m: \"['ID', 'postal_code', 'age'] not in index\""
     ]
    }
   ],
   "source": [
    "testCatboost(VERSION, test_df, ids, threshold, cat_features)"
   ]
  }
 ],
 "metadata": {
  "kernelspec": {
   "display_name": "base",
   "language": "python",
   "name": "python3"
  },
  "language_info": {
   "codemirror_mode": {
    "name": "ipython",
    "version": 3
   },
   "file_extension": ".py",
   "mimetype": "text/x-python",
   "name": "python",
   "nbconvert_exporter": "python",
   "pygments_lexer": "ipython3",
   "version": "3.13.5"
  }
 },
 "nbformat": 4,
 "nbformat_minor": 5
}
