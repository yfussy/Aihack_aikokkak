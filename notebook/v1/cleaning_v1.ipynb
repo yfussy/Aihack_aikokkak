{
 "cells": [
  {
   "cell_type": "code",
   "execution_count": null,
   "id": "b3b86149",
   "metadata": {},
   "outputs": [],
   "source": [
    "from sklearn.model_selection import train_test_split\n",
    "from sklearn.metrics import classification_report\n",
    "import numpy as np\n",
    "import pandas as pd\n",
    "import matplotlib.pyplot as plt\n",
    "from datetime import datetime"
   ]
  },
  {
   "cell_type": "code",
   "execution_count": null,
   "id": "e8fc7707",
   "metadata": {},
   "outputs": [],
   "source": [
    "import sys\n",
    "import os\n",
    "root_path = os.path.abspath(os.path.join(os.getcwd(), \"../..\"))\n",
    "if root_path not in sys.path:\n",
    "    sys.path.append(root_path)\n",
    "from fileDir import getDataDir, getModelDir, getPredDir"
   ]
  },
  {
   "cell_type": "code",
   "execution_count": null,
   "id": "a0baa5c7",
   "metadata": {},
   "outputs": [],
   "source": [
    "TRAIN_PATH = getDataDir(\"train\")\n",
    "CLEANED_PATH = getDataDir(\"cleaned\", 1)"
   ]
  },
  {
   "cell_type": "code",
   "execution_count": null,
   "id": "9d5b886a",
   "metadata": {},
   "outputs": [
    {
     "data": {
      "text/plain": [
       "Index(['ID', 'pms_i_ymd', 'Area', 'Province', 'Shop Name', 'gender',\n",
       "       'date_of_birth_week', 'date_of_birth', 'marital_status',\n",
       "       'number_of_children', 'postal_code', 'tel_category',\n",
       "       'number_of_resident', 'living_period_year', 'living_period_month',\n",
       "       'type_of_residence', 'c_postal_code', 'c_business_type',\n",
       "       'c_number_of_employee', 'c_position', 'c_occupation',\n",
       "       'c_employment_status', 'c_monthly_salary', 'c_number_of_working_year',\n",
       "       'c_number_of_working_month', 'c_salary_payment_methods',\n",
       "       'c_date_of_salary_payment', 'media', 'place_for_sending_information',\n",
       "       'r_expected_credit_limit', 'r_propose', 'r_allloan_case',\n",
       "       'r_allloan_amount', 'r_additional_income', 'r_spouse_income',\n",
       "       'r_generalcode1', 'r_generalcode2', 'r_generalcode3', 'r_generalcode4',\n",
       "       'r_generalcode5', 'apply', 'default_12month'],\n",
       "      dtype='object')"
      ]
     },
     "execution_count": 3,
     "metadata": {},
     "output_type": "execute_result"
    }
   ],
   "source": [
    "#Read Data from file\n",
    "df = pd.read_csv(TRAIN_PATH) \n",
    "df.columns\n"
   ]
  },
  {
   "cell_type": "code",
   "execution_count": 4,
   "id": "6a60bfa0",
   "metadata": {},
   "outputs": [
    {
     "data": {
      "text/plain": [
       "Index(['gender', 'date_of_birth', 'marital_status', 'number_of_children',\n",
       "       'postal_code', 'tel_category', 'number_of_resident',\n",
       "       'living_period_month', 'type_of_residence', 'c_business_type',\n",
       "       'c_number_of_employee', 'c_position', 'c_occupation',\n",
       "       'c_employment_status', 'c_monthly_salary', 'c_number_of_working_month',\n",
       "       'c_salary_payment_methods', 'r_expected_credit_limit', 'r_propose',\n",
       "       'r_allloan_case', 'r_allloan_amount', 'r_additional_income',\n",
       "       'r_spouse_income', 'r_generalcode1', 'r_generalcode2', 'r_generalcode3',\n",
       "       'r_generalcode5', 'apply', 'default_12month'],\n",
       "      dtype='object')"
      ]
     },
     "execution_count": 4,
     "metadata": {},
     "output_type": "execute_result"
    }
   ],
   "source": [
    "#Drop Columns\n",
    "df = df.drop(columns=['ID','pms_i_ymd','Area','Province','Shop Name','date_of_birth_week','c_postal_code','c_date_of_salary_payment','media','place_for_sending_information','r_generalcode4'])\n",
    "\n",
    "#year to month\n",
    "df['living_period_month'] = df['living_period_month'] + df['living_period_year']*12\n",
    "df['c_number_of_working_month'] = df['c_number_of_working_month'] + df['c_number_of_working_year']*12\n",
    "\n",
    "df = df.drop(columns = ['living_period_year','c_number_of_working_year'])\n",
    "\n",
    "df.columns"
   ]
  },
  {
   "cell_type": "code",
   "execution_count": 5,
   "id": "dc0916fe",
   "metadata": {},
   "outputs": [
    {
     "data": {
      "text/plain": [
       "Index(['gender', 'marital_status', 'number_of_children', 'postal_code',\n",
       "       'tel_category', 'number_of_resident', 'living_period_month',\n",
       "       'type_of_residence', 'c_business_type', 'c_number_of_employee',\n",
       "       'c_position', 'c_occupation', 'c_employment_status', 'c_monthly_salary',\n",
       "       'c_number_of_working_month', 'c_salary_payment_methods',\n",
       "       'r_expected_credit_limit', 'r_propose', 'r_allloan_case',\n",
       "       'r_allloan_amount', 'r_additional_income', 'r_spouse_income',\n",
       "       'r_generalcode1', 'r_generalcode2', 'r_generalcode3', 'r_generalcode5',\n",
       "       'apply', 'default_12month', 'age'],\n",
       "      dtype='object')"
      ]
     },
     "execution_count": 5,
     "metadata": {},
     "output_type": "execute_result"
    }
   ],
   "source": [
    "df['date_of_birth'] = pd.to_datetime(df['date_of_birth'], errors='coerce')\n",
    "df['birth_year'] = df['date_of_birth'].dt.year\n",
    "df.drop(columns=['date_of_birth'], inplace=True)\n",
    "df['age'] = 2025 - df['birth_year']  # replace 2025 with current year or dataset year\n",
    "df.drop(columns=['birth_year'], inplace=True)\n",
    "\n",
    "df.columns"
   ]
  },
  {
   "cell_type": "code",
   "execution_count": 6,
   "id": "cc9f71bc",
   "metadata": {},
   "outputs": [],
   "source": [
    "#Fill Missing Value\n",
    "\n",
    "#Numeric\n",
    "num_cols = ['number_of_children','number_of_resident',\n",
    "       'living_period_month','c_number_of_employee','c_monthly_salary',\n",
    "       'c_number_of_working_month','r_expected_credit_limit', 'r_allloan_case',\n",
    "       'r_allloan_amount', 'r_additional_income', 'r_spouse_income','age']\n",
    "df[num_cols] = df[num_cols].fillna(df[num_cols].median())\n",
    "\n",
    "#Categorical\n",
    "cols = ['gender', 'marital_status','postal_code', 'tel_category','type_of_residence',\n",
    "       'c_business_type','c_position', 'c_occupation',\n",
    "       'c_employment_status','c_salary_payment_methods','r_propose','r_generalcode1', 'r_generalcode2', 'r_generalcode3','r_generalcode5','apply']\n",
    "df[cols] = df[cols].fillna('Unknown')"
   ]
  },
  {
   "cell_type": "code",
   "execution_count": 7,
   "id": "f7c7ba20",
   "metadata": {},
   "outputs": [
    {
     "name": "stdout",
     "output_type": "stream",
     "text": [
      "Shape of cleaned data: (32524, 29)\n",
      "Sample rows:\n",
      "  gender  marital_status  number_of_children  postal_code  tel_category  \\\n",
      "0     F2               1                   2        10400             3   \n",
      "1      M               1                   0        10500             3   \n",
      "2     F2               1                   0        10170             3   \n",
      "3      M               1                   2        10500             3   \n",
      "4     F2               3                   1        10120             3   \n",
      "\n",
      "   number_of_resident  living_period_month  type_of_residence  \\\n",
      "0                   2                   60                  6   \n",
      "1                   3                   48                  6   \n",
      "2                   6                   62                  3   \n",
      "3                   2                   51                  5   \n",
      "4                   2                    4                  4   \n",
      "\n",
      "   c_business_type  c_number_of_employee  ...  r_allloan_amount  \\\n",
      "0                7                  9999  ...                 0   \n",
      "1                7                   500  ...                 0   \n",
      "2                7                  1000  ...             10000   \n",
      "3                3                   500  ...                 0   \n",
      "4                7                  1000  ...                 0   \n",
      "\n",
      "   r_additional_income  r_spouse_income  r_generalcode1  r_generalcode2  \\\n",
      "0                  0.0              0.0         Unknown         Unknown   \n",
      "1               5000.0              0.0         Unknown         Unknown   \n",
      "2                  0.0              0.0         Unknown         Unknown   \n",
      "3                  0.0              0.0         Unknown         Unknown   \n",
      "4                  0.0              0.0         Unknown         Unknown   \n",
      "\n",
      "   r_generalcode3  r_generalcode5 apply  default_12month  age  \n",
      "0             2.0             4.0    WI                0   54  \n",
      "1             1.0             4.0    WI                0   42  \n",
      "2             1.0             4.0    DS                0   33  \n",
      "3             1.0             4.0    WI                0   35  \n",
      "4             1.0             4.0    DS                1   31  \n",
      "\n",
      "[5 rows x 29 columns]\n"
     ]
    }
   ],
   "source": [
    "print(\"Shape of cleaned data:\", df.shape)\n",
    "print(\"Sample rows:\")\n",
    "print(df.head())"
   ]
  },
  {
   "cell_type": "code",
   "execution_count": null,
   "id": "6000d5cf",
   "metadata": {},
   "outputs": [],
   "source": [
    "df.to_csv(CLEANED_PATH, index=False)"
   ]
  }
 ],
 "metadata": {
  "kernelspec": {
   "display_name": "base",
   "language": "python",
   "name": "python3"
  },
  "language_info": {
   "codemirror_mode": {
    "name": "ipython",
    "version": 3
   },
   "file_extension": ".py",
   "mimetype": "text/x-python",
   "name": "python",
   "nbconvert_exporter": "python",
   "pygments_lexer": "ipython3",
   "version": "3.13.5"
  }
 },
 "nbformat": 4,
 "nbformat_minor": 5
}
