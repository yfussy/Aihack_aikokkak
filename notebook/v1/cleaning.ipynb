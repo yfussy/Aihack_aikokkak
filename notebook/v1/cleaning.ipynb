{
 "cells": [
  {
   "cell_type": "code",
   "execution_count": 1,
   "id": "b3b86149",
   "metadata": {},
   "outputs": [],
   "source": [
    "from sklearn.model_selection import train_test_split\n",
    "from sklearn.metrics import classification_report\n",
    "import numpy as np\n",
    "import pandas as pd\n",
    "import matplotlib.pyplot as plt\n",
    "from datetime import datetime"
   ]
  },
  {
   "cell_type": "code",
   "execution_count": 2,
   "id": "e8fc7707",
   "metadata": {},
   "outputs": [],
   "source": [
    "import sys\n",
    "import os\n",
    "root_path = os.path.abspath(os.path.join(os.getcwd(), \"../..\"))\n",
    "if root_path not in sys.path:\n",
    "    sys.path.append(root_path)\n",
    "from fileDir import getDataDir, getModelDir, getPredDir\n",
    "from modules.v1.xgboost import trainTestXgboost"
   ]
  },
  {
   "cell_type": "code",
   "execution_count": 3,
   "id": "a0baa5c7",
   "metadata": {},
   "outputs": [],
   "source": [
    "VERSION = 1\n",
    "TRAIN_PATH = getDataDir(\"train\")\n",
    "TEST_PATH = getDataDir(\"test\")\n",
    "CLEANED_TRAIN_PATH = getDataDir(\"train\", VERSION)\n",
    "CLEANED_TEST_PATH = getDataDir(\"test\", VERSION)"
   ]
  },
  {
   "cell_type": "markdown",
   "id": "67a42394",
   "metadata": {},
   "source": [
    "## Clean Datasets"
   ]
  },
  {
   "cell_type": "code",
   "execution_count": 4,
   "id": "6a60bfa0",
   "metadata": {},
   "outputs": [],
   "source": [
    "def cleanDataset(df, cleanPath):\n",
    "    # Drop unnecessary columns (keep ID)\n",
    "    drop_cols = ['pms_i_ymd','Area','Province','Shop Name','date_of_birth_week',\n",
    "                 'c_postal_code','c_date_of_salary_payment','media',\n",
    "                 'place_for_sending_information','r_generalcode4']\n",
    "    df = df.drop(columns=drop_cols, errors='ignore')\n",
    "\n",
    "    # Combine year/month features safely\n",
    "    if {'living_period_month','living_period_year'}.issubset(df.columns):\n",
    "        df['living_period_month'] = df['living_period_month'].fillna(0) + df['living_period_year'].fillna(0) * 12\n",
    "        df.drop(columns=['living_period_year'], inplace=True)\n",
    "\n",
    "    if {'c_number_of_working_month','c_number_of_working_year'}.issubset(df.columns):\n",
    "        df['c_number_of_working_month'] = df['c_number_of_working_month'].fillna(0) + df['c_number_of_working_year'].fillna(0) * 12\n",
    "        df.drop(columns=['c_number_of_working_year'], inplace=True)\n",
    "\n",
    "    # Convert birth date to age\n",
    "    if 'date_of_birth' in df.columns:\n",
    "        df['date_of_birth'] = pd.to_datetime(df['date_of_birth'], errors='coerce')\n",
    "        df['age'] = 2025 - df['date_of_birth'].dt.year\n",
    "        df.drop(columns=['date_of_birth'], inplace=True)\n",
    "\n",
    "    # Ensure numeric columns are numeric\n",
    "    num_cols = ['number_of_children','number_of_resident','living_period_month','c_number_of_employee',\n",
    "                'c_monthly_salary','c_number_of_working_month','r_expected_credit_limit',\n",
    "                'r_allloan_case','r_allloan_amount','r_additional_income','r_spouse_income','age']\n",
    "    for c in num_cols:\n",
    "        if c in df.columns:\n",
    "            df[c] = pd.to_numeric(df[c], errors='coerce')\n",
    "    num_cols = [c for c in num_cols if c in df.columns]\n",
    "    df[num_cols] = df[num_cols].fillna(df[num_cols].median())\n",
    "\n",
    "    # Fill categorical columns\n",
    "    cat_cols = ['gender','marital_status','postal_code','tel_category','type_of_residence',\n",
    "                'c_business_type','c_position','c_occupation','c_employment_status',\n",
    "                'c_salary_payment_methods','r_propose','r_generalcode1','r_generalcode2',\n",
    "                'r_generalcode3','r_generalcode5','apply']\n",
    "    for c in cat_cols:\n",
    "        if c in df.columns:\n",
    "            df[c] = df[c].fillna('Unknown')\n",
    "\n",
    "    print(df.head(3))\n",
    "    df.to_csv(cleanPath, index=False)\n",
    "    return df"
   ]
  },
  {
   "cell_type": "code",
   "execution_count": 5,
   "id": "6ec86cd9",
   "metadata": {},
   "outputs": [
    {
     "name": "stdout",
     "output_type": "stream",
     "text": [
      "             ID gender  marital_status  number_of_children  postal_code  \\\n",
      "0  2.024120e+11     F2               1                   2        10400   \n",
      "1  2.024120e+11      M               1                   0        10500   \n",
      "2  2.024120e+11     F2               1                   0        10170   \n",
      "\n",
      "   tel_category  number_of_resident  living_period_month  type_of_residence  \\\n",
      "0             3                   2                   60                  6   \n",
      "1             3                   3                   48                  6   \n",
      "2             3                   6                   62                  3   \n",
      "\n",
      "   c_business_type  ...  r_allloan_amount  r_additional_income  \\\n",
      "0                7  ...                 0                  0.0   \n",
      "1                7  ...                 0               5000.0   \n",
      "2                7  ...             10000                  0.0   \n",
      "\n",
      "   r_spouse_income  r_generalcode1  r_generalcode2  r_generalcode3  \\\n",
      "0              0.0         Unknown         Unknown             2.0   \n",
      "1              0.0         Unknown         Unknown             1.0   \n",
      "2              0.0         Unknown         Unknown             1.0   \n",
      "\n",
      "   r_generalcode5  apply default_12month  age  \n",
      "0             4.0     WI               0   54  \n",
      "1             4.0     WI               0   42  \n",
      "2             4.0     DS               0   33  \n",
      "\n",
      "[3 rows x 30 columns]\n",
      "             ID gender  marital_status  number_of_children  postal_code  \\\n",
      "0  202412000196     F2               2                   2        10120   \n",
      "1  202412000241     F2               2                   0        10120   \n",
      "2  202412000242     F2               1                   0        10120   \n",
      "\n",
      "   tel_category  number_of_resident  living_period_month  type_of_residence  \\\n",
      "0             3                   4                  108                  6   \n",
      "1             3                   5                   38                  6   \n",
      "2             3                   1                   24                  6   \n",
      "\n",
      "   c_business_type  ...  r_allloan_case  r_allloan_amount  \\\n",
      "0                7  ...             0.0                 0   \n",
      "1                4  ...             3.0             20000   \n",
      "2                4  ...             2.0             17000   \n",
      "\n",
      "   r_additional_income  r_spouse_income  r_generalcode1  r_generalcode2  \\\n",
      "0                  0.0          17000.0             1.0             4.0   \n",
      "1                  0.0          12700.0             1.0             3.0   \n",
      "2               1000.0              0.0         Unknown         Unknown   \n",
      "\n",
      "   r_generalcode3  r_generalcode5 apply  age  \n",
      "0             1.0             3.0    WI   44  \n",
      "1             2.0             4.0    WI   32  \n",
      "2             2.0             4.0    WI   49  \n",
      "\n",
      "[3 rows x 29 columns]\n"
     ]
    }
   ],
   "source": [
    "train_df = pd.read_csv(TRAIN_PATH)\n",
    "test_df = pd.read_csv(TEST_PATH)\n",
    "ids = test_df[\"ID\"].copy()\n",
    "\n",
    "train_df = cleanDataset(train_df, CLEANED_TRAIN_PATH)\n",
    "test_df = cleanDataset(test_df, CLEANED_TEST_PATH)"
   ]
  },
  {
   "cell_type": "markdown",
   "id": "21cb3566",
   "metadata": {},
   "source": [
    "## Testing"
   ]
  },
  {
   "cell_type": "code",
   "execution_count": 6,
   "id": "d2c7075a",
   "metadata": {},
   "outputs": [
    {
     "name": "stdout",
     "output_type": "stream",
     "text": [
      "Tuning hyperparameters...\n",
      "Fitting 3 folds for each of 25 candidates, totalling 75 fits\n"
     ]
    },
    {
     "name": "stderr",
     "output_type": "stream",
     "text": [
      "c:\\Users\\Toa\\anaconda3\\Lib\\site-packages\\xgboost\\training.py:199: UserWarning: [17:09:30] WARNING: C:\\actions-runner\\_work\\xgboost\\xgboost\\src\\learner.cc:790: \n",
      "Parameters: { \"use_label_encoder\" } are not used.\n",
      "\n",
      "  bst.update(dtrain, iteration=i, fobj=obj)\n"
     ]
    },
    {
     "name": "stdout",
     "output_type": "stream",
     "text": [
      "Best Parameters Found: {'subsample': 0.9, 'n_estimators': 400, 'min_child_weight': 0.4, 'max_depth': 10, 'learning_rate': 0.02, 'gamma': 0.3, 'colsample_bytree': 1.0}\n",
      "\n",
      "Optimal Threshold: 0.137\n",
      "\n",
      "Confusion Matrix:\n",
      "[[3540 2123]\n",
      " [ 374  468]]\n",
      "\n",
      "Classification Report:\n",
      "              precision    recall  f1-score   support\n",
      "\n",
      "           0       0.90      0.63      0.74      5663\n",
      "           1       0.18      0.56      0.27       842\n",
      "\n",
      "    accuracy                           0.62      6505\n",
      "   macro avg       0.54      0.59      0.51      6505\n",
      "weighted avg       0.81      0.62      0.68      6505\n",
      "\n",
      "ROC-AUC Score: 0.6198446976099807\n"
     ]
    }
   ],
   "source": [
    "trainTestXgboost(VERSION, train_df, test_df, ids)"
   ]
  }
 ],
 "metadata": {
  "kernelspec": {
   "display_name": "base",
   "language": "python",
   "name": "python3"
  },
  "language_info": {
   "codemirror_mode": {
    "name": "ipython",
    "version": 3
   },
   "file_extension": ".py",
   "mimetype": "text/x-python",
   "name": "python",
   "nbconvert_exporter": "python",
   "pygments_lexer": "ipython3",
   "version": "3.13.5"
  }
 },
 "nbformat": 4,
 "nbformat_minor": 5
}
